{
  "nbformat": 4,
  "nbformat_minor": 0,
  "metadata": {
    "colab": {
      "provenance": [],
      "authorship_tag": "ABX9TyPiB9lZFq5kmTenmuqexfUM",
      "include_colab_link": true
    },
    "kernelspec": {
      "name": "python3",
      "display_name": "Python 3"
    },
    "language_info": {
      "name": "python"
    }
  },
  "cells": [
    {
      "cell_type": "markdown",
      "metadata": {
        "id": "view-in-github",
        "colab_type": "text"
      },
      "source": [
        "<a href=\"https://colab.research.google.com/github/aalr007/iayaa-Equipo-19/blob/main/Semana%206%3A%20Data%20Analysis%20with%20Python%20(IBM)A01081266.ipynb\" target=\"_parent\"><img src=\"https://colab.research.google.com/assets/colab-badge.svg\" alt=\"Open In Colab\"/></a>"
      ]
    },
    {
      "cell_type": "markdown",
      "source": [
        "#Ciencia y Analitica de Datos\n",
        "\n",
        "Semana6_ Data Analysis with Python\n",
        "\n",
        "Maestria Inteligencia Artificial Aplicada \n",
        "\n",
        "Tecnológico de Monterrey\n",
        "\n",
        "A01081266"
      ],
      "metadata": {
        "id": "8sqNvY4aIgkw"
      }
    },
    {
      "cell_type": "markdown",
      "source": [
        "#Análisis de datos exploratorio\n",
        "\n",
        "* EDA: Exploratory Data Analysis\n",
        "> * identificar las caracteristicas primcipales del datased\n",
        "> * identificar relaciones entre variables\n",
        "> * extraer variables relevantes para resolver elproblema\n",
        "\n",
        "* resumen es encontrar las caracteristicas que tienen mas impacto\n",
        "\n",
        "#Estadistica descriptiva\n",
        "\n",
        "* importante explorar los datos, es util sacar las estadisticas para entender mejor los datos\n",
        "\n",
        "* describe() va a dar estadistica básica de las variables numericas como la media, el numero total de putos, la desviacion estandar, los cuartiles, valores extremos.\n",
        "\n",
        "* Box Plots dan la distribucion de los datos\n",
        "> *la cajita es el rando del primer y tercer cuartil, dividido por la media (la rayita en medio de la caja)\n",
        "> * los palitos o bigotes, son los otros 50% de los datos, calculados 1.5 veces el rango intercuartil arriba o abajo del primer o último cuartil.\n",
        "> * los outliers son los puntos fuera de la grafica\n",
        "\n",
        "* Scatter plot muestra la relacion entre 2 variables, son las graficas de puntos.\n",
        "> * predictor esta en las x\n",
        "> * target esta en la Y\n",
        "\n",
        "#GroupBy\n",
        "\n",
        "* grouping ayuda a transformar los datasets\n",
        "* dataframe.groupby()\n",
        "> * se aplica en variables categoricas\n",
        "> * agrupa datos en categorias\n",
        "> * puedes agrupar una o multiples variables \n",
        "\n",
        "\n",
        "\n"
      ],
      "metadata": {
        "id": "93YEAplR-SXz"
      }
    },
    {
      "cell_type": "markdown",
      "source": [],
      "metadata": {
        "id": "cFdWQ3z2Ifl7"
      }
    },
    {
      "cell_type": "code",
      "source": [
        "df_test = df[['drive-wheels', 'body-style', 'price']]\n",
        "df_grp =df_test-groupby(['drive-wheels', 'body-style'], as_index=False).mean()"
      ],
      "metadata": {
        "id": "ctwUVRE4BylB"
      },
      "execution_count": null,
      "outputs": []
    },
    {
      "cell_type": "markdown",
      "source": [
        "* codigo arriba agrupo drive wheels y body style y saco la media, con lo que pudimos ver que el promedio de 4wd con hatchback dio tal precio, 4wd con sedan otro....\n",
        "\n",
        "*se puede convertir la tabla de arriba en una tabla pivote\n",
        "\n",
        "\n"
      ],
      "metadata": {
        "id": "OvvDQfAvCOHF"
      }
    },
    {
      "cell_type": "code",
      "source": [
        "df_pivot = df_grp.pivot(index= 'drive-wheels', columns='body-style')"
      ],
      "metadata": {
        "id": "H3-LqLPQC4VV"
      },
      "execution_count": null,
      "outputs": []
    },
    {
      "cell_type": "markdown",
      "source": [
        "* ahora podemos ver en las filas el drive wheels y en columnas el body style, con cada celda el valor de los datos, que ayuda a visualizarlo\n",
        "* heatmap tambien ayuda a visualizar los datos\n",
        "\n"
      ],
      "metadata": {
        "id": "7pCTjwRQDECy"
      }
    },
    {
      "cell_type": "markdown",
      "source": [
        "#Análisis de varianza ANOVA\n",
        "\n",
        "* se puede usar para encontrar correlacion entre diferentes grupos de variables categoricas\n",
        "\n",
        "* Ftest score: calcula el radio de la variacion entre las medias de los grupos con la variacion de cada una de las medias de las muestras (la varianza de la mediana dividida entre la variacion del grupo muestra)\n",
        "> *stats.f_oneway()\n",
        "\n",
        "*p value es el grado de confianza \n",
        "\n",
        "#Correlacion\n",
        "*pearson correlation, dara 2 valores, coeficiente de correlacion (si es 1 es correlacion fuerte positiva, puede ser negativa, 0 es no hay correlacion) y valor p , que muestra la certeza averca de la correlacion calculada, tiene que ser un valor muy cercano a 0\n",
        "\n"
      ],
      "metadata": {
        "id": "MbYOrEyHDmh6"
      }
    },
    {
      "cell_type": "markdown",
      "source": [
        "![image.png](data:image/png;base64,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)"
      ],
      "metadata": {
        "id": "rwGrPMbPG-Mu"
      }
    },
    {
      "cell_type": "code",
      "source": [],
      "metadata": {
        "id": "Zjj-0lupDVs9"
      },
      "execution_count": null,
      "outputs": []
    }
  ]
}