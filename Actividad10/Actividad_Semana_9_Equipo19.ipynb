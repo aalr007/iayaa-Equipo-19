{
  "cells": [
    {
      "cell_type": "markdown",
      "metadata": {
        "colab_type": "text",
        "id": "view-in-github"
      },
      "source": [
        "<a href=\"https://colab.research.google.com/github/Tecnologico-de-Monterrey-MNA/iayaa-Equipo-19/blob/main/Actividad10/Actividad_Semana_9_Equipo19.ipynb\" target=\"_parent\"><img src=\"https://colab.research.google.com/assets/colab-badge.svg\" alt=\"Open In Colab\"/></a>"
      ]
    },
    {
      "cell_type": "markdown",
      "metadata": {
        "id": "lSMfnhJKUDuL"
      },
      "source": [
        "# Maestría en Inteligencia Artificial Aplicada\n",
        "**Curso: Inteligencia Artificial y Aprendizaje Automático**\n",
        "\n",
        "Tecnológico de Monterrey\n",
        "\n",
        "\n",
        "\n",
        "Prof Luis Eduardo Falcón Morales\n",
        "\n",
        "Semana 9 actividad 10: Taxonomía de Métricas de Clasificación\n",
        "\n",
        "\n",
        "\n",
        "    •\tAurelio Antonio Lozano Rabago A01081266\n",
        "\n",
        "    •\tJosias Ruiz Peña A00968460\n",
        "\n",
        "    •\tDavid González A01794025\n",
        "\n",
        "    •\tJerson David Pérez Contreras A01793810\n",
        "\n",
        "    •\tJose Alberto Mtanous Treviño A00169781\n"
      ]
    },
    {
      "cell_type": "markdown",
      "metadata": {
        "id": "H4d_U0RsUgRD"
      },
      "source": [
        "## Ejercicio 1: Comparación experimental del desempeño de métricas para clasificación\n",
        "\n",
        "Las métricas de desempeño en clasificación son fundamentales para evaluar la calidad de los métodos de aprendizaje y los modelos generados, se analizaron 18 métricas de desempeño con la finalidad de ayudar a elegir la mas adecuada (o mas adecuadas) para cada aplicación.\n",
        "\n",
        "**Introducción**\n",
        "\n",
        "La correcta evaluación de modelos de aprendizaje automático es muy importante en temas de reconocimiento de patrones, esta evaluación puede apoyarse en 3 grupos de métricas:\n",
        "\n",
        ">•\tMétricas basadas en un umbral y entendimiento cualitativo del error: Se usan cuando se pretende minimizar el número de errores en un modelo\n",
        "\n",
        ">•\tMétricas basadas en entendimiento probabilístico del error: son útiles especialmente cuando se quiere evaluar la confiabilidad de los clasificadores\n",
        "\n",
        ">•\tMétricas basadas en que tan bien un modelo clasifica los ejemplos: se usan para seleccionar las mejores n instancias de un set de datos para una buena separación de clases.\n",
        "\n",
        "**Trabajos relacionados.**\n",
        "\n",
        "Hay varios estudios que muestran que, dependiendo las métricas usadas, se obtienen un mejor modelo. El propósito de este estudio es analizar que familias de algoritmos se comportan mejor según la familia de métricas a usar.\n",
        "\n",
        "**Métricas**\n",
        "\n",
        "Algunas ocasiones lo más complicado es entender la diferencia entre una buena \n",
        "clasificación y probabilidad.\n",
        "\n",
        ">•\tUmbral del error (cualitativas): Acc, MAvA, MFM, MAvG, KapS\n",
        "\n",
        ">•\tClasificación (probabilísticas): AUNU, AUNP, AU1U, AU1P, \n",
        "\n",
        ">•\tProbabilidad: SAUC, PAUC, MAPR, MPR, MAE, MSE, LogLoss, CalL, CalB.\n",
        "\n",
        "**Metodología**\n",
        "\n",
        "Se usaron 6 algoritmos de aprendizaje automático, con 30 sets de datos evaluados usando validación cruzada de 20x5, produciendo 18,000 resultados en total. se construyó matriz de correlación de Pearson para medir la relación entre métricas y dendrogramas para visualizar los datos.\n",
        "\n",
        "**Análisis de resultados**\n",
        "\n",
        "Hay una relación cercana entre: 1- métricas cualitativas; 2- AUC; 3- MPR, MAE, PAUC, MAPR; quedando aislados MSE; LogL; CalL y CalB. La correlación baja en sets de datos desbalanceados, generado incluso diferencias entre métricas de umbral del error donde en sets de datos balanceados no las había. Los resultados entre sets de datos pequeños y grandes también afectaron la correlación. \n",
        "\n",
        "**Análisis de sensibilidad** \n",
        "\n",
        "Se realizaron mas experimentos para entender mejor la relación entre las métricas y la habilidad de encontrar errores, añadiendo ruido a las clases, a las probabilidades, clasificaciones y a la frecuencia de las clases a 2 modelos controlados. Para ruido en clases es mejor usar métricas cualitativas; para ruido probabilístico es mejor usar AUC y MSE. Con ruido de clasificación mostraron mejor desempeño SAUC, PAUC, MSE, MPR, MAPR, MAE, CalL y AUC. Finalmente con ruido de frecuencia de clases MAvA y MAvG, MPR/MAE, LogL, CalL y MSE son robustas.\n",
        "\n",
        "**Discusión**\n",
        "\n",
        "Métricas cualitativas son mejores cuando el ruido esta presente en el dataset, pero son muy malas si se tiene un mal algoritmo o un set de datos pequeño (es mejor usar AUC en estos casos). Si hay pocos ejemplos en la clase, evitar usar los maro promedios o 1vs1, 1 vs-n.\n",
        "\n",
        "\n"
      ]
    },
    {
      "cell_type": "markdown",
      "metadata": {
        "id": "qEvLF8-nvaHp"
      },
      "source": [
        "## Ejercicio 2: Breast Cancer Wisconsin (Diagnostic) Data Set:\n",
        "https://archive.ics.uci.edu/ml/datasets/breast+cancer+wisconsin+(diagnostic)\n"
      ]
    },
    {
      "cell_type": "markdown",
      "metadata": {
        "id": "hFXwhawRS0PQ"
      },
      "source": [
        "#### a. Describe el problema y el objetivo que se busca"
      ]
    },
    {
      "cell_type": "markdown",
      "metadata": {
        "id": "JJtsS5ZSS0PR"
      },
      "source": [
        "El estudio planteado en el documento busca predecir la posibilidad que una mujer pueda desarrollar cancer de mama.\tDentro del análisis realizado se incluyeron algunas variables que se derivan de las muestras (radiografías) tomadas a \tdiversos pacientes; dichas variables corresponden a cada uno de los elementos o características que se obtuvieron en \tlas pruebas y, a partir de algunas medidas resultantes, se determina si la paciente ha desarrollado o no el cancer."
      ]
    },
    {
      "cell_type": "markdown",
      "metadata": {
        "id": "a0eZV0iSS0PR"
      },
      "source": [
        "#### b. Justifica si el problema requiere técnicas de balanceo de clases\n"
      ]
    },
    {
      "cell_type": "code",
      "execution_count": 11,
      "metadata": {
        "colab": {
          "base_uri": "https://localhost:8080/",
          "height": 206
        },
        "id": "l8YPI5T2S0PS",
        "outputId": "941695f5-69b4-4886-8c01-b82dc9201916"
      },
      "outputs": [
        {
          "data": {
            "text/html": [
              "\n",
              "  <div id=\"df-614eea80-8f75-4d67-81e8-be5d0f962725\">\n",
              "    <div class=\"colab-df-container\">\n",
              "      <div>\n",
              "<style scoped>\n",
              "    .dataframe tbody tr th:only-of-type {\n",
              "        vertical-align: middle;\n",
              "    }\n",
              "\n",
              "    .dataframe tbody tr th {\n",
              "        vertical-align: top;\n",
              "    }\n",
              "\n",
              "    .dataframe thead th {\n",
              "        text-align: right;\n",
              "    }\n",
              "</style>\n",
              "<table border=\"1\" class=\"dataframe\">\n",
              "  <thead>\n",
              "    <tr style=\"text-align: right;\">\n",
              "      <th></th>\n",
              "      <th>0</th>\n",
              "      <th>1</th>\n",
              "      <th>2</th>\n",
              "      <th>3</th>\n",
              "      <th>4</th>\n",
              "      <th>5</th>\n",
              "      <th>6</th>\n",
              "      <th>7</th>\n",
              "      <th>8</th>\n",
              "      <th>9</th>\n",
              "      <th>10</th>\n",
              "    </tr>\n",
              "  </thead>\n",
              "  <tbody>\n",
              "    <tr>\n",
              "      <th>0</th>\n",
              "      <td>1000025</td>\n",
              "      <td>5</td>\n",
              "      <td>1</td>\n",
              "      <td>1</td>\n",
              "      <td>1</td>\n",
              "      <td>2</td>\n",
              "      <td>1</td>\n",
              "      <td>3</td>\n",
              "      <td>1</td>\n",
              "      <td>1</td>\n",
              "      <td>2</td>\n",
              "    </tr>\n",
              "    <tr>\n",
              "      <th>1</th>\n",
              "      <td>1002945</td>\n",
              "      <td>5</td>\n",
              "      <td>4</td>\n",
              "      <td>4</td>\n",
              "      <td>5</td>\n",
              "      <td>7</td>\n",
              "      <td>10</td>\n",
              "      <td>3</td>\n",
              "      <td>2</td>\n",
              "      <td>1</td>\n",
              "      <td>2</td>\n",
              "    </tr>\n",
              "    <tr>\n",
              "      <th>2</th>\n",
              "      <td>1015425</td>\n",
              "      <td>3</td>\n",
              "      <td>1</td>\n",
              "      <td>1</td>\n",
              "      <td>1</td>\n",
              "      <td>2</td>\n",
              "      <td>2</td>\n",
              "      <td>3</td>\n",
              "      <td>1</td>\n",
              "      <td>1</td>\n",
              "      <td>2</td>\n",
              "    </tr>\n",
              "    <tr>\n",
              "      <th>3</th>\n",
              "      <td>1016277</td>\n",
              "      <td>6</td>\n",
              "      <td>8</td>\n",
              "      <td>8</td>\n",
              "      <td>1</td>\n",
              "      <td>3</td>\n",
              "      <td>4</td>\n",
              "      <td>3</td>\n",
              "      <td>7</td>\n",
              "      <td>1</td>\n",
              "      <td>2</td>\n",
              "    </tr>\n",
              "    <tr>\n",
              "      <th>4</th>\n",
              "      <td>1017023</td>\n",
              "      <td>4</td>\n",
              "      <td>1</td>\n",
              "      <td>1</td>\n",
              "      <td>3</td>\n",
              "      <td>2</td>\n",
              "      <td>1</td>\n",
              "      <td>3</td>\n",
              "      <td>1</td>\n",
              "      <td>1</td>\n",
              "      <td>2</td>\n",
              "    </tr>\n",
              "  </tbody>\n",
              "</table>\n",
              "</div>\n",
              "      <button class=\"colab-df-convert\" onclick=\"convertToInteractive('df-614eea80-8f75-4d67-81e8-be5d0f962725')\"\n",
              "              title=\"Convert this dataframe to an interactive table.\"\n",
              "              style=\"display:none;\">\n",
              "        \n",
              "  <svg xmlns=\"http://www.w3.org/2000/svg\" height=\"24px\"viewBox=\"0 0 24 24\"\n",
              "       width=\"24px\">\n",
              "    <path d=\"M0 0h24v24H0V0z\" fill=\"none\"/>\n",
              "    <path d=\"M18.56 5.44l.94 2.06.94-2.06 2.06-.94-2.06-.94-.94-2.06-.94 2.06-2.06.94zm-11 1L8.5 8.5l.94-2.06 2.06-.94-2.06-.94L8.5 2.5l-.94 2.06-2.06.94zm10 10l.94 2.06.94-2.06 2.06-.94-2.06-.94-.94-2.06-.94 2.06-2.06.94z\"/><path d=\"M17.41 7.96l-1.37-1.37c-.4-.4-.92-.59-1.43-.59-.52 0-1.04.2-1.43.59L10.3 9.45l-7.72 7.72c-.78.78-.78 2.05 0 2.83L4 21.41c.39.39.9.59 1.41.59.51 0 1.02-.2 1.41-.59l7.78-7.78 2.81-2.81c.8-.78.8-2.07 0-2.86zM5.41 20L4 18.59l7.72-7.72 1.47 1.35L5.41 20z\"/>\n",
              "  </svg>\n",
              "      </button>\n",
              "      \n",
              "  <style>\n",
              "    .colab-df-container {\n",
              "      display:flex;\n",
              "      flex-wrap:wrap;\n",
              "      gap: 12px;\n",
              "    }\n",
              "\n",
              "    .colab-df-convert {\n",
              "      background-color: #E8F0FE;\n",
              "      border: none;\n",
              "      border-radius: 50%;\n",
              "      cursor: pointer;\n",
              "      display: none;\n",
              "      fill: #1967D2;\n",
              "      height: 32px;\n",
              "      padding: 0 0 0 0;\n",
              "      width: 32px;\n",
              "    }\n",
              "\n",
              "    .colab-df-convert:hover {\n",
              "      background-color: #E2EBFA;\n",
              "      box-shadow: 0px 1px 2px rgba(60, 64, 67, 0.3), 0px 1px 3px 1px rgba(60, 64, 67, 0.15);\n",
              "      fill: #174EA6;\n",
              "    }\n",
              "\n",
              "    [theme=dark] .colab-df-convert {\n",
              "      background-color: #3B4455;\n",
              "      fill: #D2E3FC;\n",
              "    }\n",
              "\n",
              "    [theme=dark] .colab-df-convert:hover {\n",
              "      background-color: #434B5C;\n",
              "      box-shadow: 0px 1px 3px 1px rgba(0, 0, 0, 0.15);\n",
              "      filter: drop-shadow(0px 1px 2px rgba(0, 0, 0, 0.3));\n",
              "      fill: #FFFFFF;\n",
              "    }\n",
              "  </style>\n",
              "\n",
              "      <script>\n",
              "        const buttonEl =\n",
              "          document.querySelector('#df-614eea80-8f75-4d67-81e8-be5d0f962725 button.colab-df-convert');\n",
              "        buttonEl.style.display =\n",
              "          google.colab.kernel.accessAllowed ? 'block' : 'none';\n",
              "\n",
              "        async function convertToInteractive(key) {\n",
              "          const element = document.querySelector('#df-614eea80-8f75-4d67-81e8-be5d0f962725');\n",
              "          const dataTable =\n",
              "            await google.colab.kernel.invokeFunction('convertToInteractive',\n",
              "                                                     [key], {});\n",
              "          if (!dataTable) return;\n",
              "\n",
              "          const docLinkHtml = 'Like what you see? Visit the ' +\n",
              "            '<a target=\"_blank\" href=https://colab.research.google.com/notebooks/data_table.ipynb>data table notebook</a>'\n",
              "            + ' to learn more about interactive tables.';\n",
              "          element.innerHTML = '';\n",
              "          dataTable['output_type'] = 'display_data';\n",
              "          await google.colab.output.renderOutput(dataTable, element);\n",
              "          const docLink = document.createElement('div');\n",
              "          docLink.innerHTML = docLinkHtml;\n",
              "          element.appendChild(docLink);\n",
              "        }\n",
              "      </script>\n",
              "    </div>\n",
              "  </div>\n",
              "  "
            ],
            "text/plain": [
              "        0   1   2   3   4   5   6   7   8   9   10\n",
              "0  1000025   5   1   1   1   2   1   3   1   1   2\n",
              "1  1002945   5   4   4   5   7  10   3   2   1   2\n",
              "2  1015425   3   1   1   1   2   2   3   1   1   2\n",
              "3  1016277   6   8   8   1   3   4   3   7   1   2\n",
              "4  1017023   4   1   1   3   2   1   3   1   1   2"
            ]
          },
          "execution_count": 11,
          "metadata": {},
          "output_type": "execute_result"
        }
      ],
      "source": [
        "import pandas as pd\n",
        "import requests, zipfile\n",
        "from io import BytesIO\n",
        "import seaborn as sns\n",
        "\n",
        "path = 'https://archive.ics.uci.edu/ml/machine-learning-databases/breast-cancer-wisconsin/breast-cancer-wisconsin.data'\n",
        "\n",
        "df = pd.read_csv(path, header = None)\n",
        "df.head()"
      ]
    },
    {
      "cell_type": "code",
      "execution_count": 12,
      "metadata": {
        "colab": {
          "base_uri": "https://localhost:8080/"
        },
        "id": "V0YCZmGhS0PT",
        "outputId": "d4f9eb5e-24ad-4e6a-b39b-6453bd6eb93b"
      },
      "outputs": [
        {
          "data": {
            "text/plain": [
              "(699, 11)"
            ]
          },
          "execution_count": 12,
          "metadata": {},
          "output_type": "execute_result"
        }
      ],
      "source": [
        "df.shape"
      ]
    },
    {
      "cell_type": "code",
      "execution_count": 13,
      "metadata": {
        "colab": {
          "base_uri": "https://localhost:8080/",
          "height": 267
        },
        "id": "QluqvIKcS0PU",
        "outputId": "e6937ed8-f309-46e9-8072-5a08f8f3b3e1"
      },
      "outputs": [
        {
          "data": {
            "text/html": [
              "\n",
              "  <div id=\"df-dcae750d-fe64-47f1-88c2-18c41cb8d6a7\">\n",
              "    <div class=\"colab-df-container\">\n",
              "      <div>\n",
              "<style scoped>\n",
              "    .dataframe tbody tr th:only-of-type {\n",
              "        vertical-align: middle;\n",
              "    }\n",
              "\n",
              "    .dataframe tbody tr th {\n",
              "        vertical-align: top;\n",
              "    }\n",
              "\n",
              "    .dataframe thead th {\n",
              "        text-align: right;\n",
              "    }\n",
              "</style>\n",
              "<table border=\"1\" class=\"dataframe\">\n",
              "  <thead>\n",
              "    <tr style=\"text-align: right;\">\n",
              "      <th></th>\n",
              "      <th>Sample code number</th>\n",
              "      <th>Clump Thickness</th>\n",
              "      <th>Uniformity of Cell Size</th>\n",
              "      <th>Uniformity of Cell Shape</th>\n",
              "      <th>Marginal Adhesion</th>\n",
              "      <th>Single Epithelial Cell Size</th>\n",
              "      <th>Bare Nuclei</th>\n",
              "      <th>Bland Chromatin</th>\n",
              "      <th>Normal Nucleoli</th>\n",
              "      <th>Mitoses</th>\n",
              "      <th>Class</th>\n",
              "    </tr>\n",
              "  </thead>\n",
              "  <tbody>\n",
              "    <tr>\n",
              "      <th>0</th>\n",
              "      <td>1000025</td>\n",
              "      <td>5</td>\n",
              "      <td>1</td>\n",
              "      <td>1</td>\n",
              "      <td>1</td>\n",
              "      <td>2</td>\n",
              "      <td>1</td>\n",
              "      <td>3</td>\n",
              "      <td>1</td>\n",
              "      <td>1</td>\n",
              "      <td>2</td>\n",
              "    </tr>\n",
              "    <tr>\n",
              "      <th>1</th>\n",
              "      <td>1002945</td>\n",
              "      <td>5</td>\n",
              "      <td>4</td>\n",
              "      <td>4</td>\n",
              "      <td>5</td>\n",
              "      <td>7</td>\n",
              "      <td>10</td>\n",
              "      <td>3</td>\n",
              "      <td>2</td>\n",
              "      <td>1</td>\n",
              "      <td>2</td>\n",
              "    </tr>\n",
              "    <tr>\n",
              "      <th>2</th>\n",
              "      <td>1015425</td>\n",
              "      <td>3</td>\n",
              "      <td>1</td>\n",
              "      <td>1</td>\n",
              "      <td>1</td>\n",
              "      <td>2</td>\n",
              "      <td>2</td>\n",
              "      <td>3</td>\n",
              "      <td>1</td>\n",
              "      <td>1</td>\n",
              "      <td>2</td>\n",
              "    </tr>\n",
              "    <tr>\n",
              "      <th>3</th>\n",
              "      <td>1016277</td>\n",
              "      <td>6</td>\n",
              "      <td>8</td>\n",
              "      <td>8</td>\n",
              "      <td>1</td>\n",
              "      <td>3</td>\n",
              "      <td>4</td>\n",
              "      <td>3</td>\n",
              "      <td>7</td>\n",
              "      <td>1</td>\n",
              "      <td>2</td>\n",
              "    </tr>\n",
              "    <tr>\n",
              "      <th>4</th>\n",
              "      <td>1017023</td>\n",
              "      <td>4</td>\n",
              "      <td>1</td>\n",
              "      <td>1</td>\n",
              "      <td>3</td>\n",
              "      <td>2</td>\n",
              "      <td>1</td>\n",
              "      <td>3</td>\n",
              "      <td>1</td>\n",
              "      <td>1</td>\n",
              "      <td>2</td>\n",
              "    </tr>\n",
              "  </tbody>\n",
              "</table>\n",
              "</div>\n",
              "      <button class=\"colab-df-convert\" onclick=\"convertToInteractive('df-dcae750d-fe64-47f1-88c2-18c41cb8d6a7')\"\n",
              "              title=\"Convert this dataframe to an interactive table.\"\n",
              "              style=\"display:none;\">\n",
              "        \n",
              "  <svg xmlns=\"http://www.w3.org/2000/svg\" height=\"24px\"viewBox=\"0 0 24 24\"\n",
              "       width=\"24px\">\n",
              "    <path d=\"M0 0h24v24H0V0z\" fill=\"none\"/>\n",
              "    <path d=\"M18.56 5.44l.94 2.06.94-2.06 2.06-.94-2.06-.94-.94-2.06-.94 2.06-2.06.94zm-11 1L8.5 8.5l.94-2.06 2.06-.94-2.06-.94L8.5 2.5l-.94 2.06-2.06.94zm10 10l.94 2.06.94-2.06 2.06-.94-2.06-.94-.94-2.06-.94 2.06-2.06.94z\"/><path d=\"M17.41 7.96l-1.37-1.37c-.4-.4-.92-.59-1.43-.59-.52 0-1.04.2-1.43.59L10.3 9.45l-7.72 7.72c-.78.78-.78 2.05 0 2.83L4 21.41c.39.39.9.59 1.41.59.51 0 1.02-.2 1.41-.59l7.78-7.78 2.81-2.81c.8-.78.8-2.07 0-2.86zM5.41 20L4 18.59l7.72-7.72 1.47 1.35L5.41 20z\"/>\n",
              "  </svg>\n",
              "      </button>\n",
              "      \n",
              "  <style>\n",
              "    .colab-df-container {\n",
              "      display:flex;\n",
              "      flex-wrap:wrap;\n",
              "      gap: 12px;\n",
              "    }\n",
              "\n",
              "    .colab-df-convert {\n",
              "      background-color: #E8F0FE;\n",
              "      border: none;\n",
              "      border-radius: 50%;\n",
              "      cursor: pointer;\n",
              "      display: none;\n",
              "      fill: #1967D2;\n",
              "      height: 32px;\n",
              "      padding: 0 0 0 0;\n",
              "      width: 32px;\n",
              "    }\n",
              "\n",
              "    .colab-df-convert:hover {\n",
              "      background-color: #E2EBFA;\n",
              "      box-shadow: 0px 1px 2px rgba(60, 64, 67, 0.3), 0px 1px 3px 1px rgba(60, 64, 67, 0.15);\n",
              "      fill: #174EA6;\n",
              "    }\n",
              "\n",
              "    [theme=dark] .colab-df-convert {\n",
              "      background-color: #3B4455;\n",
              "      fill: #D2E3FC;\n",
              "    }\n",
              "\n",
              "    [theme=dark] .colab-df-convert:hover {\n",
              "      background-color: #434B5C;\n",
              "      box-shadow: 0px 1px 3px 1px rgba(0, 0, 0, 0.15);\n",
              "      filter: drop-shadow(0px 1px 2px rgba(0, 0, 0, 0.3));\n",
              "      fill: #FFFFFF;\n",
              "    }\n",
              "  </style>\n",
              "\n",
              "      <script>\n",
              "        const buttonEl =\n",
              "          document.querySelector('#df-dcae750d-fe64-47f1-88c2-18c41cb8d6a7 button.colab-df-convert');\n",
              "        buttonEl.style.display =\n",
              "          google.colab.kernel.accessAllowed ? 'block' : 'none';\n",
              "\n",
              "        async function convertToInteractive(key) {\n",
              "          const element = document.querySelector('#df-dcae750d-fe64-47f1-88c2-18c41cb8d6a7');\n",
              "          const dataTable =\n",
              "            await google.colab.kernel.invokeFunction('convertToInteractive',\n",
              "                                                     [key], {});\n",
              "          if (!dataTable) return;\n",
              "\n",
              "          const docLinkHtml = 'Like what you see? Visit the ' +\n",
              "            '<a target=\"_blank\" href=https://colab.research.google.com/notebooks/data_table.ipynb>data table notebook</a>'\n",
              "            + ' to learn more about interactive tables.';\n",
              "          element.innerHTML = '';\n",
              "          dataTable['output_type'] = 'display_data';\n",
              "          await google.colab.output.renderOutput(dataTable, element);\n",
              "          const docLink = document.createElement('div');\n",
              "          docLink.innerHTML = docLinkHtml;\n",
              "          element.appendChild(docLink);\n",
              "        }\n",
              "      </script>\n",
              "    </div>\n",
              "  </div>\n",
              "  "
            ],
            "text/plain": [
              "   Sample code number  Clump Thickness  Uniformity of Cell Size  \\\n",
              "0             1000025                5                        1   \n",
              "1             1002945                5                        4   \n",
              "2             1015425                3                        1   \n",
              "3             1016277                6                        8   \n",
              "4             1017023                4                        1   \n",
              "\n",
              "   Uniformity of Cell Shape  Marginal Adhesion  Single Epithelial Cell Size  \\\n",
              "0                         1                  1                            2   \n",
              "1                         4                  5                            7   \n",
              "2                         1                  1                            2   \n",
              "3                         8                  1                            3   \n",
              "4                         1                  3                            2   \n",
              "\n",
              "  Bare Nuclei  Bland Chromatin  Normal Nucleoli  Mitoses  Class  \n",
              "0           1                3                1        1      2  \n",
              "1          10                3                2        1      2  \n",
              "2           2                3                1        1      2  \n",
              "3           4                3                7        1      2  \n",
              "4           1                3                1        1      2  "
            ]
          },
          "execution_count": 13,
          "metadata": {},
          "output_type": "execute_result"
        }
      ],
      "source": [
        "columnas = ['Sample code number', 'Clump Thickness', 'Uniformity of Cell Size', 'Uniformity of Cell Shape', \n",
        " 'Marginal Adhesion', 'Single Epithelial Cell Size', 'Bare Nuclei', 'Bland Chromatin', \n",
        " 'Normal Nucleoli', 'Mitoses', 'Class']\n",
        "\n",
        "df.columns = columnas\n",
        "df.head()"
      ]
    },
    {
      "cell_type": "code",
      "execution_count": 14,
      "metadata": {
        "colab": {
          "base_uri": "https://localhost:8080/"
        },
        "id": "bbX70Vo-S0PU",
        "outputId": "3dfc1be3-4624-4362-fdd7-4a8748b6edd1"
      },
      "outputs": [
        {
          "data": {
            "text/plain": [
              "Sample code number             0\n",
              "Clump Thickness                0\n",
              "Uniformity of Cell Size        0\n",
              "Uniformity of Cell Shape       0\n",
              "Marginal Adhesion              0\n",
              "Single Epithelial Cell Size    0\n",
              "Bare Nuclei                    0\n",
              "Bland Chromatin                0\n",
              "Normal Nucleoli                0\n",
              "Mitoses                        0\n",
              "Class                          0\n",
              "dtype: int64"
            ]
          },
          "execution_count": 14,
          "metadata": {},
          "output_type": "execute_result"
        }
      ],
      "source": [
        "df.isna().sum().sort_values(ascending=False)"
      ]
    },
    {
      "cell_type": "code",
      "execution_count": 15,
      "metadata": {
        "colab": {
          "base_uri": "https://localhost:8080/"
        },
        "id": "Dff8_7_8S0PV",
        "outputId": "db10a154-0b1b-4619-9fdc-d3bd3f96aacf"
      },
      "outputs": [
        {
          "data": {
            "text/plain": [
              "2    458\n",
              "4    241\n",
              "Name: Class, dtype: int64"
            ]
          },
          "execution_count": 15,
          "metadata": {},
          "output_type": "execute_result"
        }
      ],
      "source": [
        "df['Class'].value_counts()"
      ]
    },
    {
      "cell_type": "code",
      "execution_count": 16,
      "metadata": {
        "colab": {
          "base_uri": "https://localhost:8080/",
          "height": 334
        },
        "id": "O9BSwmuES0PV",
        "outputId": "6b1f482c-64c1-4edd-8dbf-9d7e1ffedbde"
      },
      "outputs": [
        {
          "name": "stderr",
          "output_type": "stream",
          "text": [
            "/usr/local/lib/python3.7/dist-packages/seaborn/_decorators.py:43: FutureWarning: Pass the following variable as a keyword arg: x. From version 0.12, the only valid positional argument will be `data`, and passing other arguments without an explicit keyword will result in an error or misinterpretation.\n",
            "  FutureWarning\n"
          ]
        },
        {
          "data": {
            "image/png": "[encoded data removed]",
            "text/plain": [
              "<Figure size 432x288 with 1 Axes>"
            ]
          },
          "metadata": {
            "needs_background": "light"
          },
          "output_type": "display_data"
        }
      ],
      "source": [
        "sns.countplot(df['Class']);"
      ]
    },
    {
      "cell_type": "code",
      "execution_count": 17,
      "metadata": {
        "colab": {
          "base_uri": "https://localhost:8080/"
        },
        "id": "TQp0t1z3S0PV",
        "outputId": "cf5594b8-aaaa-4c28-bd3f-037d615209f7"
      },
      "outputs": [
        {
          "data": {
            "text/plain": [
              "2    0.655222\n",
              "4    0.344778\n",
              "Name: Class, dtype: float64"
            ]
          },
          "execution_count": 17,
          "metadata": {},
          "output_type": "execute_result"
        }
      ],
      "source": [
        "df['Class'].value_counts(2)"
      ]
    },
    {
      "cell_type": "markdown",
      "metadata": {
        "id": "buk-W62dS0PV"
      },
      "source": [
        "Dentro del análisis realizado a la base de datos no se considera un problema de desbalanceo de clases dado que la clase positiva (cancer benigno) posee una proporción del 65.5% con respecto a la totalidad de la muestra, teniendo como clase negativa (cancer maligno) el 34.5%. Por ese motivo no es necesario realizar algún procedimiento para obtener un mejor balanceo de clases o corregir la distorsión de los datos entre las clases."
      ]
    },
    {
      "cell_type": "markdown",
      "metadata": {
        "id": "GKZOXojTS0PW"
      },
      "source": [
        "#### Analiza las implicaciones que conllevan los FN y FP"
      ]
    },
    {
      "cell_type": "markdown",
      "metadata": {
        "id": "mvu_H2adS0PW"
      },
      "source": [
        "Sin duda la mayor implicación que posee el modelo es tener un FP (Falso Positivo) dado que, para el estudio, la clase mayoritaria es padecer cancer benigno (casos verdaderos positivos). No obstante, si se generan casos en los que los pacientes sometidos al estudio obtienen un resultado de no padercer cancer maligno, teniendo como origen las variables explicativas con resultados contrarios en cuanto al padecimiento de la enfermedad, harian que las personas con dicho padecimiento, dado que el análisis les indicó no padecer cancer maligno, no se someterían a los procedimientos quirúrgicos o tratamientos adecuados para frenar la enfermedad y, por ende, deteriorar su condición física por las consecuencias de dicha enfermedad."
      ]
    },
    {
      "cell_type": "markdown",
      "metadata": {
        "id": "EricVOhvS0PW"
      },
      "source": [
        "#### Decide y justifica la métrica a utilizar"
      ]
    },
    {
      "cell_type": "markdown",
      "metadata": {
        "id": "tcBTzeY-S0PW"
      },
      "source": [
        "En este problema en específico, el costo de los FP suele ser mucho más alto que el de los FN, así que la métrica más adecuada es alguna que esté directamente correlacionada a la predicción de los casos Positivos. La métrica tradicional que se usa para evaluar las prediciones Positivas es la Precisión. La precisión se define como:\n",
        "\n",
        "Precisión = ( TP / TP + FN )\n",
        "\n",
        "Si bien, dentro de la información del esudio se determinó un Accuracy del 97,5%, seguramente se esperaría optimizarlo un poco mejor dado que, el costo es perjudicial para los interesados."
      ]
    },
    {
      "cell_type": "markdown",
      "metadata": {
        "id": "3TyFuW0KvaHp"
      },
      "source": [
        "## Ejercicio 3: South German Credit Data Set\n",
        "https://archive.ics.uci.edu/ml/datasets/South+German+Credit+%28UPDATE%29  "
      ]
    },
    {
      "cell_type": "markdown",
      "metadata": {
        "id": "ppt8tM1YvaHq"
      },
      "source": [
        "#### a. Describe el problema y el objetivo que se busca\n",
        "Esta base de datos contiene datos financieros y algunos datos generales de clientes, estos clientes han sido etiquedados de manera manuel como buenos o malos créditos. El objetivo con este data set es entrenar clasificadores que puedan ayudar a tomar una desición sobre el otorgamiento de un crédito.  "
      ]
    },
    {
      "cell_type": "markdown",
      "metadata": {
        "id": "kjPoyGvuvaHq"
      },
      "source": [
        "#### b. Justifica si el problema requiere técnicas de balanceo de clases\n",
        "Para oder contestar esta pregunta necesitamos ver la proporción de clases."
      ]
    },
    {
      "cell_type": "code",
      "execution_count": null,
      "metadata": {
        "id": "fSELP_L7vaHr",
        "outputId": "466d45da-f01c-4f71-d4ae-37904164f7fe"
      },
      "outputs": [
        {
          "data": {
            "text/html": [
              "<div>\n",
              "<style scoped>\n",
              "    .dataframe tbody tr th:only-of-type {\n",
              "        vertical-align: middle;\n",
              "    }\n",
              "\n",
              "    .dataframe tbody tr th {\n",
              "        vertical-align: top;\n",
              "    }\n",
              "\n",
              "    .dataframe thead th {\n",
              "        text-align: right;\n",
              "    }\n",
              "</style>\n",
              "<table border=\"1\" class=\"dataframe\">\n",
              "  <thead>\n",
              "    <tr style=\"text-align: right;\">\n",
              "      <th></th>\n",
              "      <th>laufkont</th>\n",
              "      <th>laufzeit</th>\n",
              "      <th>moral</th>\n",
              "      <th>verw</th>\n",
              "      <th>hoehe</th>\n",
              "      <th>sparkont</th>\n",
              "      <th>beszeit</th>\n",
              "      <th>rate</th>\n",
              "      <th>famges</th>\n",
              "      <th>buerge</th>\n",
              "      <th>...</th>\n",
              "      <th>verm</th>\n",
              "      <th>alter</th>\n",
              "      <th>weitkred</th>\n",
              "      <th>wohn</th>\n",
              "      <th>bishkred</th>\n",
              "      <th>beruf</th>\n",
              "      <th>pers</th>\n",
              "      <th>telef</th>\n",
              "      <th>gastarb</th>\n",
              "      <th>kredit</th>\n",
              "    </tr>\n",
              "  </thead>\n",
              "  <tbody>\n",
              "    <tr>\n",
              "      <th>0</th>\n",
              "      <td>1</td>\n",
              "      <td>18</td>\n",
              "      <td>4</td>\n",
              "      <td>2</td>\n",
              "      <td>1049</td>\n",
              "      <td>1</td>\n",
              "      <td>2</td>\n",
              "      <td>4</td>\n",
              "      <td>2</td>\n",
              "      <td>1</td>\n",
              "      <td>...</td>\n",
              "      <td>2</td>\n",
              "      <td>21</td>\n",
              "      <td>3</td>\n",
              "      <td>1</td>\n",
              "      <td>1</td>\n",
              "      <td>3</td>\n",
              "      <td>2</td>\n",
              "      <td>1</td>\n",
              "      <td>2</td>\n",
              "      <td>1</td>\n",
              "    </tr>\n",
              "    <tr>\n",
              "      <th>1</th>\n",
              "      <td>1</td>\n",
              "      <td>9</td>\n",
              "      <td>4</td>\n",
              "      <td>0</td>\n",
              "      <td>2799</td>\n",
              "      <td>1</td>\n",
              "      <td>3</td>\n",
              "      <td>2</td>\n",
              "      <td>3</td>\n",
              "      <td>1</td>\n",
              "      <td>...</td>\n",
              "      <td>1</td>\n",
              "      <td>36</td>\n",
              "      <td>3</td>\n",
              "      <td>1</td>\n",
              "      <td>2</td>\n",
              "      <td>3</td>\n",
              "      <td>1</td>\n",
              "      <td>1</td>\n",
              "      <td>2</td>\n",
              "      <td>1</td>\n",
              "    </tr>\n",
              "    <tr>\n",
              "      <th>2</th>\n",
              "      <td>2</td>\n",
              "      <td>12</td>\n",
              "      <td>2</td>\n",
              "      <td>9</td>\n",
              "      <td>841</td>\n",
              "      <td>2</td>\n",
              "      <td>4</td>\n",
              "      <td>2</td>\n",
              "      <td>2</td>\n",
              "      <td>1</td>\n",
              "      <td>...</td>\n",
              "      <td>1</td>\n",
              "      <td>23</td>\n",
              "      <td>3</td>\n",
              "      <td>1</td>\n",
              "      <td>1</td>\n",
              "      <td>2</td>\n",
              "      <td>2</td>\n",
              "      <td>1</td>\n",
              "      <td>2</td>\n",
              "      <td>1</td>\n",
              "    </tr>\n",
              "    <tr>\n",
              "      <th>3</th>\n",
              "      <td>1</td>\n",
              "      <td>12</td>\n",
              "      <td>4</td>\n",
              "      <td>0</td>\n",
              "      <td>2122</td>\n",
              "      <td>1</td>\n",
              "      <td>3</td>\n",
              "      <td>3</td>\n",
              "      <td>3</td>\n",
              "      <td>1</td>\n",
              "      <td>...</td>\n",
              "      <td>1</td>\n",
              "      <td>39</td>\n",
              "      <td>3</td>\n",
              "      <td>1</td>\n",
              "      <td>2</td>\n",
              "      <td>2</td>\n",
              "      <td>1</td>\n",
              "      <td>1</td>\n",
              "      <td>1</td>\n",
              "      <td>1</td>\n",
              "    </tr>\n",
              "    <tr>\n",
              "      <th>4</th>\n",
              "      <td>1</td>\n",
              "      <td>12</td>\n",
              "      <td>4</td>\n",
              "      <td>0</td>\n",
              "      <td>2171</td>\n",
              "      <td>1</td>\n",
              "      <td>3</td>\n",
              "      <td>4</td>\n",
              "      <td>3</td>\n",
              "      <td>1</td>\n",
              "      <td>...</td>\n",
              "      <td>2</td>\n",
              "      <td>38</td>\n",
              "      <td>1</td>\n",
              "      <td>2</td>\n",
              "      <td>2</td>\n",
              "      <td>2</td>\n",
              "      <td>2</td>\n",
              "      <td>1</td>\n",
              "      <td>1</td>\n",
              "      <td>1</td>\n",
              "    </tr>\n",
              "  </tbody>\n",
              "</table>\n",
              "<p>5 rows × 21 columns</p>\n",
              "</div>"
            ],
            "text/plain": [
              "   laufkont  laufzeit  moral  verw  hoehe  sparkont  beszeit  rate  famges  \\\n",
              "0         1        18      4     2   1049         1        2     4       2   \n",
              "1         1         9      4     0   2799         1        3     2       3   \n",
              "2         2        12      2     9    841         2        4     2       2   \n",
              "3         1        12      4     0   2122         1        3     3       3   \n",
              "4         1        12      4     0   2171         1        3     4       3   \n",
              "\n",
              "   buerge  ...  verm  alter  weitkred  wohn  bishkred  beruf  pers  telef  \\\n",
              "0       1  ...     2     21         3     1         1      3     2      1   \n",
              "1       1  ...     1     36         3     1         2      3     1      1   \n",
              "2       1  ...     1     23         3     1         1      2     2      1   \n",
              "3       1  ...     1     39         3     1         2      2     1      1   \n",
              "4       1  ...     2     38         1     2         2      2     2      1   \n",
              "\n",
              "   gastarb  kredit  \n",
              "0        2       1  \n",
              "1        2       1  \n",
              "2        2       1  \n",
              "3        1       1  \n",
              "4        1       1  \n",
              "\n",
              "[5 rows x 21 columns]"
            ]
          },
          "execution_count": 1,
          "metadata": {},
          "output_type": "execute_result"
        }
      ],
      "source": [
        "import pandas as pd\n",
        "import requests, zipfile\n",
        "from io import BytesIO\n",
        "\n",
        "path = 'https://archive.ics.uci.edu/ml/machine-learning-databases/00573/SouthGermanCredit.zip'\n",
        "file_name = 'SouthGermanCredit.asc'\n",
        "req = requests.get(path)\n",
        "zp = zipfile.ZipFile(BytesIO(req.content))\n",
        "zp.extractall()\n",
        "dfEx2 = pd.read_csv(file_name, sep=\"\\s+\")\n",
        "dfEx2.head()"
      ]
    },
    {
      "cell_type": "code",
      "execution_count": null,
      "metadata": {
        "id": "7K0DvO3NvaHt",
        "outputId": "6f0e3e7d-dc10-4797-dc31-e63054d60af9"
      },
      "outputs": [
        {
          "data": {
            "text/plain": [
              "1    700\n",
              "0    300\n",
              "Name: kredit, dtype: int64"
            ]
          },
          "execution_count": 2,
          "metadata": {},
          "output_type": "execute_result"
        }
      ],
      "source": [
        "# La columna kredit es la que contiene las etiquetas, vamos a ver la proporción y decidir si el data set está desbalanceado\n",
        "dfEx2['kredit'].value_counts()"
      ]
    },
    {
      "cell_type": "markdown",
      "metadata": {
        "id": "Db8-s-J2vaHu"
      },
      "source": [
        "El problema no es un problema de calses desbalanceado. El data set está en el límite, pero con una proporción de 70/30 no es necesario usar técnicas de desbalanceo."
      ]
    },
    {
      "cell_type": "markdown",
      "metadata": {
        "id": "zPjTS0pcvaHu"
      },
      "source": [
        "#### c. Analiza las implicaciones que conllevan los FN y FP\n",
        "La etiqueta *kredit* nos dice si el crédito fue bien otorgado o no.\n",
        "- 0 Crédito mal otorgado\n",
        "- 1 Crédito bien otorgado\n",
        "\n",
        "En esto contexto los FN y FP se definirían como:\n",
        "- FP créditos otorgados a malos clientes\n",
        "- FN créditos negados a buenos clientes\n",
        "\n",
        "Generalmente es mucho más costoso otorgar un crédito a un cliente que no lo pagará que negar un crédito a un cliente que lo podría pagar. Para poder hacer un análisis completo necesitaríamos tener los costes promedio de otorgar mal un crédito vs las utilidades que se dejan de generar por negarlo equivocadamente. Pero en general, en este tipo de escenarios es mucho más costoso los falsos positovos (*FP*) que los falsos negativos (*FN*)."
      ]
    },
    {
      "cell_type": "markdown",
      "metadata": {
        "id": "YbXBAfyXvaHv"
      },
      "source": [
        "#### d. Decide y justifica la métrica a utilizar\n",
        "En este problema en específico, el costo de los *FP* suele ser mucho más alto que el de los *FN*, así que la métrica más adecuada es alguna que esté directamente correlacionada a la predicción de los casos *Positivos*. La métrica tradicional que se usa para evaular las prediciones *Positivas* es la *Precisión*. La precisión se define como:  \n",
        "$$ Precisión = {TP \\over TP+FP} $$  \n",
        "Si tuvieramos más información sobre los costos de los *FP* vs *FN* podríamos proponer alguna otra métrica auxiliar que reflejara las consecuencias de los *FN*, pero sin más información la mejor métrica sería la *Precisión*"
      ]
    },
    {
      "cell_type": "markdown",
      "metadata": {
        "id": "AFyVlt_xvaHv"
      },
      "source": [
        "### Ejercicio 4:\n",
        "\n",
        "####a.\tDescribe el problema y el objetivo que se busca.\n",
        "\n",
        "- La base contiene 33 variables las cuales 10 variables se descartan, al ser una para el ID, Lat Long al contener ya la latitud y longitud, también Churn Label porque es el mismo valor de Churn, además se descarta Count, Country y State porque es el mismo para todos y esto no nos aporta para los análisis, también eliminando Churn Score, Cltv y Churn ya que son variables que están generando un comportamiento predictivo y no nos proporciona nada para el modelo. finalmente tenemos 32 variables de entrada y una variable de salida que será nuestra variable a predecir la cual nos indica. Hay un total de 7043 registros.\n",
        "\n",
        "- Las variables están conformadas por tipos categóricas, binarias y tipo enteros y flotantes con temas relacionados a demografía, ubicación, población, servicios y estado. al realizar la selección de los datos importantes, no hay perdida de información.\n",
        "\n",
        "\n",
        "-El problema se plantea como aprendizaje supervisado, donde se busca predecir la probabilidad que un cliente abandone la empresa.\n",
        "\n",
        "- al predecir si un cliente tiene mayor probabilidad de abandono, significa plantearle nuevos servicios atractivos que hagan crecer la fidelidad y satisfacción del cliente. de lo contrario una disminución de las ventas por el abandono.   "
      ]
    },
    {
      "cell_type": "code",
      "execution_count": null,
      "metadata": {
        "colab": {
          "base_uri": "https://localhost:8080/"
        },
        "id": "nV5M7nqzvpyQ",
        "outputId": "6022edc8-280a-4e7b-90ec-f13a88386cee"
      },
      "outputs": [
        {
          "data": {
            "text/plain": [
              "False"
            ]
          },
          "execution_count": 1,
          "metadata": {},
          "output_type": "execute_result"
        }
      ],
      "source": [
        "import numpy as np\n",
        "import pandas as pd\n",
        "import matplotlib.pyplot as plt\n",
        "import seaborn as sns\n",
        "import openpyxl\n",
        "\n",
        "df = pd.read_excel('Telco_customer_churn.xlsx')\n",
        "df = df.drop(\n",
        "    ['CustomerID','Count', 'Country' , 'State' , 'Lat Long' ,'Churn Label' , 'Churn Score' ,'CLTV' ,'Churn Reason' ]\n",
        "    ,axis = 1\n",
        ")\n",
        "\n",
        "df.isnull().values.any() ## No hay valores perdidos"
      ]
    },
    {
      "cell_type": "markdown",
      "metadata": {
        "id": "SsZnnZHGv6AX"
      },
      "source": [
        "####b.\t¿Es un problema desbalanceado? ¿Cómo se podría enfrentar?\n",
        "\n"
      ]
    },
    {
      "cell_type": "code",
      "execution_count": null,
      "metadata": {
        "colab": {
          "base_uri": "https://localhost:8080/"
        },
        "id": "co0dBsbawAC5",
        "outputId": "a3397ee1-8a2d-45ac-ea8e-fa60b43e3b93"
      },
      "outputs": [
        {
          "name": "stdout",
          "output_type": "stream",
          "text": [
            "26.536987079369588\n",
            "1869\n"
          ]
        }
      ],
      "source": [
        "print(df['Churn Value'].sum() / len(df) *100)\n",
        "print(df['Churn Value'].sum() )"
      ]
    },
    {
      "cell_type": "markdown",
      "metadata": {
        "id": "3fgQxmnQwAxY"
      },
      "source": [
        "Al realizar el análisis de la clase, vemos que la clase 1 contiene el 26.5% de las observaciones, la cual siguiendo las indicaciones de problemas de desbalanceo, La clase está por encima del 20% la cual podemos trabajar la base sin problemas de desbalanceo.\n",
        "\n",
        "#### c. Analiza las implicaciones que conllevan los FN y FP\n",
        "\n",
        "La etiqueta Churn Value nos dice si el cliente se retiró o abandono la empresa en el último trimestre:\n",
        "\n",
        "0 : El cliente aun esta con la empresa\n",
        "\n",
        "1 : El cliente abandono la empresa\n",
        "\n",
        "para efectos del ejercicio, si un cliente tiene probabilidad de abandonar, se busca hacer campaña, donde se otorguen servicios y beneficios especiales a los clientes con el fin de incentivar la fidelidad y satisfacción del cliente, con el fin de hacer permanecer al cliente en la empresa.\n",
        "\n",
        "En esto contexto los FN y FP se definirían como:\n",
        "\n",
        "FP: otorgar beneficios a un cliente sin posibilidad de abandono\n",
        "FN: No otorgar beneficios a un cliente con posibilidad de abandono\n",
        "\n",
        "Dados los diferentes estudios, se demuestra que es más costos adquirir nuevos clientes que retener a los ya existentes. Por esta razón es muy importante realizar campañas de fidelización para mantener a los clientes felices.\n",
        "\n",
        "Según el ejerció se da más importancia mantener al cliente, por esta razón un falso negativo implica no ejercer una campaña sobre un cliente con alta probabilidad de abandono, generado así su retiro y posteriormente a la disminución de ingresos. por esto es más costoso un FN que un FP.\n",
        "\n",
        "\n",
        "####4.\tDeterminar el tipo de métrica de acuerdo a la Taxonomía de los autores.\n",
        "\n",
        "para efectos del ejercicio y dado que la importancia de los FN, ademas las base no se encuentra desbalanceada, sin embargo la proporcion es baja, por tal motivo las dos metricas que se pueden acompañar para medir el desempeño seria en primer lugar F2-score [Precision y 2*Sensibilidad (Recall)] al cuial esta dada por la funcion:\n",
        "\n",
        "![image.png](data:image/png;base64,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)\n",
        "\n",
        "\n",
        "\n",
        ", y de segundo como soporte y tendiendo a la clase con menor peso, se utiliza la metrica de la curva PR: Presicion - Recall, con una mayor importancias a las prediciones positivas\n"
      ]
    },
    {
      "cell_type": "markdown",
      "metadata": {
        "id": "IgGh7ppJvaHv"
      },
      "source": [
        "## Ejercicio 5: Qualitative_Bankruptcy Data Set:\n",
        "https://archive.ics.uci.edu/ml/datasets/Qualitative_Bankruptcy"
      ]
    },
    {
      "cell_type": "markdown",
      "metadata": {},
      "source": [
        "#### a. Describe el problema y el objetivo que se busca\n",
        "Se presenta un problema de clasificación con el uso de 6 parametros recobrados de un análisis de expertos para determinar el estrato donde clasificar un grupo particular de usuarios determinando si estan o no en bancarrota.\n",
        "\n",
        "Los atributos son categóricos y tienen 3 posibles valores:\n",
        "   P-Positivo\n",
        "   A-Average (Promedio)\n",
        "   N-Negativo\n",
        "   \n",
        "La clasificación final es binaria, con 2 posibles valores:\n",
        "   B-Bankrupt\n",
        "   NB-No Bankrupt\n",
        "\n",
        "Entre los posibles usos de este dataset esta orientado principalmente a autorizaciones de herramientas financieras, como oportunidades de inversión, creditos, hipotecas, etc.\n"
      ]
    },
    {
      "cell_type": "markdown",
      "metadata": {},
      "source": [
        "#### b. Justifica si el problema requiere técnicas de balanceo de clases"
      ]
    },
    {
      "cell_type": "code",
      "execution_count": 1,
      "metadata": {},
      "outputs": [
        {
          "data": {
            "text/html": [
              "<div>\n",
              "<style scoped>\n",
              "    .dataframe tbody tr th:only-of-type {\n",
              "        vertical-align: middle;\n",
              "    }\n",
              "\n",
              "    .dataframe tbody tr th {\n",
              "        vertical-align: top;\n",
              "    }\n",
              "\n",
              "    .dataframe thead th {\n",
              "        text-align: right;\n",
              "    }\n",
              "</style>\n",
              "<table border=\"1\" class=\"dataframe\">\n",
              "  <thead>\n",
              "    <tr style=\"text-align: right;\">\n",
              "      <th></th>\n",
              "      <th>IndustrialRisk</th>\n",
              "      <th>ManagementRisk</th>\n",
              "      <th>FinancialFlexibility</th>\n",
              "      <th>Credibility</th>\n",
              "      <th>Competitiveness</th>\n",
              "      <th>OperatingRisk</th>\n",
              "      <th>Class</th>\n",
              "    </tr>\n",
              "  </thead>\n",
              "  <tbody>\n",
              "    <tr>\n",
              "      <th>1</th>\n",
              "      <td>P</td>\n",
              "      <td>P</td>\n",
              "      <td>A</td>\n",
              "      <td>A</td>\n",
              "      <td>A</td>\n",
              "      <td>P</td>\n",
              "      <td>NB</td>\n",
              "    </tr>\n",
              "    <tr>\n",
              "      <th>2</th>\n",
              "      <td>N</td>\n",
              "      <td>N</td>\n",
              "      <td>A</td>\n",
              "      <td>A</td>\n",
              "      <td>A</td>\n",
              "      <td>N</td>\n",
              "      <td>NB</td>\n",
              "    </tr>\n",
              "    <tr>\n",
              "      <th>3</th>\n",
              "      <td>A</td>\n",
              "      <td>A</td>\n",
              "      <td>A</td>\n",
              "      <td>A</td>\n",
              "      <td>A</td>\n",
              "      <td>A</td>\n",
              "      <td>NB</td>\n",
              "    </tr>\n",
              "    <tr>\n",
              "      <th>4</th>\n",
              "      <td>P</td>\n",
              "      <td>P</td>\n",
              "      <td>P</td>\n",
              "      <td>P</td>\n",
              "      <td>P</td>\n",
              "      <td>P</td>\n",
              "      <td>NB</td>\n",
              "    </tr>\n",
              "    <tr>\n",
              "      <th>5</th>\n",
              "      <td>N</td>\n",
              "      <td>N</td>\n",
              "      <td>P</td>\n",
              "      <td>P</td>\n",
              "      <td>P</td>\n",
              "      <td>N</td>\n",
              "      <td>NB</td>\n",
              "    </tr>\n",
              "  </tbody>\n",
              "</table>\n",
              "</div>"
            ],
            "text/plain": [
              "  IndustrialRisk ManagementRisk FinancialFlexibility Credibility  \\\n",
              "1              P              P                    A           A   \n",
              "2              N              N                    A           A   \n",
              "3              A              A                    A           A   \n",
              "4              P              P                    P           P   \n",
              "5              N              N                    P           P   \n",
              "\n",
              "  Competitiveness OperatingRisk Class  \n",
              "1               A             P    NB  \n",
              "2               A             N    NB  \n",
              "3               A             A    NB  \n",
              "4               P             P    NB  \n",
              "5               P             N    NB  "
            ]
          },
          "execution_count": 1,
          "metadata": {},
          "output_type": "execute_result"
        }
      ],
      "source": [
        "import pandas as pd\n",
        "import seaborn as sns\n",
        "\n",
        "path_5 = './Qualitative_Bankruptcy_DS.csv'\n",
        "headers = [\"IndustrialRisk\",\"ManagementRisk\",\"FinancialFlexibility\",\"Credibility\",\"Competitiveness\",\"OperatingRisk\",\"Class\"]\n",
        "\n",
        "df_5= pd.read_csv(path_5, names=headers, sep= ',')\n",
        "df_5.drop(index=df_5.index[0], \n",
        "        axis=0, \n",
        "        inplace=True)\n",
        "df_5.head()"
      ]
    },
    {
      "cell_type": "code",
      "execution_count": 2,
      "metadata": {},
      "outputs": [
        {
          "data": {
            "text/plain": [
              "(250, 7)"
            ]
          },
          "execution_count": 2,
          "metadata": {},
          "output_type": "execute_result"
        }
      ],
      "source": [
        "df_5.shape"
      ]
    },
    {
      "cell_type": "code",
      "execution_count": 3,
      "metadata": {},
      "outputs": [
        {
          "data": {
            "text/plain": [
              "IndustrialRisk          object\n",
              "ManagementRisk          object\n",
              "FinancialFlexibility    object\n",
              "Credibility             object\n",
              "Competitiveness         object\n",
              "OperatingRisk           object\n",
              "Class                   object\n",
              "dtype: object"
            ]
          },
          "execution_count": 3,
          "metadata": {},
          "output_type": "execute_result"
        }
      ],
      "source": [
        "df_5.dtypes"
      ]
    },
    {
      "cell_type": "code",
      "execution_count": 4,
      "metadata": {},
      "outputs": [
        {
          "data": {
            "text/html": [
              "<div>\n",
              "<style scoped>\n",
              "    .dataframe tbody tr th:only-of-type {\n",
              "        vertical-align: middle;\n",
              "    }\n",
              "\n",
              "    .dataframe tbody tr th {\n",
              "        vertical-align: top;\n",
              "    }\n",
              "\n",
              "    .dataframe thead th {\n",
              "        text-align: right;\n",
              "    }\n",
              "</style>\n",
              "<table border=\"1\" class=\"dataframe\">\n",
              "  <thead>\n",
              "    <tr style=\"text-align: right;\">\n",
              "      <th></th>\n",
              "      <th>IndustrialRisk</th>\n",
              "      <th>ManagementRisk</th>\n",
              "      <th>FinancialFlexibility</th>\n",
              "      <th>Credibility</th>\n",
              "      <th>Competitiveness</th>\n",
              "      <th>OperatingRisk</th>\n",
              "      <th>Class</th>\n",
              "    </tr>\n",
              "  </thead>\n",
              "  <tbody>\n",
              "    <tr>\n",
              "      <th>count</th>\n",
              "      <td>250</td>\n",
              "      <td>250</td>\n",
              "      <td>250</td>\n",
              "      <td>250</td>\n",
              "      <td>250</td>\n",
              "      <td>250</td>\n",
              "      <td>250</td>\n",
              "    </tr>\n",
              "    <tr>\n",
              "      <th>unique</th>\n",
              "      <td>3</td>\n",
              "      <td>3</td>\n",
              "      <td>3</td>\n",
              "      <td>3</td>\n",
              "      <td>3</td>\n",
              "      <td>3</td>\n",
              "      <td>2</td>\n",
              "    </tr>\n",
              "    <tr>\n",
              "      <th>top</th>\n",
              "      <td>N</td>\n",
              "      <td>N</td>\n",
              "      <td>N</td>\n",
              "      <td>N</td>\n",
              "      <td>N</td>\n",
              "      <td>N</td>\n",
              "      <td>NB</td>\n",
              "    </tr>\n",
              "    <tr>\n",
              "      <th>freq</th>\n",
              "      <td>89</td>\n",
              "      <td>119</td>\n",
              "      <td>119</td>\n",
              "      <td>94</td>\n",
              "      <td>103</td>\n",
              "      <td>114</td>\n",
              "      <td>143</td>\n",
              "    </tr>\n",
              "  </tbody>\n",
              "</table>\n",
              "</div>"
            ],
            "text/plain": [
              "       IndustrialRisk ManagementRisk FinancialFlexibility Credibility  \\\n",
              "count             250            250                  250         250   \n",
              "unique              3              3                    3           3   \n",
              "top                 N              N                    N           N   \n",
              "freq               89            119                  119          94   \n",
              "\n",
              "       Competitiveness OperatingRisk Class  \n",
              "count              250           250   250  \n",
              "unique               3             3     2  \n",
              "top                  N             N    NB  \n",
              "freq               103           114   143  "
            ]
          },
          "execution_count": 4,
          "metadata": {},
          "output_type": "execute_result"
        }
      ],
      "source": [
        "df_5.describe()"
      ]
    },
    {
      "cell_type": "code",
      "execution_count": 5,
      "metadata": {},
      "outputs": [
        {
          "data": {
            "text/html": [
              "<div>\n",
              "<style scoped>\n",
              "    .dataframe tbody tr th:only-of-type {\n",
              "        vertical-align: middle;\n",
              "    }\n",
              "\n",
              "    .dataframe tbody tr th {\n",
              "        vertical-align: top;\n",
              "    }\n",
              "\n",
              "    .dataframe thead th {\n",
              "        text-align: right;\n",
              "    }\n",
              "</style>\n",
              "<table border=\"1\" class=\"dataframe\">\n",
              "  <thead>\n",
              "    <tr style=\"text-align: right;\">\n",
              "      <th></th>\n",
              "      <th>IndustrialRisk</th>\n",
              "      <th>ManagementRisk</th>\n",
              "      <th>FinancialFlexibility</th>\n",
              "      <th>Credibility</th>\n",
              "      <th>Competitiveness</th>\n",
              "      <th>OperatingRisk</th>\n",
              "      <th>Class</th>\n",
              "    </tr>\n",
              "  </thead>\n",
              "  <tbody>\n",
              "    <tr>\n",
              "      <th>count</th>\n",
              "      <td>250</td>\n",
              "      <td>250</td>\n",
              "      <td>250</td>\n",
              "      <td>250</td>\n",
              "      <td>250</td>\n",
              "      <td>250</td>\n",
              "      <td>250</td>\n",
              "    </tr>\n",
              "    <tr>\n",
              "      <th>unique</th>\n",
              "      <td>3</td>\n",
              "      <td>3</td>\n",
              "      <td>3</td>\n",
              "      <td>3</td>\n",
              "      <td>3</td>\n",
              "      <td>3</td>\n",
              "      <td>2</td>\n",
              "    </tr>\n",
              "    <tr>\n",
              "      <th>top</th>\n",
              "      <td>N</td>\n",
              "      <td>N</td>\n",
              "      <td>N</td>\n",
              "      <td>N</td>\n",
              "      <td>N</td>\n",
              "      <td>N</td>\n",
              "      <td>NB</td>\n",
              "    </tr>\n",
              "    <tr>\n",
              "      <th>freq</th>\n",
              "      <td>89</td>\n",
              "      <td>119</td>\n",
              "      <td>119</td>\n",
              "      <td>94</td>\n",
              "      <td>103</td>\n",
              "      <td>114</td>\n",
              "      <td>143</td>\n",
              "    </tr>\n",
              "  </tbody>\n",
              "</table>\n",
              "</div>"
            ],
            "text/plain": [
              "       IndustrialRisk ManagementRisk FinancialFlexibility Credibility  \\\n",
              "count             250            250                  250         250   \n",
              "unique              3              3                    3           3   \n",
              "top                 N              N                    N           N   \n",
              "freq               89            119                  119          94   \n",
              "\n",
              "       Competitiveness OperatingRisk Class  \n",
              "count              250           250   250  \n",
              "unique               3             3     2  \n",
              "top                  N             N    NB  \n",
              "freq               103           114   143  "
            ]
          },
          "execution_count": 5,
          "metadata": {},
          "output_type": "execute_result"
        }
      ],
      "source": [
        "df_5.describe()"
      ]
    },
    {
      "cell_type": "markdown",
      "metadata": {},
      "source": [
        "Hacemos el tratamiento de los datos a valores numericos para el clasificador.\n",
        "La etiqueta POSITIVO (P), PROMEDIO (A), NEGATIVO (N) cambian a [1,0,-1]."
      ]
    },
    {
      "cell_type": "code",
      "execution_count": 6,
      "metadata": {},
      "outputs": [],
      "source": [
        "df_5Int = df_5"
      ]
    },
    {
      "cell_type": "code",
      "execution_count": 7,
      "metadata": {},
      "outputs": [],
      "source": [
        "df_5Int = df_5Int.replace(\n",
        "     to_replace=['P','A','N'], \n",
        "     value=[1, 0,-1])"
      ]
    },
    {
      "cell_type": "markdown",
      "metadata": {},
      "source": [
        "La etiqueta de las clases tambien se cambian\n",
        "Bankruptcy (B), Non-Bankruptcy (NB) cambian a [1,0]"
      ]
    },
    {
      "cell_type": "code",
      "execution_count": 8,
      "metadata": {},
      "outputs": [],
      "source": [
        "df_5Int['Class'] = df_5Int['Class'].replace(\n",
        "     to_replace=['NB','B'], \n",
        "     value=[0, 1])"
      ]
    },
    {
      "cell_type": "code",
      "execution_count": 9,
      "metadata": {},
      "outputs": [
        {
          "data": {
            "text/html": [
              "<div>\n",
              "<style scoped>\n",
              "    .dataframe tbody tr th:only-of-type {\n",
              "        vertical-align: middle;\n",
              "    }\n",
              "\n",
              "    .dataframe tbody tr th {\n",
              "        vertical-align: top;\n",
              "    }\n",
              "\n",
              "    .dataframe thead th {\n",
              "        text-align: right;\n",
              "    }\n",
              "</style>\n",
              "<table border=\"1\" class=\"dataframe\">\n",
              "  <thead>\n",
              "    <tr style=\"text-align: right;\">\n",
              "      <th></th>\n",
              "      <th>IndustrialRisk</th>\n",
              "      <th>ManagementRisk</th>\n",
              "      <th>FinancialFlexibility</th>\n",
              "      <th>Credibility</th>\n",
              "      <th>Competitiveness</th>\n",
              "      <th>OperatingRisk</th>\n",
              "      <th>Class</th>\n",
              "    </tr>\n",
              "  </thead>\n",
              "  <tbody>\n",
              "    <tr>\n",
              "      <th>1</th>\n",
              "      <td>1</td>\n",
              "      <td>1</td>\n",
              "      <td>0</td>\n",
              "      <td>0</td>\n",
              "      <td>0</td>\n",
              "      <td>1</td>\n",
              "      <td>0</td>\n",
              "    </tr>\n",
              "    <tr>\n",
              "      <th>2</th>\n",
              "      <td>-1</td>\n",
              "      <td>-1</td>\n",
              "      <td>0</td>\n",
              "      <td>0</td>\n",
              "      <td>0</td>\n",
              "      <td>-1</td>\n",
              "      <td>0</td>\n",
              "    </tr>\n",
              "    <tr>\n",
              "      <th>3</th>\n",
              "      <td>0</td>\n",
              "      <td>0</td>\n",
              "      <td>0</td>\n",
              "      <td>0</td>\n",
              "      <td>0</td>\n",
              "      <td>0</td>\n",
              "      <td>0</td>\n",
              "    </tr>\n",
              "    <tr>\n",
              "      <th>4</th>\n",
              "      <td>1</td>\n",
              "      <td>1</td>\n",
              "      <td>1</td>\n",
              "      <td>1</td>\n",
              "      <td>1</td>\n",
              "      <td>1</td>\n",
              "      <td>0</td>\n",
              "    </tr>\n",
              "    <tr>\n",
              "      <th>5</th>\n",
              "      <td>-1</td>\n",
              "      <td>-1</td>\n",
              "      <td>1</td>\n",
              "      <td>1</td>\n",
              "      <td>1</td>\n",
              "      <td>-1</td>\n",
              "      <td>0</td>\n",
              "    </tr>\n",
              "  </tbody>\n",
              "</table>\n",
              "</div>"
            ],
            "text/plain": [
              "   IndustrialRisk  ManagementRisk  FinancialFlexibility  Credibility  \\\n",
              "1               1               1                     0            0   \n",
              "2              -1              -1                     0            0   \n",
              "3               0               0                     0            0   \n",
              "4               1               1                     1            1   \n",
              "5              -1              -1                     1            1   \n",
              "\n",
              "   Competitiveness  OperatingRisk  Class  \n",
              "1                0              1      0  \n",
              "2                0             -1      0  \n",
              "3                0              0      0  \n",
              "4                1              1      0  \n",
              "5                1             -1      0  "
            ]
          },
          "execution_count": 9,
          "metadata": {},
          "output_type": "execute_result"
        }
      ],
      "source": [
        "df_5Int.head()"
      ]
    },
    {
      "cell_type": "code",
      "execution_count": 10,
      "metadata": {},
      "outputs": [
        {
          "data": {
            "text/html": [
              "<div>\n",
              "<style scoped>\n",
              "    .dataframe tbody tr th:only-of-type {\n",
              "        vertical-align: middle;\n",
              "    }\n",
              "\n",
              "    .dataframe tbody tr th {\n",
              "        vertical-align: top;\n",
              "    }\n",
              "\n",
              "    .dataframe thead th {\n",
              "        text-align: right;\n",
              "    }\n",
              "</style>\n",
              "<table border=\"1\" class=\"dataframe\">\n",
              "  <thead>\n",
              "    <tr style=\"text-align: right;\">\n",
              "      <th></th>\n",
              "      <th>IndustrialRisk</th>\n",
              "      <th>ManagementRisk</th>\n",
              "      <th>FinancialFlexibility</th>\n",
              "      <th>Credibility</th>\n",
              "      <th>Competitiveness</th>\n",
              "      <th>OperatingRisk</th>\n",
              "      <th>Class</th>\n",
              "    </tr>\n",
              "  </thead>\n",
              "  <tbody>\n",
              "    <tr>\n",
              "      <th>246</th>\n",
              "      <td>-1</td>\n",
              "      <td>-1</td>\n",
              "      <td>0</td>\n",
              "      <td>-1</td>\n",
              "      <td>-1</td>\n",
              "      <td>-1</td>\n",
              "      <td>1</td>\n",
              "    </tr>\n",
              "    <tr>\n",
              "      <th>247</th>\n",
              "      <td>1</td>\n",
              "      <td>-1</td>\n",
              "      <td>-1</td>\n",
              "      <td>-1</td>\n",
              "      <td>-1</td>\n",
              "      <td>-1</td>\n",
              "      <td>1</td>\n",
              "    </tr>\n",
              "    <tr>\n",
              "      <th>248</th>\n",
              "      <td>0</td>\n",
              "      <td>-1</td>\n",
              "      <td>-1</td>\n",
              "      <td>-1</td>\n",
              "      <td>-1</td>\n",
              "      <td>-1</td>\n",
              "      <td>1</td>\n",
              "    </tr>\n",
              "    <tr>\n",
              "      <th>249</th>\n",
              "      <td>-1</td>\n",
              "      <td>-1</td>\n",
              "      <td>-1</td>\n",
              "      <td>-1</td>\n",
              "      <td>-1</td>\n",
              "      <td>-1</td>\n",
              "      <td>1</td>\n",
              "    </tr>\n",
              "    <tr>\n",
              "      <th>250</th>\n",
              "      <td>1</td>\n",
              "      <td>-1</td>\n",
              "      <td>-1</td>\n",
              "      <td>-1</td>\n",
              "      <td>0</td>\n",
              "      <td>0</td>\n",
              "      <td>1</td>\n",
              "    </tr>\n",
              "  </tbody>\n",
              "</table>\n",
              "</div>"
            ],
            "text/plain": [
              "     IndustrialRisk  ManagementRisk  FinancialFlexibility  Credibility  \\\n",
              "246              -1              -1                     0           -1   \n",
              "247               1              -1                    -1           -1   \n",
              "248               0              -1                    -1           -1   \n",
              "249              -1              -1                    -1           -1   \n",
              "250               1              -1                    -1           -1   \n",
              "\n",
              "     Competitiveness  OperatingRisk  Class  \n",
              "246               -1             -1      1  \n",
              "247               -1             -1      1  \n",
              "248               -1             -1      1  \n",
              "249               -1             -1      1  \n",
              "250                0              0      1  "
            ]
          },
          "execution_count": 10,
          "metadata": {},
          "output_type": "execute_result"
        }
      ],
      "source": [
        "df_5Int.tail()"
      ]
    },
    {
      "cell_type": "code",
      "execution_count": 12,
      "metadata": {},
      "outputs": [
        {
          "data": {
            "text/html": [
              "<div>\n",
              "<style scoped>\n",
              "    .dataframe tbody tr th:only-of-type {\n",
              "        vertical-align: middle;\n",
              "    }\n",
              "\n",
              "    .dataframe tbody tr th {\n",
              "        vertical-align: top;\n",
              "    }\n",
              "\n",
              "    .dataframe thead th {\n",
              "        text-align: right;\n",
              "    }\n",
              "</style>\n",
              "<table border=\"1\" class=\"dataframe\">\n",
              "  <thead>\n",
              "    <tr style=\"text-align: right;\">\n",
              "      <th></th>\n",
              "      <th>IndustrialRisk</th>\n",
              "      <th>ManagementRisk</th>\n",
              "      <th>FinancialFlexibility</th>\n",
              "      <th>Credibility</th>\n",
              "      <th>Competitiveness</th>\n",
              "      <th>OperatingRisk</th>\n",
              "      <th>Class</th>\n",
              "    </tr>\n",
              "  </thead>\n",
              "  <tbody>\n",
              "    <tr>\n",
              "      <th>count</th>\n",
              "      <td>250.000000</td>\n",
              "      <td>250.00000</td>\n",
              "      <td>250.000000</td>\n",
              "      <td>250.000000</td>\n",
              "      <td>250.000000</td>\n",
              "      <td>250.00000</td>\n",
              "      <td>250.000000</td>\n",
              "    </tr>\n",
              "    <tr>\n",
              "      <th>mean</th>\n",
              "      <td>-0.036000</td>\n",
              "      <td>-0.22800</td>\n",
              "      <td>-0.248000</td>\n",
              "      <td>-0.060000</td>\n",
              "      <td>-0.048000</td>\n",
              "      <td>-0.14000</td>\n",
              "      <td>0.428000</td>\n",
              "    </tr>\n",
              "    <tr>\n",
              "      <th>std</th>\n",
              "      <td>0.823051</td>\n",
              "      <td>0.82141</td>\n",
              "      <td>0.803166</td>\n",
              "      <td>0.831363</td>\n",
              "      <td>0.881364</td>\n",
              "      <td>0.86915</td>\n",
              "      <td>0.495781</td>\n",
              "    </tr>\n",
              "    <tr>\n",
              "      <th>min</th>\n",
              "      <td>-1.000000</td>\n",
              "      <td>-1.00000</td>\n",
              "      <td>-1.000000</td>\n",
              "      <td>-1.000000</td>\n",
              "      <td>-1.000000</td>\n",
              "      <td>-1.00000</td>\n",
              "      <td>0.000000</td>\n",
              "    </tr>\n",
              "    <tr>\n",
              "      <th>25%</th>\n",
              "      <td>-1.000000</td>\n",
              "      <td>-1.00000</td>\n",
              "      <td>-1.000000</td>\n",
              "      <td>-1.000000</td>\n",
              "      <td>-1.000000</td>\n",
              "      <td>-1.00000</td>\n",
              "      <td>0.000000</td>\n",
              "    </tr>\n",
              "    <tr>\n",
              "      <th>50%</th>\n",
              "      <td>0.000000</td>\n",
              "      <td>0.00000</td>\n",
              "      <td>0.000000</td>\n",
              "      <td>0.000000</td>\n",
              "      <td>0.000000</td>\n",
              "      <td>0.00000</td>\n",
              "      <td>0.000000</td>\n",
              "    </tr>\n",
              "    <tr>\n",
              "      <th>75%</th>\n",
              "      <td>1.000000</td>\n",
              "      <td>0.00000</td>\n",
              "      <td>0.000000</td>\n",
              "      <td>1.000000</td>\n",
              "      <td>1.000000</td>\n",
              "      <td>1.00000</td>\n",
              "      <td>1.000000</td>\n",
              "    </tr>\n",
              "    <tr>\n",
              "      <th>max</th>\n",
              "      <td>1.000000</td>\n",
              "      <td>1.00000</td>\n",
              "      <td>1.000000</td>\n",
              "      <td>1.000000</td>\n",
              "      <td>1.000000</td>\n",
              "      <td>1.00000</td>\n",
              "      <td>1.000000</td>\n",
              "    </tr>\n",
              "  </tbody>\n",
              "</table>\n",
              "</div>"
            ],
            "text/plain": [
              "       IndustrialRisk  ManagementRisk  FinancialFlexibility  Credibility  \\\n",
              "count      250.000000       250.00000            250.000000   250.000000   \n",
              "mean        -0.036000        -0.22800             -0.248000    -0.060000   \n",
              "std          0.823051         0.82141              0.803166     0.831363   \n",
              "min         -1.000000        -1.00000             -1.000000    -1.000000   \n",
              "25%         -1.000000        -1.00000             -1.000000    -1.000000   \n",
              "50%          0.000000         0.00000              0.000000     0.000000   \n",
              "75%          1.000000         0.00000              0.000000     1.000000   \n",
              "max          1.000000         1.00000              1.000000     1.000000   \n",
              "\n",
              "       Competitiveness  OperatingRisk       Class  \n",
              "count       250.000000      250.00000  250.000000  \n",
              "mean         -0.048000       -0.14000    0.428000  \n",
              "std           0.881364        0.86915    0.495781  \n",
              "min          -1.000000       -1.00000    0.000000  \n",
              "25%          -1.000000       -1.00000    0.000000  \n",
              "50%           0.000000        0.00000    0.000000  \n",
              "75%           1.000000        1.00000    1.000000  \n",
              "max           1.000000        1.00000    1.000000  "
            ]
          },
          "execution_count": 12,
          "metadata": {},
          "output_type": "execute_result"
        }
      ],
      "source": [
        "df_5Int.describe()"
      ]
    },
    {
      "cell_type": "code",
      "execution_count": 13,
      "metadata": {},
      "outputs": [
        {
          "data": {
            "text/plain": [
              "0    143\n",
              "1    107\n",
              "Name: Class, dtype: int64"
            ]
          },
          "execution_count": 13,
          "metadata": {},
          "output_type": "execute_result"
        }
      ],
      "source": [
        "df_5Int['Class'].value_counts()"
      ]
    },
    {
      "cell_type": "markdown",
      "metadata": {},
      "source": [
        "Dentro del análisis realizado encontramos un dataset sin problema de balanceo de clases dado que la clase positiva (en bancarrota) representa un 42.8% y la clase negativa (no en bancarrota) el 57.2%. Por ese motivo no es necesario realizar algun acondicionamiento del dataset para balancear clases."
      ]
    },
    {
      "cell_type": "markdown",
      "metadata": {},
      "source": [
        "#### Analiza las implicaciones que conllevan los FN y FP\n",
        "Para este dataset es importante discrimintar los falsos negativos (FN) ya que si esta información es la entrada para autorizar algun tipo de herramienta financiera la perdida seria cuantiosa, en manera similiar a los ejercicios propuestos en clase, como el data set de tarjeta de credito, para las cuestiones financieras tiene mayor impacto los FN.\n",
        "Por otra parte, los FP, simplemente se perderían algunos clientes pero el riesgo de perdidas es menor."
      ]
    },
    {
      "cell_type": "markdown",
      "metadata": {},
      "source": [
        "## Decide y justifica la métrica a utilizar\n",
        "Para el uso de este dataset, el costo de los FN es más crítico por lo que la métrica más adecuada para calificar el modelo debe considerar el FN. \n",
        "\n",
        "La métrica recomendada que se usa para evaluar las prediciones Negativas es Recall. \n",
        "\n",
        "Recall = ( TP / TP + FN )\n",
        "\n",
        "También para tener un balance, la metrica que podría considerarse es la función F1, definida como:\n",
        "\n",
        "F1 = 2 * ((recall * precision)/(recall + precision))"
      ]
    }
  ],
  "metadata": {
    "colab": {
      "include_colab_link": true,
      "provenance": []
    },
    "kernelspec": {
      "display_name": "Python 3.7.3 64-bit",
      "language": "python",
      "name": "python3"
    },
    "language_info": {
      "codemirror_mode": {
        "name": "ipython",
        "version": 3
      },
      "file_extension": ".py",
      "mimetype": "text/x-python",
      "name": "python",
      "nbconvert_exporter": "python",
      "pygments_lexer": "ipython3",
      "version": "3.7.3"
    },
    "vscode": {
      "interpreter": {
        "hash": "31f2aee4e71d21fbe5cf8b01ff0e069b9275f58929596ceb00d14d90e3e16cd6"
      }
    }
  },
  "nbformat": 4,
  "nbformat_minor": 0
}
