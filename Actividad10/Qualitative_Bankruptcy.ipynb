{
 "cells": [
  {
   "cell_type": "markdown",
   "metadata": {
    "id": "8dCSavbybiTF"
   },
   "source": [
    "# **Ejercicio 5: Qualitative_Bankruptcy Data Set:**\n",
    "### https://archive.ics.uci.edu/ml/datasets/Qualitative_Bankruptcy"
   ]
  },
  {
   "cell_type": "markdown",
   "metadata": {
    "id": "QcY4Notlb5mz"
   },
   "source": [
    "### **a. Describe el problema y el objetivo que se busca**"
   ]
  },
  {
   "cell_type": "markdown",
   "metadata": {
    "id": "42jiufzRcRr5"
   },
   "source": [
    "Se presenta un problema de clasificación con el uso de 6 parametros recobrados de un análisis de expertos para determinar el estrato donde clasificar un grupo particular de usuarios determinando si estan o no en bancarrota.\n",
    "\n",
    "Los atributos son categóricos y tienen 3 posibles valores:\n",
    "   P-Positivo\n",
    "   A-Average (Promedio)\n",
    "   N-Negativo\n",
    "   \n",
    "La clasificación final es binaria, con 2 posibles valores:\n",
    "   B-Bankrupt\n",
    "   NB-No Bankrupt\n",
    "\n",
    "Entre los posibles usos de este dataset esta orientado principalmente a autorizaciones de herramientas financieras, como oportunidades de inversión, creditos, hipotecas, etc.\n"
   ]
  },
  {
   "cell_type": "markdown",
   "metadata": {
    "id": "pZI6zIIcb6B4"
   },
   "source": [
    "### **b. Justifica si el problema requiere técnicas de balanceo de clases**\n",
    "\n"
   ]
  },
  {
   "cell_type": "code",
   "execution_count": 1,
   "metadata": {
    "colab": {
     "base_uri": "https://localhost:8080/",
     "height": 206
    },
    "id": "LyVMlxjGbdGz",
    "outputId": "82843b93-9712-446d-f993-de6c8f1d197b"
   },
   "outputs": [
    {
     "data": {
      "text/html": [
       "<div>\n",
       "<style scoped>\n",
       "    .dataframe tbody tr th:only-of-type {\n",
       "        vertical-align: middle;\n",
       "    }\n",
       "\n",
       "    .dataframe tbody tr th {\n",
       "        vertical-align: top;\n",
       "    }\n",
       "\n",
       "    .dataframe thead th {\n",
       "        text-align: right;\n",
       "    }\n",
       "</style>\n",
       "<table border=\"1\" class=\"dataframe\">\n",
       "  <thead>\n",
       "    <tr style=\"text-align: right;\">\n",
       "      <th></th>\n",
       "      <th>IndustrialRisk</th>\n",
       "      <th>ManagementRisk</th>\n",
       "      <th>FinancialFlexibility</th>\n",
       "      <th>Credibility</th>\n",
       "      <th>Competitiveness</th>\n",
       "      <th>OperatingRisk</th>\n",
       "      <th>Class</th>\n",
       "    </tr>\n",
       "  </thead>\n",
       "  <tbody>\n",
       "    <tr>\n",
       "      <th>1</th>\n",
       "      <td>P</td>\n",
       "      <td>P</td>\n",
       "      <td>A</td>\n",
       "      <td>A</td>\n",
       "      <td>A</td>\n",
       "      <td>P</td>\n",
       "      <td>NB</td>\n",
       "    </tr>\n",
       "    <tr>\n",
       "      <th>2</th>\n",
       "      <td>N</td>\n",
       "      <td>N</td>\n",
       "      <td>A</td>\n",
       "      <td>A</td>\n",
       "      <td>A</td>\n",
       "      <td>N</td>\n",
       "      <td>NB</td>\n",
       "    </tr>\n",
       "    <tr>\n",
       "      <th>3</th>\n",
       "      <td>A</td>\n",
       "      <td>A</td>\n",
       "      <td>A</td>\n",
       "      <td>A</td>\n",
       "      <td>A</td>\n",
       "      <td>A</td>\n",
       "      <td>NB</td>\n",
       "    </tr>\n",
       "    <tr>\n",
       "      <th>4</th>\n",
       "      <td>P</td>\n",
       "      <td>P</td>\n",
       "      <td>P</td>\n",
       "      <td>P</td>\n",
       "      <td>P</td>\n",
       "      <td>P</td>\n",
       "      <td>NB</td>\n",
       "    </tr>\n",
       "    <tr>\n",
       "      <th>5</th>\n",
       "      <td>N</td>\n",
       "      <td>N</td>\n",
       "      <td>P</td>\n",
       "      <td>P</td>\n",
       "      <td>P</td>\n",
       "      <td>N</td>\n",
       "      <td>NB</td>\n",
       "    </tr>\n",
       "  </tbody>\n",
       "</table>\n",
       "</div>"
      ],
      "text/plain": [
       "  IndustrialRisk ManagementRisk FinancialFlexibility Credibility  \\\n",
       "1              P              P                    A           A   \n",
       "2              N              N                    A           A   \n",
       "3              A              A                    A           A   \n",
       "4              P              P                    P           P   \n",
       "5              N              N                    P           P   \n",
       "\n",
       "  Competitiveness OperatingRisk Class  \n",
       "1               A             P    NB  \n",
       "2               A             N    NB  \n",
       "3               A             A    NB  \n",
       "4               P             P    NB  \n",
       "5               P             N    NB  "
      ]
     },
     "execution_count": 1,
     "metadata": {},
     "output_type": "execute_result"
    }
   ],
   "source": [
    "import pandas as pd\n",
    "import seaborn as sns\n",
    "\n",
    "path_5 = 'C:\\TMP\\Qualitative_Bankruptcy_DS.csv'\n",
    "headers = [\"IndustrialRisk\",\"ManagementRisk\",\"FinancialFlexibility\",\"Credibility\",\"Competitiveness\",\"OperatingRisk\",\"Class\"]\n",
    "\n",
    "df_5= pd.read_csv(path_5, names=headers, sep= ',')\n",
    "df_5.drop(index=df_5.index[0], \n",
    "        axis=0, \n",
    "        inplace=True)\n",
    "df_5.head()"
   ]
  },
  {
   "cell_type": "code",
   "execution_count": 2,
   "metadata": {
    "colab": {
     "base_uri": "https://localhost:8080/",
     "height": 267
    },
    "id": "lo3-fbdzkbhR",
    "outputId": "97f43316-1e72-4a5d-b7af-ac5f0aa91eff"
   },
   "outputs": [
    {
     "data": {
      "text/plain": [
       "(250, 7)"
      ]
     },
     "execution_count": 2,
     "metadata": {},
     "output_type": "execute_result"
    }
   ],
   "source": [
    "df_5.shape"
   ]
  },
  {
   "cell_type": "code",
   "execution_count": 3,
   "metadata": {},
   "outputs": [
    {
     "data": {
      "text/plain": [
       "IndustrialRisk          object\n",
       "ManagementRisk          object\n",
       "FinancialFlexibility    object\n",
       "Credibility             object\n",
       "Competitiveness         object\n",
       "OperatingRisk           object\n",
       "Class                   object\n",
       "dtype: object"
      ]
     },
     "execution_count": 3,
     "metadata": {},
     "output_type": "execute_result"
    }
   ],
   "source": [
    "df_5.dtypes"
   ]
  },
  {
   "cell_type": "code",
   "execution_count": 4,
   "metadata": {
    "colab": {
     "base_uri": "https://localhost:8080/"
    },
    "id": "KXD6FjEkrYQK",
    "outputId": "11258da5-8b75-4b78-9fd9-abf7b5d6bbb6"
   },
   "outputs": [
    {
     "data": {
      "text/html": [
       "<div>\n",
       "<style scoped>\n",
       "    .dataframe tbody tr th:only-of-type {\n",
       "        vertical-align: middle;\n",
       "    }\n",
       "\n",
       "    .dataframe tbody tr th {\n",
       "        vertical-align: top;\n",
       "    }\n",
       "\n",
       "    .dataframe thead th {\n",
       "        text-align: right;\n",
       "    }\n",
       "</style>\n",
       "<table border=\"1\" class=\"dataframe\">\n",
       "  <thead>\n",
       "    <tr style=\"text-align: right;\">\n",
       "      <th></th>\n",
       "      <th>IndustrialRisk</th>\n",
       "      <th>ManagementRisk</th>\n",
       "      <th>FinancialFlexibility</th>\n",
       "      <th>Credibility</th>\n",
       "      <th>Competitiveness</th>\n",
       "      <th>OperatingRisk</th>\n",
       "      <th>Class</th>\n",
       "    </tr>\n",
       "  </thead>\n",
       "  <tbody>\n",
       "    <tr>\n",
       "      <th>count</th>\n",
       "      <td>250</td>\n",
       "      <td>250</td>\n",
       "      <td>250</td>\n",
       "      <td>250</td>\n",
       "      <td>250</td>\n",
       "      <td>250</td>\n",
       "      <td>250</td>\n",
       "    </tr>\n",
       "    <tr>\n",
       "      <th>unique</th>\n",
       "      <td>3</td>\n",
       "      <td>3</td>\n",
       "      <td>3</td>\n",
       "      <td>3</td>\n",
       "      <td>3</td>\n",
       "      <td>3</td>\n",
       "      <td>2</td>\n",
       "    </tr>\n",
       "    <tr>\n",
       "      <th>top</th>\n",
       "      <td>N</td>\n",
       "      <td>N</td>\n",
       "      <td>N</td>\n",
       "      <td>N</td>\n",
       "      <td>N</td>\n",
       "      <td>N</td>\n",
       "      <td>NB</td>\n",
       "    </tr>\n",
       "    <tr>\n",
       "      <th>freq</th>\n",
       "      <td>89</td>\n",
       "      <td>119</td>\n",
       "      <td>119</td>\n",
       "      <td>94</td>\n",
       "      <td>103</td>\n",
       "      <td>114</td>\n",
       "      <td>143</td>\n",
       "    </tr>\n",
       "  </tbody>\n",
       "</table>\n",
       "</div>"
      ],
      "text/plain": [
       "       IndustrialRisk ManagementRisk FinancialFlexibility Credibility  \\\n",
       "count             250            250                  250         250   \n",
       "unique              3              3                    3           3   \n",
       "top                 N              N                    N           N   \n",
       "freq               89            119                  119          94   \n",
       "\n",
       "       Competitiveness OperatingRisk Class  \n",
       "count              250           250   250  \n",
       "unique               3             3     2  \n",
       "top                  N             N    NB  \n",
       "freq               103           114   143  "
      ]
     },
     "execution_count": 4,
     "metadata": {},
     "output_type": "execute_result"
    }
   ],
   "source": [
    "df_5.describe()"
   ]
  },
  {
   "cell_type": "code",
   "execution_count": 5,
   "metadata": {
    "colab": {
     "base_uri": "https://localhost:8080/"
    },
    "id": "iX5USwLBrdar",
    "outputId": "e240b698-4986-4561-c9f4-1163971527e6"
   },
   "outputs": [
    {
     "name": "stdout",
     "output_type": "stream",
     "text": [
      "<class 'pandas.core.frame.DataFrame'>\n",
      "Index: 250 entries, 1 to 250\n",
      "Data columns (total 7 columns):\n",
      " #   Column                Non-Null Count  Dtype \n",
      "---  ------                --------------  ----- \n",
      " 0   IndustrialRisk        250 non-null    object\n",
      " 1   ManagementRisk        250 non-null    object\n",
      " 2   FinancialFlexibility  250 non-null    object\n",
      " 3   Credibility           250 non-null    object\n",
      " 4   Competitiveness       250 non-null    object\n",
      " 5   OperatingRisk         250 non-null    object\n",
      " 6   Class                 250 non-null    object\n",
      "dtypes: object(7)\n",
      "memory usage: 15.6+ KB\n"
     ]
    }
   ],
   "source": [
    "df_5.info()"
   ]
  },
  {
   "cell_type": "markdown",
   "metadata": {},
   "source": [
    "Hacemos el tratamiento de los datos a valores numericos para el clasificador.\n",
    "La etiqueta POSITIVO (P), PROMEDIO (A), NEGATIVO (N) cambian a [1,0,-1]."
   ]
  },
  {
   "cell_type": "code",
   "execution_count": 6,
   "metadata": {},
   "outputs": [],
   "source": [
    "df_5Int = df_5"
   ]
  },
  {
   "cell_type": "code",
   "execution_count": 7,
   "metadata": {},
   "outputs": [],
   "source": [
    " df_5Int = df_5Int.replace(\n",
    "     to_replace=['P','A','N'], \n",
    "     value=[1, 0,-1])"
   ]
  },
  {
   "cell_type": "markdown",
   "metadata": {},
   "source": [
    "La etiqueta de las clases tambien se cambian\n",
    "Bankruptcy (B), Non-Bankruptcy (NB) cambian a [1,0]"
   ]
  },
  {
   "cell_type": "code",
   "execution_count": 8,
   "metadata": {},
   "outputs": [],
   "source": [
    " df_5Int['Class'] = df_5Int['Class'].replace(\n",
    "     to_replace=['NB','B'], \n",
    "     value=[0, 1])"
   ]
  },
  {
   "cell_type": "code",
   "execution_count": 9,
   "metadata": {},
   "outputs": [
    {
     "data": {
      "text/html": [
       "<div>\n",
       "<style scoped>\n",
       "    .dataframe tbody tr th:only-of-type {\n",
       "        vertical-align: middle;\n",
       "    }\n",
       "\n",
       "    .dataframe tbody tr th {\n",
       "        vertical-align: top;\n",
       "    }\n",
       "\n",
       "    .dataframe thead th {\n",
       "        text-align: right;\n",
       "    }\n",
       "</style>\n",
       "<table border=\"1\" class=\"dataframe\">\n",
       "  <thead>\n",
       "    <tr style=\"text-align: right;\">\n",
       "      <th></th>\n",
       "      <th>IndustrialRisk</th>\n",
       "      <th>ManagementRisk</th>\n",
       "      <th>FinancialFlexibility</th>\n",
       "      <th>Credibility</th>\n",
       "      <th>Competitiveness</th>\n",
       "      <th>OperatingRisk</th>\n",
       "      <th>Class</th>\n",
       "    </tr>\n",
       "  </thead>\n",
       "  <tbody>\n",
       "    <tr>\n",
       "      <th>1</th>\n",
       "      <td>1</td>\n",
       "      <td>1</td>\n",
       "      <td>0</td>\n",
       "      <td>0</td>\n",
       "      <td>0</td>\n",
       "      <td>1</td>\n",
       "      <td>0</td>\n",
       "    </tr>\n",
       "    <tr>\n",
       "      <th>2</th>\n",
       "      <td>-1</td>\n",
       "      <td>-1</td>\n",
       "      <td>0</td>\n",
       "      <td>0</td>\n",
       "      <td>0</td>\n",
       "      <td>-1</td>\n",
       "      <td>0</td>\n",
       "    </tr>\n",
       "    <tr>\n",
       "      <th>3</th>\n",
       "      <td>0</td>\n",
       "      <td>0</td>\n",
       "      <td>0</td>\n",
       "      <td>0</td>\n",
       "      <td>0</td>\n",
       "      <td>0</td>\n",
       "      <td>0</td>\n",
       "    </tr>\n",
       "    <tr>\n",
       "      <th>4</th>\n",
       "      <td>1</td>\n",
       "      <td>1</td>\n",
       "      <td>1</td>\n",
       "      <td>1</td>\n",
       "      <td>1</td>\n",
       "      <td>1</td>\n",
       "      <td>0</td>\n",
       "    </tr>\n",
       "    <tr>\n",
       "      <th>5</th>\n",
       "      <td>-1</td>\n",
       "      <td>-1</td>\n",
       "      <td>1</td>\n",
       "      <td>1</td>\n",
       "      <td>1</td>\n",
       "      <td>-1</td>\n",
       "      <td>0</td>\n",
       "    </tr>\n",
       "  </tbody>\n",
       "</table>\n",
       "</div>"
      ],
      "text/plain": [
       "   IndustrialRisk  ManagementRisk  FinancialFlexibility  Credibility  \\\n",
       "1               1               1                     0            0   \n",
       "2              -1              -1                     0            0   \n",
       "3               0               0                     0            0   \n",
       "4               1               1                     1            1   \n",
       "5              -1              -1                     1            1   \n",
       "\n",
       "   Competitiveness  OperatingRisk  Class  \n",
       "1                0              1      0  \n",
       "2                0             -1      0  \n",
       "3                0              0      0  \n",
       "4                1              1      0  \n",
       "5                1             -1      0  "
      ]
     },
     "execution_count": 9,
     "metadata": {},
     "output_type": "execute_result"
    }
   ],
   "source": [
    "df_5Int.head()"
   ]
  },
  {
   "cell_type": "code",
   "execution_count": 10,
   "metadata": {},
   "outputs": [
    {
     "data": {
      "text/html": [
       "<div>\n",
       "<style scoped>\n",
       "    .dataframe tbody tr th:only-of-type {\n",
       "        vertical-align: middle;\n",
       "    }\n",
       "\n",
       "    .dataframe tbody tr th {\n",
       "        vertical-align: top;\n",
       "    }\n",
       "\n",
       "    .dataframe thead th {\n",
       "        text-align: right;\n",
       "    }\n",
       "</style>\n",
       "<table border=\"1\" class=\"dataframe\">\n",
       "  <thead>\n",
       "    <tr style=\"text-align: right;\">\n",
       "      <th></th>\n",
       "      <th>IndustrialRisk</th>\n",
       "      <th>ManagementRisk</th>\n",
       "      <th>FinancialFlexibility</th>\n",
       "      <th>Credibility</th>\n",
       "      <th>Competitiveness</th>\n",
       "      <th>OperatingRisk</th>\n",
       "      <th>Class</th>\n",
       "    </tr>\n",
       "  </thead>\n",
       "  <tbody>\n",
       "    <tr>\n",
       "      <th>246</th>\n",
       "      <td>-1</td>\n",
       "      <td>-1</td>\n",
       "      <td>0</td>\n",
       "      <td>-1</td>\n",
       "      <td>-1</td>\n",
       "      <td>-1</td>\n",
       "      <td>1</td>\n",
       "    </tr>\n",
       "    <tr>\n",
       "      <th>247</th>\n",
       "      <td>1</td>\n",
       "      <td>-1</td>\n",
       "      <td>-1</td>\n",
       "      <td>-1</td>\n",
       "      <td>-1</td>\n",
       "      <td>-1</td>\n",
       "      <td>1</td>\n",
       "    </tr>\n",
       "    <tr>\n",
       "      <th>248</th>\n",
       "      <td>0</td>\n",
       "      <td>-1</td>\n",
       "      <td>-1</td>\n",
       "      <td>-1</td>\n",
       "      <td>-1</td>\n",
       "      <td>-1</td>\n",
       "      <td>1</td>\n",
       "    </tr>\n",
       "    <tr>\n",
       "      <th>249</th>\n",
       "      <td>-1</td>\n",
       "      <td>-1</td>\n",
       "      <td>-1</td>\n",
       "      <td>-1</td>\n",
       "      <td>-1</td>\n",
       "      <td>-1</td>\n",
       "      <td>1</td>\n",
       "    </tr>\n",
       "    <tr>\n",
       "      <th>250</th>\n",
       "      <td>1</td>\n",
       "      <td>-1</td>\n",
       "      <td>-1</td>\n",
       "      <td>-1</td>\n",
       "      <td>0</td>\n",
       "      <td>0</td>\n",
       "      <td>1</td>\n",
       "    </tr>\n",
       "  </tbody>\n",
       "</table>\n",
       "</div>"
      ],
      "text/plain": [
       "     IndustrialRisk  ManagementRisk  FinancialFlexibility  Credibility  \\\n",
       "246              -1              -1                     0           -1   \n",
       "247               1              -1                    -1           -1   \n",
       "248               0              -1                    -1           -1   \n",
       "249              -1              -1                    -1           -1   \n",
       "250               1              -1                    -1           -1   \n",
       "\n",
       "     Competitiveness  OperatingRisk  Class  \n",
       "246               -1             -1      1  \n",
       "247               -1             -1      1  \n",
       "248               -1             -1      1  \n",
       "249               -1             -1      1  \n",
       "250                0              0      1  "
      ]
     },
     "execution_count": 10,
     "metadata": {},
     "output_type": "execute_result"
    }
   ],
   "source": [
    "df_5Int.tail()"
   ]
  },
  {
   "cell_type": "code",
   "execution_count": 11,
   "metadata": {},
   "outputs": [
    {
     "data": {
      "text/html": [
       "<div>\n",
       "<style scoped>\n",
       "    .dataframe tbody tr th:only-of-type {\n",
       "        vertical-align: middle;\n",
       "    }\n",
       "\n",
       "    .dataframe tbody tr th {\n",
       "        vertical-align: top;\n",
       "    }\n",
       "\n",
       "    .dataframe thead th {\n",
       "        text-align: right;\n",
       "    }\n",
       "</style>\n",
       "<table border=\"1\" class=\"dataframe\">\n",
       "  <thead>\n",
       "    <tr style=\"text-align: right;\">\n",
       "      <th></th>\n",
       "      <th>IndustrialRisk</th>\n",
       "      <th>ManagementRisk</th>\n",
       "      <th>FinancialFlexibility</th>\n",
       "      <th>Credibility</th>\n",
       "      <th>Competitiveness</th>\n",
       "      <th>OperatingRisk</th>\n",
       "      <th>Class</th>\n",
       "    </tr>\n",
       "  </thead>\n",
       "  <tbody>\n",
       "    <tr>\n",
       "      <th>count</th>\n",
       "      <td>250.000000</td>\n",
       "      <td>250.00000</td>\n",
       "      <td>250.000000</td>\n",
       "      <td>250.000000</td>\n",
       "      <td>250.000000</td>\n",
       "      <td>250.00000</td>\n",
       "      <td>250.000000</td>\n",
       "    </tr>\n",
       "    <tr>\n",
       "      <th>mean</th>\n",
       "      <td>-0.036000</td>\n",
       "      <td>-0.22800</td>\n",
       "      <td>-0.248000</td>\n",
       "      <td>-0.060000</td>\n",
       "      <td>-0.048000</td>\n",
       "      <td>-0.14000</td>\n",
       "      <td>0.428000</td>\n",
       "    </tr>\n",
       "    <tr>\n",
       "      <th>std</th>\n",
       "      <td>0.823051</td>\n",
       "      <td>0.82141</td>\n",
       "      <td>0.803166</td>\n",
       "      <td>0.831363</td>\n",
       "      <td>0.881364</td>\n",
       "      <td>0.86915</td>\n",
       "      <td>0.495781</td>\n",
       "    </tr>\n",
       "    <tr>\n",
       "      <th>min</th>\n",
       "      <td>-1.000000</td>\n",
       "      <td>-1.00000</td>\n",
       "      <td>-1.000000</td>\n",
       "      <td>-1.000000</td>\n",
       "      <td>-1.000000</td>\n",
       "      <td>-1.00000</td>\n",
       "      <td>0.000000</td>\n",
       "    </tr>\n",
       "    <tr>\n",
       "      <th>25%</th>\n",
       "      <td>-1.000000</td>\n",
       "      <td>-1.00000</td>\n",
       "      <td>-1.000000</td>\n",
       "      <td>-1.000000</td>\n",
       "      <td>-1.000000</td>\n",
       "      <td>-1.00000</td>\n",
       "      <td>0.000000</td>\n",
       "    </tr>\n",
       "    <tr>\n",
       "      <th>50%</th>\n",
       "      <td>0.000000</td>\n",
       "      <td>0.00000</td>\n",
       "      <td>0.000000</td>\n",
       "      <td>0.000000</td>\n",
       "      <td>0.000000</td>\n",
       "      <td>0.00000</td>\n",
       "      <td>0.000000</td>\n",
       "    </tr>\n",
       "    <tr>\n",
       "      <th>75%</th>\n",
       "      <td>1.000000</td>\n",
       "      <td>0.00000</td>\n",
       "      <td>0.000000</td>\n",
       "      <td>1.000000</td>\n",
       "      <td>1.000000</td>\n",
       "      <td>1.00000</td>\n",
       "      <td>1.000000</td>\n",
       "    </tr>\n",
       "    <tr>\n",
       "      <th>max</th>\n",
       "      <td>1.000000</td>\n",
       "      <td>1.00000</td>\n",
       "      <td>1.000000</td>\n",
       "      <td>1.000000</td>\n",
       "      <td>1.000000</td>\n",
       "      <td>1.00000</td>\n",
       "      <td>1.000000</td>\n",
       "    </tr>\n",
       "  </tbody>\n",
       "</table>\n",
       "</div>"
      ],
      "text/plain": [
       "       IndustrialRisk  ManagementRisk  FinancialFlexibility  Credibility  \\\n",
       "count      250.000000       250.00000            250.000000   250.000000   \n",
       "mean        -0.036000        -0.22800             -0.248000    -0.060000   \n",
       "std          0.823051         0.82141              0.803166     0.831363   \n",
       "min         -1.000000        -1.00000             -1.000000    -1.000000   \n",
       "25%         -1.000000        -1.00000             -1.000000    -1.000000   \n",
       "50%          0.000000         0.00000              0.000000     0.000000   \n",
       "75%          1.000000         0.00000              0.000000     1.000000   \n",
       "max          1.000000         1.00000              1.000000     1.000000   \n",
       "\n",
       "       Competitiveness  OperatingRisk       Class  \n",
       "count       250.000000      250.00000  250.000000  \n",
       "mean         -0.048000       -0.14000    0.428000  \n",
       "std           0.881364        0.86915    0.495781  \n",
       "min          -1.000000       -1.00000    0.000000  \n",
       "25%          -1.000000       -1.00000    0.000000  \n",
       "50%           0.000000        0.00000    0.000000  \n",
       "75%           1.000000        1.00000    1.000000  \n",
       "max           1.000000        1.00000    1.000000  "
      ]
     },
     "execution_count": 11,
     "metadata": {},
     "output_type": "execute_result"
    }
   ],
   "source": [
    "df_5Int.describe()"
   ]
  },
  {
   "cell_type": "code",
   "execution_count": 12,
   "metadata": {
    "colab": {
     "base_uri": "https://localhost:8080/"
    },
    "id": "f6rABqbqyUo5",
    "outputId": "a765282f-f164-4182-cda0-43b700f47843"
   },
   "outputs": [
    {
     "data": {
      "text/plain": [
       "0    143\n",
       "1    107\n",
       "Name: Class, dtype: int64"
      ]
     },
     "execution_count": 12,
     "metadata": {},
     "output_type": "execute_result"
    }
   ],
   "source": [
    "df_5Int['Class'].value_counts()"
   ]
  },
  {
   "cell_type": "markdown",
   "metadata": {
    "id": "wt6FcvMApUp2"
   },
   "source": [
    "Dentro del análisis realizado encontramos un dataset sin problema de balanceo de clases dado que la clase positiva (en bancarrota) representa un 42.8% y la clase negativa (no en bancarrota) el 57.2%. Por ese motivo no es necesario realizar algun acondicionamiento del dataset para balancear clases."
   ]
  },
  {
   "cell_type": "markdown",
   "metadata": {
    "id": "eFtPb1fppXR-"
   },
   "source": [
    "## **Analiza las implicaciones que conllevan los FN y FP**"
   ]
  },
  {
   "cell_type": "markdown",
   "metadata": {
    "id": "Dx8X9jiNptKZ"
   },
   "source": [
    "Para este dataset es importante discrimintar los falsos negativos (FN) ya que si esta información es la entrada para autorizar algun tipo de herramienta financiera la perdida seria cuantiosa, en manera similiar a los ejercicios propuestos en clase, como el data set de tarjeta de credito, para las cuestiones financieras tiene mayor impacto los FN.\n",
    "Por otra parte, los FP, simplemente se perderían algunos clientes pero el riesgo de perdidas es menor."
   ]
  },
  {
   "cell_type": "markdown",
   "metadata": {
    "id": "TP2H7WRZpxUZ"
   },
   "source": [
    "## **Decide y justifica la métrica a utilizar**"
   ]
  },
  {
   "cell_type": "markdown",
   "metadata": {
    "id": "9ZTvIf27qIaD"
   },
   "source": [
    "Para el uso de este dataset, el costo de los FN es más crítico por lo que la métrica más adecuada para calificar el modelo debe considerar el FN. \n",
    "\n",
    "La métrica recomendada que se usa para evaluar las prediciones Negativas es Recall. \n",
    "\n",
    "Recall = ( TP / TP + FN )\n",
    "\n",
    "También para tener un balance, la metrica que podría considerarse es la función F1, definida como:\n",
    "\n",
    "F1 = 2 * ((recall * precision)/(recall + precision))"
   ]
  }
 ],
 "metadata": {
  "colab": {
   "collapsed_sections": [],
   "provenance": []
  },
  "kernelspec": {
   "display_name": "Python 3 (ipykernel)",
   "language": "python",
   "name": "python3"
  },
  "language_info": {
   "codemirror_mode": {
    "name": "ipython",
    "version": 3
   },
   "file_extension": ".py",
   "mimetype": "text/x-python",
   "name": "python",
   "nbconvert_exporter": "python",
   "pygments_lexer": "ipython3",
   "version": "3.9.13"
  }
 },
 "nbformat": 4,
 "nbformat_minor": 1
}
