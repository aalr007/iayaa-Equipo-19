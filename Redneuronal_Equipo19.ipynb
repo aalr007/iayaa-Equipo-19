{
 "cells": [
  {
   "cell_type": "markdown",
   "metadata": {
    "id": "VFj0sSM06dYa"
   },
   "source": [
    "#**Maestría en Inteligencia Artificial Aplicada**\n",
    "##**Curso: Inteligencia Artificial y Aprendizaje Automático**\n",
    "###Tecnológico de Monterrey\n",
    "###Prof Luis Eduardo Falcón Morales\n",
    "\n",
    "## **Adtividad de la Semana 7**\n",
    "###**Red Neuronal Artificial - Perceptrón Multicapa : Multilayer Perceptrón (MLP)**\n"
   ]
  },
  {
   "cell_type": "markdown",
   "metadata": {
    "id": "Qgrvy0RGB9XI"
   },
   "source": [
    "**Nombres y matrículas de los integrantes del equipo:**\n",
    "\n",
    "* Aurelio Antonio Lozano Rabago A01081266\n",
    "* Josias Ruiz Peña A00968460\n",
    "* David González A01794025\n",
    "* Jerson David Pérez Contreras A01793810\n",
    "* Jose Alberto Mtanous Treviño A00169781\n"
   ]
  },
  {
   "cell_type": "markdown",
   "metadata": {
    "id": "FrJ2ahMODVj1"
   },
   "source": [
    "En cada sección deberás incluir todas las líneas de código necesarias para responder a cada uno de los ejercicios."
   ]
  },
  {
   "cell_type": "code",
   "execution_count": 1,
   "metadata": {
    "id": "exXsscs-Dh-2"
   },
   "outputs": [],
   "source": [
    "# Incluye aquí todos módulos, librerías y paquetes que requieras.\n",
    "import os\n",
    "import numpy as np\n",
    "import pandas as pd\n",
    "import seaborn as sns \n",
    "import requests, zipfile\n",
    "from io import BytesIO\n",
    "\n",
    "from sklearn.model_selection import train_test_split \n",
    "\n",
    "from sklearn.metrics import confusion_matrix,classification_report, make_scorer\n",
    "\n",
    "from sklearn.pipeline import Pipeline\n",
    "from sklearn.preprocessing import MinMaxScaler, OneHotEncoder, StandardScaler\n",
    "from sklearn.preprocessing import FunctionTransformer\n",
    "from sklearn.impute import SimpleImputer\n",
    "from sklearn.preprocessing import OneHotEncoder\n",
    "from sklearn.compose import ColumnTransformer\n",
    "\n",
    "from sklearn.dummy import DummyRegressor\n",
    "\n",
    "from sklearn.linear_model import LinearRegression\n",
    "from sklearn.ensemble import RandomForestRegressor\n",
    "from sklearn.neural_network import MLPRegressor\n",
    "\n",
    "from sklearn.model_selection import  cross_validate,  RepeatedKFold\n",
    "from sklearn.model_selection import GridSearchCV\n",
    "\n",
    "from sklearn.pipeline import make_pipeline\n",
    "\n",
    "from sklearn.inspection import permutation_importance\n"
   ]
  },
  {
   "cell_type": "markdown",
   "metadata": {
    "id": "X25brD-gQdZM"
   },
   "source": [
    "#**Ejercicio-1.** "
   ]
  },
  {
   "cell_type": "code",
   "execution_count": 2,
   "metadata": {
    "colab": {
     "base_uri": "https://localhost:8080/",
     "height": 486
    },
    "id": "3nU2GuWYCy6C",
    "outputId": "f37bf768-b678-4fe6-b893-32ac0b19bea3"
   },
   "outputs": [
    {
     "data": {
      "text/html": [
       "<div>\n",
       "<style scoped>\n",
       "    .dataframe tbody tr th:only-of-type {\n",
       "        vertical-align: middle;\n",
       "    }\n",
       "\n",
       "    .dataframe tbody tr th {\n",
       "        vertical-align: top;\n",
       "    }\n",
       "\n",
       "    .dataframe thead th {\n",
       "        text-align: right;\n",
       "    }\n",
       "</style>\n",
       "<table border=\"1\" class=\"dataframe\">\n",
       "  <thead>\n",
       "    <tr style=\"text-align: right;\">\n",
       "      <th></th>\n",
       "      <th>Page total likes</th>\n",
       "      <th>Category</th>\n",
       "      <th>Post Month</th>\n",
       "      <th>Post Weekday</th>\n",
       "      <th>Post Hour</th>\n",
       "      <th>Paid</th>\n",
       "      <th>Lifetime Post Total Reach</th>\n",
       "      <th>Lifetime Post Total Impressions</th>\n",
       "      <th>Lifetime Engaged Users</th>\n",
       "      <th>Lifetime Post Consumers</th>\n",
       "      <th>Lifetime Post Consumptions</th>\n",
       "      <th>Lifetime Post Impressions by people who have liked your Page</th>\n",
       "      <th>Lifetime Post reach by people who like your Page</th>\n",
       "      <th>Lifetime People who have liked your Page and engaged with your post</th>\n",
       "      <th>comment</th>\n",
       "      <th>like</th>\n",
       "      <th>share</th>\n",
       "      <th>Total Interactions</th>\n",
       "    </tr>\n",
       "  </thead>\n",
       "  <tbody>\n",
       "    <tr>\n",
       "      <th>count</th>\n",
       "      <td>500.000000</td>\n",
       "      <td>500.000000</td>\n",
       "      <td>500.000000</td>\n",
       "      <td>500.000000</td>\n",
       "      <td>500.000000</td>\n",
       "      <td>499.000000</td>\n",
       "      <td>500.00000</td>\n",
       "      <td>5.000000e+02</td>\n",
       "      <td>500.000000</td>\n",
       "      <td>500.000000</td>\n",
       "      <td>500.000000</td>\n",
       "      <td>5.000000e+02</td>\n",
       "      <td>500.000000</td>\n",
       "      <td>500.000000</td>\n",
       "      <td>500.00000</td>\n",
       "      <td>499.000000</td>\n",
       "      <td>496.000000</td>\n",
       "      <td>500.000000</td>\n",
       "    </tr>\n",
       "    <tr>\n",
       "      <th>mean</th>\n",
       "      <td>123194.176000</td>\n",
       "      <td>1.880000</td>\n",
       "      <td>7.038000</td>\n",
       "      <td>4.150000</td>\n",
       "      <td>7.840000</td>\n",
       "      <td>0.278557</td>\n",
       "      <td>13903.36000</td>\n",
       "      <td>2.958595e+04</td>\n",
       "      <td>920.344000</td>\n",
       "      <td>798.772000</td>\n",
       "      <td>1415.130000</td>\n",
       "      <td>1.676638e+04</td>\n",
       "      <td>6585.488000</td>\n",
       "      <td>609.986000</td>\n",
       "      <td>7.48200</td>\n",
       "      <td>177.945892</td>\n",
       "      <td>27.266129</td>\n",
       "      <td>212.120000</td>\n",
       "    </tr>\n",
       "    <tr>\n",
       "      <th>std</th>\n",
       "      <td>16272.813214</td>\n",
       "      <td>0.852675</td>\n",
       "      <td>3.307936</td>\n",
       "      <td>2.030701</td>\n",
       "      <td>4.368589</td>\n",
       "      <td>0.448739</td>\n",
       "      <td>22740.78789</td>\n",
       "      <td>7.680325e+04</td>\n",
       "      <td>985.016636</td>\n",
       "      <td>882.505013</td>\n",
       "      <td>2000.594118</td>\n",
       "      <td>5.979102e+04</td>\n",
       "      <td>7682.009405</td>\n",
       "      <td>612.725618</td>\n",
       "      <td>21.18091</td>\n",
       "      <td>323.398742</td>\n",
       "      <td>42.613292</td>\n",
       "      <td>380.233118</td>\n",
       "    </tr>\n",
       "    <tr>\n",
       "      <th>min</th>\n",
       "      <td>81370.000000</td>\n",
       "      <td>1.000000</td>\n",
       "      <td>1.000000</td>\n",
       "      <td>1.000000</td>\n",
       "      <td>1.000000</td>\n",
       "      <td>0.000000</td>\n",
       "      <td>238.00000</td>\n",
       "      <td>5.700000e+02</td>\n",
       "      <td>9.000000</td>\n",
       "      <td>9.000000</td>\n",
       "      <td>9.000000</td>\n",
       "      <td>5.670000e+02</td>\n",
       "      <td>236.000000</td>\n",
       "      <td>9.000000</td>\n",
       "      <td>0.00000</td>\n",
       "      <td>0.000000</td>\n",
       "      <td>0.000000</td>\n",
       "      <td>0.000000</td>\n",
       "    </tr>\n",
       "    <tr>\n",
       "      <th>25%</th>\n",
       "      <td>112676.000000</td>\n",
       "      <td>1.000000</td>\n",
       "      <td>4.000000</td>\n",
       "      <td>2.000000</td>\n",
       "      <td>3.000000</td>\n",
       "      <td>0.000000</td>\n",
       "      <td>3315.00000</td>\n",
       "      <td>5.694750e+03</td>\n",
       "      <td>393.750000</td>\n",
       "      <td>332.500000</td>\n",
       "      <td>509.250000</td>\n",
       "      <td>3.969750e+03</td>\n",
       "      <td>2181.500000</td>\n",
       "      <td>291.000000</td>\n",
       "      <td>1.00000</td>\n",
       "      <td>56.500000</td>\n",
       "      <td>10.000000</td>\n",
       "      <td>71.000000</td>\n",
       "    </tr>\n",
       "    <tr>\n",
       "      <th>50%</th>\n",
       "      <td>129600.000000</td>\n",
       "      <td>2.000000</td>\n",
       "      <td>7.000000</td>\n",
       "      <td>4.000000</td>\n",
       "      <td>9.000000</td>\n",
       "      <td>0.000000</td>\n",
       "      <td>5281.00000</td>\n",
       "      <td>9.051000e+03</td>\n",
       "      <td>625.500000</td>\n",
       "      <td>551.500000</td>\n",
       "      <td>851.000000</td>\n",
       "      <td>6.255500e+03</td>\n",
       "      <td>3417.000000</td>\n",
       "      <td>412.000000</td>\n",
       "      <td>3.00000</td>\n",
       "      <td>101.000000</td>\n",
       "      <td>19.000000</td>\n",
       "      <td>123.500000</td>\n",
       "    </tr>\n",
       "    <tr>\n",
       "      <th>75%</th>\n",
       "      <td>136393.000000</td>\n",
       "      <td>3.000000</td>\n",
       "      <td>10.000000</td>\n",
       "      <td>6.000000</td>\n",
       "      <td>11.000000</td>\n",
       "      <td>1.000000</td>\n",
       "      <td>13168.00000</td>\n",
       "      <td>2.208550e+04</td>\n",
       "      <td>1062.000000</td>\n",
       "      <td>955.500000</td>\n",
       "      <td>1463.000000</td>\n",
       "      <td>1.486050e+04</td>\n",
       "      <td>7989.000000</td>\n",
       "      <td>656.250000</td>\n",
       "      <td>7.00000</td>\n",
       "      <td>187.500000</td>\n",
       "      <td>32.250000</td>\n",
       "      <td>228.500000</td>\n",
       "    </tr>\n",
       "    <tr>\n",
       "      <th>max</th>\n",
       "      <td>139441.000000</td>\n",
       "      <td>3.000000</td>\n",
       "      <td>12.000000</td>\n",
       "      <td>7.000000</td>\n",
       "      <td>23.000000</td>\n",
       "      <td>1.000000</td>\n",
       "      <td>180480.00000</td>\n",
       "      <td>1.110282e+06</td>\n",
       "      <td>11452.000000</td>\n",
       "      <td>11328.000000</td>\n",
       "      <td>19779.000000</td>\n",
       "      <td>1.107833e+06</td>\n",
       "      <td>51456.000000</td>\n",
       "      <td>4376.000000</td>\n",
       "      <td>372.00000</td>\n",
       "      <td>5172.000000</td>\n",
       "      <td>790.000000</td>\n",
       "      <td>6334.000000</td>\n",
       "    </tr>\n",
       "  </tbody>\n",
       "</table>\n",
       "</div>"
      ],
      "text/plain": [
       "       Page total likes    Category  Post Month  Post Weekday   Post Hour  \\\n",
       "count        500.000000  500.000000  500.000000    500.000000  500.000000   \n",
       "mean      123194.176000    1.880000    7.038000      4.150000    7.840000   \n",
       "std        16272.813214    0.852675    3.307936      2.030701    4.368589   \n",
       "min        81370.000000    1.000000    1.000000      1.000000    1.000000   \n",
       "25%       112676.000000    1.000000    4.000000      2.000000    3.000000   \n",
       "50%       129600.000000    2.000000    7.000000      4.000000    9.000000   \n",
       "75%       136393.000000    3.000000   10.000000      6.000000   11.000000   \n",
       "max       139441.000000    3.000000   12.000000      7.000000   23.000000   \n",
       "\n",
       "             Paid  Lifetime Post Total Reach  Lifetime Post Total Impressions  \\\n",
       "count  499.000000                  500.00000                     5.000000e+02   \n",
       "mean     0.278557                13903.36000                     2.958595e+04   \n",
       "std      0.448739                22740.78789                     7.680325e+04   \n",
       "min      0.000000                  238.00000                     5.700000e+02   \n",
       "25%      0.000000                 3315.00000                     5.694750e+03   \n",
       "50%      0.000000                 5281.00000                     9.051000e+03   \n",
       "75%      1.000000                13168.00000                     2.208550e+04   \n",
       "max      1.000000               180480.00000                     1.110282e+06   \n",
       "\n",
       "       Lifetime Engaged Users  Lifetime Post Consumers  \\\n",
       "count              500.000000               500.000000   \n",
       "mean               920.344000               798.772000   \n",
       "std                985.016636               882.505013   \n",
       "min                  9.000000                 9.000000   \n",
       "25%                393.750000               332.500000   \n",
       "50%                625.500000               551.500000   \n",
       "75%               1062.000000               955.500000   \n",
       "max              11452.000000             11328.000000   \n",
       "\n",
       "       Lifetime Post Consumptions  \\\n",
       "count                  500.000000   \n",
       "mean                  1415.130000   \n",
       "std                   2000.594118   \n",
       "min                      9.000000   \n",
       "25%                    509.250000   \n",
       "50%                    851.000000   \n",
       "75%                   1463.000000   \n",
       "max                  19779.000000   \n",
       "\n",
       "       Lifetime Post Impressions by people who have liked your Page  \\\n",
       "count                                       5.000000e+02              \n",
       "mean                                        1.676638e+04              \n",
       "std                                         5.979102e+04              \n",
       "min                                         5.670000e+02              \n",
       "25%                                         3.969750e+03              \n",
       "50%                                         6.255500e+03              \n",
       "75%                                         1.486050e+04              \n",
       "max                                         1.107833e+06              \n",
       "\n",
       "       Lifetime Post reach by people who like your Page  \\\n",
       "count                                        500.000000   \n",
       "mean                                        6585.488000   \n",
       "std                                         7682.009405   \n",
       "min                                          236.000000   \n",
       "25%                                         2181.500000   \n",
       "50%                                         3417.000000   \n",
       "75%                                         7989.000000   \n",
       "max                                        51456.000000   \n",
       "\n",
       "       Lifetime People who have liked your Page and engaged with your post  \\\n",
       "count                                         500.000000                     \n",
       "mean                                          609.986000                     \n",
       "std                                           612.725618                     \n",
       "min                                             9.000000                     \n",
       "25%                                           291.000000                     \n",
       "50%                                           412.000000                     \n",
       "75%                                           656.250000                     \n",
       "max                                          4376.000000                     \n",
       "\n",
       "         comment         like       share  Total Interactions  \n",
       "count  500.00000   499.000000  496.000000          500.000000  \n",
       "mean     7.48200   177.945892   27.266129          212.120000  \n",
       "std     21.18091   323.398742   42.613292          380.233118  \n",
       "min      0.00000     0.000000    0.000000            0.000000  \n",
       "25%      1.00000    56.500000   10.000000           71.000000  \n",
       "50%      3.00000   101.000000   19.000000          123.500000  \n",
       "75%      7.00000   187.500000   32.250000          228.500000  \n",
       "max    372.00000  5172.000000  790.000000         6334.000000  "
      ]
     },
     "execution_count": 2,
     "metadata": {},
     "output_type": "execute_result"
    }
   ],
   "source": [
    "# Cargamos el archivo que está en la siguiente carpeta de Google-Colab:\n",
    "\n",
    "path = 'https://archive.ics.uci.edu/ml/machine-learning-databases/00368/Facebook_metrics.zip'\n",
    "file_name = 'dataset_Facebook.csv'\n",
    "req = requests.get(path)\n",
    "zp = zipfile.ZipFile(BytesIO(req.content))\n",
    "zp.extractall()\n",
    "miDF = pd.read_csv(file_name, sep=';')\n",
    "miDF\n",
    "\n",
    "\n",
    "\n",
    "miDF.describe()"
   ]
  },
  {
   "cell_type": "code",
   "execution_count": 3,
   "metadata": {
    "colab": {
     "base_uri": "https://localhost:8080/",
     "height": 374
    },
    "id": "0ulkqXVGCy97",
    "outputId": "de008286-54f7-475c-b63e-05572877ad0e"
   },
   "outputs": [
    {
     "data": {
      "text/html": [
       "<div>\n",
       "<style scoped>\n",
       "    .dataframe tbody tr th:only-of-type {\n",
       "        vertical-align: middle;\n",
       "    }\n",
       "\n",
       "    .dataframe tbody tr th {\n",
       "        vertical-align: top;\n",
       "    }\n",
       "\n",
       "    .dataframe thead th {\n",
       "        text-align: right;\n",
       "    }\n",
       "</style>\n",
       "<table border=\"1\" class=\"dataframe\">\n",
       "  <thead>\n",
       "    <tr style=\"text-align: right;\">\n",
       "      <th></th>\n",
       "      <th>PageTotalLikes</th>\n",
       "      <th>Type</th>\n",
       "      <th>Category</th>\n",
       "      <th>PostMonth</th>\n",
       "      <th>PostWeekday</th>\n",
       "      <th>PostHour</th>\n",
       "      <th>Paid</th>\n",
       "      <th>Lifetime Post Total Reach</th>\n",
       "      <th>Lifetime Post Total Impressions</th>\n",
       "      <th>Lifetime Engaged Users</th>\n",
       "      <th>Lifetime Post Consumers</th>\n",
       "      <th>Lifetime Post Consumptions</th>\n",
       "      <th>Lifetime Post Impressions by people who have liked your Page</th>\n",
       "      <th>Lifetime Post reach by people who like your Page</th>\n",
       "      <th>LPE</th>\n",
       "      <th>comment</th>\n",
       "      <th>like</th>\n",
       "      <th>share</th>\n",
       "      <th>Total Interactions</th>\n",
       "    </tr>\n",
       "  </thead>\n",
       "  <tbody>\n",
       "    <tr>\n",
       "      <th>0</th>\n",
       "      <td>139441</td>\n",
       "      <td>Photo</td>\n",
       "      <td>2</td>\n",
       "      <td>12</td>\n",
       "      <td>4</td>\n",
       "      <td>3</td>\n",
       "      <td>0.0</td>\n",
       "      <td>2752</td>\n",
       "      <td>5091</td>\n",
       "      <td>178</td>\n",
       "      <td>109</td>\n",
       "      <td>159</td>\n",
       "      <td>3078</td>\n",
       "      <td>1640</td>\n",
       "      <td>119</td>\n",
       "      <td>4</td>\n",
       "      <td>79.0</td>\n",
       "      <td>17.0</td>\n",
       "      <td>100</td>\n",
       "    </tr>\n",
       "    <tr>\n",
       "      <th>1</th>\n",
       "      <td>139441</td>\n",
       "      <td>Status</td>\n",
       "      <td>2</td>\n",
       "      <td>12</td>\n",
       "      <td>3</td>\n",
       "      <td>10</td>\n",
       "      <td>0.0</td>\n",
       "      <td>10460</td>\n",
       "      <td>19057</td>\n",
       "      <td>1457</td>\n",
       "      <td>1361</td>\n",
       "      <td>1674</td>\n",
       "      <td>11710</td>\n",
       "      <td>6112</td>\n",
       "      <td>1108</td>\n",
       "      <td>5</td>\n",
       "      <td>130.0</td>\n",
       "      <td>29.0</td>\n",
       "      <td>164</td>\n",
       "    </tr>\n",
       "    <tr>\n",
       "      <th>2</th>\n",
       "      <td>139441</td>\n",
       "      <td>Photo</td>\n",
       "      <td>3</td>\n",
       "      <td>12</td>\n",
       "      <td>3</td>\n",
       "      <td>3</td>\n",
       "      <td>0.0</td>\n",
       "      <td>2413</td>\n",
       "      <td>4373</td>\n",
       "      <td>177</td>\n",
       "      <td>113</td>\n",
       "      <td>154</td>\n",
       "      <td>2812</td>\n",
       "      <td>1503</td>\n",
       "      <td>132</td>\n",
       "      <td>0</td>\n",
       "      <td>66.0</td>\n",
       "      <td>14.0</td>\n",
       "      <td>80</td>\n",
       "    </tr>\n",
       "    <tr>\n",
       "      <th>3</th>\n",
       "      <td>139441</td>\n",
       "      <td>Photo</td>\n",
       "      <td>2</td>\n",
       "      <td>12</td>\n",
       "      <td>2</td>\n",
       "      <td>10</td>\n",
       "      <td>1.0</td>\n",
       "      <td>50128</td>\n",
       "      <td>87991</td>\n",
       "      <td>2211</td>\n",
       "      <td>790</td>\n",
       "      <td>1119</td>\n",
       "      <td>61027</td>\n",
       "      <td>32048</td>\n",
       "      <td>1386</td>\n",
       "      <td>58</td>\n",
       "      <td>1572.0</td>\n",
       "      <td>147.0</td>\n",
       "      <td>1777</td>\n",
       "    </tr>\n",
       "    <tr>\n",
       "      <th>4</th>\n",
       "      <td>139441</td>\n",
       "      <td>Photo</td>\n",
       "      <td>2</td>\n",
       "      <td>12</td>\n",
       "      <td>2</td>\n",
       "      <td>3</td>\n",
       "      <td>0.0</td>\n",
       "      <td>7244</td>\n",
       "      <td>13594</td>\n",
       "      <td>671</td>\n",
       "      <td>410</td>\n",
       "      <td>580</td>\n",
       "      <td>6228</td>\n",
       "      <td>3200</td>\n",
       "      <td>396</td>\n",
       "      <td>19</td>\n",
       "      <td>325.0</td>\n",
       "      <td>49.0</td>\n",
       "      <td>393</td>\n",
       "    </tr>\n",
       "  </tbody>\n",
       "</table>\n",
       "</div>"
      ],
      "text/plain": [
       "   PageTotalLikes    Type  Category  PostMonth  PostWeekday  PostHour  Paid  \\\n",
       "0          139441   Photo         2         12            4         3   0.0   \n",
       "1          139441  Status         2         12            3        10   0.0   \n",
       "2          139441   Photo         3         12            3         3   0.0   \n",
       "3          139441   Photo         2         12            2        10   1.0   \n",
       "4          139441   Photo         2         12            2         3   0.0   \n",
       "\n",
       "   Lifetime Post Total Reach  Lifetime Post Total Impressions  \\\n",
       "0                       2752                             5091   \n",
       "1                      10460                            19057   \n",
       "2                       2413                             4373   \n",
       "3                      50128                            87991   \n",
       "4                       7244                            13594   \n",
       "\n",
       "   Lifetime Engaged Users  Lifetime Post Consumers  \\\n",
       "0                     178                      109   \n",
       "1                    1457                     1361   \n",
       "2                     177                      113   \n",
       "3                    2211                      790   \n",
       "4                     671                      410   \n",
       "\n",
       "   Lifetime Post Consumptions  \\\n",
       "0                         159   \n",
       "1                        1674   \n",
       "2                         154   \n",
       "3                        1119   \n",
       "4                         580   \n",
       "\n",
       "   Lifetime Post Impressions by people who have liked your Page  \\\n",
       "0                                               3078              \n",
       "1                                              11710              \n",
       "2                                               2812              \n",
       "3                                              61027              \n",
       "4                                               6228              \n",
       "\n",
       "   Lifetime Post reach by people who like your Page   LPE  comment    like  \\\n",
       "0                                              1640   119        4    79.0   \n",
       "1                                              6112  1108        5   130.0   \n",
       "2                                              1503   132        0    66.0   \n",
       "3                                             32048  1386       58  1572.0   \n",
       "4                                              3200   396       19   325.0   \n",
       "\n",
       "   share  Total Interactions  \n",
       "0   17.0                 100  \n",
       "1   29.0                 164  \n",
       "2   14.0                  80  \n",
       "3  147.0                1777  \n",
       "4   49.0                 393  "
      ]
     },
     "execution_count": 3,
     "metadata": {},
     "output_type": "execute_result"
    }
   ],
   "source": [
    "#renombramos las columnas\n",
    "miDF.rename(columns={\n",
    "    'Page total likes': 'PageTotalLikes',\n",
    "    'Post Month': 'PostMonth',\n",
    "    'Post Hour': 'PostHour',\n",
    "    'Post Weekday': 'PostWeekday',\n",
    "    'Lifetime People who have liked your Page and engaged with your post':'LPE',\n",
    "},inplace=True)\n",
    "miDF.head()"
   ]
  },
  {
   "cell_type": "code",
   "execution_count": 4,
   "metadata": {
    "colab": {
     "base_uri": "https://localhost:8080/",
     "height": 468
    },
    "id": "IUTChpWYgoX8",
    "outputId": "ab12461b-b1f6-47fb-d077-6243283157bd"
   },
   "outputs": [
    {
     "data": {
      "text/html": [
       "<div>\n",
       "<style scoped>\n",
       "    .dataframe tbody tr th:only-of-type {\n",
       "        vertical-align: middle;\n",
       "    }\n",
       "\n",
       "    .dataframe tbody tr th {\n",
       "        vertical-align: top;\n",
       "    }\n",
       "\n",
       "    .dataframe thead th {\n",
       "        text-align: right;\n",
       "    }\n",
       "</style>\n",
       "<table border=\"1\" class=\"dataframe\">\n",
       "  <thead>\n",
       "    <tr style=\"text-align: right;\">\n",
       "      <th></th>\n",
       "      <th>PageTotalLikes</th>\n",
       "      <th>Category</th>\n",
       "      <th>PostMonth</th>\n",
       "      <th>PostWeekday</th>\n",
       "      <th>PostHour</th>\n",
       "      <th>Paid</th>\n",
       "      <th>Lifetime Post Total Reach</th>\n",
       "      <th>Lifetime Post Total Impressions</th>\n",
       "      <th>Lifetime Engaged Users</th>\n",
       "      <th>Lifetime Post Consumers</th>\n",
       "      <th>Lifetime Post Consumptions</th>\n",
       "      <th>Lifetime Post Impressions by people who have liked your Page</th>\n",
       "      <th>Lifetime Post reach by people who like your Page</th>\n",
       "      <th>LPE</th>\n",
       "      <th>comment</th>\n",
       "      <th>like</th>\n",
       "      <th>share</th>\n",
       "      <th>Total Interactions</th>\n",
       "    </tr>\n",
       "  </thead>\n",
       "  <tbody>\n",
       "    <tr>\n",
       "      <th>count</th>\n",
       "      <td>500.000000</td>\n",
       "      <td>500.000000</td>\n",
       "      <td>500.000000</td>\n",
       "      <td>500.000000</td>\n",
       "      <td>500.000000</td>\n",
       "      <td>499.000000</td>\n",
       "      <td>500.00000</td>\n",
       "      <td>5.000000e+02</td>\n",
       "      <td>500.000000</td>\n",
       "      <td>500.000000</td>\n",
       "      <td>500.000000</td>\n",
       "      <td>5.000000e+02</td>\n",
       "      <td>500.000000</td>\n",
       "      <td>500.000000</td>\n",
       "      <td>500.00000</td>\n",
       "      <td>499.000000</td>\n",
       "      <td>496.000000</td>\n",
       "      <td>500.000000</td>\n",
       "    </tr>\n",
       "    <tr>\n",
       "      <th>mean</th>\n",
       "      <td>123194.176000</td>\n",
       "      <td>1.880000</td>\n",
       "      <td>7.038000</td>\n",
       "      <td>4.150000</td>\n",
       "      <td>7.840000</td>\n",
       "      <td>0.278557</td>\n",
       "      <td>13903.36000</td>\n",
       "      <td>2.958595e+04</td>\n",
       "      <td>920.344000</td>\n",
       "      <td>798.772000</td>\n",
       "      <td>1415.130000</td>\n",
       "      <td>1.676638e+04</td>\n",
       "      <td>6585.488000</td>\n",
       "      <td>609.986000</td>\n",
       "      <td>7.48200</td>\n",
       "      <td>177.945892</td>\n",
       "      <td>27.266129</td>\n",
       "      <td>212.120000</td>\n",
       "    </tr>\n",
       "    <tr>\n",
       "      <th>std</th>\n",
       "      <td>16272.813214</td>\n",
       "      <td>0.852675</td>\n",
       "      <td>3.307936</td>\n",
       "      <td>2.030701</td>\n",
       "      <td>4.368589</td>\n",
       "      <td>0.448739</td>\n",
       "      <td>22740.78789</td>\n",
       "      <td>7.680325e+04</td>\n",
       "      <td>985.016636</td>\n",
       "      <td>882.505013</td>\n",
       "      <td>2000.594118</td>\n",
       "      <td>5.979102e+04</td>\n",
       "      <td>7682.009405</td>\n",
       "      <td>612.725618</td>\n",
       "      <td>21.18091</td>\n",
       "      <td>323.398742</td>\n",
       "      <td>42.613292</td>\n",
       "      <td>380.233118</td>\n",
       "    </tr>\n",
       "    <tr>\n",
       "      <th>min</th>\n",
       "      <td>81370.000000</td>\n",
       "      <td>1.000000</td>\n",
       "      <td>1.000000</td>\n",
       "      <td>1.000000</td>\n",
       "      <td>1.000000</td>\n",
       "      <td>0.000000</td>\n",
       "      <td>238.00000</td>\n",
       "      <td>5.700000e+02</td>\n",
       "      <td>9.000000</td>\n",
       "      <td>9.000000</td>\n",
       "      <td>9.000000</td>\n",
       "      <td>5.670000e+02</td>\n",
       "      <td>236.000000</td>\n",
       "      <td>9.000000</td>\n",
       "      <td>0.00000</td>\n",
       "      <td>0.000000</td>\n",
       "      <td>0.000000</td>\n",
       "      <td>0.000000</td>\n",
       "    </tr>\n",
       "    <tr>\n",
       "      <th>25%</th>\n",
       "      <td>112676.000000</td>\n",
       "      <td>1.000000</td>\n",
       "      <td>4.000000</td>\n",
       "      <td>2.000000</td>\n",
       "      <td>3.000000</td>\n",
       "      <td>0.000000</td>\n",
       "      <td>3315.00000</td>\n",
       "      <td>5.694750e+03</td>\n",
       "      <td>393.750000</td>\n",
       "      <td>332.500000</td>\n",
       "      <td>509.250000</td>\n",
       "      <td>3.969750e+03</td>\n",
       "      <td>2181.500000</td>\n",
       "      <td>291.000000</td>\n",
       "      <td>1.00000</td>\n",
       "      <td>56.500000</td>\n",
       "      <td>10.000000</td>\n",
       "      <td>71.000000</td>\n",
       "    </tr>\n",
       "    <tr>\n",
       "      <th>50%</th>\n",
       "      <td>129600.000000</td>\n",
       "      <td>2.000000</td>\n",
       "      <td>7.000000</td>\n",
       "      <td>4.000000</td>\n",
       "      <td>9.000000</td>\n",
       "      <td>0.000000</td>\n",
       "      <td>5281.00000</td>\n",
       "      <td>9.051000e+03</td>\n",
       "      <td>625.500000</td>\n",
       "      <td>551.500000</td>\n",
       "      <td>851.000000</td>\n",
       "      <td>6.255500e+03</td>\n",
       "      <td>3417.000000</td>\n",
       "      <td>412.000000</td>\n",
       "      <td>3.00000</td>\n",
       "      <td>101.000000</td>\n",
       "      <td>19.000000</td>\n",
       "      <td>123.500000</td>\n",
       "    </tr>\n",
       "    <tr>\n",
       "      <th>75%</th>\n",
       "      <td>136393.000000</td>\n",
       "      <td>3.000000</td>\n",
       "      <td>10.000000</td>\n",
       "      <td>6.000000</td>\n",
       "      <td>11.000000</td>\n",
       "      <td>1.000000</td>\n",
       "      <td>13168.00000</td>\n",
       "      <td>2.208550e+04</td>\n",
       "      <td>1062.000000</td>\n",
       "      <td>955.500000</td>\n",
       "      <td>1463.000000</td>\n",
       "      <td>1.486050e+04</td>\n",
       "      <td>7989.000000</td>\n",
       "      <td>656.250000</td>\n",
       "      <td>7.00000</td>\n",
       "      <td>187.500000</td>\n",
       "      <td>32.250000</td>\n",
       "      <td>228.500000</td>\n",
       "    </tr>\n",
       "    <tr>\n",
       "      <th>max</th>\n",
       "      <td>139441.000000</td>\n",
       "      <td>3.000000</td>\n",
       "      <td>12.000000</td>\n",
       "      <td>7.000000</td>\n",
       "      <td>23.000000</td>\n",
       "      <td>1.000000</td>\n",
       "      <td>180480.00000</td>\n",
       "      <td>1.110282e+06</td>\n",
       "      <td>11452.000000</td>\n",
       "      <td>11328.000000</td>\n",
       "      <td>19779.000000</td>\n",
       "      <td>1.107833e+06</td>\n",
       "      <td>51456.000000</td>\n",
       "      <td>4376.000000</td>\n",
       "      <td>372.00000</td>\n",
       "      <td>5172.000000</td>\n",
       "      <td>790.000000</td>\n",
       "      <td>6334.000000</td>\n",
       "    </tr>\n",
       "  </tbody>\n",
       "</table>\n",
       "</div>"
      ],
      "text/plain": [
       "       PageTotalLikes    Category   PostMonth  PostWeekday    PostHour  \\\n",
       "count      500.000000  500.000000  500.000000   500.000000  500.000000   \n",
       "mean    123194.176000    1.880000    7.038000     4.150000    7.840000   \n",
       "std      16272.813214    0.852675    3.307936     2.030701    4.368589   \n",
       "min      81370.000000    1.000000    1.000000     1.000000    1.000000   \n",
       "25%     112676.000000    1.000000    4.000000     2.000000    3.000000   \n",
       "50%     129600.000000    2.000000    7.000000     4.000000    9.000000   \n",
       "75%     136393.000000    3.000000   10.000000     6.000000   11.000000   \n",
       "max     139441.000000    3.000000   12.000000     7.000000   23.000000   \n",
       "\n",
       "             Paid  Lifetime Post Total Reach  Lifetime Post Total Impressions  \\\n",
       "count  499.000000                  500.00000                     5.000000e+02   \n",
       "mean     0.278557                13903.36000                     2.958595e+04   \n",
       "std      0.448739                22740.78789                     7.680325e+04   \n",
       "min      0.000000                  238.00000                     5.700000e+02   \n",
       "25%      0.000000                 3315.00000                     5.694750e+03   \n",
       "50%      0.000000                 5281.00000                     9.051000e+03   \n",
       "75%      1.000000                13168.00000                     2.208550e+04   \n",
       "max      1.000000               180480.00000                     1.110282e+06   \n",
       "\n",
       "       Lifetime Engaged Users  Lifetime Post Consumers  \\\n",
       "count              500.000000               500.000000   \n",
       "mean               920.344000               798.772000   \n",
       "std                985.016636               882.505013   \n",
       "min                  9.000000                 9.000000   \n",
       "25%                393.750000               332.500000   \n",
       "50%                625.500000               551.500000   \n",
       "75%               1062.000000               955.500000   \n",
       "max              11452.000000             11328.000000   \n",
       "\n",
       "       Lifetime Post Consumptions  \\\n",
       "count                  500.000000   \n",
       "mean                  1415.130000   \n",
       "std                   2000.594118   \n",
       "min                      9.000000   \n",
       "25%                    509.250000   \n",
       "50%                    851.000000   \n",
       "75%                   1463.000000   \n",
       "max                  19779.000000   \n",
       "\n",
       "       Lifetime Post Impressions by people who have liked your Page  \\\n",
       "count                                       5.000000e+02              \n",
       "mean                                        1.676638e+04              \n",
       "std                                         5.979102e+04              \n",
       "min                                         5.670000e+02              \n",
       "25%                                         3.969750e+03              \n",
       "50%                                         6.255500e+03              \n",
       "75%                                         1.486050e+04              \n",
       "max                                         1.107833e+06              \n",
       "\n",
       "       Lifetime Post reach by people who like your Page          LPE  \\\n",
       "count                                        500.000000   500.000000   \n",
       "mean                                        6585.488000   609.986000   \n",
       "std                                         7682.009405   612.725618   \n",
       "min                                          236.000000     9.000000   \n",
       "25%                                         2181.500000   291.000000   \n",
       "50%                                         3417.000000   412.000000   \n",
       "75%                                         7989.000000   656.250000   \n",
       "max                                        51456.000000  4376.000000   \n",
       "\n",
       "         comment         like       share  Total Interactions  \n",
       "count  500.00000   499.000000  496.000000          500.000000  \n",
       "mean     7.48200   177.945892   27.266129          212.120000  \n",
       "std     21.18091   323.398742   42.613292          380.233118  \n",
       "min      0.00000     0.000000    0.000000            0.000000  \n",
       "25%      1.00000    56.500000   10.000000           71.000000  \n",
       "50%      3.00000   101.000000   19.000000          123.500000  \n",
       "75%      7.00000   187.500000   32.250000          228.500000  \n",
       "max    372.00000  5172.000000  790.000000         6334.000000  "
      ]
     },
     "execution_count": 4,
     "metadata": {},
     "output_type": "execute_result"
    }
   ],
   "source": [
    "miDF.describe()"
   ]
  },
  {
   "cell_type": "markdown",
   "metadata": {
    "id": "HIo-QnMhmJRi"
   },
   "source": [
    "Convertimos Type a numerico"
   ]
  },
  {
   "cell_type": "code",
   "execution_count": 5,
   "metadata": {
    "colab": {
     "base_uri": "https://localhost:8080/"
    },
    "id": "DYqbrbvglYNk",
    "outputId": "87c4ace7-4091-49c3-b5fd-89bff15de951"
   },
   "outputs": [
    {
     "data": {
      "text/plain": [
       "array([1, 2, 1, 1, 1, 2, 1, 1, 2, 1, 2, 1, 1, 1, 1, 2, 1, 1, 2, 1, 1, 1,\n",
       "       0, 1, 2, 2, 2, 1, 1, 3, 1, 1, 1, 1, 1, 1, 1, 1, 2, 1, 2, 0, 1, 0,\n",
       "       1, 0, 2, 0, 1, 0, 1, 1, 1, 1, 1, 3, 1, 1, 1, 1, 1, 1, 1, 1, 1, 1,\n",
       "       1, 1, 1, 1, 1, 3, 2, 1, 3, 1, 1, 1, 1, 1, 2, 1, 1, 1, 2, 1, 0, 1,\n",
       "       1, 1, 1, 1, 1, 1, 1, 1, 1, 1, 2, 1, 1, 1, 1, 1, 1, 1, 1, 2, 1, 2,\n",
       "       1, 1, 1, 1, 1, 1, 1, 1, 1, 1, 1, 2, 1, 1, 1, 1, 1, 1, 1, 1, 1, 1,\n",
       "       1, 1, 1, 1, 0, 1, 2, 1, 0, 2, 2, 1, 1, 1, 1, 1, 2, 0, 1, 1, 1, 1,\n",
       "       1, 1, 1, 1, 1, 1, 1, 1, 1, 2, 1, 1, 1, 1, 1, 1, 1, 1, 2, 1, 1, 2,\n",
       "       1, 1, 1, 1, 2, 1, 1, 3, 1, 1, 1, 1, 1, 1, 1, 1, 1, 1, 1, 1, 1, 1,\n",
       "       1, 1, 1, 1, 2, 1, 1, 1, 1, 1, 1, 1, 1, 1, 1, 1, 1, 1, 1, 2, 1, 1,\n",
       "       1, 1, 2, 2, 1, 2, 1, 1, 1, 1, 1, 1, 2, 1, 1, 2, 1, 1, 1, 1, 1, 1,\n",
       "       2, 3, 1, 1, 1, 1, 1, 1, 1, 1, 1, 2, 1, 1, 1, 1, 1, 1, 1, 1, 1, 1,\n",
       "       1, 1, 1, 2, 1, 1, 1, 1, 1, 1, 1, 2, 1, 3, 1, 1, 1, 1, 2, 1, 1, 2,\n",
       "       1, 1, 1, 1, 1, 1, 1, 1, 1, 1, 1, 1, 1, 1, 1, 1, 1, 1, 1, 1, 1, 1,\n",
       "       1, 1, 1, 1, 1, 1, 1, 1, 1, 1, 1, 1, 1, 1, 1, 1, 1, 1, 1, 1, 1, 1,\n",
       "       1, 1, 1, 1, 2, 1, 1, 1, 1, 1, 1, 1, 1, 1, 0, 1, 1, 1, 1, 1, 1, 1,\n",
       "       2, 1, 1, 1, 1, 1, 1, 1, 1, 1, 2, 1, 1, 1, 1, 1, 1, 1, 1, 2, 0, 1,\n",
       "       1, 1, 1, 1, 1, 1, 1, 1, 1, 1, 1, 1, 1, 1, 1, 1, 1, 1, 1, 1, 1, 1,\n",
       "       1, 1, 1, 1, 1, 1, 1, 0, 1, 1, 1, 1, 0, 1, 1, 1, 1, 1, 1, 1, 2, 1,\n",
       "       1, 1, 1, 1, 1, 1, 1, 0, 1, 1, 1, 1, 0, 1, 1, 1, 1, 1, 1, 1, 0, 1,\n",
       "       1, 1, 1, 1, 1, 1, 1, 1, 1, 1, 1, 1, 1, 1, 1, 1, 1, 1, 1, 1, 1, 1,\n",
       "       1, 1, 1, 1, 1, 1, 1, 1, 0, 1, 1, 1, 1, 1, 1, 0, 1, 1, 1, 0, 1, 1,\n",
       "       1, 0, 1, 1, 1, 1, 1, 1, 0, 1, 1, 1, 1, 1, 1, 1])"
      ]
     },
     "execution_count": 5,
     "metadata": {},
     "output_type": "execute_result"
    }
   ],
   "source": [
    "from sklearn.preprocessing import LabelEncoder\n",
    " \n",
    "# Creating a instance of label Encoder.\n",
    "le = LabelEncoder()\n",
    " \n",
    "# Using .fit_transform function to fit label\n",
    "# encoder and return encoded label\n",
    "label = le.fit_transform(miDF['Type'])\n",
    " \n",
    "# printing label\n",
    "label"
   ]
  },
  {
   "cell_type": "code",
   "execution_count": 6,
   "metadata": {
    "colab": {
     "base_uri": "https://localhost:8080/",
     "height": 374
    },
    "id": "6Xotj-Khlt15",
    "outputId": "89c8229f-b636-4a24-a12a-e0a4d52b03aa"
   },
   "outputs": [
    {
     "data": {
      "text/html": [
       "<div>\n",
       "<style scoped>\n",
       "    .dataframe tbody tr th:only-of-type {\n",
       "        vertical-align: middle;\n",
       "    }\n",
       "\n",
       "    .dataframe tbody tr th {\n",
       "        vertical-align: top;\n",
       "    }\n",
       "\n",
       "    .dataframe thead th {\n",
       "        text-align: right;\n",
       "    }\n",
       "</style>\n",
       "<table border=\"1\" class=\"dataframe\">\n",
       "  <thead>\n",
       "    <tr style=\"text-align: right;\">\n",
       "      <th></th>\n",
       "      <th>PageTotalLikes</th>\n",
       "      <th>Type</th>\n",
       "      <th>Category</th>\n",
       "      <th>PostMonth</th>\n",
       "      <th>PostWeekday</th>\n",
       "      <th>PostHour</th>\n",
       "      <th>Paid</th>\n",
       "      <th>Lifetime Post Total Reach</th>\n",
       "      <th>Lifetime Post Total Impressions</th>\n",
       "      <th>Lifetime Engaged Users</th>\n",
       "      <th>Lifetime Post Consumers</th>\n",
       "      <th>Lifetime Post Consumptions</th>\n",
       "      <th>Lifetime Post Impressions by people who have liked your Page</th>\n",
       "      <th>Lifetime Post reach by people who like your Page</th>\n",
       "      <th>LPE</th>\n",
       "      <th>comment</th>\n",
       "      <th>like</th>\n",
       "      <th>share</th>\n",
       "      <th>Total Interactions</th>\n",
       "    </tr>\n",
       "  </thead>\n",
       "  <tbody>\n",
       "    <tr>\n",
       "      <th>0</th>\n",
       "      <td>139441</td>\n",
       "      <td>1</td>\n",
       "      <td>2</td>\n",
       "      <td>12</td>\n",
       "      <td>4</td>\n",
       "      <td>3</td>\n",
       "      <td>0.0</td>\n",
       "      <td>2752</td>\n",
       "      <td>5091</td>\n",
       "      <td>178</td>\n",
       "      <td>109</td>\n",
       "      <td>159</td>\n",
       "      <td>3078</td>\n",
       "      <td>1640</td>\n",
       "      <td>119</td>\n",
       "      <td>4</td>\n",
       "      <td>79.0</td>\n",
       "      <td>17.0</td>\n",
       "      <td>100</td>\n",
       "    </tr>\n",
       "    <tr>\n",
       "      <th>1</th>\n",
       "      <td>139441</td>\n",
       "      <td>2</td>\n",
       "      <td>2</td>\n",
       "      <td>12</td>\n",
       "      <td>3</td>\n",
       "      <td>10</td>\n",
       "      <td>0.0</td>\n",
       "      <td>10460</td>\n",
       "      <td>19057</td>\n",
       "      <td>1457</td>\n",
       "      <td>1361</td>\n",
       "      <td>1674</td>\n",
       "      <td>11710</td>\n",
       "      <td>6112</td>\n",
       "      <td>1108</td>\n",
       "      <td>5</td>\n",
       "      <td>130.0</td>\n",
       "      <td>29.0</td>\n",
       "      <td>164</td>\n",
       "    </tr>\n",
       "    <tr>\n",
       "      <th>2</th>\n",
       "      <td>139441</td>\n",
       "      <td>1</td>\n",
       "      <td>3</td>\n",
       "      <td>12</td>\n",
       "      <td>3</td>\n",
       "      <td>3</td>\n",
       "      <td>0.0</td>\n",
       "      <td>2413</td>\n",
       "      <td>4373</td>\n",
       "      <td>177</td>\n",
       "      <td>113</td>\n",
       "      <td>154</td>\n",
       "      <td>2812</td>\n",
       "      <td>1503</td>\n",
       "      <td>132</td>\n",
       "      <td>0</td>\n",
       "      <td>66.0</td>\n",
       "      <td>14.0</td>\n",
       "      <td>80</td>\n",
       "    </tr>\n",
       "    <tr>\n",
       "      <th>3</th>\n",
       "      <td>139441</td>\n",
       "      <td>1</td>\n",
       "      <td>2</td>\n",
       "      <td>12</td>\n",
       "      <td>2</td>\n",
       "      <td>10</td>\n",
       "      <td>1.0</td>\n",
       "      <td>50128</td>\n",
       "      <td>87991</td>\n",
       "      <td>2211</td>\n",
       "      <td>790</td>\n",
       "      <td>1119</td>\n",
       "      <td>61027</td>\n",
       "      <td>32048</td>\n",
       "      <td>1386</td>\n",
       "      <td>58</td>\n",
       "      <td>1572.0</td>\n",
       "      <td>147.0</td>\n",
       "      <td>1777</td>\n",
       "    </tr>\n",
       "    <tr>\n",
       "      <th>4</th>\n",
       "      <td>139441</td>\n",
       "      <td>1</td>\n",
       "      <td>2</td>\n",
       "      <td>12</td>\n",
       "      <td>2</td>\n",
       "      <td>3</td>\n",
       "      <td>0.0</td>\n",
       "      <td>7244</td>\n",
       "      <td>13594</td>\n",
       "      <td>671</td>\n",
       "      <td>410</td>\n",
       "      <td>580</td>\n",
       "      <td>6228</td>\n",
       "      <td>3200</td>\n",
       "      <td>396</td>\n",
       "      <td>19</td>\n",
       "      <td>325.0</td>\n",
       "      <td>49.0</td>\n",
       "      <td>393</td>\n",
       "    </tr>\n",
       "  </tbody>\n",
       "</table>\n",
       "</div>"
      ],
      "text/plain": [
       "   PageTotalLikes  Type  Category  PostMonth  PostWeekday  PostHour  Paid  \\\n",
       "0          139441     1         2         12            4         3   0.0   \n",
       "1          139441     2         2         12            3        10   0.0   \n",
       "2          139441     1         3         12            3         3   0.0   \n",
       "3          139441     1         2         12            2        10   1.0   \n",
       "4          139441     1         2         12            2         3   0.0   \n",
       "\n",
       "   Lifetime Post Total Reach  Lifetime Post Total Impressions  \\\n",
       "0                       2752                             5091   \n",
       "1                      10460                            19057   \n",
       "2                       2413                             4373   \n",
       "3                      50128                            87991   \n",
       "4                       7244                            13594   \n",
       "\n",
       "   Lifetime Engaged Users  Lifetime Post Consumers  \\\n",
       "0                     178                      109   \n",
       "1                    1457                     1361   \n",
       "2                     177                      113   \n",
       "3                    2211                      790   \n",
       "4                     671                      410   \n",
       "\n",
       "   Lifetime Post Consumptions  \\\n",
       "0                         159   \n",
       "1                        1674   \n",
       "2                         154   \n",
       "3                        1119   \n",
       "4                         580   \n",
       "\n",
       "   Lifetime Post Impressions by people who have liked your Page  \\\n",
       "0                                               3078              \n",
       "1                                              11710              \n",
       "2                                               2812              \n",
       "3                                              61027              \n",
       "4                                               6228              \n",
       "\n",
       "   Lifetime Post reach by people who like your Page   LPE  comment    like  \\\n",
       "0                                              1640   119        4    79.0   \n",
       "1                                              6112  1108        5   130.0   \n",
       "2                                              1503   132        0    66.0   \n",
       "3                                             32048  1386       58  1572.0   \n",
       "4                                              3200   396       19   325.0   \n",
       "\n",
       "   share  Total Interactions  \n",
       "0   17.0                 100  \n",
       "1   29.0                 164  \n",
       "2   14.0                  80  \n",
       "3  147.0                1777  \n",
       "4   49.0                 393  "
      ]
     },
     "execution_count": 6,
     "metadata": {},
     "output_type": "execute_result"
    }
   ],
   "source": [
    "miDF2=miDF\n",
    "miDF2['Type']=label\n",
    "miDF2.head()"
   ]
  },
  {
   "cell_type": "code",
   "execution_count": 8,
   "metadata": {
    "id": "sGNILNBPsg-x"
   },
   "outputs": [],
   "source": [
    "miDF2.dropna(subset=['Paid'],inplace = True)"
   ]
  },
  {
   "cell_type": "markdown",
   "metadata": {
    "id": "xZhr2hkECzVv"
   },
   "source": [
    "#**Ejercicio-2.**"
   ]
  },
  {
   "cell_type": "code",
   "execution_count": 9,
   "metadata": {
    "id": "kGfAoOPkC1PP"
   },
   "outputs": [],
   "source": [
    "X = miDF2.loc[:,[\"Category\",\"PageTotalLikes\",\"Type\",\"PostMonth\",\"PostHour\",\"PostWeekday\",\"Paid\"]]\n",
    "y = miDF2.loc[:,'LPE']\n",
    "\n",
    "#Realiza una partición de los datos en el conjunto de entrenamiento del 80% y el de prueba de 20%.\n",
    "X_train, X_test, y_train, y_test = train_test_split(X, y, test_size=.20, random_state=10)"
   ]
  },
  {
   "cell_type": "code",
   "execution_count": null,
   "metadata": {
    "id": "76Xsi__X0QlS"
   },
   "outputs": [],
   "source": []
  },
  {
   "cell_type": "code",
   "execution_count": 10,
   "metadata": {
    "colab": {
     "base_uri": "https://localhost:8080/",
     "height": 300
    },
    "id": "GOydw5OGC1MJ",
    "outputId": "760dc196-0422-4a7d-cb9d-71597bd6c057"
   },
   "outputs": [
    {
     "data": {
      "text/html": [
       "<div>\n",
       "<style scoped>\n",
       "    .dataframe tbody tr th:only-of-type {\n",
       "        vertical-align: middle;\n",
       "    }\n",
       "\n",
       "    .dataframe tbody tr th {\n",
       "        vertical-align: top;\n",
       "    }\n",
       "\n",
       "    .dataframe thead th {\n",
       "        text-align: right;\n",
       "    }\n",
       "</style>\n",
       "<table border=\"1\" class=\"dataframe\">\n",
       "  <thead>\n",
       "    <tr style=\"text-align: right;\">\n",
       "      <th></th>\n",
       "      <th>Category</th>\n",
       "      <th>PageTotalLikes</th>\n",
       "      <th>Type</th>\n",
       "      <th>PostMonth</th>\n",
       "      <th>PostHour</th>\n",
       "      <th>PostWeekday</th>\n",
       "      <th>Paid</th>\n",
       "    </tr>\n",
       "  </thead>\n",
       "  <tbody>\n",
       "    <tr>\n",
       "      <th>count</th>\n",
       "      <td>399.000000</td>\n",
       "      <td>399.000000</td>\n",
       "      <td>399.000000</td>\n",
       "      <td>399.000000</td>\n",
       "      <td>399.000000</td>\n",
       "      <td>399.000000</td>\n",
       "      <td>399.000000</td>\n",
       "    </tr>\n",
       "    <tr>\n",
       "      <th>mean</th>\n",
       "      <td>1.874687</td>\n",
       "      <td>123013.807018</td>\n",
       "      <td>1.065163</td>\n",
       "      <td>7.010025</td>\n",
       "      <td>7.761905</td>\n",
       "      <td>4.110276</td>\n",
       "      <td>0.273183</td>\n",
       "    </tr>\n",
       "    <tr>\n",
       "      <th>std</th>\n",
       "      <td>0.859084</td>\n",
       "      <td>16233.796752</td>\n",
       "      <td>0.432086</td>\n",
       "      <td>3.329463</td>\n",
       "      <td>4.287525</td>\n",
       "      <td>2.029399</td>\n",
       "      <td>0.446153</td>\n",
       "    </tr>\n",
       "    <tr>\n",
       "      <th>min</th>\n",
       "      <td>1.000000</td>\n",
       "      <td>81370.000000</td>\n",
       "      <td>0.000000</td>\n",
       "      <td>1.000000</td>\n",
       "      <td>1.000000</td>\n",
       "      <td>1.000000</td>\n",
       "      <td>0.000000</td>\n",
       "    </tr>\n",
       "    <tr>\n",
       "      <th>25%</th>\n",
       "      <td>1.000000</td>\n",
       "      <td>111620.000000</td>\n",
       "      <td>1.000000</td>\n",
       "      <td>4.000000</td>\n",
       "      <td>3.000000</td>\n",
       "      <td>2.000000</td>\n",
       "      <td>0.000000</td>\n",
       "    </tr>\n",
       "    <tr>\n",
       "      <th>50%</th>\n",
       "      <td>2.000000</td>\n",
       "      <td>129600.000000</td>\n",
       "      <td>1.000000</td>\n",
       "      <td>7.000000</td>\n",
       "      <td>9.000000</td>\n",
       "      <td>4.000000</td>\n",
       "      <td>0.000000</td>\n",
       "    </tr>\n",
       "    <tr>\n",
       "      <th>75%</th>\n",
       "      <td>3.000000</td>\n",
       "      <td>136393.000000</td>\n",
       "      <td>1.000000</td>\n",
       "      <td>10.000000</td>\n",
       "      <td>11.000000</td>\n",
       "      <td>6.000000</td>\n",
       "      <td>1.000000</td>\n",
       "    </tr>\n",
       "    <tr>\n",
       "      <th>max</th>\n",
       "      <td>3.000000</td>\n",
       "      <td>139441.000000</td>\n",
       "      <td>3.000000</td>\n",
       "      <td>12.000000</td>\n",
       "      <td>20.000000</td>\n",
       "      <td>7.000000</td>\n",
       "      <td>1.000000</td>\n",
       "    </tr>\n",
       "  </tbody>\n",
       "</table>\n",
       "</div>"
      ],
      "text/plain": [
       "         Category  PageTotalLikes        Type   PostMonth    PostHour  \\\n",
       "count  399.000000      399.000000  399.000000  399.000000  399.000000   \n",
       "mean     1.874687   123013.807018    1.065163    7.010025    7.761905   \n",
       "std      0.859084    16233.796752    0.432086    3.329463    4.287525   \n",
       "min      1.000000    81370.000000    0.000000    1.000000    1.000000   \n",
       "25%      1.000000   111620.000000    1.000000    4.000000    3.000000   \n",
       "50%      2.000000   129600.000000    1.000000    7.000000    9.000000   \n",
       "75%      3.000000   136393.000000    1.000000   10.000000   11.000000   \n",
       "max      3.000000   139441.000000    3.000000   12.000000   20.000000   \n",
       "\n",
       "       PostWeekday        Paid  \n",
       "count   399.000000  399.000000  \n",
       "mean      4.110276    0.273183  \n",
       "std       2.029399    0.446153  \n",
       "min       1.000000    0.000000  \n",
       "25%       2.000000    0.000000  \n",
       "50%       4.000000    0.000000  \n",
       "75%       6.000000    1.000000  \n",
       "max       7.000000    1.000000  "
      ]
     },
     "execution_count": 10,
     "metadata": {},
     "output_type": "execute_result"
    }
   ],
   "source": [
    "X_train.describe()"
   ]
  },
  {
   "cell_type": "markdown",
   "metadata": {
    "id": "NCunuooTC2W3"
   },
   "source": [
    "#**Ejercicio-3.**"
   ]
  },
  {
   "cell_type": "code",
   "execution_count": 11,
   "metadata": {
    "id": "YXlcSWA-C4Dj"
   },
   "outputs": [],
   "source": [
    "# Incluye aquí las líneas de código que definan a la función: mi_RMSE:\n",
    "def mi_RMSE(yreal, ypred):\n",
    "  RMSE_val=np.square(yreal-ypred)\n",
    "  RMSE_val=(np.mean(RMSE_val))**.5\n",
    "  return RMSE_val\n",
    "\n",
    "\n",
    "# Incluye aquí las líneas de código que definan a la función: mi_MAE:\n",
    "def mi_MAE(yreal, ypred):\n",
    "  MAE_val=np.abs(yreal-ypred)\n",
    "  MAE_val=np.mean(MAE_val)\n",
    "  return MAE_val\n",
    "  \n",
    "\n",
    "# Incluye aquí las líneas de código que definan a la función: mi_MAPE:\n",
    "def mi_MAPE(yreal, ypred):\n",
    "  MAPE_val = np.abs(((yreal-ypred)/yreal))\n",
    "  MAPE_val=100*np.mean(MAPE_val)\n",
    "  return MAPE_val"
   ]
  },
  {
   "cell_type": "markdown",
   "metadata": {
    "id": "imJQRnadpjHW"
   },
   "source": [
    "#**Ejercicio-4.**"
   ]
  },
  {
   "cell_type": "code",
   "execution_count": 12,
   "metadata": {
    "id": "RBVSFwK4C6g9"
   },
   "outputs": [],
   "source": [
    "df_CategoricalVar = ['Type','Category']\n",
    "df_CuantitativaVar= [\"PageTotalLikes\"]\n",
    "df_OrdinalcVar= [\"PostMonth\",\"PostHour\",\"PostWeekday\"]\n",
    "df_BinaryVar= [\"Paid\"]\n",
    "\n",
    "#pipeline variables Ordinales\n",
    "df_PipelineOrd= Pipeline(steps = [('ImpMediana', SimpleImputer(strategy='median')), ('scalar', MinMaxScaler(feature_range=(0,1)))])\n",
    "columnas_PipelineOrd =df_OrdinalcVar\n",
    "\n",
    "#pipeline variables categoricas\n",
    "df_PipelineCate = Pipeline(steps = [('impModa', SimpleImputer(strategy='most_frequent')),('OneHotE', OneHotEncoder(handle_unknown=\"ignore\",drop='first'))])\n",
    "columnas_df_PipelineCate = df_CategoricalVar\n",
    "\n",
    "\n",
    "#pipeline variables binarias\n",
    "df_PipelineBin = Pipeline(steps = [('impModa', SimpleImputer(strategy='most_frequent')),('OneHotE', OneHotEncoder(handle_unknown=\"ignore\",drop='first'))])\n",
    "columnas_df_PipelineBin = df_BinaryVar\n",
    "\n",
    "#pipeline variables Cuantitativas\n",
    "df_PipelineCuant = Pipeline(steps = [('impMedia', SimpleImputer(strategy='mean')), ('scalar', MinMaxScaler(feature_range=(0,1)))])\n",
    "columnas_df_PipelineCuant = df_CuantitativaVar= [\"PageTotalLikes\"]"
   ]
  },
  {
   "cell_type": "code",
   "execution_count": 13,
   "metadata": {
    "id": "7KXnlNzAC69Y"
   },
   "outputs": [],
   "source": [
    "df_ColTransformadas = ColumnTransformer(transformers=[('Numericas', df_PipelineOrd, columnas_PipelineOrd), \n",
    "                                            ('Categoricas', df_PipelineCate , columnas_df_PipelineCate),\n",
    "                                             ('Cuantitativas', df_PipelineCuant , columnas_df_PipelineCuant),\n",
    "                                            ('binarias', df_PipelineBin, columnas_df_PipelineBin)],\n",
    "                                            remainder='passthrough')"
   ]
  },
  {
   "cell_type": "markdown",
   "metadata": {
    "id": "Rv7KFq-mC7PS"
   },
   "source": [
    "#**Ejercicio-5.**"
   ]
  },
  {
   "cell_type": "code",
   "execution_count": 14,
   "metadata": {
    "id": "jaDj3kawC9B6"
   },
   "outputs": [],
   "source": [
    "mis_metricas = {\n",
    "      \"RMSE\": make_scorer(mi_RMSE),\n",
    "      \"MAE\":make_scorer(mi_MAE),\n",
    "      \"MAPE\": make_scorer(mi_MAPE)\n",
    "  }\n",
    "\n",
    "\n",
    "DummyX_train, DummyX_test, Dummyy_train, Dummyy_test = train_test_split(X_train,y_train, test_size=0.25, random_state=0)\n",
    "\n"
   ]
  },
  {
   "cell_type": "code",
   "execution_count": 15,
   "metadata": {
    "colab": {
     "base_uri": "https://localhost:8080/"
    },
    "id": "f_oYNf3dqnKl",
    "outputId": "aa62b923-dd90-43a8-99c5-5aeb06fce039"
   },
   "outputs": [
    {
     "data": {
      "text/html": [
       "<style>#sk-container-id-1 {color: black;background-color: white;}#sk-container-id-1 pre{padding: 0;}#sk-container-id-1 div.sk-toggleable {background-color: white;}#sk-container-id-1 label.sk-toggleable__label {cursor: pointer;display: block;width: 100%;margin-bottom: 0;padding: 0.3em;box-sizing: border-box;text-align: center;}#sk-container-id-1 label.sk-toggleable__label-arrow:before {content: \"▸\";float: left;margin-right: 0.25em;color: #696969;}#sk-container-id-1 label.sk-toggleable__label-arrow:hover:before {color: black;}#sk-container-id-1 div.sk-estimator:hover label.sk-toggleable__label-arrow:before {color: black;}#sk-container-id-1 div.sk-toggleable__content {max-height: 0;max-width: 0;overflow: hidden;text-align: left;background-color: #f0f8ff;}#sk-container-id-1 div.sk-toggleable__content pre {margin: 0.2em;color: black;border-radius: 0.25em;background-color: #f0f8ff;}#sk-container-id-1 input.sk-toggleable__control:checked~div.sk-toggleable__content {max-height: 200px;max-width: 100%;overflow: auto;}#sk-container-id-1 input.sk-toggleable__control:checked~label.sk-toggleable__label-arrow:before {content: \"▾\";}#sk-container-id-1 div.sk-estimator input.sk-toggleable__control:checked~label.sk-toggleable__label {background-color: #d4ebff;}#sk-container-id-1 div.sk-label input.sk-toggleable__control:checked~label.sk-toggleable__label {background-color: #d4ebff;}#sk-container-id-1 input.sk-hidden--visually {border: 0;clip: rect(1px 1px 1px 1px);clip: rect(1px, 1px, 1px, 1px);height: 1px;margin: -1px;overflow: hidden;padding: 0;position: absolute;width: 1px;}#sk-container-id-1 div.sk-estimator {font-family: monospace;background-color: #f0f8ff;border: 1px dotted black;border-radius: 0.25em;box-sizing: border-box;margin-bottom: 0.5em;}#sk-container-id-1 div.sk-estimator:hover {background-color: #d4ebff;}#sk-container-id-1 div.sk-parallel-item::after {content: \"\";width: 100%;border-bottom: 1px solid gray;flex-grow: 1;}#sk-container-id-1 div.sk-label:hover label.sk-toggleable__label {background-color: #d4ebff;}#sk-container-id-1 div.sk-serial::before {content: \"\";position: absolute;border-left: 1px solid gray;box-sizing: border-box;top: 0;bottom: 0;left: 50%;z-index: 0;}#sk-container-id-1 div.sk-serial {display: flex;flex-direction: column;align-items: center;background-color: white;padding-right: 0.2em;padding-left: 0.2em;position: relative;}#sk-container-id-1 div.sk-item {position: relative;z-index: 1;}#sk-container-id-1 div.sk-parallel {display: flex;align-items: stretch;justify-content: center;background-color: white;position: relative;}#sk-container-id-1 div.sk-item::before, #sk-container-id-1 div.sk-parallel-item::before {content: \"\";position: absolute;border-left: 1px solid gray;box-sizing: border-box;top: 0;bottom: 0;left: 50%;z-index: -1;}#sk-container-id-1 div.sk-parallel-item {display: flex;flex-direction: column;z-index: 1;position: relative;background-color: white;}#sk-container-id-1 div.sk-parallel-item:first-child::after {align-self: flex-end;width: 50%;}#sk-container-id-1 div.sk-parallel-item:last-child::after {align-self: flex-start;width: 50%;}#sk-container-id-1 div.sk-parallel-item:only-child::after {width: 0;}#sk-container-id-1 div.sk-dashed-wrapped {border: 1px dashed gray;margin: 0 0.4em 0.5em 0.4em;box-sizing: border-box;padding-bottom: 0.4em;background-color: white;}#sk-container-id-1 div.sk-label label {font-family: monospace;font-weight: bold;display: inline-block;line-height: 1.2em;}#sk-container-id-1 div.sk-label-container {text-align: center;}#sk-container-id-1 div.sk-container {/* jupyter's `normalize.less` sets `[hidden] { display: none; }` but bootstrap.min.css set `[hidden] { display: none !important; }` so we also need the `!important` here to be able to override the default hidden behavior on the sphinx rendered scikit-learn.org. See: https://github.com/scikit-learn/scikit-learn/issues/21755 */display: inline-block !important;position: relative;}#sk-container-id-1 div.sk-text-repr-fallback {display: none;}</style><div id=\"sk-container-id-1\" class=\"sk-top-container\"><div class=\"sk-text-repr-fallback\"><pre>DummyRegressor()</pre><b>In a Jupyter environment, please rerun this cell to show the HTML representation or trust the notebook. <br />On GitHub, the HTML representation is unable to render, please try loading this page with nbviewer.org.</b></div><div class=\"sk-container\" hidden><div class=\"sk-item\"><div class=\"sk-estimator sk-toggleable\"><input class=\"sk-toggleable__control sk-hidden--visually\" id=\"sk-estimator-id-1\" type=\"checkbox\" checked><label for=\"sk-estimator-id-1\" class=\"sk-toggleable__label sk-toggleable__label-arrow\">DummyRegressor</label><div class=\"sk-toggleable__content\"><pre>DummyRegressor()</pre></div></div></div></div></div>"
      ],
      "text/plain": [
       "DummyRegressor()"
      ]
     },
     "execution_count": 15,
     "metadata": {},
     "output_type": "execute_result"
    }
   ],
   "source": [
    "dummy_regr = DummyRegressor()\n",
    "dummy_regr.fit(DummyX_train, Dummyy_train,)\n"
   ]
  },
  {
   "cell_type": "code",
   "execution_count": 16,
   "metadata": {
    "colab": {
     "base_uri": "https://localhost:8080/"
    },
    "id": "n_WUjpw9vq1C",
    "outputId": "2839aa92-ecb6-4945-a6e8-395642587652"
   },
   "outputs": [
    {
     "name": "stdout",
     "output_type": "stream",
     "text": [
      "Prueba \n",
      "\n",
      "ModeloDummy:\n",
      "mean RMSE: 571.724 (102.3390)\n",
      "mean MAE: 381.968 (37.1987)\n",
      "mean MAPE: 142.685 (32.8950)\n",
      "\n",
      "Entrenamiento \n",
      "\n",
      "ModeloDummy:\n",
      "mean RMSE: 574.852 (51.6366)\n",
      "mean MAE: 380.523 (35.0172)\n",
      "mean MAPE: 141.332 (11.6703)\n",
      "\n"
     ]
    }
   ],
   "source": [
    "resultadosD = list()\n",
    "\n",
    "#Kfold validacion cruzada de 5 particiones y 3 repeticiones\n",
    "kfold = RepeatedKFold(n_splits=3, n_repeats=2)\n",
    "#en pipeline ponemos las columnas transformadas y los modelos\n",
    "pipeline = Pipeline(steps=[('ct',df_ColTransformadas),('m',dummy_regr)])\n",
    " \n",
    "resultadosDummy = cross_validate(pipeline, DummyX_train, Dummyy_train, scoring=mis_metricas, cv=kfold, return_train_score=True)\n",
    "  \n",
    "resultadosD.append(resultadosDummy)\n",
    "  \n",
    "print(\"Prueba \\n\") \n",
    "print('%s:\\nmean RMSE: %.3f (%.4f)\\nmean MAE: %.3f (%.4f)\\nmean MAPE: %.3f (%.4f)\\n' % ('ModeloDummy',\n",
    "                                                                          np.mean(resultadosDummy['test_RMSE']), np.std(resultadosDummy['test_RMSE']), \n",
    "                                                                          np.mean(resultadosDummy['test_MAE']),np.std(resultadosDummy['test_MAE']), \n",
    "                                                                          np.mean(resultadosDummy['test_MAPE']),np.std(resultadosDummy['test_MAPE'])\n",
    "                                                                          ))\n",
    "  \n",
    "\n",
    "print(\"Entrenamiento \\n\") \n",
    "print('%s:\\nmean RMSE: %.3f (%.4f)\\nmean MAE: %.3f (%.4f)\\nmean MAPE: %.3f (%.4f)\\n' % ('ModeloDummy',\n",
    "                                                                          np.mean(resultadosDummy['train_RMSE']), np.std(resultadosDummy['train_RMSE']), \n",
    "                                                                          np.mean(resultadosDummy['train_MAE']),np.std(resultadosDummy['train_MAE']), \n",
    "                                                                          np.mean(resultadosDummy['train_MAPE']),np.std(resultadosDummy['train_MAPE'])))"
   ]
  },
  {
   "cell_type": "markdown",
   "metadata": {
    "id": "W2S7LI0NC9wE"
   },
   "source": [
    "#**Ejercicio-6.**\n",
    "Usando los modelos de regresión lineal múltiple, el bosque aleatorio y el perceptrón multicapa con \n",
    "sus valores predeterminados, lleva a cabo su entrenamiento con repeticiones de validación cruzada \n",
    "(RepeatedKFold) y desplegando los errores RMSE, MAE y MAPE. Recuerda evitar el filtrado de \n",
    "información usando los datos que obtuviste en el ejercicio 2. Incluye las conclusiones sobre el mejor \n",
    "modelo encontrado en esta primera aproximación. En particular ¿hay alguno sobreentrenado o \n",
    "subentrenado? NOTA: Recuerda que puedes aumentar en dado caso el número máximo de \n",
    "iteraciones para que todos los modelos converjan.   "
   ]
  },
  {
   "cell_type": "code",
   "execution_count": 17,
   "metadata": {
    "id": "x6uBleJUC_AU"
   },
   "outputs": [],
   "source": [
    "#creamos la lista de modelos con sus nombres\n",
    "def Do_models():\n",
    "  #listas\n",
    "  modelos = list()\n",
    "  nombres = list()\n",
    "\n",
    "  # Modelo de Regresión Linear:\n",
    "  modelos.append(LinearRegression())\n",
    "  nombres.append('RegresionLin')\n",
    "\n",
    "  # Modelo de Perceptron:\n",
    "  modelos.append(MLPRegressor(hidden_layer_sizes=(1, 1),     # número de capas ocultas y nodos en cada capa.\n",
    "                            max_iter=40000,                # máximo número de iteraciones para el proceso de convergencia.\n",
    "                            alpha=0.001,                  # constante asociado al término de regularización L2.\n",
    "                            solver='adam',                 # técnica de optimización.\n",
    "                            learning_rate_init=0.01       # valor inicial del tamaño de paso con relación a \"adam\" o \"sgd\".\n",
    "                            ))\n",
    "  nombres.append('Perceptron')\n",
    "  \n",
    "  #modelo bosque aleatorio\n",
    "  modelos.append(RandomForestRegressor(max_depth=3,min_samples_split=2,ccp_alpha=0.01))\n",
    "  nombres.append('BosqueAleatorio')\n",
    "  \n",
    "  return modelos, nombres\n",
    "\n",
    "\n",
    "resultados = list()"
   ]
  },
  {
   "cell_type": "code",
   "execution_count": 18,
   "metadata": {
    "colab": {
     "base_uri": "https://localhost:8080/"
    },
    "id": "vvm-li-vLIU2",
    "outputId": "55b59666-336e-44d4-aa89-a098776b0a3c"
   },
   "outputs": [
    {
     "data": {
      "text/plain": [
       "[LinearRegression(),\n",
       " MLPRegressor(alpha=0.001, hidden_layer_sizes=(1, 1), learning_rate_init=0.01,\n",
       "              max_iter=40000),\n",
       " RandomForestRegressor(ccp_alpha=0.01, max_depth=3)]"
      ]
     },
     "execution_count": 18,
     "metadata": {},
     "output_type": "execute_result"
    }
   ],
   "source": [
    "#creamos los modelos\n",
    "modelos, nombres = Do_models()  \n",
    "modelos"
   ]
  },
  {
   "cell_type": "code",
   "execution_count": 19,
   "metadata": {
    "colab": {
     "base_uri": "https://localhost:8080/"
    },
    "id": "cF2cfmwlVBC0",
    "outputId": "3589a797-1464-4d07-a50c-f25ec8f04f4c"
   },
   "outputs": [
    {
     "name": "stdout",
     "output_type": "stream",
     "text": [
      "     Category  PageTotalLikes  Type  PostMonth  PostHour  PostWeekday  Paid\n",
      "305         3          124940     1          6         2            4   0.0\n",
      "107         2          136736     2         10         4            1   0.0\n",
      "350         2          116435     1          5         9            5   0.0\n",
      "334         2          119198     2          5         2            1   0.0\n",
      "142         2          136013     2         10         2            3   1.0\n",
      "..        ...             ...   ...        ...       ...          ...   ...\n",
      "320         1          123047     1          6        11            3   0.0\n",
      "15          2          138414     2         12        10            3   0.0\n",
      "484         3           86491     1          1         7            2   0.0\n",
      "125         1          136393     1         10         5            7   0.0\n",
      "265         3          128032     1          7        13            6   1.0\n",
      "\n",
      "[399 rows x 7 columns]\n"
     ]
    }
   ],
   "source": [
    "print(X_train)"
   ]
  },
  {
   "cell_type": "code",
   "execution_count": 20,
   "metadata": {
    "colab": {
     "base_uri": "https://localhost:8080/"
    },
    "id": "n0P_AcyjC_Dh",
    "outputId": "cd1eecd7-1d5b-4a7f-d709-cea7ab69ddd3"
   },
   "outputs": [
    {
     "name": "stdout",
     "output_type": "stream",
     "text": [
      "Prueba \n",
      "\n",
      "RegresionLin:\n",
      "mean RMSE: 489.730 (95.1889)\n",
      "mean MAE: 296.473 (38.4350)\n",
      "mean MAPE: 96.968 (17.4789)\n",
      "\n",
      "Entrenamiento \n",
      "\n",
      "RegresionLin:\n",
      "mean RMSE: 472.672 (53.5577)\n",
      "mean MAE: 284.975 (31.8184)\n",
      "mean MAPE: 91.239 (10.6805)\n",
      "\n",
      "Prueba \n",
      "\n",
      "Perceptron:\n",
      "mean RMSE: 579.996 (76.7259)\n",
      "mean MAE: 361.400 (45.9809)\n",
      "mean MAPE: 120.754 (23.5565)\n",
      "\n",
      "Entrenamiento \n",
      "\n",
      "Perceptron:\n",
      "mean RMSE: 573.627 (43.7009)\n",
      "mean MAE: 363.997 (33.5857)\n",
      "mean MAPE: 121.560 (11.2341)\n",
      "\n",
      "Prueba \n",
      "\n",
      "BosqueAleatorio:\n",
      "mean RMSE: 531.241 (57.3399)\n",
      "mean MAE: 314.389 (25.5804)\n",
      "mean MAPE: 102.075 (22.9724)\n",
      "\n",
      "Entrenamiento \n",
      "\n",
      "BosqueAleatorio:\n",
      "mean RMSE: 420.215 (32.5308)\n",
      "mean MAE: 264.663 (19.0390)\n",
      "mean MAPE: 88.174 (10.6516)\n",
      "\n"
     ]
    }
   ],
   "source": [
    "for i in range(len(modelos)):\n",
    "\n",
    "#Kfold validacion cruzada de 3 particiones y 2repeticiones\n",
    "  kfold = RepeatedKFold(n_splits=3, n_repeats=2)\n",
    "#en pipeline ponemos las columnas transformadas y los modelos\n",
    "  pipeline = Pipeline(steps=[('ct',df_ColTransformadas),('m',modelos[i])])\n",
    " \n",
    "  resultadosOU = cross_validate(pipeline, X_train, y_train, scoring=mis_metricas, cv=kfold, return_train_score=True)\n",
    "  \n",
    "  resultados.append(resultadosOU)\n",
    "  \n",
    "  print(\"Prueba \\n\") \n",
    "  print('%s:\\nmean RMSE: %.3f (%.4f)\\nmean MAE: %.3f (%.4f)\\nmean MAPE: %.3f (%.4f)\\n' % (nombres[i],\n",
    "                                                                          np.mean(resultadosOU['test_RMSE']), np.std(resultadosOU['test_RMSE']), \n",
    "                                                                          np.mean(resultadosOU['test_MAE']),np.std(resultadosOU['test_MAE']), \n",
    "                                                                          np.mean(resultadosOU['test_MAPE']),np.std(resultadosOU['test_MAPE'])\n",
    "                                                                          ))\n",
    "  \n",
    "\n",
    "  print(\"Entrenamiento \\n\") \n",
    "  print('%s:\\nmean RMSE: %.3f (%.4f)\\nmean MAE: %.3f (%.4f)\\nmean MAPE: %.3f (%.4f)\\n' % (nombres[i],\n",
    "                                                                          np.mean(resultadosOU['train_RMSE']), np.std(resultadosOU['train_RMSE']), \n",
    "                                                                          np.mean(resultadosOU['train_MAE']),np.std(resultadosOU['train_MAE']), \n",
    "                                                                          np.mean(resultadosOU['train_MAPE']),np.std(resultadosOU['train_MAPE'])))"
   ]
  },
  {
   "cell_type": "code",
   "execution_count": 21,
   "metadata": {
    "colab": {
     "base_uri": "https://localhost:8080/"
    },
    "id": "2EGATar-7lYm",
    "outputId": "4d2ed156-25bd-4710-bc3e-0b2bcbe8cbcd"
   },
   "outputs": [
    {
     "name": "stdout",
     "output_type": "stream",
     "text": [
      "[LinearRegression(), MLPRegressor(alpha=0.001, hidden_layer_sizes=(1, 1), learning_rate_init=0.01,\n",
      "             max_iter=40000), RandomForestRegressor(ccp_alpha=0.01, max_depth=3)]\n"
     ]
    }
   ],
   "source": [
    "print(modelos)"
   ]
  },
  {
   "cell_type": "markdown",
   "metadata": {
    "id": "iCNGx4TQ8CFI"
   },
   "source": [
    "#**Ejercicio-7.**"
   ]
  },
  {
   "cell_type": "code",
   "execution_count": 22,
   "metadata": {
    "colab": {
     "base_uri": "https://localhost:8080/",
     "height": 268
    },
    "id": "ewvwUcJX78y1",
    "outputId": "aa6a5214-ebc3-47c3-b21f-46a75ad3c19c"
   },
   "outputs": [
    {
     "data": {
      "image/png": "[encoded data removed]",
      "text/plain": [
       "<Figure size 800x400 with 1 Axes>"
      ]
     },
     "metadata": {},
     "output_type": "display_data"
    }
   ],
   "source": [
    "import matplotlib.pyplot as plt\n",
    "sns.set(rc={'figure.figsize':(8,4)})\n",
    "\n",
    "bpRecallTrain = list()\n",
    "\n",
    "for i in range(len(resultados)):\n",
    "  rr = resultados[i]['train_MAPE']\n",
    "  bpRecallTrain.append(rr)\n",
    "\n",
    "plt.boxplot(bpRecallTrain, labels=nombres, showmeans=True)\n",
    "plt.show()"
   ]
  },
  {
   "cell_type": "code",
   "execution_count": 23,
   "metadata": {
    "colab": {
     "base_uri": "https://localhost:8080/",
     "height": 268
    },
    "id": "nQSP_MaSa5Sd",
    "outputId": "fd4a69b5-007b-4f9f-d5c0-a8c03a3a6962"
   },
   "outputs": [
    {
     "data": {
      "image/png": "[encoded data removed]",
      "text/plain": [
       "<Figure size 800x400 with 1 Axes>"
      ]
     },
     "metadata": {},
     "output_type": "display_data"
    }
   ],
   "source": [
    "\n",
    "sns.set(rc={'figure.figsize':(8,4)})\n",
    "\n",
    "bpRecallTest = list()\n",
    "\n",
    "for i in range(len(resultados)):\n",
    "  rr = resultados[i]['test_MAPE']\n",
    "  bpRecallTest.append(rr)\n",
    "\n",
    "plt.boxplot(bpRecallTest, labels=nombres, showmeans=True)\n",
    "plt.show()"
   ]
  },
  {
   "cell_type": "code",
   "execution_count": null,
   "metadata": {
    "id": "F1aW0dQX8BLL"
   },
   "outputs": [],
   "source": []
  },
  {
   "cell_type": "markdown",
   "metadata": {
    "id": "tzQn5NR78GFg"
   },
   "source": [
    "#**Ejercicio-8.**\n",
    "\n",
    "Usando una búsqueda de malla con validación cruzada (GridSearchCV), busca los mejores \n",
    "hiperparámetros para el modelo MLP. Al menos deberás realizar la búsqueda en los \n",
    "hiperparámetros “hidden_layer_sizes”, “alpha” y “learning_rate_init”. Además aplica la validación \n",
    "cruzada con repeticiones (RepeatedKFold). Muestra los mejores hiperparámetros encontrados. "
   ]
  },
  {
   "cell_type": "code",
   "execution_count": 30,
   "metadata": {
    "id": "vp8S0PFs8IMR"
   },
   "outputs": [],
   "source": [
    "modeloMLP = MLPRegressor(hidden_layer_sizes=(1, 4),     # número de capas ocultas y nodos en cada capa.\n",
    "                            max_iter=10000,                # máximo número de iteraciones para el proceso de convergencia.\n",
    "                            alpha=0.001,                  # constante asociado al término de regularización L2.\n",
    "                            solver='adam',                 # técnica de optimización.\n",
    "                            learning_rate_init=0.01       # valor inicial del tamaño de paso con relación a \"adam\" o \"sgd\".\n",
    "                            )\n",
    "pipeMLP = Pipeline(steps=[(\"DataPrep\", df_ColTransformadas),(\"model\", modeloMLP)]) \n",
    "kfoldMLP = RepeatedKFold(n_splits=5, n_repeats=3, random_state=7)  \n",
    "\n",
    "ParamsMLP = {'model__hidden_layer_sizes':[(1,8), (2,4), (2,8)],\n",
    "             'model__alpha':[0.01, 0.05, 0.1],\n",
    "             'model__learning_rate_init':[0.0001, 0.001, 0.01]}"
   ]
  },
  {
   "cell_type": "code",
   "execution_count": 31,
   "metadata": {
    "id": "Dc72yaSLVd1W"
   },
   "outputs": [],
   "source": [
    "GridMLP = GridSearchCV(pipeMLP,\n",
    "                        param_grid = ParamsMLP,\n",
    "                        cv=kfoldMLP,\n",
    "                        scoring=make_scorer(mi_MAPE),\n",
    "                        n_jobs=-1)"
   ]
  },
  {
   "cell_type": "code",
   "execution_count": 32,
   "metadata": {
    "id": "V61lP4J8VgPa",
    "outputId": "86708425-7838-41db-9996-42cc4205a074"
   },
   "outputs": [],
   "source": [
    "GridMLP.fit(X_train, np.ravel(y_train))\n",
    "best_score = GridMLP.best_score_\n",
    "best_param = GridMLP.best_params_"
   ]
  },
  {
   "cell_type": "code",
   "execution_count": 33,
   "metadata": {
    "colab": {
     "base_uri": "https://localhost:8080/"
    },
    "id": "Fb5Nc7snVhMq",
    "outputId": "314ed211-3430-481f-a1f8-eb7c9ab91ccd"
   },
   "outputs": [
    {
     "name": "stdout",
     "output_type": "stream",
     "text": [
      "Best score: 110.08694525551897\n",
      "Best param: {'model__alpha': 0.1, 'model__hidden_layer_sizes': (1, 8), 'model__learning_rate_init': 0.01}\n"
     ]
    }
   ],
   "source": [
    "print(\"Best score:\", best_score)\n",
    "print(\"Best param:\", best_param)"
   ]
  },
  {
   "cell_type": "markdown",
   "metadata": {
    "id": "mASNrZWs8JTh"
   },
   "source": [
    "#**Ejercicio-9.**\n",
    "Con los mejores valores de los hiperparámetros encontrados realiza un análisis de la importancia de \n",
    "los factores. Muestra un diagrama de barras de los resultados e incluye tus conclusiones. "
   ]
  },
  {
   "cell_type": "code",
   "execution_count": 38,
   "metadata": {
    "id": "UEz5yPD_1DNn"
   },
   "outputs": [],
   "source": [
    "modeloMLP = MLPRegressor(hidden_layer_sizes=(1, 8),     # número de capas ocultas y nodos en cada capa.\n",
    "                            max_iter=10000,                # máximo número de iteraciones para el proceso de convergencia.\n",
    "                            alpha=0.1,                  # constante asociado al término de regularización L2.\n",
    "                            solver='adam',                 # técnica de optimización.\n",
    "                            learning_rate_init=0.01       # valor inicial del tamaño de paso con relación a \"adam\" o \"sgd\".\n",
    "                            )\n",
    "pipeMLP = Pipeline(steps=[(\"DataPrep\", df_ColTransformadas),(\"model\", modeloMLP)]) "
   ]
  },
  {
   "cell_type": "code",
   "execution_count": 39,
   "metadata": {
    "colab": {
     "base_uri": "https://localhost:8080/",
     "height": 389
    },
    "id": "nKgJbKIS4YPf",
    "outputId": "c9c00523-0fd1-45ca-ee34-21f5bfc2f186"
   },
   "outputs": [
    {
     "name": "stdout",
     "output_type": "stream",
     "text": [
      "Feature: 0, Score: 0.00600\n",
      "Feature: 1, Score: 0.00219\n",
      "Feature: 2, Score: 0.74405\n",
      "Feature: 3, Score: 0.04253\n",
      "Feature: 4, Score: 0.00122\n",
      "Feature: 5, Score: 0.00357\n",
      "Feature: 6, Score: 0.01181\n"
     ]
    },
    {
     "data": {
      "image/png": "[encoded data removed]",
      "text/plain": [
       "<Figure size 800x400 with 1 Axes>"
      ]
     },
     "metadata": {},
     "output_type": "display_data"
    }
   ],
   "source": [
    "pipeMLP.fit(X_train, y_train)\n",
    "\n",
    "importance = permutation_importance(pipeMLP, X_train, y_train, n_repeats=10)\n",
    "\n",
    "# visualicemos la importancia de cada métrica, de las cuales sabemos\n",
    "# cuáles son las más importantes, de acuerdo a como se definieron al inicio:\n",
    "\n",
    "for i,v in enumerate(importance['importances_mean']):\n",
    "\tprint('Feature: %0d, Score: %.5f' % (i,v))\n",
    " \n",
    "plt.bar([x for x in range(len(importance['importances_mean']))], importance['importances_mean'])\n",
    "plt.show()"
   ]
  },
  {
   "cell_type": "markdown",
   "metadata": {
    "id": "Flsrl5V-5c8T"
   },
   "source": [
    "Feature 2 - Type"
   ]
  },
  {
   "cell_type": "markdown",
   "metadata": {
    "id": "VUIcDshs8MzG"
   },
   "source": [
    "#**Ejercicio-10.**\n",
    "Repite el ejercicio 8 y 9 para el modelo de bosque aleatorio para buscar sus mejores \n",
    "hiperparámetros (realiza la búsqueda con aquellos hiperparámetros que consideres más \n",
    "adecuados) y usando el conjunto de Prueba. Y realiza igualmente el análisis de importancia de \n",
    "factores con este modelo con un diagrama de barras. "
   ]
  },
  {
   "cell_type": "code",
   "execution_count": 40,
   "metadata": {
    "id": "0lKNJNIt8N88"
   },
   "outputs": [],
   "source": [
    "modeloRF = RandomForestRegressor(max_depth=3,min_samples_split=2,ccp_alpha=0.1)\n",
    "\n",
    "pipeRF = Pipeline(steps=[(\"DataPrep\", df_ColTransformadas),(\"model\", modeloRF)]) \n",
    "kfoldRF = RepeatedKFold(n_splits=5, n_repeats=3, random_state=7)  \n",
    "\n",
    "ParamsRF = {'model__max_depth':[3,4,5],\n",
    "            'model__min_samples_split':[3,4,5],\n",
    "            'model__ccp_alpha':[0.01, 0.1, 0.5]}"
   ]
  },
  {
   "cell_type": "code",
   "execution_count": 41,
   "metadata": {
    "id": "iA7Xvg2z53wC",
    "outputId": "c8564a8c-1b88-499c-a67e-ef6a16a8cba9"
   },
   "outputs": [
    {
     "name": "stdout",
     "output_type": "stream",
     "text": [
      "Best score: 100.60331401064578\n",
      "Best param: {'model__ccp_alpha': 0.1, 'model__max_depth': 3, 'model__min_samples_split': 3}\n"
     ]
    }
   ],
   "source": [
    "GridRF = GridSearchCV(pipeRF,\n",
    "                        param_grid = ParamsRF,\n",
    "                        cv=kfoldRF,\n",
    "                        scoring=make_scorer(mi_MAPE),\n",
    "                        n_jobs=-1)\n",
    "\n",
    "GridRF.fit(X_train, np.ravel(y_train))\n",
    "best_score = GridRF.best_score_\n",
    "best_param = GridRF.best_params_\n",
    "\n",
    "print(\"Best score:\", best_score)\n",
    "print(\"Best param:\", best_param)"
   ]
  },
  {
   "cell_type": "code",
   "execution_count": 42,
   "metadata": {
    "id": "ESc_MlMa9ngg"
   },
   "outputs": [],
   "source": [
    "modeloRF = RandomForestRegressor(max_depth=3,min_samples_split=3,ccp_alpha=0.1)"
   ]
  },
  {
   "cell_type": "code",
   "execution_count": 43,
   "metadata": {
    "id": "gnuwU4CRGE_O",
    "outputId": "857d18d8-36f9-4a62-a650-99c541ba3093"
   },
   "outputs": [
    {
     "name": "stdout",
     "output_type": "stream",
     "text": [
      "Feature: 0, Score: 0.00283\n",
      "Feature: 1, Score: 0.07761\n",
      "Feature: 2, Score: 0.87740\n",
      "Feature: 3, Score: 0.11125\n",
      "Feature: 4, Score: 0.01339\n",
      "Feature: 5, Score: -0.00002\n",
      "Feature: 6, Score: 0.00094\n"
     ]
    },
    {
     "data": {
      "image/png": "[encoded data removed]",
      "text/plain": [
       "<Figure size 800x400 with 1 Axes>"
      ]
     },
     "metadata": {},
     "output_type": "display_data"
    }
   ],
   "source": [
    "pipeMLP.fit(X_test, y_test)\n",
    "\n",
    "importance = permutation_importance(pipeMLP, X_test, y_test, n_repeats=10)\n",
    "\n",
    "# visualicemos la importancia de cada métrica, de las cuales sabemos\n",
    "# cuáles son las más importantes, de acuerdo a como se definieron al inicio:\n",
    "\n",
    "for i,v in enumerate(importance['importances_mean']):\n",
    "\tprint('Feature: %0d, Score: %.5f' % (i,v))\n",
    " \n",
    "plt.bar([x for x in range(len(importance['importances_mean']))], importance['importances_mean'])\n",
    "plt.show()"
   ]
  },
  {
   "cell_type": "markdown",
   "metadata": {
    "id": "5LJl6oql8Pc8"
   },
   "source": [
    "#**Ejercicio-11.**"
   ]
  },
  {
   "cell_type": "code",
   "execution_count": 44,
   "metadata": {
    "id": "-YiSnt9t8RfN"
   },
   "outputs": [],
   "source": [
    "modeloLR = LinearRegression()\n",
    "\n",
    "pipeRL = Pipeline(steps=[(\"DataPrep\", df_ColTransformadas),(\"model\", modeloLR)]) "
   ]
  },
  {
   "cell_type": "code",
   "execution_count": 45,
   "metadata": {
    "id": "2iRA78ZC8Rbm",
    "outputId": "7c39dffe-846d-4030-947c-47c60c5ddb87"
   },
   "outputs": [
    {
     "name": "stdout",
     "output_type": "stream",
     "text": [
      "Feature: 0, Score: 0.00171\n",
      "Feature: 1, Score: 0.06322\n",
      "Feature: 2, Score: 0.90898\n",
      "Feature: 3, Score: 0.13056\n",
      "Feature: 4, Score: 0.00834\n",
      "Feature: 5, Score: 0.00008\n",
      "Feature: 6, Score: 0.00618\n"
     ]
    },
    {
     "data": {
      "image/png": "[encoded data removed]",
      "text/plain": [
       "<Figure size 800x400 with 1 Axes>"
      ]
     },
     "metadata": {},
     "output_type": "display_data"
    }
   ],
   "source": [
    "pipeRL.fit(X_test, y_test)\n",
    "\n",
    "importance = permutation_importance(pipeRL, X_test, y_test, n_repeats=10)\n",
    "\n",
    "# visualicemos la importancia de cada métrica, de las cuales sabemos\n",
    "# cuáles son las más importantes, de acuerdo a como se definieron al inicio:\n",
    "\n",
    "for i,v in enumerate(importance['importances_mean']):\n",
    "\tprint('Feature: %0d, Score: %.5f' % (i,v))\n",
    " \n",
    "plt.bar([x for x in range(len(importance['importances_mean']))], importance['importances_mean'])\n",
    "plt.show()"
   ]
  },
  {
   "cell_type": "markdown",
   "metadata": {
    "id": "IKW72uyk8Sbc"
   },
   "source": [
    "#**Ejercicio-12.**\n",
    "12. Compara tus resultados con los obtenidos por los autores del artículo de Moro-Rita-Vala con \n",
    "respecto a MAPE. Incluye tus conclusiones finales de la actividad. "
   ]
  },
  {
   "cell_type": "markdown",
   "metadata": {
    "id": "5jLN7gAoBCY8"
   },
   "source": [
    "El MAPE es el error porcentual absoluto medio el cual señala la precisión con la que un modelo tiene la capacidad de predecir los valores de una variable dependiente (Y). Para el caso del estudio, los autores obtuvieron un valor del 27% indicando que, el modelo podrá generar pronóticos razonables para la variable explicada. Con respecto a nuestros hallazgos, obtuvimos un MAPE del 110% lo que muestra una deficiencia en el entrenamiento del modelo y, por ende, pronosticará de forma inadecuada la variable LPE del estudio analizado.\n",
    "\n",
    "Por su parte, para el estudio de los autores, se encontró que el most relevant feature para el modelo fue la variable Type con un valor del 36%. Lo anterior va en la misma vía respecto a nuestros resultados dado que econtramos que el importance feature fue la vaible Type; sin embargo, para el modelo MLP fue de 3, 869%, el Random Forest obtuvo un Type de 81,96% y el Regresión Múltiple fue de 85,10% siendo éste último el que mayor relevancia obtuvo para Type.\n",
    "\n",
    "Por último, comparando los valores obtenidos en el punto 6 para RMSE, MAE y MAPE, se observa que los resultados para los datos de Prueba son mayores que los de Entrenamiento sólo que no tienen una diferencia considerable entre ellos, por lo que el modelo no presentaría sobreentrenamiento o subentrenamiento dado que las cifras convergen entre ellas."
   ]
  },
  {
   "cell_type": "markdown",
   "metadata": {
    "id": "7ql_r2G-DB_m"
   },
   "source": [
    "###**Fin de la Actividad de la semana 7.**"
   ]
  }
 ],
 "metadata": {
  "colab": {
   "collapsed_sections": [],
   "provenance": []
  },
  "kernelspec": {
   "display_name": "Python 3 (ipykernel)",
   "language": "python",
   "name": "python3"
  },
  "language_info": {
   "codemirror_mode": {
    "name": "ipython",
    "version": 3
   },
   "file_extension": ".py",
   "mimetype": "text/x-python",
   "name": "python",
   "nbconvert_exporter": "python",
   "pygments_lexer": "ipython3",
   "version": "3.9.13"
  },
  "vscode": {
   "interpreter": {
    "hash": "31f2aee4e71d21fbe5cf8b01ff0e069b9275f58929596ceb00d14d90e3e16cd6"
   }
  }
 },
 "nbformat": 4,
 "nbformat_minor": 1
}
