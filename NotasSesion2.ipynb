{
  "nbformat": 4,
  "nbformat_minor": 0,
  "metadata": {
    "colab": {
      "provenance": [],
      "authorship_tag": "ABX9TyPFGtYR1LHbBQEVvHCddZFW",
      "include_colab_link": true
    },
    "kernelspec": {
      "name": "python3",
      "display_name": "Python 3"
    },
    "language_info": {
      "name": "python"
    }
  },
  "cells": [
    {
      "cell_type": "markdown",
      "metadata": {
        "id": "view-in-github",
        "colab_type": "text"
      },
      "source": [
        "<a href=\"https://colab.research.google.com/github/Tecnologico-de-Monterrey-MNA/actividades-semanales-iayaa-aalr007/blob/main/NotasSesion2.ipynb\" target=\"_parent\"><img src=\"https://colab.research.google.com/assets/colab-badge.svg\" alt=\"Open In Colab\"/></a>"
      ]
    },
    {
      "cell_type": "code",
      "execution_count": 1,
      "metadata": {
        "id": "D7aEU9mlAKd1"
      },
      "outputs": [],
      "source": [
        "import numpy as np\n",
        "import matplotlib.pyplot as plt"
      ]
    },
    {
      "cell_type": "code",
      "source": [
        "np.random.seed(3)\n",
        "\n",
        "x=np.random.normal(50,5,100) #centro de la distribucion, desviacion estandar, tamaño ( solo hay que googlear la funcion para obtener la info)\n",
        "plt.hist(x)"
      ],
      "metadata": {
        "colab": {
          "base_uri": "https://localhost:8080/",
          "height": 352
        },
        "id": "SY4MLjp9AU8Z",
        "outputId": "ab95f0a8-fedc-4321-801b-e2bcc548094a"
      },
      "execution_count": 5,
      "outputs": [
        {
          "output_type": "execute_result",
          "data": {
            "text/plain": [
              "(array([ 2.,  2.,  6., 14., 18., 18., 12., 16.,  5.,  7.]),\n",
              " array([35.42131124, 37.95825479, 40.49519833, 43.03214188, 45.56908543,\n",
              "        48.10602898, 50.64297252, 53.17991607, 55.71685962, 58.25380316,\n",
              "        60.79074671]),\n",
              " <a list of 10 Patch objects>)"
            ]
          },
          "metadata": {},
          "execution_count": 5
        },
        {
          "output_type": "display_data",
          "data": {
            "text/plain": [
              "<Figure size 432x288 with 1 Axes>"
            ],
            "image/png": "[encoded data removed]"
          },
          "metadata": {
            "needs_background": "light"
          }
        }
      ]
    },
    {
      "cell_type": "code",
      "source": [
        "def mi_minmax(x):\n",
        "    min = np.min(x)\n",
        "    max = np.max(x)\n",
        "    return(x - min)/(max-min)"
      ],
      "metadata": {
        "id": "VegEYuEVB65X"
      },
      "execution_count": 10,
      "outputs": []
    },
    {
      "cell_type": "code",
      "source": [
        "x1=mi_minmax(x)\n",
        "plt.hist(x1);"
      ],
      "metadata": {
        "colab": {
          "base_uri": "https://localhost:8080/",
          "height": 265
        },
        "id": "O7pdfD0ZCV_-",
        "outputId": "fdc7d4ed-6c11-4715-8c63-86824f9becc6"
      },
      "execution_count": 12,
      "outputs": [
        {
          "output_type": "display_data",
          "data": {
            "text/plain": [
              "<Figure size 432x288 with 1 Axes>"
            ],
            "image/png": "[encoded data removed]"
          },
          "metadata": {
            "needs_background": "light"
          }
        }
      ]
    },
    {
      "cell_type": "code",
      "source": [
        "def mi_gauss(x):\n",
        "  miv=np.mean(x)\n",
        "  std=np.std(x)\n",
        "  return (x-miv)/std"
      ],
      "metadata": {
        "id": "07CA8iJ-C_MI"
      },
      "execution_count": 13,
      "outputs": []
    },
    {
      "cell_type": "code",
      "source": [
        "x2=mi_gauss(x)\n",
        "plt.hist(x2);"
      ],
      "metadata": {
        "colab": {
          "base_uri": "https://localhost:8080/",
          "height": 265
        },
        "id": "ok8xVamVDbKs",
        "outputId": "0f297c03-0fd3-46ae-8557-956957ac0750"
      },
      "execution_count": 15,
      "outputs": [
        {
          "output_type": "display_data",
          "data": {
            "text/plain": [
              "<Figure size 432x288 with 1 Axes>"
            ],
            "image/png": "[encoded data removed]"
          },
          "metadata": {
            "needs_background": "light"
          }
        }
      ]
    },
    {
      "cell_type": "code",
      "source": [
        "def mi_robust(x):\n",
        "  med = np.median(x)\n",
        "  min=np.min(x)\n",
        "  max=np.max(x)\n",
        "\n",
        "  return (x-med)/(max-min)"
      ],
      "metadata": {
        "id": "4QEKbYo1DpgJ"
      },
      "execution_count": 16,
      "outputs": []
    },
    {
      "cell_type": "code",
      "source": [
        "x3=mi_robust(x)\n",
        "plt.hist(x3)"
      ],
      "metadata": {
        "colab": {
          "base_uri": "https://localhost:8080/",
          "height": 352
        },
        "id": "8nlS1F5HEBya",
        "outputId": "3e22a605-61d6-454d-aa47-985f29c8b7d6"
      },
      "execution_count": 17,
      "outputs": [
        {
          "output_type": "execute_result",
          "data": {
            "text/plain": [
              "(array([ 2.,  2.,  6., 14., 18., 18., 12., 16.,  5.,  7.]),\n",
              " array([-0.53938404, -0.43938404, -0.33938404, -0.23938404, -0.13938404,\n",
              "        -0.03938404,  0.06061596,  0.16061596,  0.26061596,  0.36061596,\n",
              "         0.46061596]),\n",
              " <a list of 10 Patch objects>)"
            ]
          },
          "metadata": {},
          "execution_count": 17
        },
        {
          "output_type": "display_data",
          "data": {
            "text/plain": [
              "<Figure size 432x288 with 1 Axes>"
            ],
            "image/png": "[encoded data removed]"
          },
          "metadata": {
            "needs_background": "light"
          }
        }
      ]
    },
    {
      "cell_type": "code",
      "source": [
        "def mi_robustIQR(x):\n",
        "  med=np.median(x)\n",
        "  q3=np.quantile(x, .75)\n",
        "  q1=np.quantile(x, .25)\n",
        "  return(x-med)/(q3-q1)"
      ],
      "metadata": {
        "id": "eVGy0nv1Fekb"
      },
      "execution_count": 21,
      "outputs": []
    },
    {
      "cell_type": "code",
      "source": [
        "x4=mi_robustIQR(x)\n",
        "plt.hist(x4)"
      ],
      "metadata": {
        "colab": {
          "base_uri": "https://localhost:8080/",
          "height": 352
        },
        "id": "KO_l8nLnGp3s",
        "outputId": "9fff178b-0ee6-4f90-8bec-1c1bf7b83a2f"
      },
      "execution_count": 22,
      "outputs": [
        {
          "output_type": "execute_result",
          "data": {
            "text/plain": [
              "(array([ 2.,  2.,  6., 14., 18., 18., 12., 16.,  5.,  7.]),\n",
              " array([-1.78061922, -1.45049837, -1.12037751, -0.79025665, -0.46013579,\n",
              "        -0.13001494,  0.20010592,  0.53022678,  0.86034763,  1.19046849,\n",
              "         1.52058935]),\n",
              " <a list of 10 Patch objects>)"
            ]
          },
          "metadata": {},
          "execution_count": 22
        },
        {
          "output_type": "display_data",
          "data": {
            "text/plain": [
              "<Figure size 432x288 with 1 Axes>"
            ],
            "image/png": "[encoded data removed]"
          },
          "metadata": {
            "needs_background": "light"
          }
        }
      ]
    },
    {
      "cell_type": "code",
      "source": [
        "x4=mi_robustIQR(x)\n",
        "plt.boxplot(x4, vert=False)"
      ],
      "metadata": {
        "colab": {
          "base_uri": "https://localhost:8080/",
          "height": 404
        },
        "id": "-xwDqQpeG11J",
        "outputId": "e3e970b4-ae9c-40c9-b14b-b6ffae599253"
      },
      "execution_count": 25,
      "outputs": [
        {
          "output_type": "execute_result",
          "data": {
            "text/plain": [
              "{'whiskers': [<matplotlib.lines.Line2D at 0x7f777c0a7a10>,\n",
              "  <matplotlib.lines.Line2D at 0x7f777c0b4d90>],\n",
              " 'caps': [<matplotlib.lines.Line2D at 0x7f777c0b6750>,\n",
              "  <matplotlib.lines.Line2D at 0x7f777c0b6fd0>],\n",
              " 'boxes': [<matplotlib.lines.Line2D at 0x7f7784235250>],\n",
              " 'medians': [<matplotlib.lines.Line2D at 0x7f777c11fb50>],\n",
              " 'fliers': [<matplotlib.lines.Line2D at 0x7f777c060510>],\n",
              " 'means': []}"
            ]
          },
          "metadata": {},
          "execution_count": 25
        },
        {
          "output_type": "display_data",
          "data": {
            "text/plain": [
              "<Figure size 432x288 with 1 Axes>"
            ],
            "image/png": "[encoded data removed]"
          },
          "metadata": {
            "needs_background": "light"
          }
        }
      ]
    }
  ]
}