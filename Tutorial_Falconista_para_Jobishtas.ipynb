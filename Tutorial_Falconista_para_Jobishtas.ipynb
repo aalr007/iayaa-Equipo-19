{
  "cells": [
    {
      "cell_type": "markdown",
      "metadata": {
        "id": "view-in-github",
        "colab_type": "text"
      },
      "source": [
        "<a href=\"https://colab.research.google.com/github/aalr007/iayaa-Equipo-19/blob/main/Tutorial_Falconista_para_Jobishtas.ipynb\" target=\"_parent\"><img src=\"https://colab.research.google.com/assets/colab-badge.svg\" alt=\"Open In Colab\"/></a>"
      ]
    },
    {
      "cell_type": "markdown",
      "metadata": {
        "id": "li2ixJ-lQ2tk"
      },
      "source": [
        "#### **Ejemplo Proyecto ML**\n",
        "\n",
        "En este tutorial veremos como llevar un proyecto de ML desde la imputación de los datos hasta el entrenamiento de un modelo, uniendo todo lo aprendido hasta el momento. \n",
        "\n",
        "El tutorial puede servir para la actividad #7 de la materia de IA & AA. Importante notar que esto es una guía para darte una idea de cómo abordar la actividad 7 y no pretende ser la solución de la tarea.\n",
        "\n",
        "Dicho lo anterior, comencemos.\n",
        "\n",
        "* Nota 1: profesores, tutores, facilitadores, etc: pueden usar este recurso, pero favor de citar con formato APA.\n",
        "* Nota 2: Pueden encontrar una versión electrónica en: https://github.com/rafaeljosem/tutoriales-mna"
      ]
    },
    {
      "cell_type": "markdown",
      "metadata": {
        "id": "I5dvzhq3Q2tl"
      },
      "source": [
        "##### **1. Importando los datos**\n",
        "\n",
        "Empecemos importando los datos. Para este tutorial vamos a utilizar el mismo dataset de la actividad 7 por conveniencia (me es más fácil hacer el tutorial sin preocuparme de qué datos buscar). Lo anterior no significa que debas copiar estos pasos tal cual para la tarea. Recuerda que este tutorial pretende ser una guía y no una solución.\n",
        "\n",
        "Ahora importemos los datos:"
      ]
    },
    {
      "cell_type": "code",
      "execution_count": null,
      "metadata": {
        "id": "e7UAmPTvQ2tm",
        "outputId": "b103614b-5855-4d45-f7fc-fe63c18d5314",
        "colab": {
          "base_uri": "https://localhost:8080/",
          "height": 233
        }
      },
      "outputs": [
        {
          "output_type": "execute_result",
          "data": {
            "text/plain": [
              "   laufkont  laufzeit  moral  verw  hoehe  sparkont  beszeit  rate  famges  \\\n",
              "0         1        18      4     2   1049         1        2     4       2   \n",
              "1         1         9      4     0   2799         1        3     2       3   \n",
              "2         2        12      2     9    841         2        4     2       2   \n",
              "3         1        12      4     0   2122         1        3     3       3   \n",
              "4         1        12      4     0   2171         1        3     4       3   \n",
              "\n",
              "   buerge  ...  verm  alter  weitkred  wohn  bishkred  beruf  pers  telef  \\\n",
              "0       1  ...     2     21         3     1         1      3     2      1   \n",
              "1       1  ...     1     36         3     1         2      3     1      1   \n",
              "2       1  ...     1     23         3     1         1      2     2      1   \n",
              "3       1  ...     1     39         3     1         2      2     1      1   \n",
              "4       1  ...     2     38         1     2         2      2     2      1   \n",
              "\n",
              "   gastarb  kredit  \n",
              "0        2       1  \n",
              "1        2       1  \n",
              "2        2       1  \n",
              "3        1       1  \n",
              "4        1       1  \n",
              "\n",
              "[5 rows x 21 columns]"
            ],
            "text/html": [
              "\n",
              "  <div id=\"df-82d42f32-64f9-47c1-9b54-827fe58a246a\">\n",
              "    <div class=\"colab-df-container\">\n",
              "      <div>\n",
              "<style scoped>\n",
              "    .dataframe tbody tr th:only-of-type {\n",
              "        vertical-align: middle;\n",
              "    }\n",
              "\n",
              "    .dataframe tbody tr th {\n",
              "        vertical-align: top;\n",
              "    }\n",
              "\n",
              "    .dataframe thead th {\n",
              "        text-align: right;\n",
              "    }\n",
              "</style>\n",
              "<table border=\"1\" class=\"dataframe\">\n",
              "  <thead>\n",
              "    <tr style=\"text-align: right;\">\n",
              "      <th></th>\n",
              "      <th>laufkont</th>\n",
              "      <th>laufzeit</th>\n",
              "      <th>moral</th>\n",
              "      <th>verw</th>\n",
              "      <th>hoehe</th>\n",
              "      <th>sparkont</th>\n",
              "      <th>beszeit</th>\n",
              "      <th>rate</th>\n",
              "      <th>famges</th>\n",
              "      <th>buerge</th>\n",
              "      <th>...</th>\n",
              "      <th>verm</th>\n",
              "      <th>alter</th>\n",
              "      <th>weitkred</th>\n",
              "      <th>wohn</th>\n",
              "      <th>bishkred</th>\n",
              "      <th>beruf</th>\n",
              "      <th>pers</th>\n",
              "      <th>telef</th>\n",
              "      <th>gastarb</th>\n",
              "      <th>kredit</th>\n",
              "    </tr>\n",
              "  </thead>\n",
              "  <tbody>\n",
              "    <tr>\n",
              "      <th>0</th>\n",
              "      <td>1</td>\n",
              "      <td>18</td>\n",
              "      <td>4</td>\n",
              "      <td>2</td>\n",
              "      <td>1049</td>\n",
              "      <td>1</td>\n",
              "      <td>2</td>\n",
              "      <td>4</td>\n",
              "      <td>2</td>\n",
              "      <td>1</td>\n",
              "      <td>...</td>\n",
              "      <td>2</td>\n",
              "      <td>21</td>\n",
              "      <td>3</td>\n",
              "      <td>1</td>\n",
              "      <td>1</td>\n",
              "      <td>3</td>\n",
              "      <td>2</td>\n",
              "      <td>1</td>\n",
              "      <td>2</td>\n",
              "      <td>1</td>\n",
              "    </tr>\n",
              "    <tr>\n",
              "      <th>1</th>\n",
              "      <td>1</td>\n",
              "      <td>9</td>\n",
              "      <td>4</td>\n",
              "      <td>0</td>\n",
              "      <td>2799</td>\n",
              "      <td>1</td>\n",
              "      <td>3</td>\n",
              "      <td>2</td>\n",
              "      <td>3</td>\n",
              "      <td>1</td>\n",
              "      <td>...</td>\n",
              "      <td>1</td>\n",
              "      <td>36</td>\n",
              "      <td>3</td>\n",
              "      <td>1</td>\n",
              "      <td>2</td>\n",
              "      <td>3</td>\n",
              "      <td>1</td>\n",
              "      <td>1</td>\n",
              "      <td>2</td>\n",
              "      <td>1</td>\n",
              "    </tr>\n",
              "    <tr>\n",
              "      <th>2</th>\n",
              "      <td>2</td>\n",
              "      <td>12</td>\n",
              "      <td>2</td>\n",
              "      <td>9</td>\n",
              "      <td>841</td>\n",
              "      <td>2</td>\n",
              "      <td>4</td>\n",
              "      <td>2</td>\n",
              "      <td>2</td>\n",
              "      <td>1</td>\n",
              "      <td>...</td>\n",
              "      <td>1</td>\n",
              "      <td>23</td>\n",
              "      <td>3</td>\n",
              "      <td>1</td>\n",
              "      <td>1</td>\n",
              "      <td>2</td>\n",
              "      <td>2</td>\n",
              "      <td>1</td>\n",
              "      <td>2</td>\n",
              "      <td>1</td>\n",
              "    </tr>\n",
              "    <tr>\n",
              "      <th>3</th>\n",
              "      <td>1</td>\n",
              "      <td>12</td>\n",
              "      <td>4</td>\n",
              "      <td>0</td>\n",
              "      <td>2122</td>\n",
              "      <td>1</td>\n",
              "      <td>3</td>\n",
              "      <td>3</td>\n",
              "      <td>3</td>\n",
              "      <td>1</td>\n",
              "      <td>...</td>\n",
              "      <td>1</td>\n",
              "      <td>39</td>\n",
              "      <td>3</td>\n",
              "      <td>1</td>\n",
              "      <td>2</td>\n",
              "      <td>2</td>\n",
              "      <td>1</td>\n",
              "      <td>1</td>\n",
              "      <td>1</td>\n",
              "      <td>1</td>\n",
              "    </tr>\n",
              "    <tr>\n",
              "      <th>4</th>\n",
              "      <td>1</td>\n",
              "      <td>12</td>\n",
              "      <td>4</td>\n",
              "      <td>0</td>\n",
              "      <td>2171</td>\n",
              "      <td>1</td>\n",
              "      <td>3</td>\n",
              "      <td>4</td>\n",
              "      <td>3</td>\n",
              "      <td>1</td>\n",
              "      <td>...</td>\n",
              "      <td>2</td>\n",
              "      <td>38</td>\n",
              "      <td>1</td>\n",
              "      <td>2</td>\n",
              "      <td>2</td>\n",
              "      <td>2</td>\n",
              "      <td>2</td>\n",
              "      <td>1</td>\n",
              "      <td>1</td>\n",
              "      <td>1</td>\n",
              "    </tr>\n",
              "  </tbody>\n",
              "</table>\n",
              "<p>5 rows × 21 columns</p>\n",
              "</div>\n",
              "      <button class=\"colab-df-convert\" onclick=\"convertToInteractive('df-82d42f32-64f9-47c1-9b54-827fe58a246a')\"\n",
              "              title=\"Convert this dataframe to an interactive table.\"\n",
              "              style=\"display:none;\">\n",
              "        \n",
              "  <svg xmlns=\"http://www.w3.org/2000/svg\" height=\"24px\"viewBox=\"0 0 24 24\"\n",
              "       width=\"24px\">\n",
              "    <path d=\"M0 0h24v24H0V0z\" fill=\"none\"/>\n",
              "    <path d=\"M18.56 5.44l.94 2.06.94-2.06 2.06-.94-2.06-.94-.94-2.06-.94 2.06-2.06.94zm-11 1L8.5 8.5l.94-2.06 2.06-.94-2.06-.94L8.5 2.5l-.94 2.06-2.06.94zm10 10l.94 2.06.94-2.06 2.06-.94-2.06-.94-.94-2.06-.94 2.06-2.06.94z\"/><path d=\"M17.41 7.96l-1.37-1.37c-.4-.4-.92-.59-1.43-.59-.52 0-1.04.2-1.43.59L10.3 9.45l-7.72 7.72c-.78.78-.78 2.05 0 2.83L4 21.41c.39.39.9.59 1.41.59.51 0 1.02-.2 1.41-.59l7.78-7.78 2.81-2.81c.8-.78.8-2.07 0-2.86zM5.41 20L4 18.59l7.72-7.72 1.47 1.35L5.41 20z\"/>\n",
              "  </svg>\n",
              "      </button>\n",
              "      \n",
              "  <style>\n",
              "    .colab-df-container {\n",
              "      display:flex;\n",
              "      flex-wrap:wrap;\n",
              "      gap: 12px;\n",
              "    }\n",
              "\n",
              "    .colab-df-convert {\n",
              "      background-color: #E8F0FE;\n",
              "      border: none;\n",
              "      border-radius: 50%;\n",
              "      cursor: pointer;\n",
              "      display: none;\n",
              "      fill: #1967D2;\n",
              "      height: 32px;\n",
              "      padding: 0 0 0 0;\n",
              "      width: 32px;\n",
              "    }\n",
              "\n",
              "    .colab-df-convert:hover {\n",
              "      background-color: #E2EBFA;\n",
              "      box-shadow: 0px 1px 2px rgba(60, 64, 67, 0.3), 0px 1px 3px 1px rgba(60, 64, 67, 0.15);\n",
              "      fill: #174EA6;\n",
              "    }\n",
              "\n",
              "    [theme=dark] .colab-df-convert {\n",
              "      background-color: #3B4455;\n",
              "      fill: #D2E3FC;\n",
              "    }\n",
              "\n",
              "    [theme=dark] .colab-df-convert:hover {\n",
              "      background-color: #434B5C;\n",
              "      box-shadow: 0px 1px 3px 1px rgba(0, 0, 0, 0.15);\n",
              "      filter: drop-shadow(0px 1px 2px rgba(0, 0, 0, 0.3));\n",
              "      fill: #FFFFFF;\n",
              "    }\n",
              "  </style>\n",
              "\n",
              "      <script>\n",
              "        const buttonEl =\n",
              "          document.querySelector('#df-82d42f32-64f9-47c1-9b54-827fe58a246a button.colab-df-convert');\n",
              "        buttonEl.style.display =\n",
              "          google.colab.kernel.accessAllowed ? 'block' : 'none';\n",
              "\n",
              "        async function convertToInteractive(key) {\n",
              "          const element = document.querySelector('#df-82d42f32-64f9-47c1-9b54-827fe58a246a');\n",
              "          const dataTable =\n",
              "            await google.colab.kernel.invokeFunction('convertToInteractive',\n",
              "                                                     [key], {});\n",
              "          if (!dataTable) return;\n",
              "\n",
              "          const docLinkHtml = 'Like what you see? Visit the ' +\n",
              "            '<a target=\"_blank\" href=https://colab.research.google.com/notebooks/data_table.ipynb>data table notebook</a>'\n",
              "            + ' to learn more about interactive tables.';\n",
              "          element.innerHTML = '';\n",
              "          dataTable['output_type'] = 'display_data';\n",
              "          await google.colab.output.renderOutput(dataTable, element);\n",
              "          const docLink = document.createElement('div');\n",
              "          docLink.innerHTML = docLinkHtml;\n",
              "          element.appendChild(docLink);\n",
              "        }\n",
              "      </script>\n",
              "    </div>\n",
              "  </div>\n",
              "  "
            ]
          },
          "metadata": {},
          "execution_count": 11
        }
      ],
      "source": [
        "import pandas as pd\n",
        "\n",
        "df = pd.read_csv(\"/content/data/actividad-7/SouthGermanCredit.asc\", sep=\" \") #Este archivo no está separado por comas, sino con espacios en blanco. Por eso el \" \"\n",
        "df.head()"
      ]
    },
    {
      "cell_type": "markdown",
      "metadata": {
        "id": "XjCcR87dQ2tm"
      },
      "source": [
        "De lo anterior no hay mucho que decir, puesto que es lo que hemos estado haciendo desde el primer día. Simplemente importamos la data y leimos los primeros 5 registros.\n",
        "\n",
        "No se tú, pero yo de alemán no se nada. Así que vamos a traducir las columnas primero:"
      ]
    },
    {
      "cell_type": "code",
      "execution_count": null,
      "metadata": {
        "id": "pi7_8c62Q2tn"
      },
      "outputs": [],
      "source": [
        "df_copy = df.copy() # copiamos el DF por si metemos la pata\n",
        "\n",
        "#Fíjate que los nombres en la lista están en el mismo orden de las columnas. Por ejm, laukfont es status, laufzeit es duration, etc\n",
        "translated_cols = [\"status\", \"duration\", \"credit_history\", \"purpose\", \"amount\", \"savings\", \n",
        "                   \"employment_duration\", \"installment_rate\", \"personal_status_sex\", \n",
        "                   \"other_debtors\", \"present_residence\", \"property\", \"age\", \"other_installment_plans\", \"housing\",\n",
        "                   \"number_credits\", \"job\", \"people_liable\", \"telephone\", \"foreign_worker\", \"credit_risk\"]\n",
        "\n",
        "#Aquí decimos que sustituya los nombres de las columnas por la lista de nombres definida arriba\n",
        "df_copy.columns = translated_cols"
      ]
    },
    {
      "cell_type": "markdown",
      "metadata": {
        "id": "ojy5IKPcQ2tn"
      },
      "source": [
        "Para fines de este ejemplo solo utilizaremos 6 variables: 3 numéricas y 3 categóricas. Ten en cuenta que en el ejercicio #7 te mencionan que hay varios tipos de variables (categóricas, ordinales, binarias y continuas), sin embargo, para fines de este ejemplo solo las diviremos en numéricas y categóricas\n"
      ]
    },
    {
      "cell_type": "code",
      "execution_count": null,
      "metadata": {
        "id": "fOiQUaUIQ2tn"
      },
      "outputs": [],
      "source": [
        "cat_vars = [\"status\", \"job\", \"people_liable\"]\n",
        "num_vars = [\"age\", \"amount\", \"duration\"]"
      ]
    },
    {
      "cell_type": "markdown",
      "metadata": {
        "id": "UFrs5PhZQ2to"
      },
      "source": [
        "Listo, ahí están las columnas que estaremos utilizando de nuestro conjunto de datos. Ahora vamos a crear nuestro conjunto de entrenamiento y prueba"
      ]
    },
    {
      "cell_type": "code",
      "execution_count": null,
      "metadata": {
        "id": "MpEthXzgQ2to"
      },
      "outputs": [],
      "source": [
        "from sklearn.model_selection import train_test_split\n",
        "\n",
        "\n",
        "Xtrain, Xtest, Ytrain, Ytest = train_test_split(df_copy[cat_vars + num_vars], df_copy[[\"credit_risk\"]], train_size=0.8)"
      ]
    },
    {
      "cell_type": "markdown",
      "metadata": {
        "id": "W5z9qcZqQ2to"
      },
      "source": [
        "Ok ok ok... te estás preguntando que qué fue lo que hice. Bueno, empecemos explicando cada parte del código:\n",
        "\n",
        "* train_test_split: Esta función seguro que ya la conoces. Lo único que hace es dividir el conjunto de datos en 2: una para entrenamiento y otra para prueba. El train_size = 0.8 lo que dice es que yo quiero que el conjunto para entrenar mi modelo sea de 80% del total de los datos. El restante 20% lo usaré para probar el modelo.\n",
        "\n",
        "* df_copy[cat_vars + num_vars]: Esto hace dos cosas: La primera es que cat_vars + num_vars une los valores de ambas listas. Es decir, esta operación resultará en una lista con 6 elementos: status, job, people_liable, age, etc. El término técnico de esta operación es \"concatenar\". En otras palabras, estamos concatenando dos listas. Lo segundo que hace es decirle al datagrame que me devuelva solamente esas 6 columnas, que son las variables que finalmente estaremos utilizando.\n",
        "  \n",
        "* df_copy[[\"credit_risk\"]] le dice al dataframe que me devuelva esa columna solamente. credit_risk es nuestra variable de respuesta (Y). Es decir, esta es la variable que queremos estimar.\n",
        "  \n",
        "* Fíjate el orden de los argumentos en train_test_split. Primero pongo las Xs (cat_vars + num_vars) y luego coloco las Ys (credit_risk). El resultado que retornará la función sigue ese mismo orden: primero retorna las Xs (Xtrain, Xtest) y luego las Ys (Ytrain, Ytest). Es el mismo orden como cuando nos aprendimos las coordenadas (x,y).\n",
        "  \n",
        "* Por último, importante notar que toda la manipulación de los datos (análisis, imputación, etc) se hará sobre el conjunto Xtrain. Esto para evitar el \"data leakage\", el cual se produciría si utilizáramos todo el conjunto de datos en vez de la partición para entrenamiento. Por tanto, el Xtest y Ytest los usaremos ya al final.\n",
        "\n",
        "Listo, ya tenemos los pares de entrenamiento y prueba. Ahora pasemos a explorar la data.\n"
      ]
    },
    {
      "cell_type": "markdown",
      "metadata": {
        "id": "ZrL_GGEoQ2to"
      },
      "source": [
        "##### **1. Explorando los datos**\n",
        "\n",
        "Vamos a sentarnos con los datos y conversar con ellos. Queremos que nos digan como se sienten, cuáles son sus hobbies, quién es su favorito, si Jobbish o Falcon, qué esperan de la vida. En fin, tenemos que conocernos antes de iniciar una relación con ellos. Así que veamos que nos dicen.\n",
        "\n",
        "Primero veamos los tipos de cada columna"
      ]
    },
    {
      "cell_type": "code",
      "execution_count": null,
      "metadata": {
        "id": "vJYMbS6iQ2tp",
        "outputId": "ca23bb94-28ac-47cd-e8db-cad06b01d8b7",
        "colab": {
          "base_uri": "https://localhost:8080/"
        }
      },
      "outputs": [
        {
          "output_type": "stream",
          "name": "stdout",
          "text": [
            "<class 'pandas.core.frame.DataFrame'>\n",
            "Int64Index: 800 entries, 477 to 747\n",
            "Data columns (total 6 columns):\n",
            " #   Column         Non-Null Count  Dtype\n",
            "---  ------         --------------  -----\n",
            " 0   status         800 non-null    int64\n",
            " 1   job            800 non-null    int64\n",
            " 2   people_liable  800 non-null    int64\n",
            " 3   age            800 non-null    int64\n",
            " 4   amount         800 non-null    int64\n",
            " 5   duration       800 non-null    int64\n",
            "dtypes: int64(6)\n",
            "memory usage: 43.8 KB\n"
          ]
        }
      ],
      "source": [
        "#El método info te da un resumen de la estructura de tus datos. Te dice cuántas columnas ahí, cuántos datos hay, qué tipo tiene cada columna, etc.\n",
        "Xtrain.info()"
      ]
    },
    {
      "cell_type": "markdown",
      "metadata": {
        "id": "yhmC7EM2Q2tp"
      },
      "source": [
        "Aquí vemos que las variables status, job y people_liable son categóricas y pandas las está leyendo como numéricas. Esto porque las columnas contienen números que representan categorías, y pandas eso no lo sabe. Debemos tomar eso en cuenta al momento de analizar los datos, lo cual haremos ahora."
      ]
    },
    {
      "cell_type": "code",
      "execution_count": null,
      "metadata": {
        "id": "QHZHsYj9Q2tp",
        "outputId": "6046e186-be60-4222-a448-753aa53243c4",
        "colab": {
          "base_uri": "https://localhost:8080/",
          "height": 297
        }
      },
      "outputs": [
        {
          "output_type": "execute_result",
          "data": {
            "text/plain": [
              "              age        amount    duration\n",
              "count  800.000000    800.000000  800.000000\n",
              "mean    35.863750   3196.107500   20.741250\n",
              "std     11.531757   2685.298768   11.864981\n",
              "min     19.000000    250.000000    4.000000\n",
              "25%     27.000000   1363.250000   12.000000\n",
              "50%     34.000000   2286.000000   18.000000\n",
              "75%     42.000000   3914.250000   24.000000\n",
              "max     75.000000  15672.000000   72.000000"
            ],
            "text/html": [
              "\n",
              "  <div id=\"df-28aba370-4713-4e54-b17c-9441cf4e0378\">\n",
              "    <div class=\"colab-df-container\">\n",
              "      <div>\n",
              "<style scoped>\n",
              "    .dataframe tbody tr th:only-of-type {\n",
              "        vertical-align: middle;\n",
              "    }\n",
              "\n",
              "    .dataframe tbody tr th {\n",
              "        vertical-align: top;\n",
              "    }\n",
              "\n",
              "    .dataframe thead th {\n",
              "        text-align: right;\n",
              "    }\n",
              "</style>\n",
              "<table border=\"1\" class=\"dataframe\">\n",
              "  <thead>\n",
              "    <tr style=\"text-align: right;\">\n",
              "      <th></th>\n",
              "      <th>age</th>\n",
              "      <th>amount</th>\n",
              "      <th>duration</th>\n",
              "    </tr>\n",
              "  </thead>\n",
              "  <tbody>\n",
              "    <tr>\n",
              "      <th>count</th>\n",
              "      <td>800.000000</td>\n",
              "      <td>800.000000</td>\n",
              "      <td>800.000000</td>\n",
              "    </tr>\n",
              "    <tr>\n",
              "      <th>mean</th>\n",
              "      <td>35.863750</td>\n",
              "      <td>3196.107500</td>\n",
              "      <td>20.741250</td>\n",
              "    </tr>\n",
              "    <tr>\n",
              "      <th>std</th>\n",
              "      <td>11.531757</td>\n",
              "      <td>2685.298768</td>\n",
              "      <td>11.864981</td>\n",
              "    </tr>\n",
              "    <tr>\n",
              "      <th>min</th>\n",
              "      <td>19.000000</td>\n",
              "      <td>250.000000</td>\n",
              "      <td>4.000000</td>\n",
              "    </tr>\n",
              "    <tr>\n",
              "      <th>25%</th>\n",
              "      <td>27.000000</td>\n",
              "      <td>1363.250000</td>\n",
              "      <td>12.000000</td>\n",
              "    </tr>\n",
              "    <tr>\n",
              "      <th>50%</th>\n",
              "      <td>34.000000</td>\n",
              "      <td>2286.000000</td>\n",
              "      <td>18.000000</td>\n",
              "    </tr>\n",
              "    <tr>\n",
              "      <th>75%</th>\n",
              "      <td>42.000000</td>\n",
              "      <td>3914.250000</td>\n",
              "      <td>24.000000</td>\n",
              "    </tr>\n",
              "    <tr>\n",
              "      <th>max</th>\n",
              "      <td>75.000000</td>\n",
              "      <td>15672.000000</td>\n",
              "      <td>72.000000</td>\n",
              "    </tr>\n",
              "  </tbody>\n",
              "</table>\n",
              "</div>\n",
              "      <button class=\"colab-df-convert\" onclick=\"convertToInteractive('df-28aba370-4713-4e54-b17c-9441cf4e0378')\"\n",
              "              title=\"Convert this dataframe to an interactive table.\"\n",
              "              style=\"display:none;\">\n",
              "        \n",
              "  <svg xmlns=\"http://www.w3.org/2000/svg\" height=\"24px\"viewBox=\"0 0 24 24\"\n",
              "       width=\"24px\">\n",
              "    <path d=\"M0 0h24v24H0V0z\" fill=\"none\"/>\n",
              "    <path d=\"M18.56 5.44l.94 2.06.94-2.06 2.06-.94-2.06-.94-.94-2.06-.94 2.06-2.06.94zm-11 1L8.5 8.5l.94-2.06 2.06-.94-2.06-.94L8.5 2.5l-.94 2.06-2.06.94zm10 10l.94 2.06.94-2.06 2.06-.94-2.06-.94-.94-2.06-.94 2.06-2.06.94z\"/><path d=\"M17.41 7.96l-1.37-1.37c-.4-.4-.92-.59-1.43-.59-.52 0-1.04.2-1.43.59L10.3 9.45l-7.72 7.72c-.78.78-.78 2.05 0 2.83L4 21.41c.39.39.9.59 1.41.59.51 0 1.02-.2 1.41-.59l7.78-7.78 2.81-2.81c.8-.78.8-2.07 0-2.86zM5.41 20L4 18.59l7.72-7.72 1.47 1.35L5.41 20z\"/>\n",
              "  </svg>\n",
              "      </button>\n",
              "      \n",
              "  <style>\n",
              "    .colab-df-container {\n",
              "      display:flex;\n",
              "      flex-wrap:wrap;\n",
              "      gap: 12px;\n",
              "    }\n",
              "\n",
              "    .colab-df-convert {\n",
              "      background-color: #E8F0FE;\n",
              "      border: none;\n",
              "      border-radius: 50%;\n",
              "      cursor: pointer;\n",
              "      display: none;\n",
              "      fill: #1967D2;\n",
              "      height: 32px;\n",
              "      padding: 0 0 0 0;\n",
              "      width: 32px;\n",
              "    }\n",
              "\n",
              "    .colab-df-convert:hover {\n",
              "      background-color: #E2EBFA;\n",
              "      box-shadow: 0px 1px 2px rgba(60, 64, 67, 0.3), 0px 1px 3px 1px rgba(60, 64, 67, 0.15);\n",
              "      fill: #174EA6;\n",
              "    }\n",
              "\n",
              "    [theme=dark] .colab-df-convert {\n",
              "      background-color: #3B4455;\n",
              "      fill: #D2E3FC;\n",
              "    }\n",
              "\n",
              "    [theme=dark] .colab-df-convert:hover {\n",
              "      background-color: #434B5C;\n",
              "      box-shadow: 0px 1px 3px 1px rgba(0, 0, 0, 0.15);\n",
              "      filter: drop-shadow(0px 1px 2px rgba(0, 0, 0, 0.3));\n",
              "      fill: #FFFFFF;\n",
              "    }\n",
              "  </style>\n",
              "\n",
              "      <script>\n",
              "        const buttonEl =\n",
              "          document.querySelector('#df-28aba370-4713-4e54-b17c-9441cf4e0378 button.colab-df-convert');\n",
              "        buttonEl.style.display =\n",
              "          google.colab.kernel.accessAllowed ? 'block' : 'none';\n",
              "\n",
              "        async function convertToInteractive(key) {\n",
              "          const element = document.querySelector('#df-28aba370-4713-4e54-b17c-9441cf4e0378');\n",
              "          const dataTable =\n",
              "            await google.colab.kernel.invokeFunction('convertToInteractive',\n",
              "                                                     [key], {});\n",
              "          if (!dataTable) return;\n",
              "\n",
              "          const docLinkHtml = 'Like what you see? Visit the ' +\n",
              "            '<a target=\"_blank\" href=https://colab.research.google.com/notebooks/data_table.ipynb>data table notebook</a>'\n",
              "            + ' to learn more about interactive tables.';\n",
              "          element.innerHTML = '';\n",
              "          dataTable['output_type'] = 'display_data';\n",
              "          await google.colab.output.renderOutput(dataTable, element);\n",
              "          const docLink = document.createElement('div');\n",
              "          docLink.innerHTML = docLinkHtml;\n",
              "          element.appendChild(docLink);\n",
              "        }\n",
              "      </script>\n",
              "    </div>\n",
              "  </div>\n",
              "  "
            ]
          },
          "metadata": {},
          "execution_count": 16
        }
      ],
      "source": [
        "#El método describe de pandas te tira un resumen estadístico de cada columna numérica\n",
        "Xtrain[num_vars].describe()\n"
      ]
    },
    {
      "cell_type": "markdown",
      "metadata": {
        "id": "dU7qd95XQ2tp"
      },
      "source": [
        "Fíjate que solo le dijimos a pandas que nos de el resumen estadístico solo para las variables age, amount y duration. Esto porque sacar una media o una desv std no hace sentido para datos categóricos.\n",
        "\n",
        "Viendo la data, podemos observar que las escalas son muy diferentes. Fíjate que para la variable \"age\", el mínimo es 19 y máximo 75, mientras que para \"amount\" el mínimo es 279 y el máximo 18,434. Por otro lado, \"duration\" tiene un mínimo de 4 y un máximo de 72.\n",
        "\n",
        "Lo anterior significa que en algún momento tendremos que escalar estos datos, ya que sus rangos son muy diferentes entre uno y otro, y esto puede afectar el desempeño del modelo.\n",
        "\n",
        "Ahora, construyamos un diagrama de caja para verlos más de cerca:"
      ]
    },
    {
      "cell_type": "code",
      "execution_count": null,
      "metadata": {
        "id": "oMaVtfMAQ2tq",
        "outputId": "ca78e331-c688-40de-bebd-d66b918a353d",
        "colab": {
          "base_uri": "https://localhost:8080/",
          "height": 914
        }
      },
      "outputs": [
        {
          "output_type": "stream",
          "name": "stdout",
          "text": [
            "Diagrama para age\n"
          ]
        },
        {
          "output_type": "display_data",
          "data": {
            "text/plain": [
              "<Figure size 432x288 with 1 Axes>"
            ],
            "image/png": "[encoded data removed]"
          },
          "metadata": {
            "needs_background": "light"
          }
        },
        {
          "output_type": "stream",
          "name": "stdout",
          "text": [
            "\n",
            "\n",
            "Diagrama para amount\n"
          ]
        },
        {
          "output_type": "display_data",
          "data": {
            "text/plain": [
              "<Figure size 432x288 with 1 Axes>"
            ],
            "image/png": "[encoded data removed]"
          },
          "metadata": {
            "needs_background": "light"
          }
        },
        {
          "output_type": "stream",
          "name": "stdout",
          "text": [
            "\n",
            "\n",
            "Diagrama para duration\n"
          ]
        },
        {
          "output_type": "display_data",
          "data": {
            "text/plain": [
              "<Figure size 432x288 with 1 Axes>"
            ],
            "image/png": "[encoded data removed]"
          },
          "metadata": {
            "needs_background": "light"
          }
        },
        {
          "output_type": "stream",
          "name": "stdout",
          "text": [
            "\n",
            "\n"
          ]
        }
      ],
      "source": [
        "import matplotlib.pyplot as plt\n",
        "\n",
        "for var in num_vars: #Iteramos sobre cada variable numérica para así construir un boxplot por variable\n",
        "    print(f\"Diagrama para {var}\") \n",
        "    Xtrain[[var]].boxplot()  #Le decimos a pandas que construya el boxplot para cada variable\n",
        "    plt.show() #Usamos esta función para \"forzar\" que se muestre el diagrama, de lo contrario solo aparecerá el último boxplot que se construyó.\n",
        "    print(\"\\n\") #Damos enter para separar un poco los gráficos"
      ]
    },
    {
      "cell_type": "markdown",
      "metadata": {
        "id": "EByH_GfeQ2tq"
      },
      "source": [
        "Analicemos los boxplots, pero para eso debemos entender cómo se interpretan. Recomiendo que leas el tutorial de introducción a la estadística para repasar algunos conceptos que utilizaremos.\n",
        "\n",
        "Bien, veamos la estructura del diagrama de caja:\n",
        "\n",
        "![Boxplot](https://github.com/rafaeljosem/tutoriales-mna/blob/main/IA%20%26%20AA/images/boxplot-example.png?raw=1)\n",
        "\n",
        "* La caja que ves en el diagrama representa un 50% de la información. Mientras más alargada es la caja, significa que mayor variación tendrán los datos. Esta información suele ser muy útil cuando comparas varios diagramas de caja. Visualmente te das cuenta de una vez cuál de todas las variables es la que mayor variabilidad tiene.\n",
        "\n",
        "* Los bigotes representan el restante 50% de los datos. Mientras más grande los bigotes, significa que mayor es la variabilidad de esos datos. Por ejemplo, mira como el bigote de abajo es más pequeño al bigote de arriba. Esto significa que los datos por debajo del primer cuartil tienen menor variación que los datos por encima del tercer cuartil. En otras palabras, el extremo izquierdo de los datos es más consistente que el extremo derecho. Ya esto nos da un indicio de que la distribución tiene un sesgo positivo.\n",
        "\n",
        "* Podemos notar presencia de valores atípicos en el extremo derecho de la distribución (arriba).\n",
        "  \n",
        "* Fíjate que alrededor del 75% de la información se encuentra debajo del 25 aproximadamente (el tercer cuartil). Esta información es útil para determinar el tipo de imputación a realizar. Por ejemplo, podemos ver que la mayoría de los datos se concentran entre 5 y 25 aproximadamente (bigote del extermo izquierdo hasta tercer cuartil). Esto significa que no hay tanta variación y podríamos sustituir por la media o mediana en caso de toparnos con datos vacíos. Ahora, si la caja fuera mucho más alargada (es decir, mayor variación), entonces tal vez sería mejor usar la mediana en vez de la media (de nuevo, recomiendo leer el tutorial de introducción a la estadística).\n",
        "  \n",
        "* ¿Cómo se si hay o no poca variación? Primero por el tamaño de la caja, como vimos arriba. Pero lo segundo es porque la mediana y la media tienen valores muy parecidos. Fíjate que en el diagrama la mediana se encuentra cerca del 20. Si buscas arriba, en el resumen estadístico, verás que la media es 20.9. Si ambos valores se parecen, significa que hay poca variabilidad (por eso podría sustituir valores vacíos por cualquiera de las dos).\n",
        "\n",
        "\n",
        "Listo, ya tienes tu badge en boxplots.\n",
        "\n",
        "En conclusión, podemos ver que los tres datos están sesgados de manera positiva (esto significa que la mayoría de los datos se agrupan a la izquierda de la distribución, generando una \"cola\" larga hacia el lado derecho. Intenta graficando un histograma de entre 10-15 bins para que lo veas).\n",
        "\n",
        "Ahora exploremos la variable de respuesta, es decir, los datos en Ytrain."
      ]
    },
    {
      "cell_type": "code",
      "execution_count": null,
      "metadata": {
        "id": "8ZqkdAu_Q2tq",
        "outputId": "02a6c75c-cecc-46f4-98bb-c64e91b8cdbd",
        "colab": {
          "base_uri": "https://localhost:8080/"
        }
      },
      "outputs": [
        {
          "output_type": "execute_result",
          "data": {
            "text/plain": [
              "credit_risk\n",
              "1              563\n",
              "0              237\n",
              "dtype: int64"
            ]
          },
          "metadata": {},
          "execution_count": 18
        }
      ],
      "source": [
        "#value_counts() lo que hace es contar la frecuencia de cada valor único. \n",
        "# Por ejemplo, cuantos 1s hay y cuantos 0s hay. \n",
        "# Si tuviésemos 100 números diferentes, pues haría lo mismo: cuantos 1s hay, cuantos 2s, cuantos 3s, etc.\n",
        "Ytrain.value_counts()\n"
      ]
    },
    {
      "cell_type": "markdown",
      "metadata": {
        "id": "UKqikkDAQ2tr"
      },
      "source": [
        "Recordemos que en ese dataset la intención es predecir si una persona es confiable o no para darle un crédito (por lo que estamos ante un problema de clasificación). Eso significa que el resultado de Ytrain es una variable categórica (específicamente del tipo binario), y no una variable numérica. Por tal razón, utilizamos la función \"value_counts\", en vez de describe, para ver simplemente las frecuencias y si estamos ante una clase balanceada o no.\n",
        "\n",
        "De lo anterior nos podemos fijar que alrededor del 70% tienen una clasificación de 1 y el restante 30% una clasificación de cero. Ya con esto podemos ver que nuestra clase está desbalanceada y esta información será útil más adelante.\n",
        "\n",
        "Si quieres ver la información anterior en porcentajes, solo tienes que hacer esto:"
      ]
    },
    {
      "cell_type": "code",
      "execution_count": null,
      "metadata": {
        "id": "ZybHB4eoQ2tr",
        "outputId": "0a0daf0c-1f3e-4531-d031-9e58915aff1c",
        "colab": {
          "base_uri": "https://localhost:8080/"
        }
      },
      "outputs": [
        {
          "output_type": "execute_result",
          "data": {
            "text/plain": [
              "credit_risk\n",
              "1              0.70375\n",
              "0              0.29625\n",
              "dtype: float64"
            ]
          },
          "metadata": {},
          "execution_count": 19
        }
      ],
      "source": [
        "Ytrain.value_counts() / len(Ytrain)"
      ]
    },
    {
      "cell_type": "markdown",
      "metadata": {
        "id": "c-ypUIzZQ2tr"
      },
      "source": [
        "##### **2. Limpieza de los datos**\n",
        "\n",
        "Ahora definamos una estrategia para lidiar con los valores vacíos. Existen muchas, pero vamos enfocarnos en las más simples:\n",
        "\n",
        "* Sustituir por la media o mediana: Esta estrategia es útil para los datos numéricos ya que no hace sentido calcular estos estadísticos para los categóricos. Como vimos arriba, sustituir por la media o mediana dependerá de que tanta variación exista en nuestros datos (pues queremos el valor que mejor represente a nuestro conjunto).\n",
        "  \n",
        "* Sustituir por moda o frecuencia: Esta estrategia la utilizaremos para valores categóricos. Es decir, si nos topamos con un valor vacío, entonces lo sustituimos con el que más se repita.\n",
        "  \n",
        "* Eliminar los datos: Esta estrategia podríamos usarla si una fila tiene muchos valores vacíos (por ejemplo, más de 3). La elección de mucho o poco dependerá bastante del conjunto de datos con el que estemos trabajando.\n",
        "\n",
        "Para fines de este ejemplo, vamos a utilizar las estrategias de sustitución, pero recuerda que hay otras más que valen la pena explorar.\n",
        "\n",
        "Comencemos primero sustituyendo los vacíos de los numéricos por la media o mediana. Para eso utilizaremos el SimpleImputer de Sklearn"
      ]
    },
    {
      "cell_type": "code",
      "execution_count": null,
      "metadata": {
        "id": "UgrMx2AiQ2tr",
        "outputId": "6e66b54b-1023-4372-d194-c5c8ea8bb29b",
        "colab": {
          "base_uri": "https://localhost:8080/"
        }
      },
      "outputs": [
        {
          "output_type": "execute_result",
          "data": {
            "text/plain": [
              "array([[  25., 3105.,   24.],\n",
              "       [  29., 1193.,   24.],\n",
              "       [  35., 3780.,   18.],\n",
              "       ...,\n",
              "       [  31., 4817.,   24.],\n",
              "       [  36., 2872.,   24.],\n",
              "       [  44., 5507.,   24.]])"
            ]
          },
          "metadata": {},
          "execution_count": 20
        }
      ],
      "source": [
        "from sklearn.impute import SimpleImputer\n",
        "\n",
        "\n",
        "num_imputer = SimpleImputer(strategy='mean')\n",
        "num_imputed =  num_imputer.fit_transform(Xtrain[num_vars], Ytrain)\n",
        "\n",
        "cat_imputer = SimpleImputer(strategy='most_frequent')\n",
        "cat_imputed = cat_imputer.fit_transform(Xtrain[cat_vars], Ytrain)\n",
        "\n",
        "#Vamos a imprimir un ejemplo de como se ven los datos\n",
        "num_imputed"
      ]
    },
    {
      "cell_type": "markdown",
      "metadata": {
        "id": "8psuhSpHQ2tr"
      },
      "source": [
        "Del paso anterior acabamos de imputar los datos, donde los numéricos vacíos serán sustituidos por la media (mean) y los categóricos vacíos serán sustituidos por la moda (most_frequent).\n",
        "\n",
        "Fíjate como tuvimos que separar cada imputación según el tipo de variable, y debido a esto obtenemos los resultados imputados de manera separada también (y en formato de array, no en dataframe).\n",
        "\n",
        "Hacerlo de esta manera es tedioso, principalmente si quieres seguir aplicando transformaciones en función del tipo de dato (categórico, numérico, etc). Imagínate que quieras escalar los numéricos, pues tendrás que aplicar el MinMaxScaler en otro paso, metiéndole el resultado del SimpleImputer al MinMax. \n",
        "\n",
        "Ahora imagínate que quieres normalizar los datos. Pues ahora tendrás que aplicar en otro paso un Normalizer y ponerle como entrada los resultados del MinMaxScaler, etc, etc, etc.\n",
        "\n",
        "Fíjate como la cosa se va enredando a medida que vas añadiendo nuevos pasos. Por suerte, hay una solución para esto y son los Pipelines! \n",
        "\n",
        "![pied-piper](https://github.com/rafaeljosem/tutoriales-mna/blob/main/IA%20%26%20AA/images/memes/pied-piper.gif?raw=1)\n",
        "\n",
        "Vamos a ver como funcionan."
      ]
    },
    {
      "cell_type": "code",
      "execution_count": null,
      "metadata": {
        "id": "8I__5wqwQ2ts"
      },
      "outputs": [],
      "source": [
        "from sklearn.pipeline import Pipeline\n",
        "from sklearn.preprocessing import MinMaxScaler\n",
        "\n",
        "\n",
        "cat_pipeline = Pipeline(steps = [\n",
        "    (\"imputer\", SimpleImputer(strategy='most_frequent'))\n",
        "])\n",
        "\n",
        "num_pipeline = Pipeline(steps = [\n",
        "    (\"imputer\", SimpleImputer(strategy='mean')),\n",
        "     (\"scaler\", MinMaxScaler())\n",
        "])"
      ]
    },
    {
      "cell_type": "markdown",
      "metadata": {
        "id": "leCczN-wQ2ts"
      },
      "source": [
        "Tal vez estás diciendo \"Pero igual tuviste que hacer dos pipelines para cada tipo de datos. No veo la diferencia\". Aguanta un poco. Más adelante verás la ventaja de todo esto. Pero mientras tanto, vamos a ver que fue lo que hicimos arriba.\n",
        "\n",
        "* Primero, fíjate como se definen los pipelines. Para esto creas un objeto del tipo Pipeline de la librería sklearn. Cuando creas el pipeline debes definir los pasos que quieres que este realice. Imagínate el pipeline como un conjunto de tareas que le quieres aplicar a un conjunto de datos, en un orden específico (el orden en como colocas los pasos importa).\n",
        "  \n",
        "* Cuando colocas los pasos, estos van dentro de una lista (por eso ves unos corchetes en steps = []). Dentro de la lista colocas los pasos en tuplas (que son los paréntesis). La secuencia es como sigue: (nombre_del_paso, transformador), donde nombre_del_paso es un nombre arbitrario que quieras darle (imputer, juan, pedro, falcon, jobish, etc) y el transformador es la acción que quieres realizar (imputar, escalar, etc).\n",
        "\n",
        "* Por último, nota que definimos dos pipelines, uno para las numéricas y otro para los categorícos. Esto porque las transformaciones a realizar son diferentes según el tipo de datos. En el caso de las numéricas nota como definimos dos pasos: el imputer y el scaler, los cuales se ejecutarán en ese mismo orden.\n",
        "\n",
        "Ok, suficiente con esto de los pipelines. Ahora veamos como unimos todo."
      ]
    },
    {
      "cell_type": "code",
      "execution_count": null,
      "metadata": {
        "id": "-_qWeTzVQ2ts"
      },
      "outputs": [],
      "source": [
        "from sklearn.compose import ColumnTransformer\n",
        "\n",
        "\n",
        "transformer = ColumnTransformer(transformers=[\n",
        "    (\"cat\", cat_pipeline, cat_vars),\n",
        "    (\"num\", num_pipeline, num_vars)\n",
        "]); \n",
        "#El punto y coma que ves al final solo funciona para Jupyter. Esto es para evitar que imprima algo en la consola. \n",
        "#Si se lo quito, a mi me aparece un diagrama de árbol con la información del transformador. \n",
        "#Como esa info no es relevante para lo que estamos viendo, prefiero que ni aparezca."
      ]
    },
    {
      "cell_type": "markdown",
      "metadata": {
        "id": "9luzqdknQ2ts"
      },
      "source": [
        "En el bloque anterior usamos el paso \"ColumnTransformer\" de sklearn. Veamos que pasó aquí:\n",
        "\n",
        "* El ColumnTransformer funciona con una lógica similar al pipeline. Lo que hace es tomar los pipelines que definimos arriba y lo ponemos en una lista de la siguiente manera (nombre del transformador, transformador(en este caso pipeline), columnas a la que le aplicarás la transformación).\n",
        "\n",
        "* La gran diferencia con el ColumnTransformer es que tu defines las variables o columnas a las cuales le quieres aplicar cierta transformación. Por ejemplo, mira que nosotros queremos aplicar el cat_pipeline solo a las categóricas, mientras que el num_pipeline solo a las numéricas. Es por eso que al final colocamos la lista cat_vars que contiene los nombres de las columnas categóricas para el paso \"cat\", así como la lista num_vars con los nombres de las variables numéricas para el paso \"num\". \n",
        "\n",
        "* El ColumnTransformer no solo acepta pipelines. En realidad acepta cualquier transformador. Por ejemplo, nosotros pudimos haber hecho lo siguiente también y nos ahorramos uno de los pipelines, ya que solo tenía un paso:"
      ]
    },
    {
      "cell_type": "code",
      "execution_count": null,
      "metadata": {
        "id": "Fcptzg6iQ2ts"
      },
      "outputs": [],
      "source": [
        "transformer = ColumnTransformer(transformers=[\n",
        "    (\"cat\", SimpleImputer(strategy='most_frequent'), cat_vars),\n",
        "    (\"num\", num_pipeline, num_vars)\n",
        "])"
      ]
    },
    {
      "cell_type": "markdown",
      "metadata": {
        "id": "uWhpuEsdQ2ts"
      },
      "source": [
        "¿Listo para el truco final? Aquí vamos:"
      ]
    },
    {
      "cell_type": "code",
      "execution_count": null,
      "metadata": {
        "id": "KrCPS0vvQ2ts"
      },
      "outputs": [],
      "source": [
        "from sklearn.linear_model import LogisticRegression\n",
        "import numpy as np\n",
        "\n",
        "final_pipe = Pipeline(steps = [\n",
        "    ('optimus_prime', transformer),\n",
        "    ('model', LogisticRegression()) \n",
        "])\n",
        "\n",
        "final_pipe.fit(Xtrain, Ytrain.values.ravel());\n",
        "#Nota: El Ytrain.values.ravel() es porque el modelo LogisticRegression tira la siguiente advertencia:\n",
        "#\"DataConversionWarning: A column-vector y was passed when a 1d array was expected. \n",
        "#Please change the shape of y to (n_samples, ), for example using ravel()\""
      ]
    },
    {
      "cell_type": "markdown",
      "metadata": {
        "id": "2325qSFzQ2tt"
      },
      "source": [
        "Y aquí es donde está la gran ventaja de todo. Solo tuvimos que entrar el Xtrain y Ytrain una sola vez, sin tener que repetir el fit o fit_transform varias veces. Definimos los pasos que queremos aplicar y luego con un solo comando lo ejecutamos todo de una vez.\n",
        "\n",
        "![WOW](https://github.com/rafaeljosem/tutoriales-mna/blob/main/IA%20%26%20AA/images/memes/exploding-brain.gif?raw=1)\n",
        "\n",
        "Todos los pipelines, transformers, etc. se encargan de ejecutar cada paso en el orden en el que los colocamos y utilizando como entrada la salida de la última transformación."
      ]
    },
    {
      "cell_type": "markdown",
      "metadata": {
        "id": "e0xUwZ1lQ2tt"
      },
      "source": [
        "##### **3. Entrenamiento del Modelo**\n",
        "\n",
        "Posiblemente digas qué sentido tiene esta sección si ya entrenamos el modelo con nuestro final_pipe. En realidad, el propósito de poner el final_pipe en la sección anterior era para que pudieras ver como convergen todas las transformaciones en un solo lugar. En otras palabras, fue para fines didácticos.\n",
        "\n",
        "Hay otros temas por ver, como la validación cruzada, que deben definirse antes de entrenar el modelo. Así que olvidémosno de que ese final_pipe ocurrió y sigamos preparando nuestros datos para el entrenamiento.\n",
        "\n",
        "\n",
        "\n",
        "\n",
        "\n",
        "\n",
        "![WOW](https://github.com/rafaeljosem/tutoriales-mna/blob/main/IA%20%26%20AA/images/memes/tantrum.gif?raw=1)"
      ]
    },
    {
      "cell_type": "markdown",
      "metadata": {
        "id": "HsEvgHDdQ2tt"
      },
      "source": [
        "**3.1. Definiendo Scores**\n",
        "\n",
        "Vamos a definir manualmente el score para la media geométrica (gmean). Sklearn ya lo trae por defecto, pero hay que darle uso a ese badge de python. Así comencemos a definir una función para esto:"
      ]
    },
    {
      "cell_type": "code",
      "execution_count": null,
      "metadata": {
        "id": "MKeYtCD5Q2tt"
      },
      "outputs": [],
      "source": [
        "from sklearn.metrics import confusion_matrix\n",
        "\n",
        "def calculate_gmean(yreal, ypred):\n",
        "    \n",
        "    #Obtenemos los valores del confusion_matrix\n",
        "    results = confusion_matrix(yreal, ypred)\n",
        "    \n",
        "    #Aplanamos la matriz\n",
        "    vn, fp, fn, vp = results.ravel()\n",
        "    \n",
        "    #Calculamos especificidad con la fórmula que conocemos\n",
        "    specificity = vn/(vn + fp)\n",
        "    \n",
        "    #caclulamos el recall\n",
        "    recall = vp/(vp + fn)\n",
        "\n",
        "    #Calculamos la media geométrica\n",
        "    gmean = (specificity * recall) ** 1/2\n",
        "\n",
        "    #Devolvemos el valor que calculamos\n",
        "    return gmean"
      ]
    },
    {
      "cell_type": "markdown",
      "metadata": {
        "id": "SigXyuz7Q2tt"
      },
      "source": [
        "Vamos explicar paso por paso lo que hicimos en la función de arriba:\n",
        "\n",
        "**1. Llamamos el método confusion_matrix().**\n",
        "   \n",
        "Ese método nos devuelve una matriz 2x2, es decir, con dos columnas y dos filas. (La matriz es 2x2 porque estamos ante un problema de dos clases. Si fueran más clases, pues la matriz sería nxn). En resumen, esto es lo que nos entrega confusion_matrix():\n",
        "\n",
        "[[vn,fp], [fn, vp]]\n",
        "\n",
        "Fíjate que en el formato anterior tenemos listas dentro de otra lista (Inception de listas!). Lo anterior se conoce un arreglo o array de dos dimensiones (porque tiene filas y columnas).\n",
        "\n",
        "Nosotros podríamos acceder a cada uno de esos valores de la siguiente manera:\n",
        "\n",
        "vn = matriz[0][0], esto significa que vn está en la columna 0, fila 0 (recuerda que python comienza contando desde cero, no desde 1). Veamos otro ejemplo: fp = matriz[0][1], lo cual significa fila 0, columna 1.\n",
        "\n",
        "Pero hay otra forma de hacerlo, y que en mi opinión es más sencilla, usando el método \"ravel\" de numpy. Este método lo que hace es \"aplanar\" la matriz. En pocas palabras, todo lo convierte a un arreglo de una sola dimensión. Veamos un ejemplo:"
      ]
    },
    {
      "cell_type": "code",
      "execution_count": null,
      "metadata": {
        "id": "BHwvk9wHQ2tt",
        "outputId": "c01f3d3a-1e7a-4176-c962-61307cd60c0c",
        "colab": {
          "base_uri": "https://localhost:8080/"
        }
      },
      "outputs": [
        {
          "output_type": "execute_result",
          "data": {
            "text/plain": [
              "array([1, 2, 3, 4])"
            ]
          },
          "metadata": {},
          "execution_count": 26
        }
      ],
      "source": [
        "matriz = np.array([[1,2], [3,4]]) #definimos una matriz 2x2\n",
        "\n",
        "matriz.ravel()\n",
        "\n"
      ]
    },
    {
      "cell_type": "markdown",
      "metadata": {
        "id": "48YZLj5rQ2tt"
      },
      "source": [
        "Mira ahora como la información queda en una sola dimensión. Lo que antes era [[1,2],[3,4]] ahora es [1,2,3,4]. De esta forma ahora podemos decir que vn = matriz[0], fp = matriz[1], etc.\n",
        "\n",
        "También, lo anterior nos ayuda a asignar cada valor a una variable específica, como se muestra a continuación:"
      ]
    },
    {
      "cell_type": "code",
      "execution_count": null,
      "metadata": {
        "id": "5bjJgM0qQ2tt",
        "outputId": "0d0cad04-0b27-4ac6-cdea-537f8d5b7442",
        "colab": {
          "base_uri": "https://localhost:8080/"
        }
      },
      "outputs": [
        {
          "output_type": "stream",
          "name": "stdout",
          "text": [
            "vn: 1, fp: 2, fn: 3, vp: 4\n"
          ]
        }
      ],
      "source": [
        "vn, fp, fn, vp = matriz.ravel()\n",
        "\n",
        "print(f\"vn: {vn}, fp: {fp}, fn: {fn}, vp: {vp}\")"
      ]
    },
    {
      "cell_type": "markdown",
      "metadata": {
        "id": "OFiM6kkHQ2tu"
      },
      "source": [
        "Básicamente lo que hicimos en el código anterior fue asignar cada valor que devuelve \"ravel()\" a una variable específica, en vez de almacenarlo como lista. \n",
        "\n",
        "Una pregunta que posiblemente te hagas es: ¿siempre confusion_matrix tirará los valores en ese orden?\n",
        "\n",
        "Y la respuesta es si, **siempre y cuando** pongas los valores de esta manera: confusion_matrix(yreal, ypred). Es decir, cuando llames este método, debes poner primero los valores reales y de segundo los valores que se estimaron por medio de un modelo (las predicciones). **Si los colocas al revés, entonces el orden del resultado del método confusion_matrix será diferente.** \n",
        "\n",
        "**2. Calculamos los valores**\n",
        "\n",
        "Ya todo lo demás es simplemente aplicar la fórmula de las métricas. Nota que el **(1/2) significa sacar la raíz cuadrada."
      ]
    },
    {
      "cell_type": "markdown",
      "metadata": {
        "id": "HCsfDA1BQ2tu"
      },
      "source": [
        "**3.2. Definiendo la función para las métricas de validación cruzada**\n",
        "\n",
        "A continuación, vamos a definir la lógica para obtener las métricas de la validación cruzada."
      ]
    },
    {
      "cell_type": "code",
      "execution_count": null,
      "metadata": {
        "id": "bkVA5DCiQ2tu"
      },
      "outputs": [],
      "source": [
        "from sklearn.metrics import make_scorer\n",
        "from sklearn.model_selection import cross_validate\n",
        "\n",
        "def obtain_cross_validate_scores(models, model_names, X, y, cv):\n",
        "    \n",
        "    #Aquí almacenaremos los scores de los diferentes modelos\n",
        "    scores = []\n",
        "    \n",
        "    #Iteramos sobre cada modelo\n",
        "    for i in range(len(models)):\n",
        "        \n",
        "        #Construimos nuestro pipe como hicimos más arriba, usando ya el transformer que creamos\n",
        "        cv_pipe = Pipeline(steps = [\n",
        "        ('optimus_prime', transformer), #Nuestro transformer lo definimos arriba\n",
        "        (model_names[i], models[i]) \n",
        "        ])\n",
        "    \n",
        "        #Hacemos la validación cruzada y almacenamos los resultados en la variable \"score\"\n",
        "        score = cross_validate(\n",
        "            estimator=cv_pipe, X=Xtrain, y=Ytrain.values.ravel(), #Evita el warning que comentamos arriba\n",
        "            scoring={\n",
        "                'gmean':make_scorer(calculate_gmean), \n",
        "                'accuracy':'accuracy', \n",
        "                'recall': 'recall'})\n",
        "    \n",
        "        #El score de cada iteración es almacenado en la lista \"scores\"\n",
        "        scores.append(score)\n",
        "    \n",
        "\n",
        "        #Imprimos el resultado para cada modelo\n",
        "        print('%s:\\nmean Accuracy: %.3f (%.4f)\\nmean Recall: %.3f (%.4f)\\nGmean: %.3f (%.4f)\\n' % (model_names[i],\n",
        "                                                                          np.mean(score['test_accuracy']),\n",
        "                                                                          np.std(score['test_accuracy']), \n",
        "                                                                          np.mean(score['test_recall']),\n",
        "                                                                          np.std(score['test_recall']),\n",
        "                                                                          np.mean(score['test_gmean']),\n",
        "                                                                          np.std(score['test_gmean']),  \n",
        "                                                                          ))\n",
        "\n",
        "    return scores #Devolvemos los scores por si queremos hacer algo con ellos"
      ]
    },
    {
      "cell_type": "markdown",
      "metadata": {
        "id": "MIBL7uEsQ2tu"
      },
      "source": [
        "Estudiemos la función anterior para tratar de entenderla.\n",
        "\n",
        "Esta función recibe 5 argumentos:\n",
        "\n",
        "* models: Una lista de modelos a los que se les quiere calcular las métricas de validación cruzada.\n",
        "* model_names: Los nombres de los modelos (en el mismo orden en como se almacenaron en models)\n",
        "* X: Los valores de entrada (las Xs)\n",
        "* y: Los datos de la variable de salida (las Ys)\n",
        "* cv: El validador cruzado a utilizar.\n",
        "\n",
        "La ventaja de definir una función que permita obtener los resultados de la validación cruzada nos permite reutilizarla tantas veces queramos con diferentes modelos.\n",
        "\n",
        "Ahora pasemos al contenido de la función.\n",
        "\n",
        "1. Lo primero que notarás es un for loop. La idea es iterar sobre cada modelo que le pasamos. Si le pasamos dos modelos, pues el código dentro del for loop se ejecutará dos veces, una por cada modelo. Si le pasamos tres modelos, pues se ejecutará tres veces y así.\n",
        "   \n",
        "2. Creamos el pipe como ya lo habíamos hecho más arriba. Solo nota que ahora colocamos model_names[i] y models[i]. Esto significa que extraiga de ambas lista el nombre y modelo correspondiente. Por ejemplo, si el bucle se encuentra en la iteración 0 (recuerda que Python cuenta desde cero, no uno), entonces model_names[0] y models[0] extraerán los modelos que se encuentran en esa posición. Cuando pase a la iteración 1, pues hará lo mismo y así sucecivamente. En pocas palabras, la variable \"i\" es nuestro contador (si, él estudió contabilidad en el Tec) y va llevando la cantidad de iteraciones que ha realizado el for-loop.\n",
        "   \n",
        "3. El cross_validate es una función que posiblemente ya conozcas. Esta nos devuelve los scores o métricas que le solicitamos. En este caso le pedimos tres: recall, gmean y accuracy. Nota que en el caso de gmean, nosotros definimos una función propia. Por tanto, debemos ponerla en el método make_scorer(calculate_gmean), esto para que se pueda convertir a una función que sklearn pueda leer. Es algo así como que escribimos la función para que sea usada en enchufes gringos, pero cross_validate solo acepta enchufes europeos, por lo que make_scorer la adapta para europa.\n",
        "   \n",
        "   Otro punto importante es que al parámetro \"estimator\" le pasamos el pipe. Fíjate que por ningún lado ves el .fit o .fit_transform. Esto porque ya el cross_validate lo hace por nosotros al pasarle el pipe.\n",
        "\n",
        "4. Por último, almacenamos el score de cada iteración en la lista \"scores\", imprimimos los resultados y lo devolvemos a quien llamó nuestra función.\n"
      ]
    },
    {
      "cell_type": "markdown",
      "metadata": {
        "id": "X7DKW7G4Q2tv"
      },
      "source": [
        "**3.3. Definiendo las funciones para la crear la curva de aprendizaje**\n",
        "\n",
        "Ahora definamos las funciones para generar las curvas de aprendizaje (si, todavía no hemos acabado).\n",
        "\n",
        "![WOW](https://github.com/rafaeljosem/tutoriales-mna/blob/main/IA%20%26%20AA/images/memes/sleepy-tired.gif?raw=1)"
      ]
    },
    {
      "cell_type": "code",
      "execution_count": null,
      "metadata": {
        "id": "3WPpfBF_Q2tv"
      },
      "outputs": [],
      "source": [
        "from sklearn.model_selection import learning_curve\n",
        "\n",
        "#Esta función crea la curva de aprendizaje\n",
        "def create_learning_curve(model, X, y, cv):\n",
        "    \n",
        "    #Otra vez el pipe. Como mejora, podríamos definir una función que nos devuelva el pipe.\n",
        "    #y así no tener que repetir código. Te lo dejo de tarea.\n",
        "    lc_pipe = Pipeline(steps = [\n",
        "        ('optimus_prime', transformer),\n",
        "        ('model', model) \n",
        "        ])\n",
        "    \n",
        "    #Definimos el rango del tamaño de las muestras para entrenamiento\n",
        "    #Estaremos probando para tamaños de muestras que van desde un\n",
        "    # 10% del total hasta el 100% del total\n",
        "    sizes_perc = np.linspace(0.1,1.0,30)\n",
        "    \n",
        "    return learning_curve(\n",
        "        estimator=lc_pipe, \n",
        "        X = X, y = y.values.ravel(), \n",
        "        train_sizes=sizes_perc, \n",
        "        cv=cv, random_state=42)\n"
      ]
    },
    {
      "cell_type": "markdown",
      "metadata": {
        "id": "6AjpcmDjQ2tv"
      },
      "source": [
        "Esta función lo que hace es crear una curva de aprendizaje de la siguiente forma:\n",
        "\n",
        "1. Crea el pipe (igual como lo hemos hecho antes). Mira lo conveniente que es tener todo montado en un pipe, pues es solo de llamarlo sin tener que estar escribiendo cada paso una y otra vez.\n",
        "   \n",
        "2. Genera los tamaños de las muestras a utilizar para la curva con la función linspace de numpy. Esta función lo que hace es generar 30 valores, igualmente espaciados, que estén entre 0.1 (10%) y 1.0 (100%). En otras palabras, learning_curve nos va a generar una serie de puntos para cuando el tamaño de los datos de entrenamiento es un 10% del total de la muestra, cuando es un 13%, un 16%, etc etc hasta llegar un 100%.\n",
        "   \n",
        "3. Metemos todo en learning_curve y devolvemos los resultados. \n",
        "   \n",
        "4. Learning curve devuelve una lista de 5 valores (pero realmente nos interesan solo los primeros 3): \n",
        "   \n",
        "   - El tamaño de los datos de entrenamiento, que en este caso serán 30 tamaños diferentes (porque así lo definimos con linspace). Algo importante. Estos 30 tamaños diferentes no son los porcentajes que definimos con linspace, sino el tamaño de muestra que representa cada porcentaje. Por ejemplo, si el primer tamaño es el 10% del total (0.1), y el conjunto de datos de entrenamiento tiene un tamaño de 800 valores, entonces el primer tamaño (de los 30 que devuelve) es 80.\n",
        "  \n",
        "   - La métrica de entrenamiento: Devolverá una tabla de 30 filas y 15 columnas con las métricas de desempeño, que por default es el accuracy (lo puedes cambiar pasando el argumento \"scoring\"). ¿De donde sale el 30 y el 15? pues el 30 ya vimos que es de los diferentes tamaños de muestras que definimos con linspace. El 15 sale porque más debajo vamos a pedir la validación cruzada de 5 splits con 3 repeticiones (en total 5x3 = 15 iteraciones). Si pidiésemos 3 splits con 3 repeticiones, entonces serían 3x3 = 9 iteraciones.\n",
        "  \n",
        "   - Es el mismo concepto de la métrica de entrenamiento, nada más que ahora calculado para el conjunto de validación.\n",
        "\n",
        "\n",
        "Ahora definamos una función para graficar la curva:"
      ]
    },
    {
      "cell_type": "code",
      "execution_count": null,
      "metadata": {
        "id": "_XA6d6RqQ2tv"
      },
      "outputs": [],
      "source": [
        "#Esta función grafica las curvas de aprendizaje\n",
        "def plot_learning_curve(model, X, y, cv):\n",
        "    \n",
        "    #Antes de graficar, hay que crear la curva, verdad?\n",
        "    train_sizes, train_scores, val_scores = create_learning_curve(model, X, y, cv)\n",
        "    \n",
        "    #Nos interesan graficar los promedios.\n",
        "    train_avg = np.mean(train_scores, axis = 1)\n",
        "    val_avg = np.mean(val_scores, axis = 1)\n",
        "    \n",
        "    plt.figure(figsize=(8,7))\n",
        "    \n",
        "    #.plot viene siendo una línea del gráfico. Esta línea estará\n",
        "    #representando la curve de entrenamiento y será verde.\n",
        "    plt.plot(train_sizes, train_avg, color = 'green', marker=\"o\", label=\"Training\", markersize=\"5\" )\n",
        "    \n",
        "    #Esta otra línea será la curva de validación y será roja y discontinua (--)\n",
        "    plt.plot(train_sizes,val_avg, color=\"red\", marker=\"+\", linestyle=\"--\", markersize=\"5\", label=\"Validation\")\n",
        "    \n",
        "    #Los títulos y otras cosas.\n",
        "    plt.title('Curvas de Aprendizaje incrementando el tamaño de la muestra')\n",
        "    plt.xlabel('Tamaño del conjunto de entrenamiento')\n",
        "    \n",
        "    #En este tutorial estamos graficando accuracy, pero se puede cambiar\n",
        "    #La métrica en los argumentos de la función learning_curve\n",
        "    plt.ylabel('Exactitud (accuracy)')\n",
        "\n",
        "    #Le decimos que coloque la leyenda del gráfico en la esquina inferior derecha\n",
        "    plt.legend(loc='lower right')\n",
        "    plt.show()"
      ]
    },
    {
      "cell_type": "markdown",
      "metadata": {
        "id": "AzS5vrAkQ2tw"
      },
      "source": [
        "Esta función hace lo siguiente:\n",
        "\n",
        "* Obtiene los tres resultados que nos interesan, que ya comentamos arriba.\n",
        "* Calculamos la media de cada métrica de entrenamiento. El axis = 1 significa que queremos promediar los valores de cada fila. Como comentamos arriba, el train_scores va a devolver 30 filas con 15 columnas, las cuales se verán así:\n",
        "\n",
        "| Fold 1    | Fold 2 | Fold 3 | Fold 4 | Fold 5 | .... | Fold 15 |\n",
        "|-----------|--------|--------|--------|--------|------|---------|\n",
        "| Tamano 1  |  valor 1,1  |  valor 3,1 |  ...      |        |      |  valor 15,1       |\n",
        "| Tamano 2  |  valor 1,2      |        |        |        |      |         |\n",
        "| Tamano 3  |      valor 1,3  |        |        |        |      |         |\n",
        "| ...       |    ...    |        |        |        |      |         |\n",
        "| Tamano 30 |    valor 1,30    |        |        |        |      |         |\n",
        "\n",
        "\n",
        "Lo que buscamos es promediar cada fila, es decir, los valores de cada         iteración (fold) para cada tamaño de muestra que se usó. Si no ponemos el axis = 1, entonces lo que hará np.mean es promediar las columnas.\n",
        "\n",
        "* Mismo procedimiento para las métricas de validación.\n",
        "* Luego procedemos a graficar usando para ello la función pyplot de matplotlib (que la importamos más arriba). Fíjate que cada plt.plot es una línea del gráfico y tienes la posibilidad de ajustar cada parámetro de la línea (color, forma del marcador, estilo de línea, etc). Esto es como un excel con esteroides."
      ]
    },
    {
      "cell_type": "code",
      "source": [],
      "metadata": {
        "id": "vW2JFKTdkD5-"
      },
      "execution_count": null,
      "outputs": []
    },
    {
      "cell_type": "code",
      "source": [],
      "metadata": {
        "id": "IShLqmNFkCsL"
      },
      "execution_count": null,
      "outputs": []
    },
    {
      "cell_type": "markdown",
      "metadata": {
        "id": "N38bWmRwQ2tw"
      },
      "source": [
        "**3.4. Entrenando el modelo**\n",
        "\n",
        "Ahora si! ya podemos comenzar a entrenar nuestro modelo\n",
        "\n",
        "\n",
        "![WOW](https://github.com/rafaeljosem/tutoriales-mna/blob/main/IA%20%26%20AA/images/memes/finally.gif?raw=1)\n",
        "\n",
        "Comencemos primero definiendo nuestros modelos, los cuales serán uno de regeresión logísitca y otro de árbol de decisión."
      ]
    },
    {
      "cell_type": "code",
      "execution_count": null,
      "metadata": {
        "id": "vv7_OIoyQ2tw"
      },
      "outputs": [],
      "source": [
        "from sklearn.ensemble import RandomForestClassifier\n",
        "from sklearn.tree import DecisionTreeClassifier\n",
        "\n",
        "models = [LogisticRegression(random_state=1), DecisionTreeClassifier(random_state=1)]\n",
        "model_names = [\"Falcon (log)\", \"Jobish (tree)\"] #Los nombres son arbitrarios. Llámales como gustes. Yo usé los nombres de nuestros profesores\n"
      ]
    },
    {
      "cell_type": "markdown",
      "metadata": {
        "id": "TFjdTHIGQ2tw"
      },
      "source": [
        "Ahora definamos nuestra validación cruzada con 5 splits y 3 repeticiones, para un total de 15 folds (como mencionamos arriba) y usemos nuestra función para calcular los scores."
      ]
    },
    {
      "cell_type": "code",
      "execution_count": null,
      "metadata": {
        "id": "S41Ky4lRQ2tw",
        "outputId": "edc8cbdd-a0fc-4fd5-9d7c-a258f3f463c3",
        "colab": {
          "base_uri": "https://localhost:8080/"
        }
      },
      "outputs": [
        {
          "output_type": "stream",
          "name": "stdout",
          "text": [
            "Falcon (log):\n",
            "mean Accuracy: 0.732 (0.0390)\n",
            "mean Recall: 0.900 (0.0472)\n",
            "Gmean: 0.150 (0.0180)\n",
            "\n",
            "Jobish (tree):\n",
            "mean Accuracy: 0.639 (0.0121)\n",
            "mean Recall: 0.716 (0.0249)\n",
            "Gmean: 0.163 (0.0163)\n",
            "\n"
          ]
        }
      ],
      "source": [
        "from sklearn.model_selection import RepeatedStratifiedKFold\n",
        "\n",
        "#Definimos la validación cruzada\n",
        "cv = RepeatedStratifiedKFold (n_splits=5, n_repeats=3, random_state=42)\n",
        "\n",
        "#Pasamos los datos a nuestra función de validación\n",
        "obtain_cross_validate_scores(models, model_names, Xtrain, Ytrain, cv);"
      ]
    },
    {
      "cell_type": "code",
      "execution_count": null,
      "metadata": {
        "id": "WT8F6ri6Q2tw",
        "outputId": "758c1387-b33c-4d23-8101-c22726c8f2ef",
        "colab": {
          "base_uri": "https://localhost:8080/",
          "height": 933
        }
      },
      "outputs": [
        {
          "output_type": "stream",
          "name": "stdout",
          "text": [
            "Curva de aprendizaje para el modelo Falcon (log)\n"
          ]
        },
        {
          "output_type": "display_data",
          "data": {
            "text/plain": [
              "<Figure size 576x504 with 1 Axes>"
            ],
            "image/png": "[encoded data removed]"
          },
          "metadata": {
            "needs_background": "light"
          }
        },
        {
          "output_type": "stream",
          "name": "stdout",
          "text": [
            "Curva de aprendizaje para el modelo Jobish (tree)\n"
          ]
        },
        {
          "output_type": "display_data",
          "data": {
            "text/plain": [
              "<Figure size 576x504 with 1 Axes>"
            ],
            "image/png": "[encoded data removed]"
          },
          "metadata": {
            "needs_background": "light"
          }
        }
      ],
      "source": [
        "#Ahora vamos a usar nuestra función para graficar la cruva de aprendizaje para un modelo de regresión logística\n",
        "#usando la misma validación cruzada (cv) que definimos arriba\n",
        "\n",
        "for i in range(len(models)):\n",
        "    print(f\"Curva de aprendizaje para el modelo {model_names[i]}\")\n",
        "    plot_learning_curve (models[i], Xtrain, Ytrain, cv)"
      ]
    },
    {
      "cell_type": "markdown",
      "metadata": {
        "id": "97Km-HVpQ2tx"
      },
      "source": [
        "La interpretación de las curvas te la dejaré a tí. Pero llama la atención la curva de entrenamiento para el modelo del árbol. Siempre está en 100%. Esto es porque no hemos \"podado\" el árbol y por eso tenemos ese comportamiento. Ahora pasemos a la parte final: buscar los mejores parámetros."
      ]
    },
    {
      "cell_type": "markdown",
      "metadata": {
        "id": "-lYTgycBQ2tx"
      },
      "source": [
        "#### **4. Buscando los mejores parámetros**\n",
        "\n",
        "Para esta sección estaremos haciendo uso de GridSearchCV de sklearn. Para ello, vamos a definir una función que imprima los valores que arroja el método GridSearchCV y haga un par de configuraciones."
      ]
    },
    {
      "cell_type": "code",
      "execution_count": null,
      "metadata": {
        "id": "HnsozkQHQ2tx"
      },
      "outputs": [],
      "source": [
        "from sklearn.model_selection import GridSearchCV\n",
        "\n",
        "\n",
        "def do_grid_search(model, X, y, cv, dicc_grid, scoring = 'accuracy'):\n",
        "\n",
        "    #Nuestro pipe, otra vez\n",
        "    grid_pipe = Pipeline(steps = [\n",
        "        ('bumblebee', transformer),\n",
        "        ('model', model) \n",
        "        ])\n",
        "    \n",
        "    #Creamos el grid\n",
        "    grid = GridSearchCV(\n",
        "        estimator= grid_pipe, cv=cv, \n",
        "        param_grid=dicc_grid, scoring=scoring)\n",
        "    \n",
        "    #Le entramos los valores. Recuerda que el .ravel() es para evitar un warning\n",
        "    grid.fit(X, y.values.ravel())\n",
        "    \n",
        "    #Imprimimos resultados\n",
        "    print('Mejor valor de exactitud obtenido con la mejor combinación:', grid.best_score_)\n",
        "    print('Mejor combinación de valores encontrados de los hiperparámetros:', grid.best_params_)\n",
        "    print('Métrica utilizada:', grid.scoring)"
      ]
    },
    {
      "cell_type": "markdown",
      "metadata": {
        "id": "S3KKHb2AQ2tx"
      },
      "source": [
        "Veamos que hace la función anterior:\n",
        "\n",
        "* Definimos nuestro pipe (si, de nuevo. El mismo pipe). Nota que al paso donde colocamos el modelo le llamamos \"model\". Esto lo vamos a necesitar en un momento.\n",
        "* Luego creamos nuestro objetivo GridSearchCV y le pasamos el pipe, el validador cruzado (cv), el diccionario con las diferentes combinaciones que queremos probar y la métrica que queremos usar.\n",
        "* Luego le pasamos los valores de X y y al grid e imprimimos los resultados.\n",
        "\n",
        "\n",
        "Básicamente lo que el GridSearchCV hace es buscar la mejor combinación de todos los parámetros que has seleccionado. Es algo así como probar la mejor combinación de ingredientes para maximizar el sabor de la comida.\n",
        "\n",
        "Fíjate que el argumento \"scoring\" de nuestra función es opcional. Sino le pasas ningún valor, va asumir el 'accuracy' como default. Puedes probar con otras métricas como recall, f1-score, etc.\n",
        "\n",
        "Ahora usemos nuestra función grid para el modelo de regresión logística"
      ]
    },
    {
      "cell_type": "code",
      "execution_count": null,
      "metadata": {
        "id": "BG8aJPYCQ2tx",
        "outputId": "4ccb13d3-813e-4b78-edca-c740d93a17c9",
        "colab": {
          "base_uri": "https://localhost:8080/"
        }
      },
      "outputs": [
        {
          "output_type": "stream",
          "name": "stdout",
          "text": [
            "Mejor valor de exactitud obtenido con la mejor combinación: 0.7270833333333333\n",
            "Mejor combinación de valores encontrados de los hiperparámetros: {'model__C': 11.1112, 'model__solver': 'liblinear'}\n",
            "Métrica utilizada: accuracy\n"
          ]
        }
      ],
      "source": [
        "dicc_grid = {'model__C':np.linspace(0.0001, 100, 10),\n",
        "             'model__solver':['newton-cg','lbfgs','liblinear','sag','saga']\n",
        "             }\n",
        "\n",
        "do_grid_search(models[0], Xtrain, Ytrain, cv, dicc_grid, 'accuracy')"
      ]
    },
    {
      "cell_type": "markdown",
      "metadata": {
        "id": "eiuVJKZtQ2tx"
      },
      "source": [
        "ahora probemos el grid con algunos parámetros para el modelo de árbol de decisión."
      ]
    },
    {
      "cell_type": "code",
      "execution_count": null,
      "metadata": {
        "id": "s2JDnAu-Q2ty",
        "outputId": "53c61f36-5b23-48a8-df7e-ba82d9f586bd",
        "colab": {
          "base_uri": "https://localhost:8080/"
        }
      },
      "outputs": [
        {
          "output_type": "stream",
          "name": "stdout",
          "text": [
            "Mejor valor de exactitud obtenido con la mejor combinación: 0.70375\n",
            "Mejor combinación de valores encontrados de los hiperparámetros: {'model__criterion': 'gini', 'model__max_depth': 1}\n",
            "Métrica utilizada: accuracy\n"
          ]
        }
      ],
      "source": [
        "dicc_grid = {'model__max_depth':np.linspace(1, 100, 10, dtype=\"int\"),\n",
        "             'model__criterion':['gini','entropy']\n",
        "             }\n",
        "\n",
        "do_grid_search(models[1], Xtrain, Ytrain, cv, dicc_grid, 'accuracy')"
      ]
    },
    {
      "cell_type": "markdown",
      "metadata": {
        "id": "EZq-MB0aQ2ty"
      },
      "source": [
        "Entre los dos el modelo de regresión logística tuvo mejor accuracy si lo configuramos con los siguientes parámetros:\n",
        "\n",
        "C = 11.11\n",
        "solver: liblinear\n",
        "\n",
        "Importante destacar que existen otros hiperparámetros que se pueden probar. Para este tutorial solo vimos dos de cada modelo.\n",
        "\n",
        "Ahora veamos que fue lo que hicimos:\n",
        "\n",
        "**Regresión Logística**\n",
        "\n",
        "Para este modelo probamos dos parámetros: C con 10 valores que van desde 0.0001 hasta 100 y solver con 5 posibles configuraciones.\n",
        "\n",
        "* El parámetro C se usa para regularizar el modelo y por tanto minimizar el sobreentrenamiento. Mientras más pequeño es C, mayor será la regularización (conviene repasar la práctica de regularización que hicimos con Falcon).\n",
        "* El parámetro solver define el algoritmo de optimización a utilizar. Esto es como el procedimiento a seguir por el modelo para optimizar el resultado.\n",
        "\n",
        "**Arbol de decisión**\n",
        "\n",
        "* El parámetro max_depth define la cantidad máxima de ramas del arbol. Mientras más ramas, mayor posibilidad de sobreentrenamiento (que fue lo que nos pasó en el gráfico de curva de aprendizaje arriba). En este caso estamos probando con 10 posibles valores de ramas máximas.\n",
        "* el parámetro criterion define que función a utilizar para medir la calidad de la ramificación del árbol. En otras palabras, cada vez que se crea una nueva rama del árbol, esta se hace de manera tal que la función de calidad sea la más óptima (ya sea que se calcule con el gini o con entropy).\n",
        "\n",
        "Por último, fíjate que al definir el dicc_grid tuvimos que nombrar los parámetros como \"model__C\". Esto porque estamos usando un pipe y la función GridSearchCV no va a saber en cuál paso del pipe se encuentra el modelo que usará para probar los diferentes hiperparámetros. Por tanto, eso se lo decimos colocando como prefijo el nombre del paso seguido de dos guiones bajos (underscore): model__. Si pusiéramos el modelo directo en el grid, sin usar pipe, el prefijo no sería necesario en el diccionario de los hiperparámetros.\n",
        "\n",
        "Y hasta aquí llegamos con el tutorial.\n",
        "\n",
        "Se que fue largo pero espero que te sirva. ¡Suerte!\n",
        "\n",
        "![long-time](https://github.com/rafaeljosem/tutoriales-mna/blob/main/IA%20%26%20AA/images/memes/longtime-titanic.gif?raw=1)\n",
        "\n"
      ]
    },
    {
      "cell_type": "markdown",
      "metadata": {
        "id": "UAcKSCwSQ2ty"
      },
      "source": []
    }
  ],
  "metadata": {
    "kernelspec": {
      "display_name": "Python 3 (ipykernel)",
      "language": "python",
      "name": "python3"
    },
    "language_info": {
      "codemirror_mode": {
        "name": "ipython",
        "version": 3
      },
      "file_extension": ".py",
      "mimetype": "text/x-python",
      "name": "python",
      "nbconvert_exporter": "python",
      "pygments_lexer": "ipython3",
      "version": "3.10.6"
    },
    "vscode": {
      "interpreter": {
        "hash": "63d64dcca26c8f38dc74dfb30b84aa8ff37e5fe5c37e0e01ae8e43a31d3267cd"
      }
    },
    "colab": {
      "provenance": [],
      "collapsed_sections": [
        "-lYTgycBQ2tx"
      ],
      "include_colab_link": true
    }
  },
  "nbformat": 4,
  "nbformat_minor": 0
}