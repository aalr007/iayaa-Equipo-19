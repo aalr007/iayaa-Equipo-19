{
  "cells": [
    {
      "cell_type": "markdown",
      "metadata": {
        "id": "view-in-github",
        "colab_type": "text"
      },
      "source": [
        "<a href=\"https://colab.research.google.com/github/Tecnologico-de-Monterrey-MNA/iayaa-Equipo-19/blob/main/SVM_Equipo19.ipynb\" target=\"_parent\"><img src=\"https://colab.research.google.com/assets/colab-badge.svg\" alt=\"Open In Colab\"/></a>"
      ]
    },
    {
      "cell_type": "markdown",
      "metadata": {
        "id": "VFj0sSM06dYa"
      },
      "source": [
        "# **Maestría en Inteligencia Artificial Aplicada**\n",
        "## **Curso: Inteligencia Artificial y Aprendizaje Automático**\n",
        "### Tecnológico de Monterrey\n",
        "### Prof Luis Eduardo Falcón Morales\n",
        "\n",
        "## **Adtividad de la Semana 8**\n",
        "### **Actividad 9. Práctica | Máquina de vector de soporte**\n"
      ]
    },
    {
      "cell_type": "markdown",
      "metadata": {
        "id": "Qgrvy0RGB9XI"
      },
      "source": [
        "**Nombres y matrículas de los integrantes del equipo:**\n",
        "\n",
        "* Aurelio Antonio Lozano Rabago A01081266\n",
        "* Josias Ruiz Peña A00968460\n",
        "* David González A01794025\n",
        "* Jerson David Pérez Contreras A01793810\n",
        "* Jose Alberto Mtanous Treviño A00169781\n",
        "\n",
        "**Ruta Git:**\n",
        "\n",
        "https://github.com/Tecnologico-de-Monterrey-MNA/iayaa-Equipo-19/blob/main/SVM_Equipo19.ipynb"
      ]
    },
    {
      "cell_type": "markdown",
      "metadata": {
        "id": "FrJ2ahMODVj1"
      },
      "source": [
        "En cada sección deberás incluir todas las líneas de código necesarias para responder a cada uno de los ejercicios."
      ]
    },
    {
      "cell_type": "code",
      "execution_count": 2,
      "metadata": {
        "id": "exXsscs-Dh-2"
      },
      "outputs": [],
      "source": [
        "# Incluye aquí todos módulos, librerías y paquetes que requieras.\n",
        "import warnings\n",
        "warnings.filterwarnings(\"ignore\")\n",
        "import numpy as np\n",
        "import pandas as pd\n",
        "from sklearn.model_selection import train_test_split \n",
        "from sklearn.pipeline import Pipeline\n",
        "from sklearn.preprocessing import OneHotEncoder, StandardScaler\n",
        "from sklearn.compose import ColumnTransformer\n",
        "from sklearn.dummy import DummyClassifier\n",
        "from sklearn.metrics import recall_score, accuracy_score, precision_score, f1_score, precision_recall_fscore_support, confusion_matrix\n",
        "from sklearn.svm import SVC\n",
        "from sklearn.metrics import make_scorer\n",
        "from sklearn.model_selection import GridSearchCV\n",
        "from sklearn.model_selection import  cross_validate,  RepeatedKFold, RepeatedStratifiedKFold\n",
        "import matplotlib.pyplot as plt\n",
        "from sklearn.model_selection import learning_curve, validation_curve\n",
        "from sklearn.metrics import RocCurveDisplay   \n"
      ]
    },
    {
      "cell_type": "code",
      "execution_count": 3,
      "metadata": {
        "id": "3nU2GuWYCy6C"
      },
      "outputs": [],
      "source": [
        "from matplotlib.pyplot import axis\n",
        "\n",
        "\n",
        "path = 'https://archive.ics.uci.edu/ml/machine-learning-databases/statlog/australian/australian.dat'\n",
        "\n",
        "df = pd.read_csv(path, sep=\"\\s+\")\n",
        "df.columns = ['A1', 'A2',  'A3',  'A4',  'A5',  'A6',  'A7',  'A8',  'A9',  'A10',  'A11',  'A12',  'A13',  'A14',  'A15']\n",
        "categoricalColumns = ['A1', 'A4', 'A5', 'A6', 'A8', 'A9', 'A11', 'A12']\n",
        "numericalColumns = ['A2', 'A3', 'A7', 'A10', 'A13', 'A14']\n",
        "tagColumn = 'A15'\n"
      ]
    },
    {
      "cell_type": "markdown",
      "metadata": {
        "id": "X25brD-gQdZM"
      },
      "source": [
        "#### Ejercicio-1\n",
        "Realiza una partición de los datos con 15% en el conjunto de prueba y el resto para entrenamiento y\n",
        "validación. Usa un random_state=0."
      ]
    },
    {
      "cell_type": "code",
      "execution_count": 4,
      "metadata": {
        "id": "Zu4Ms_MEHd1J"
      },
      "outputs": [],
      "source": [
        "X = df.drop(tagColumn,axis=1)\n",
        "y = df[tagColumn]\n",
        "\n",
        "X_train, X_test, y_train, y_test = train_test_split(X, y, test_size=.15, random_state=0)"
      ]
    },
    {
      "cell_type": "markdown",
      "metadata": {
        "id": "eZVqaRA0Hd1K"
      },
      "source": [
        "#### Ejercicio-2\n",
        "Hacer una análisis de los datos y llevar a cabo las transformaciones que consideres adecuadas.\n",
        "Utiliza un Pipeline para evitar el filtrado de información. "
      ]
    },
    {
      "cell_type": "markdown",
      "metadata": {
        "id": "sRvd5rU9Hd1K"
      },
      "source": [
        "En la descripción de los datos se explica que los datos ya fueron sanitizados y los valores faltantes remplazados por la moda para los valores categóricos o por el promedio para los valores numéricos. Así que en teoría no tenemos que limpiar los datos, de cualquier forma lo vamos a corroborar inspeccionándolos.\n",
        "Fuente: https://archive.ics.uci.edu/ml/machine-learning-databases/statlog/australian/australian.doc"
      ]
    },
    {
      "cell_type": "code",
      "execution_count": 5,
      "metadata": {
        "colab": {
          "base_uri": "https://localhost:8080/"
        },
        "id": "7eH8c0MRHd1L",
        "outputId": "886e9c59-f3e6-44e6-ba15-d6ceda2e7c61"
      },
      "outputs": [
        {
          "output_type": "stream",
          "name": "stdout",
          "text": [
            "Estadística descriptiva de los datos\n",
            "               A1          A2          A3          A4          A5          A6  \\\n",
            "count  689.000000  689.000000  689.000000  689.000000  689.000000  689.000000   \n",
            "mean     0.677794   31.581974    4.748999    1.766328    7.377358    4.693759   \n",
            "std      0.467661   11.856359    4.975215    0.430283    3.683694    1.993588   \n",
            "min      0.000000   13.750000    0.000000    1.000000    1.000000    1.000000   \n",
            "25%      0.000000   22.670000    1.000000    2.000000    4.000000    4.000000   \n",
            "50%      1.000000   28.670000    2.750000    2.000000    8.000000    4.000000   \n",
            "75%      1.000000   37.750000    7.080000    2.000000   10.000000    5.000000   \n",
            "max      1.000000   80.250000   28.000000    3.000000   14.000000    9.000000   \n",
            "\n",
            "               A7          A8          A9         A10         A11         A12  \\\n",
            "count  689.000000  689.000000  689.000000  689.000000  689.000000  689.000000   \n",
            "mean     2.224332    0.523948    0.428157    2.403483    0.457184    1.928882   \n",
            "std      3.348856    0.499789    0.495171    4.865611    0.498525    0.299018   \n",
            "min      0.000000    0.000000    0.000000    0.000000    0.000000    1.000000   \n",
            "25%      0.165000    0.000000    0.000000    0.000000    0.000000    2.000000   \n",
            "50%      1.000000    1.000000    0.000000    0.000000    0.000000    2.000000   \n",
            "75%      2.625000    1.000000    1.000000    3.000000    1.000000    2.000000   \n",
            "max     28.500000    1.000000    1.000000   67.000000    1.000000    3.000000   \n",
            "\n",
            "               A13            A14         A15  \n",
            "count   689.000000     689.000000  689.000000  \n",
            "mean    184.136430    1018.103048    0.445573  \n",
            "std     172.254524    5213.882348    0.497390  \n",
            "min       0.000000       1.000000    0.000000  \n",
            "25%      80.000000       1.000000    0.000000  \n",
            "50%     160.000000       6.000000    0.000000  \n",
            "75%     272.000000     395.000000    1.000000  \n",
            "max    2000.000000  100001.000000    1.000000  \n",
            "-------------------------------------\n"
          ]
        }
      ],
      "source": [
        "print('Estadística descriptiva de los datos')\n",
        "print(df.describe())\n",
        "print('-------------------------------------')"
      ]
    },
    {
      "cell_type": "code",
      "execution_count": 6,
      "metadata": {
        "colab": {
          "base_uri": "https://localhost:8080/"
        },
        "id": "6Ek85BpdHd1N",
        "outputId": "00d6c77a-e748-44bb-fa6e-11a0de08194f"
      },
      "outputs": [
        {
          "output_type": "stream",
          "name": "stdout",
          "text": [
            "Faltan valores en nuestro juego de dato?\n",
            "False\n",
            "-------------------------------------\n",
            "Existen valores no númericos en nuestro juedo de datos?\n",
            "False\n"
          ]
        }
      ],
      "source": [
        "print('Faltan valores en nuestro juego de dato?')\n",
        "print(df.isnull().values.any())\n",
        "print('-------------------------------------')\n",
        "print('Existen valores no númericos en nuestro juedo de datos?')\n",
        "print(df.isna().values.any())"
      ]
    },
    {
      "cell_type": "code",
      "execution_count": 7,
      "metadata": {
        "id": "8_5emvCOHd1N"
      },
      "outputs": [],
      "source": [
        "# Para las variables categóricas vamos a crear onehot encodings\n",
        "pipelineCategoricas = Pipeline(steps = [('oneHotEncoding', OneHotEncoder(handle_unknown=\"ignore\",drop='first'))])\n",
        "\n",
        "# Para las variable numéricas vamos a usar z score\n",
        "pipelineNumericas = Pipeline(steps = [('zScore', StandardScaler())])\n"
      ]
    },
    {
      "cell_type": "code",
      "execution_count": 8,
      "metadata": {
        "id": "e-DCSgrbHd1O"
      },
      "outputs": [],
      "source": [
        "transformer = ColumnTransformer(transformers=[('Numericas', pipelineNumericas, numericalColumns), \n",
        "                                            ('Categoricas', pipelineCategoricas, categoricalColumns)],\n",
        "                                            remainder='passthrough')"
      ]
    },
    {
      "cell_type": "markdown",
      "metadata": {
        "id": "HgNS_EsXHd1O"
      },
      "source": [
        "#### Ejercicio-3\n",
        "Utiliza la función Dummy para modelos de clasificación con la estrategia “stratified” con el conjunto \n",
        "que tienes de datos de entrenamiento y validación. Obtener los valores de partida (baseline) de las \n",
        "siguientes métricas: accuracy, f1-score, precision y recall. ¿Por qué consideras que es adecuado usar \n",
        "la estrategia “stratified” en este caso? "
      ]
    },
    {
      "cell_type": "code",
      "execution_count": 9,
      "metadata": {
        "colab": {
          "base_uri": "https://localhost:8080/"
        },
        "id": "PRmaVvYtHd1P",
        "outputId": "8ccc1ab5-7e55-4e08-f388-d00125c7a3f4"
      },
      "outputs": [
        {
          "output_type": "stream",
          "name": "stdout",
          "text": [
            "--------------recall_score---------------\n",
            "0.5\n",
            "--------------accuracy_score---------------\n",
            "0.5288461538461539\n",
            "--------------precision_score---------------\n",
            "0.40816326530612246\n",
            "--------------f1_score---------------\n",
            "0.449438202247191\n",
            "----------------------------------\n"
          ]
        }
      ],
      "source": [
        "dummyC = DummyClassifier(strategy='stratified', random_state=0)\n",
        "dummyC.fit(transformer.fit_transform(X_train),y_train)\n",
        "yHatDummyC = dummyC.predict(transformer.fit_transform(X_test))\n",
        "\n",
        "print('--------------recall_score---------------')\n",
        "print(recall_score(y_test, yHatDummyC))\n",
        "print('--------------accuracy_score---------------')\n",
        "print(accuracy_score(y_test, yHatDummyC))\n",
        "print('--------------precision_score---------------')\n",
        "print(precision_score(y_test, yHatDummyC))\n",
        "print('--------------f1_score---------------')\n",
        "print(f1_score(y_test, yHatDummyC))\n",
        "print('----------------------------------')"
      ]
    },
    {
      "cell_type": "markdown",
      "metadata": {
        "id": "m0_W7jx0Hd1Q"
      },
      "source": [
        "El método Stratified es una técnica que permite la creación de subgrupos homogéneos de clases, garantizando que en cada uno de los subgrupos (estratos) se encuentren representadas las características de toda la población."
      ]
    },
    {
      "cell_type": "markdown",
      "metadata": {
        "id": "9sCUy40THd1Q"
      },
      "source": [
        "#### Ejercicio-4\n",
        "Usando el modelo de máquina de vector soporte (SVM) encuentra sus mejores hiperparámetros \n",
        "con una búsqueda de malla y validación cruzada, desplegando los errores indicados en el ejercicio \n",
        "anterior. "
      ]
    },
    {
      "cell_type": "code",
      "execution_count": 10,
      "metadata": {
        "id": "d--bVGsnHd1R"
      },
      "outputs": [],
      "source": [
        "Xt = transformer.fit_transform(X)\n",
        "X_train, X_test, y_train, y_test = train_test_split(Xt, y, test_size=.15, random_state=0)\n",
        "\n",
        "kf = RepeatedStratifiedKFold(n_splits=5, n_repeats=5, random_state=7)  \n",
        "\n",
        "\n",
        "ParamsSVC = {'kernel':['linear', 'poly', 'rbf', 'sigmoid'],\n",
        "             'C':[100, 10, 1, 0.5, 0.1, .01],\n",
        "             'gamma':[0.05, 0.1, 1, 10, 30, 50]\n",
        "             }\n",
        "\n",
        "ParamScoring = {\"Recall\": make_scorer(recall_score), \n",
        "                \"Accuracy\": make_scorer(accuracy_score), \n",
        "                \"Precision\": make_scorer(precision_score), \n",
        "                \"F1\": make_scorer(f1_score)}\n"
      ]
    },
    {
      "cell_type": "code",
      "execution_count": 11,
      "metadata": {
        "colab": {
          "base_uri": "https://localhost:8080/"
        },
        "id": "hyvBzy5KHd1R",
        "outputId": "1b9a4be9-0c6c-4872-be3f-2d209ca660ae"
      },
      "outputs": [
        {
          "output_type": "stream",
          "name": "stdout",
          "text": [
            "{'Recall': {'best_score': 0.9250034940600977, 'best_params': {'C': 0.5, 'gamma': 0.05, 'kernel': 'linear'}}, 'Accuracy': {'best_score': 0.8516239316239316, 'best_params': {'C': 0.5, 'gamma': 0.1, 'kernel': 'poly'}}, 'Precision': {'best_score': 0.9573333333333334, 'best_params': {'C': 0.01, 'gamma': 0.1, 'kernel': 'poly'}}, 'F1': {'best_score': 0.8488671576426071, 'best_params': {'C': 0.1, 'gamma': 0.05, 'kernel': 'linear'}}}\n"
          ]
        }
      ],
      "source": [
        "best_scores = {}\n",
        "for name, Scorer in ParamScoring.items():\n",
        "    GridSVC = GridSearchCV( SVC(),\n",
        "                            param_grid = ParamsSVC,\n",
        "                            scoring= Scorer,\n",
        "                            n_jobs=-1,\n",
        "                            cv=kf\n",
        "                            )\n",
        "    GridSVC.fit(X_train, y_train)\n",
        "    best_scores[name] = {}\n",
        "    best_scores[name][\"best_score\"] = GridSVC.best_score_\n",
        "    best_scores[name][\"best_params\"] = GridSVC.best_params_\n",
        "\n",
        "print(best_scores)"
      ]
    },
    {
      "cell_type": "markdown",
      "metadata": {
        "id": "cQseyG5GHd1S"
      },
      "source": [
        "La métrica F1 Score es la más balanceada porque combina la precisión y el recall. Por lo tanto la mejor combinación de parámetros de nuestro modelo son:\n",
        "* C = 0.1 \n",
        "* gamma = 0.05 \n",
        "* kernel = 'linear'"
      ]
    },
    {
      "cell_type": "markdown",
      "metadata": {
        "id": "8p-Y7z7NHd1S"
      },
      "source": [
        "#### Ejercicio-5\n",
        "Obtener además los diagramas de caja y bigote del mejor modelo con todas las métricas calculadas. \n",
        "Incluye tus conclusiones. "
      ]
    },
    {
      "cell_type": "code",
      "execution_count": 12,
      "metadata": {
        "colab": {
          "base_uri": "https://localhost:8080/",
          "height": 266
        },
        "id": "g2lfF_b3Hd1S",
        "outputId": "66aa6380-6835-4a84-d475-db08bbf4ff42"
      },
      "outputs": [
        {
          "output_type": "display_data",
          "data": {
            "text/plain": [
              "<Figure size 432x288 with 1 Axes>"
            ],
            "image/png": "[encoded data removed]"
          },
          "metadata": {
            "needs_background": "light"
          }
        }
      ],
      "source": [
        "bestModel = SVC(kernel='linear', C=0.1, gamma=0.05, probability=True)\n",
        "resultado = cross_validate(bestModel, X_train, y_train, scoring=make_scorer(f1_score), cv=kf, return_train_score=True)\n",
        "\n",
        "plt.boxplot(resultado['test_score'], labels=['f1_score'], showmeans=True)\n",
        "plt.show()"
      ]
    },
    {
      "cell_type": "markdown",
      "source": [
        "Dado que el F1 - Score permitió obtener los mejores resultados de la combinación de las metricas de recall y precision, nos permite reflejar la relación entre la proporción total de los verdaderos positivos respecto al total de los datos positivos. Como se observa en el gráfico, la media del F1 - Score se ubica en el 85%, generando un muy buen desempeño del modelo en cuanto a su predicción para verdaderos positivos."
      ],
      "metadata": {
        "id": "N4x4tNNYK3nh"
      }
    },
    {
      "cell_type": "markdown",
      "metadata": {
        "id": "3nI_JOlrHd1T"
      },
      "source": [
        "#### Ejercicio-6\n",
        "Verifica que el modelo no esté subentrenado o sobreentrenado mediante alguna de las gráficas de \n",
        "curvas de entrenamiento (aumentando la complejidad o aumentando el conjunto de entrenamiento, \n",
        "la que consideres más adecuada). De ser necesario, realiza los ajustes necesarios para evitar alguno \n",
        "de estos problemas."
      ]
    },
    {
      "cell_type": "code",
      "execution_count": 13,
      "metadata": {
        "id": "hKbsRkHvHd1T"
      },
      "outputs": [],
      "source": [
        "def mi_LearningCurvePlot(train_sizes, train_scores, val_scores):\n",
        "\n",
        "    # Argumentos de entrada de la función mi_LearningCurvePlot:\n",
        "    #      train_sizes : número de observaciones en el conjunto de entrenamiento.\n",
        "    #      train_scores : Exactitud de cada partición en el proceso de Validación-Cruzada (VC) en los datos de entrenamiento.\n",
        "    #                     La dimensión de este conjunto es (pxq) \n",
        "    #                                     donde p=\"número de particiones de manera incremental del conjunto de entrenamiento\".\n",
        "    #                                           q=\"número de particiones de VC\" * \"número de repeticiones de VC con RepitedStratifiedCV\"\n",
        "    #      val_scores : Exactitud de cada partición en el proceso de Validación-Cruzada en los datos de validación.\n",
        "    #                   Es de la misma dimensión que los train_scores. \n",
        "    # Output: la salida es el gráfico con las curvas de aprendizaje.\n",
        "\n",
        "    # Obtenemos los promedios y desviaciones estándar de cada renglón de los resultados de entrenamiento y validación\n",
        "    # La dimensión de cada uno es p=\"número de particiones de manera incremental del conjunto de entrenamiento\".\n",
        "    train_mean = np.mean(train_scores, axis=1)\n",
        "    train_std = np.std(train_scores, axis=1)\n",
        "    val_mean = np.mean(val_scores, axis=1)\n",
        "    val_std = np.std(val_scores, axis=1)\n",
        "\n",
        "    # Graficamos las curvas de aprendizaje incluyendo una región indicando la desviación estándar.\n",
        "    plt.figure(figsize=(7,6))\n",
        "    plt.plot(train_sizes, train_mean, color='blue', marker='o', markersize=5, label='Training')\n",
        "    plt.fill_between(train_sizes, train_mean + train_std, train_mean - train_std, alpha=0.1, color='blue')\n",
        "    \n",
        "    plt.plot(train_sizes, val_mean, color='red', marker='+', markersize=5, linestyle='--', label='Validation')\n",
        "    plt.fill_between(train_sizes, val_mean + val_std, val_mean - val_std, alpha=0.1, color='red')\n",
        "    \n",
        "    plt.title('Curvas de Aprendizaje incrementando el tamaño de la muestra')\n",
        "    plt.xlabel('Tamaño del conjunto de entrenamiento')\n",
        "    plt.ylabel('F1 score')\n",
        "    plt.grid()\n",
        "    plt.legend(loc='lower left')\n",
        "    plt.show()"
      ]
    },
    {
      "cell_type": "code",
      "execution_count": 14,
      "metadata": {
        "colab": {
          "base_uri": "https://localhost:8080/",
          "height": 404
        },
        "id": "p9t_FoSBHd1U",
        "outputId": "54aa8781-6042-45d0-9ca4-165d7ec4bad3"
      },
      "outputs": [
        {
          "output_type": "display_data",
          "data": {
            "text/plain": [
              "<Figure size 504x432 with 1 Axes>"
            ],
            "image/png": "[encoded data removed]"
          },
          "metadata": {
            "needs_background": "light"
          }
        }
      ],
      "source": [
        "delta_train_sz = np.linspace(0.1,1.0,num=40)\n",
        "\n",
        "tr_sizes, tr_scores, val_scores = learning_curve(estimator = bestModel ,    \n",
        "                                                        X = Xt,\n",
        "                                                        y = y,\n",
        "                                                        cv = kf,\n",
        "                                                        train_sizes = delta_train_sz,\n",
        "                                                        random_state=11,\n",
        "                                                        scoring=make_scorer(f1_score)\n",
        "                                                        )\n",
        "\n",
        "# Obtenemos el gráfico con las curvas de aprendizaje:\n",
        "mi_LearningCurvePlot(tr_sizes, tr_scores, val_scores)"
      ]
    },
    {
      "cell_type": "markdown",
      "source": [
        "Consideramos que el modelo tiene un buen desempeño, no está ni sobreentrenado ni subentrenado, haciendo la claridad que llega un punto luego de los 300 datos en los que ya no puede mejorar, se observa la estabilización en 85% F1 scoring."
      ],
      "metadata": {
        "id": "QZKAOVZlPbAp"
      }
    },
    {
      "cell_type": "markdown",
      "metadata": {
        "id": "CyujnBzzHd1V"
      },
      "source": [
        "#### Ejercicio-7\n",
        "Con los mejores hiperparámetros entontrados encontrar la gráfica de la curva ROC y su área bajo la\n",
        "curva. "
      ]
    },
    {
      "cell_type": "code",
      "execution_count": 15,
      "metadata": {
        "colab": {
          "base_uri": "https://localhost:8080/",
          "height": 314
        },
        "id": "uSPFuFy3Hd1V",
        "outputId": "b4839937-dbf9-40ab-c84d-d6cc6cfe1c8e"
      },
      "outputs": [
        {
          "output_type": "stream",
          "name": "stdout",
          "text": [
            "TP_rate-recall:0.92500\n",
            "FP_rate:0.14062\n"
          ]
        },
        {
          "output_type": "display_data",
          "data": {
            "text/plain": [
              "<Figure size 432x288 with 1 Axes>"
            ],
            "image/png": "[encoded data removed]"
          },
          "metadata": {
            "needs_background": "light"
          }
        }
      ],
      "source": [
        "bestModel.fit(X_train,y_train)\n",
        "yHatBestModel = bestModel.predict(X_test)\n",
        "cm = confusion_matrix(y_test, yHatBestModel)    # los renglones son los reales y las columnas las predicciones.\n",
        "\n",
        "TPrate = cm[1,1]/(cm[1,0]+cm[1,1])\n",
        "FPrate = cm[0,1]/(cm[0,0]+cm[0,1])\n",
        "\n",
        "print('TP_rate-recall:%.5f' % TPrate)\n",
        "print('FP_rate:%.5f' % FPrate)\n",
        "\n",
        "RocCurveDisplay.from_estimator(bestModel, X_test, y_test)\n",
        "plt.plot([0,0,1,0],[0,1,1,0], 'y--')\n",
        "\n",
        "plt.hlines(TPrate, 0, FPrate, colors='r', linestyles='dotted')  # Se calcula TPrate y FPrate con base a threshold=0.5\n",
        "plt.vlines(FPrate, 0, TPrate, colors='r', linestyles='dotted')  # Pero el mejor umbral para que ambos errores estén lo más equilibrados\n",
        "plt.show()                         "
      ]
    },
    {
      "cell_type": "markdown",
      "source": [
        "El área bajo la curva (AUC): 0.95"
      ],
      "metadata": {
        "id": "PbpEh-siRFhQ"
      }
    },
    {
      "cell_type": "markdown",
      "metadata": {
        "id": "xqtJ-zynHd1V"
      },
      "source": [
        "#### Ejercicio-8\n",
        "Encontrar el valor del mejor umbral de predicción del modelo que maximice el valor de la métrica\n",
        "f1-score. "
      ]
    },
    {
      "cell_type": "code",
      "source": [
        "def adjustedThYhat(th, modelo, x, y):\n",
        "  p = modelo.predict_proba(x)\n",
        "  oneProbs = p[:,1]\n",
        "  for i, oneProb in enumerate(oneProbs):\n",
        "    if oneProb > th:\n",
        "      oneProbs[i] = 1\n",
        "    else:\n",
        "      oneProbs[i] = 0\n",
        "  return oneProbs"
      ],
      "metadata": {
        "id": "-VshvxNZiU3s"
      },
      "execution_count": 16,
      "outputs": []
    },
    {
      "cell_type": "code",
      "source": [
        "x0 = np.arange (0.0,0.85,0.0001)\n",
        "\n",
        "f1_old = [x0[0],0]\n",
        "for x in x0:\n",
        "  yHatAdjusted = adjustedThYhat(x,bestModel,X_test,y_test)\n",
        "  f1_new=[x,f1_score(y_test,yHatAdjusted)]\n",
        "  if f1_new[1] > f1_old[1]:\n",
        "    f1_old = f1_new\n",
        "print(f1_old)"
      ],
      "metadata": {
        "colab": {
          "base_uri": "https://localhost:8080/"
        },
        "id": "6imCSqVbirGA",
        "outputId": "ed8dc87e-365a-44ec-e75c-59f701300675"
      },
      "execution_count": 17,
      "outputs": [
        {
          "output_type": "stream",
          "name": "stdout",
          "text": [
            "[0.0767, 0.8735632183908046]\n"
          ]
        }
      ]
    },
    {
      "cell_type": "markdown",
      "source": [
        "El valor máximo del parámetro F1 Score se obtuvo con un umbral de 0.0767 resultando en 0.8735 [F1-Score]."
      ],
      "metadata": {
        "id": "8OcFl8Z7p1tl"
      }
    },
    {
      "cell_type": "markdown",
      "source": [
        "#### Ejercicio-9\n",
        "Encontrar el valor del mejor umbral de predicción del modelo que maximice el valor de la métrica g-\n",
        "mean."
      ],
      "metadata": {
        "id": "UN8Z5eHmpcyB"
      }
    },
    {
      "cell_type": "code",
      "source": [
        "from imblearn.metrics import geometric_mean_score\n",
        "\n",
        "x0 = np.arange (0,0.85,0.0001)\n",
        "\n",
        "gmean_old = [x0[0],0]\n",
        "x_best = 0\n",
        "for x in x0:\n",
        "  yHatAdjusted = adjustedThYhat(x,bestModel,X_test,y_test)\n",
        "  gmean_new=[x,geometric_mean_score(y_test,yHatAdjusted)]\n",
        "  if gmean_new[1] > gmean_old[1]:\n",
        "    gmean_old = gmean_new\n",
        "    x_best= x\n",
        "print(gmean_old)\n",
        "print(x_best)"
      ],
      "metadata": {
        "colab": {
          "base_uri": "https://localhost:8080/"
        },
        "id": "0K9Qx-gKlOF-",
        "outputId": "98693dd8-f195-4c22-d684-0cd15d008554"
      },
      "execution_count": 18,
      "outputs": [
        {
          "output_type": "stream",
          "name": "stdout",
          "text": [
            "[0.0767, 0.9035520184250599]\n",
            "0.0767\n"
          ]
        }
      ]
    },
    {
      "cell_type": "markdown",
      "source": [
        "El valor máximo del parámetro gmean se obtuvo con un umbral de 0.0767 resultando en 0.9036 [gmean]."
      ],
      "metadata": {
        "id": "YISLKRyaqQkC"
      }
    },
    {
      "cell_type": "markdown",
      "source": [
        "#### Ejercicio-10\n",
        "Incluye tus conclusiones finales de la actividad."
      ],
      "metadata": {
        "id": "pQgaHYPapt3o"
      }
    },
    {
      "cell_type": "markdown",
      "metadata": {
        "id": "DQLkYqLLHd1W"
      },
      "source": [
        "Dentro de los resultados que se obtuvieron a lo largo del estudio, se ecnontró que el modelo con el mejor puntaje fue el F1 - Score. Al momento de realizar el gráfico de bigotes se observó que el conjunto de datos en ese modelo se comportan de forma muy similar a una distribución normal y la media de los datos estaba ubicado en el centro de los datos.\n",
        "\n",
        "Por otro lado, con este modelo se realizaron los cálculos para la curva ROC y determinar el valor del mejor umbral de predicción del modelo que maximice el valor de la métrica f1-score, el cual se obtuvo con un valor cercano al 0.93 el cual está muy cercano a 1 el cual es el valor óptiimo.\n",
        "\n",
        "Por otro lado, el valor del mejor umbral de predicción del modelo que maximiza el valor de la métrica g - mean fue 0.0787 la cual maximiza el acierto en ambas clases con un balance igua para ambas con un resultado de 90.36 en su desempeño."
      ]
    }
  ],
  "metadata": {
    "colab": {
      "collapsed_sections": [],
      "provenance": [],
      "include_colab_link": true
    },
    "kernelspec": {
      "display_name": "Python 3 (ipykernel)",
      "language": "python",
      "name": "python3"
    },
    "language_info": {
      "codemirror_mode": {
        "name": "ipython",
        "version": 3
      },
      "file_extension": ".py",
      "mimetype": "text/x-python",
      "name": "python",
      "nbconvert_exporter": "python",
      "pygments_lexer": "ipython3",
      "version": "3.7.3"
    },
    "vscode": {
      "interpreter": {
        "hash": "31f2aee4e71d21fbe5cf8b01ff0e069b9275f58929596ceb00d14d90e3e16cd6"
      }
    }
  },
  "nbformat": 4,
  "nbformat_minor": 0
}