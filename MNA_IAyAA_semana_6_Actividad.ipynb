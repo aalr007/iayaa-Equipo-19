{
  "nbformat": 4,
  "nbformat_minor": 0,
  "metadata": {
    "colab": {
      "provenance": [],
      "collapsed_sections": [],
      "include_colab_link": true
    },
    "kernelspec": {
      "display_name": "Python 3",
      "name": "python3"
    }
  },
  "cells": [
    {
      "cell_type": "markdown",
      "metadata": {
        "id": "view-in-github",
        "colab_type": "text"
      },
      "source": [
        "<a href=\"https://colab.research.google.com/github/aalr007/iayaa-Equipo-19/blob/main/MNA_IAyAA_semana_6_Actividad.ipynb\" target=\"_parent\"><img src=\"https://colab.research.google.com/assets/colab-badge.svg\" alt=\"Open In Colab\"/></a>"
      ]
    },
    {
      "cell_type": "markdown",
      "source": [
        "#**Maestría en Inteligencia Artificial Aplicada**\n",
        "##**Curso: Inteligencia Artificial y Aprendizaje Automático**\n",
        "###Tecnológico de Monterrey\n",
        "###Prof Luis Eduardo Falcón Morales\n",
        "\n",
        "## **Adtividad de la Semana 6**\n",
        "###**Árboles de decisión y bosque aleatorio.**\n"
      ],
      "metadata": {
        "id": "VFj0sSM06dYa"
      }
    },
    {
      "cell_type": "markdown",
      "source": [
        "**Nombres y matrículas de los integrantes del equipo:**\n",
        "\n",
        "* Aurelio Antonio Lozano Rabago A01081266\n",
        "* Josias Ruiz Peña A00968460  \n",
        "* David González A01794025\n",
        "* Jerson David Pérez Contreras A01793810\n",
        "* Jose Alberto Mtanous Treviño A00169781\n"
      ],
      "metadata": {
        "id": "Qgrvy0RGB9XI"
      }
    },
    {
      "cell_type": "markdown",
      "source": [
        "En cada sección deberás incluir todas las líneas de código necesarias para responder a cada uno de los ejercicios."
      ],
      "metadata": {
        "id": "FrJ2ahMODVj1"
      }
    },
    {
      "cell_type": "code",
      "source": [
        "# Incluye aquí todos módulos, librerías y paquetes que requieras.\n",
        "import os\n",
        "import numpy as np\n",
        "import pandas as pd\n",
        "import seaborn as sns \n",
        "\n",
        "from sklearn.tree import DecisionTreeClassifier\n",
        "from sklearn.ensemble import RandomForestClassifier \n",
        "\n",
        "from sklearn.datasets import load_iris\n",
        "\n",
        "from sklearn.model_selection import train_test_split \n",
        "from sklearn.metrics import confusion_matrix,classification_report, make_scorer\n",
        "\n",
        "#importando para ejercicio 3\n",
        "from sklearn.pipeline import Pipeline\n",
        "from sklearn.preprocessing import MinMaxScaler, OneHotEncoder, StandardScaler\n",
        "from sklearn.preprocessing import FunctionTransformer\n",
        "from sklearn.impute import SimpleImputer\n",
        "from sklearn.preprocessing import OneHotEncoder\n",
        "from sklearn.compose import ColumnTransformer\n",
        "\n",
        "#librerias para ejercicio4 modelos\n",
        "from sklearn.linear_model import LogisticRegression\n",
        "from sklearn.tree import DecisionTreeClassifier\n",
        "from sklearn.ensemble import RandomForestClassifier\n",
        "from sklearn.model_selection import  cross_validate,  RepeatedStratifiedKFold\n",
        "\n",
        "\n",
        "from sklearn import svm, datasets\n",
        "from sklearn.model_selection import GridSearchCV\n",
        "\n",
        "import matplotlib.pyplot as plt\n",
        "from sklearn.model_selection import learning_curve, validation_curve\n",
        "\n",
        "import matplotlib.pyplot as plt\n",
        "from sklearn import tree\n",
        "\n"
      ],
      "metadata": {
        "id": "exXsscs-Dh-2"
      },
      "execution_count": 1,
      "outputs": []
    },
    {
      "cell_type": "markdown",
      "metadata": {
        "id": "X25brD-gQdZM"
      },
      "source": [
        "#**Ejercicio-1.** "
      ]
    },
    {
      "cell_type": "code",
      "source": [
        "# Cargamos el archivo que está en la siguiente carpeta de Google-Colab:\n",
        "DIR = \"/content/sample_data/\"\n",
        "os.chdir(DIR)\n",
        "\n",
        "misdatos = pd.read_csv(\"SouthGermanCredit.asc\", sep=\" \")\n",
        "misdatos.describe()"
      ],
      "metadata": {
        "id": "3nU2GuWYCy6C",
        "colab": {
          "base_uri": "https://localhost:8080/",
          "height": 394
        },
        "outputId": "07fe4829-ce06-4a5c-c0c6-b3e36e85b2d9"
      },
      "execution_count": 2,
      "outputs": [
        {
          "output_type": "execute_result",
          "data": {
            "text/plain": [
              "          laufkont     laufzeit       moral         verw        hoehe  \\\n",
              "count  1000.000000  1000.000000  1000.00000  1000.000000   1000.00000   \n",
              "mean      2.577000    20.903000     2.54500     2.828000   3271.24800   \n",
              "std       1.257638    12.058814     1.08312     2.744439   2822.75176   \n",
              "min       1.000000     4.000000     0.00000     0.000000    250.00000   \n",
              "25%       1.000000    12.000000     2.00000     1.000000   1365.50000   \n",
              "50%       2.000000    18.000000     2.00000     2.000000   2319.50000   \n",
              "75%       4.000000    24.000000     4.00000     3.000000   3972.25000   \n",
              "max       4.000000    72.000000     4.00000    10.000000  18424.00000   \n",
              "\n",
              "          sparkont      beszeit         rate      famges       buerge  ...  \\\n",
              "count  1000.000000  1000.000000  1000.000000  1000.00000  1000.000000  ...   \n",
              "mean      2.105000     3.384000     2.973000     2.68200     1.145000  ...   \n",
              "std       1.580023     1.208306     1.118715     0.70808     0.477706  ...   \n",
              "min       1.000000     1.000000     1.000000     1.00000     1.000000  ...   \n",
              "25%       1.000000     3.000000     2.000000     2.00000     1.000000  ...   \n",
              "50%       1.000000     3.000000     3.000000     3.00000     1.000000  ...   \n",
              "75%       3.000000     5.000000     4.000000     3.00000     1.000000  ...   \n",
              "max       5.000000     5.000000     4.000000     4.00000     3.000000  ...   \n",
              "\n",
              "              verm       alter     weitkred         wohn     bishkred  \\\n",
              "count  1000.000000  1000.00000  1000.000000  1000.000000  1000.000000   \n",
              "mean      2.358000    35.54200     2.675000     1.928000     1.407000   \n",
              "std       1.050209    11.35267     0.705601     0.530186     0.577654   \n",
              "min       1.000000    19.00000     1.000000     1.000000     1.000000   \n",
              "25%       1.000000    27.00000     3.000000     2.000000     1.000000   \n",
              "50%       2.000000    33.00000     3.000000     2.000000     1.000000   \n",
              "75%       3.000000    42.00000     3.000000     2.000000     2.000000   \n",
              "max       4.000000    75.00000     3.000000     3.000000     4.000000   \n",
              "\n",
              "             beruf         pers        telef      gastarb       kredit  \n",
              "count  1000.000000  1000.000000  1000.000000  1000.000000  1000.000000  \n",
              "mean      2.904000     1.845000     1.404000     1.963000     0.700000  \n",
              "std       0.653614     0.362086     0.490943     0.188856     0.458487  \n",
              "min       1.000000     1.000000     1.000000     1.000000     0.000000  \n",
              "25%       3.000000     2.000000     1.000000     2.000000     0.000000  \n",
              "50%       3.000000     2.000000     1.000000     2.000000     1.000000  \n",
              "75%       3.000000     2.000000     2.000000     2.000000     1.000000  \n",
              "max       4.000000     2.000000     2.000000     2.000000     1.000000  \n",
              "\n",
              "[8 rows x 21 columns]"
            ],
            "text/html": [
              "\n",
              "  <div id=\"df-e9b578e2-1dbc-4101-9457-e2465b33e990\">\n",
              "    <div class=\"colab-df-container\">\n",
              "      <div>\n",
              "<style scoped>\n",
              "    .dataframe tbody tr th:only-of-type {\n",
              "        vertical-align: middle;\n",
              "    }\n",
              "\n",
              "    .dataframe tbody tr th {\n",
              "        vertical-align: top;\n",
              "    }\n",
              "\n",
              "    .dataframe thead th {\n",
              "        text-align: right;\n",
              "    }\n",
              "</style>\n",
              "<table border=\"1\" class=\"dataframe\">\n",
              "  <thead>\n",
              "    <tr style=\"text-align: right;\">\n",
              "      <th></th>\n",
              "      <th>laufkont</th>\n",
              "      <th>laufzeit</th>\n",
              "      <th>moral</th>\n",
              "      <th>verw</th>\n",
              "      <th>hoehe</th>\n",
              "      <th>sparkont</th>\n",
              "      <th>beszeit</th>\n",
              "      <th>rate</th>\n",
              "      <th>famges</th>\n",
              "      <th>buerge</th>\n",
              "      <th>...</th>\n",
              "      <th>verm</th>\n",
              "      <th>alter</th>\n",
              "      <th>weitkred</th>\n",
              "      <th>wohn</th>\n",
              "      <th>bishkred</th>\n",
              "      <th>beruf</th>\n",
              "      <th>pers</th>\n",
              "      <th>telef</th>\n",
              "      <th>gastarb</th>\n",
              "      <th>kredit</th>\n",
              "    </tr>\n",
              "  </thead>\n",
              "  <tbody>\n",
              "    <tr>\n",
              "      <th>count</th>\n",
              "      <td>1000.000000</td>\n",
              "      <td>1000.000000</td>\n",
              "      <td>1000.00000</td>\n",
              "      <td>1000.000000</td>\n",
              "      <td>1000.00000</td>\n",
              "      <td>1000.000000</td>\n",
              "      <td>1000.000000</td>\n",
              "      <td>1000.000000</td>\n",
              "      <td>1000.00000</td>\n",
              "      <td>1000.000000</td>\n",
              "      <td>...</td>\n",
              "      <td>1000.000000</td>\n",
              "      <td>1000.00000</td>\n",
              "      <td>1000.000000</td>\n",
              "      <td>1000.000000</td>\n",
              "      <td>1000.000000</td>\n",
              "      <td>1000.000000</td>\n",
              "      <td>1000.000000</td>\n",
              "      <td>1000.000000</td>\n",
              "      <td>1000.000000</td>\n",
              "      <td>1000.000000</td>\n",
              "    </tr>\n",
              "    <tr>\n",
              "      <th>mean</th>\n",
              "      <td>2.577000</td>\n",
              "      <td>20.903000</td>\n",
              "      <td>2.54500</td>\n",
              "      <td>2.828000</td>\n",
              "      <td>3271.24800</td>\n",
              "      <td>2.105000</td>\n",
              "      <td>3.384000</td>\n",
              "      <td>2.973000</td>\n",
              "      <td>2.68200</td>\n",
              "      <td>1.145000</td>\n",
              "      <td>...</td>\n",
              "      <td>2.358000</td>\n",
              "      <td>35.54200</td>\n",
              "      <td>2.675000</td>\n",
              "      <td>1.928000</td>\n",
              "      <td>1.407000</td>\n",
              "      <td>2.904000</td>\n",
              "      <td>1.845000</td>\n",
              "      <td>1.404000</td>\n",
              "      <td>1.963000</td>\n",
              "      <td>0.700000</td>\n",
              "    </tr>\n",
              "    <tr>\n",
              "      <th>std</th>\n",
              "      <td>1.257638</td>\n",
              "      <td>12.058814</td>\n",
              "      <td>1.08312</td>\n",
              "      <td>2.744439</td>\n",
              "      <td>2822.75176</td>\n",
              "      <td>1.580023</td>\n",
              "      <td>1.208306</td>\n",
              "      <td>1.118715</td>\n",
              "      <td>0.70808</td>\n",
              "      <td>0.477706</td>\n",
              "      <td>...</td>\n",
              "      <td>1.050209</td>\n",
              "      <td>11.35267</td>\n",
              "      <td>0.705601</td>\n",
              "      <td>0.530186</td>\n",
              "      <td>0.577654</td>\n",
              "      <td>0.653614</td>\n",
              "      <td>0.362086</td>\n",
              "      <td>0.490943</td>\n",
              "      <td>0.188856</td>\n",
              "      <td>0.458487</td>\n",
              "    </tr>\n",
              "    <tr>\n",
              "      <th>min</th>\n",
              "      <td>1.000000</td>\n",
              "      <td>4.000000</td>\n",
              "      <td>0.00000</td>\n",
              "      <td>0.000000</td>\n",
              "      <td>250.00000</td>\n",
              "      <td>1.000000</td>\n",
              "      <td>1.000000</td>\n",
              "      <td>1.000000</td>\n",
              "      <td>1.00000</td>\n",
              "      <td>1.000000</td>\n",
              "      <td>...</td>\n",
              "      <td>1.000000</td>\n",
              "      <td>19.00000</td>\n",
              "      <td>1.000000</td>\n",
              "      <td>1.000000</td>\n",
              "      <td>1.000000</td>\n",
              "      <td>1.000000</td>\n",
              "      <td>1.000000</td>\n",
              "      <td>1.000000</td>\n",
              "      <td>1.000000</td>\n",
              "      <td>0.000000</td>\n",
              "    </tr>\n",
              "    <tr>\n",
              "      <th>25%</th>\n",
              "      <td>1.000000</td>\n",
              "      <td>12.000000</td>\n",
              "      <td>2.00000</td>\n",
              "      <td>1.000000</td>\n",
              "      <td>1365.50000</td>\n",
              "      <td>1.000000</td>\n",
              "      <td>3.000000</td>\n",
              "      <td>2.000000</td>\n",
              "      <td>2.00000</td>\n",
              "      <td>1.000000</td>\n",
              "      <td>...</td>\n",
              "      <td>1.000000</td>\n",
              "      <td>27.00000</td>\n",
              "      <td>3.000000</td>\n",
              "      <td>2.000000</td>\n",
              "      <td>1.000000</td>\n",
              "      <td>3.000000</td>\n",
              "      <td>2.000000</td>\n",
              "      <td>1.000000</td>\n",
              "      <td>2.000000</td>\n",
              "      <td>0.000000</td>\n",
              "    </tr>\n",
              "    <tr>\n",
              "      <th>50%</th>\n",
              "      <td>2.000000</td>\n",
              "      <td>18.000000</td>\n",
              "      <td>2.00000</td>\n",
              "      <td>2.000000</td>\n",
              "      <td>2319.50000</td>\n",
              "      <td>1.000000</td>\n",
              "      <td>3.000000</td>\n",
              "      <td>3.000000</td>\n",
              "      <td>3.00000</td>\n",
              "      <td>1.000000</td>\n",
              "      <td>...</td>\n",
              "      <td>2.000000</td>\n",
              "      <td>33.00000</td>\n",
              "      <td>3.000000</td>\n",
              "      <td>2.000000</td>\n",
              "      <td>1.000000</td>\n",
              "      <td>3.000000</td>\n",
              "      <td>2.000000</td>\n",
              "      <td>1.000000</td>\n",
              "      <td>2.000000</td>\n",
              "      <td>1.000000</td>\n",
              "    </tr>\n",
              "    <tr>\n",
              "      <th>75%</th>\n",
              "      <td>4.000000</td>\n",
              "      <td>24.000000</td>\n",
              "      <td>4.00000</td>\n",
              "      <td>3.000000</td>\n",
              "      <td>3972.25000</td>\n",
              "      <td>3.000000</td>\n",
              "      <td>5.000000</td>\n",
              "      <td>4.000000</td>\n",
              "      <td>3.00000</td>\n",
              "      <td>1.000000</td>\n",
              "      <td>...</td>\n",
              "      <td>3.000000</td>\n",
              "      <td>42.00000</td>\n",
              "      <td>3.000000</td>\n",
              "      <td>2.000000</td>\n",
              "      <td>2.000000</td>\n",
              "      <td>3.000000</td>\n",
              "      <td>2.000000</td>\n",
              "      <td>2.000000</td>\n",
              "      <td>2.000000</td>\n",
              "      <td>1.000000</td>\n",
              "    </tr>\n",
              "    <tr>\n",
              "      <th>max</th>\n",
              "      <td>4.000000</td>\n",
              "      <td>72.000000</td>\n",
              "      <td>4.00000</td>\n",
              "      <td>10.000000</td>\n",
              "      <td>18424.00000</td>\n",
              "      <td>5.000000</td>\n",
              "      <td>5.000000</td>\n",
              "      <td>4.000000</td>\n",
              "      <td>4.00000</td>\n",
              "      <td>3.000000</td>\n",
              "      <td>...</td>\n",
              "      <td>4.000000</td>\n",
              "      <td>75.00000</td>\n",
              "      <td>3.000000</td>\n",
              "      <td>3.000000</td>\n",
              "      <td>4.000000</td>\n",
              "      <td>4.000000</td>\n",
              "      <td>2.000000</td>\n",
              "      <td>2.000000</td>\n",
              "      <td>2.000000</td>\n",
              "      <td>1.000000</td>\n",
              "    </tr>\n",
              "  </tbody>\n",
              "</table>\n",
              "<p>8 rows × 21 columns</p>\n",
              "</div>\n",
              "      <button class=\"colab-df-convert\" onclick=\"convertToInteractive('df-e9b578e2-1dbc-4101-9457-e2465b33e990')\"\n",
              "              title=\"Convert this dataframe to an interactive table.\"\n",
              "              style=\"display:none;\">\n",
              "        \n",
              "  <svg xmlns=\"http://www.w3.org/2000/svg\" height=\"24px\"viewBox=\"0 0 24 24\"\n",
              "       width=\"24px\">\n",
              "    <path d=\"M0 0h24v24H0V0z\" fill=\"none\"/>\n",
              "    <path d=\"M18.56 5.44l.94 2.06.94-2.06 2.06-.94-2.06-.94-.94-2.06-.94 2.06-2.06.94zm-11 1L8.5 8.5l.94-2.06 2.06-.94-2.06-.94L8.5 2.5l-.94 2.06-2.06.94zm10 10l.94 2.06.94-2.06 2.06-.94-2.06-.94-.94-2.06-.94 2.06-2.06.94z\"/><path d=\"M17.41 7.96l-1.37-1.37c-.4-.4-.92-.59-1.43-.59-.52 0-1.04.2-1.43.59L10.3 9.45l-7.72 7.72c-.78.78-.78 2.05 0 2.83L4 21.41c.39.39.9.59 1.41.59.51 0 1.02-.2 1.41-.59l7.78-7.78 2.81-2.81c.8-.78.8-2.07 0-2.86zM5.41 20L4 18.59l7.72-7.72 1.47 1.35L5.41 20z\"/>\n",
              "  </svg>\n",
              "      </button>\n",
              "      \n",
              "  <style>\n",
              "    .colab-df-container {\n",
              "      display:flex;\n",
              "      flex-wrap:wrap;\n",
              "      gap: 12px;\n",
              "    }\n",
              "\n",
              "    .colab-df-convert {\n",
              "      background-color: #E8F0FE;\n",
              "      border: none;\n",
              "      border-radius: 50%;\n",
              "      cursor: pointer;\n",
              "      display: none;\n",
              "      fill: #1967D2;\n",
              "      height: 32px;\n",
              "      padding: 0 0 0 0;\n",
              "      width: 32px;\n",
              "    }\n",
              "\n",
              "    .colab-df-convert:hover {\n",
              "      background-color: #E2EBFA;\n",
              "      box-shadow: 0px 1px 2px rgba(60, 64, 67, 0.3), 0px 1px 3px 1px rgba(60, 64, 67, 0.15);\n",
              "      fill: #174EA6;\n",
              "    }\n",
              "\n",
              "    [theme=dark] .colab-df-convert {\n",
              "      background-color: #3B4455;\n",
              "      fill: #D2E3FC;\n",
              "    }\n",
              "\n",
              "    [theme=dark] .colab-df-convert:hover {\n",
              "      background-color: #434B5C;\n",
              "      box-shadow: 0px 1px 3px 1px rgba(0, 0, 0, 0.15);\n",
              "      filter: drop-shadow(0px 1px 2px rgba(0, 0, 0, 0.3));\n",
              "      fill: #FFFFFF;\n",
              "    }\n",
              "  </style>\n",
              "\n",
              "      <script>\n",
              "        const buttonEl =\n",
              "          document.querySelector('#df-e9b578e2-1dbc-4101-9457-e2465b33e990 button.colab-df-convert');\n",
              "        buttonEl.style.display =\n",
              "          google.colab.kernel.accessAllowed ? 'block' : 'none';\n",
              "\n",
              "        async function convertToInteractive(key) {\n",
              "          const element = document.querySelector('#df-e9b578e2-1dbc-4101-9457-e2465b33e990');\n",
              "          const dataTable =\n",
              "            await google.colab.kernel.invokeFunction('convertToInteractive',\n",
              "                                                     [key], {});\n",
              "          if (!dataTable) return;\n",
              "\n",
              "          const docLinkHtml = 'Like what you see? Visit the ' +\n",
              "            '<a target=\"_blank\" href=https://colab.research.google.com/notebooks/data_table.ipynb>data table notebook</a>'\n",
              "            + ' to learn more about interactive tables.';\n",
              "          element.innerHTML = '';\n",
              "          dataTable['output_type'] = 'display_data';\n",
              "          await google.colab.output.renderOutput(dataTable, element);\n",
              "          const docLink = document.createElement('div');\n",
              "          docLink.innerHTML = docLinkHtml;\n",
              "          element.appendChild(docLink);\n",
              "        }\n",
              "      </script>\n",
              "    </div>\n",
              "  </div>\n",
              "  "
            ]
          },
          "metadata": {},
          "execution_count": 2
        }
      ]
    },
    {
      "cell_type": "code",
      "source": [
        "#renombramos las columnas\n",
        "misdatos.rename(columns={\n",
        "    'laufkont':'status',\n",
        "    'laufzeit':'duration',\n",
        "    'moral':'credit_history',\n",
        "    'verw':'purpose',\n",
        "    'hoehe':'amount',\n",
        "    'sparkont':'savings',\n",
        "    'beszeit':'employment_duration',\n",
        "    'rate':'installment_rate',\n",
        "    'famges':'personal_status_sex',\n",
        "    'buerge':'other_debtors',\n",
        "    'wohnzeit':'present_residence',\n",
        "    'verm':'property',\n",
        "    'alter':'age',\n",
        "    'weitkred':'other_installment_plans',\n",
        "    'wohn':'housing',\n",
        "    'bishkred':'number_credits',\n",
        "    'beruf':'job',\n",
        "    'pers':'people_liable',\n",
        "    'telef':'telephone',\n",
        "    'gastarb':'foreign_worker',\n",
        "    'kredit':'credit_risk',\n",
        "},inplace=True)\n",
        "misdatos.head()"
      ],
      "metadata": {
        "id": "0ulkqXVGCy97",
        "colab": {
          "base_uri": "https://localhost:8080/",
          "height": 300
        },
        "outputId": "9acb4c4f-ab31-4803-a61a-cd8878ca7fa2"
      },
      "execution_count": 3,
      "outputs": [
        {
          "output_type": "execute_result",
          "data": {
            "text/plain": [
              "   status  duration  credit_history  purpose  amount  savings  \\\n",
              "0       1        18               4        2    1049        1   \n",
              "1       1         9               4        0    2799        1   \n",
              "2       2        12               2        9     841        2   \n",
              "3       1        12               4        0    2122        1   \n",
              "4       1        12               4        0    2171        1   \n",
              "\n",
              "   employment_duration  installment_rate  personal_status_sex  other_debtors  \\\n",
              "0                    2                 4                    2              1   \n",
              "1                    3                 2                    3              1   \n",
              "2                    4                 2                    2              1   \n",
              "3                    3                 3                    3              1   \n",
              "4                    3                 4                    3              1   \n",
              "\n",
              "   ...  property  age  other_installment_plans  housing  number_credits  job  \\\n",
              "0  ...         2   21                        3        1               1    3   \n",
              "1  ...         1   36                        3        1               2    3   \n",
              "2  ...         1   23                        3        1               1    2   \n",
              "3  ...         1   39                        3        1               2    2   \n",
              "4  ...         2   38                        1        2               2    2   \n",
              "\n",
              "   people_liable  telephone  foreign_worker  credit_risk  \n",
              "0              2          1               2            1  \n",
              "1              1          1               2            1  \n",
              "2              2          1               2            1  \n",
              "3              1          1               1            1  \n",
              "4              2          1               1            1  \n",
              "\n",
              "[5 rows x 21 columns]"
            ],
            "text/html": [
              "\n",
              "  <div id=\"df-5b165404-6737-4dc3-8fb9-264cd77186a0\">\n",
              "    <div class=\"colab-df-container\">\n",
              "      <div>\n",
              "<style scoped>\n",
              "    .dataframe tbody tr th:only-of-type {\n",
              "        vertical-align: middle;\n",
              "    }\n",
              "\n",
              "    .dataframe tbody tr th {\n",
              "        vertical-align: top;\n",
              "    }\n",
              "\n",
              "    .dataframe thead th {\n",
              "        text-align: right;\n",
              "    }\n",
              "</style>\n",
              "<table border=\"1\" class=\"dataframe\">\n",
              "  <thead>\n",
              "    <tr style=\"text-align: right;\">\n",
              "      <th></th>\n",
              "      <th>status</th>\n",
              "      <th>duration</th>\n",
              "      <th>credit_history</th>\n",
              "      <th>purpose</th>\n",
              "      <th>amount</th>\n",
              "      <th>savings</th>\n",
              "      <th>employment_duration</th>\n",
              "      <th>installment_rate</th>\n",
              "      <th>personal_status_sex</th>\n",
              "      <th>other_debtors</th>\n",
              "      <th>...</th>\n",
              "      <th>property</th>\n",
              "      <th>age</th>\n",
              "      <th>other_installment_plans</th>\n",
              "      <th>housing</th>\n",
              "      <th>number_credits</th>\n",
              "      <th>job</th>\n",
              "      <th>people_liable</th>\n",
              "      <th>telephone</th>\n",
              "      <th>foreign_worker</th>\n",
              "      <th>credit_risk</th>\n",
              "    </tr>\n",
              "  </thead>\n",
              "  <tbody>\n",
              "    <tr>\n",
              "      <th>0</th>\n",
              "      <td>1</td>\n",
              "      <td>18</td>\n",
              "      <td>4</td>\n",
              "      <td>2</td>\n",
              "      <td>1049</td>\n",
              "      <td>1</td>\n",
              "      <td>2</td>\n",
              "      <td>4</td>\n",
              "      <td>2</td>\n",
              "      <td>1</td>\n",
              "      <td>...</td>\n",
              "      <td>2</td>\n",
              "      <td>21</td>\n",
              "      <td>3</td>\n",
              "      <td>1</td>\n",
              "      <td>1</td>\n",
              "      <td>3</td>\n",
              "      <td>2</td>\n",
              "      <td>1</td>\n",
              "      <td>2</td>\n",
              "      <td>1</td>\n",
              "    </tr>\n",
              "    <tr>\n",
              "      <th>1</th>\n",
              "      <td>1</td>\n",
              "      <td>9</td>\n",
              "      <td>4</td>\n",
              "      <td>0</td>\n",
              "      <td>2799</td>\n",
              "      <td>1</td>\n",
              "      <td>3</td>\n",
              "      <td>2</td>\n",
              "      <td>3</td>\n",
              "      <td>1</td>\n",
              "      <td>...</td>\n",
              "      <td>1</td>\n",
              "      <td>36</td>\n",
              "      <td>3</td>\n",
              "      <td>1</td>\n",
              "      <td>2</td>\n",
              "      <td>3</td>\n",
              "      <td>1</td>\n",
              "      <td>1</td>\n",
              "      <td>2</td>\n",
              "      <td>1</td>\n",
              "    </tr>\n",
              "    <tr>\n",
              "      <th>2</th>\n",
              "      <td>2</td>\n",
              "      <td>12</td>\n",
              "      <td>2</td>\n",
              "      <td>9</td>\n",
              "      <td>841</td>\n",
              "      <td>2</td>\n",
              "      <td>4</td>\n",
              "      <td>2</td>\n",
              "      <td>2</td>\n",
              "      <td>1</td>\n",
              "      <td>...</td>\n",
              "      <td>1</td>\n",
              "      <td>23</td>\n",
              "      <td>3</td>\n",
              "      <td>1</td>\n",
              "      <td>1</td>\n",
              "      <td>2</td>\n",
              "      <td>2</td>\n",
              "      <td>1</td>\n",
              "      <td>2</td>\n",
              "      <td>1</td>\n",
              "    </tr>\n",
              "    <tr>\n",
              "      <th>3</th>\n",
              "      <td>1</td>\n",
              "      <td>12</td>\n",
              "      <td>4</td>\n",
              "      <td>0</td>\n",
              "      <td>2122</td>\n",
              "      <td>1</td>\n",
              "      <td>3</td>\n",
              "      <td>3</td>\n",
              "      <td>3</td>\n",
              "      <td>1</td>\n",
              "      <td>...</td>\n",
              "      <td>1</td>\n",
              "      <td>39</td>\n",
              "      <td>3</td>\n",
              "      <td>1</td>\n",
              "      <td>2</td>\n",
              "      <td>2</td>\n",
              "      <td>1</td>\n",
              "      <td>1</td>\n",
              "      <td>1</td>\n",
              "      <td>1</td>\n",
              "    </tr>\n",
              "    <tr>\n",
              "      <th>4</th>\n",
              "      <td>1</td>\n",
              "      <td>12</td>\n",
              "      <td>4</td>\n",
              "      <td>0</td>\n",
              "      <td>2171</td>\n",
              "      <td>1</td>\n",
              "      <td>3</td>\n",
              "      <td>4</td>\n",
              "      <td>3</td>\n",
              "      <td>1</td>\n",
              "      <td>...</td>\n",
              "      <td>2</td>\n",
              "      <td>38</td>\n",
              "      <td>1</td>\n",
              "      <td>2</td>\n",
              "      <td>2</td>\n",
              "      <td>2</td>\n",
              "      <td>2</td>\n",
              "      <td>1</td>\n",
              "      <td>1</td>\n",
              "      <td>1</td>\n",
              "    </tr>\n",
              "  </tbody>\n",
              "</table>\n",
              "<p>5 rows × 21 columns</p>\n",
              "</div>\n",
              "      <button class=\"colab-df-convert\" onclick=\"convertToInteractive('df-5b165404-6737-4dc3-8fb9-264cd77186a0')\"\n",
              "              title=\"Convert this dataframe to an interactive table.\"\n",
              "              style=\"display:none;\">\n",
              "        \n",
              "  <svg xmlns=\"http://www.w3.org/2000/svg\" height=\"24px\"viewBox=\"0 0 24 24\"\n",
              "       width=\"24px\">\n",
              "    <path d=\"M0 0h24v24H0V0z\" fill=\"none\"/>\n",
              "    <path d=\"M18.56 5.44l.94 2.06.94-2.06 2.06-.94-2.06-.94-.94-2.06-.94 2.06-2.06.94zm-11 1L8.5 8.5l.94-2.06 2.06-.94-2.06-.94L8.5 2.5l-.94 2.06-2.06.94zm10 10l.94 2.06.94-2.06 2.06-.94-2.06-.94-.94-2.06-.94 2.06-2.06.94z\"/><path d=\"M17.41 7.96l-1.37-1.37c-.4-.4-.92-.59-1.43-.59-.52 0-1.04.2-1.43.59L10.3 9.45l-7.72 7.72c-.78.78-.78 2.05 0 2.83L4 21.41c.39.39.9.59 1.41.59.51 0 1.02-.2 1.41-.59l7.78-7.78 2.81-2.81c.8-.78.8-2.07 0-2.86zM5.41 20L4 18.59l7.72-7.72 1.47 1.35L5.41 20z\"/>\n",
              "  </svg>\n",
              "      </button>\n",
              "      \n",
              "  <style>\n",
              "    .colab-df-container {\n",
              "      display:flex;\n",
              "      flex-wrap:wrap;\n",
              "      gap: 12px;\n",
              "    }\n",
              "\n",
              "    .colab-df-convert {\n",
              "      background-color: #E8F0FE;\n",
              "      border: none;\n",
              "      border-radius: 50%;\n",
              "      cursor: pointer;\n",
              "      display: none;\n",
              "      fill: #1967D2;\n",
              "      height: 32px;\n",
              "      padding: 0 0 0 0;\n",
              "      width: 32px;\n",
              "    }\n",
              "\n",
              "    .colab-df-convert:hover {\n",
              "      background-color: #E2EBFA;\n",
              "      box-shadow: 0px 1px 2px rgba(60, 64, 67, 0.3), 0px 1px 3px 1px rgba(60, 64, 67, 0.15);\n",
              "      fill: #174EA6;\n",
              "    }\n",
              "\n",
              "    [theme=dark] .colab-df-convert {\n",
              "      background-color: #3B4455;\n",
              "      fill: #D2E3FC;\n",
              "    }\n",
              "\n",
              "    [theme=dark] .colab-df-convert:hover {\n",
              "      background-color: #434B5C;\n",
              "      box-shadow: 0px 1px 3px 1px rgba(0, 0, 0, 0.15);\n",
              "      filter: drop-shadow(0px 1px 2px rgba(0, 0, 0, 0.3));\n",
              "      fill: #FFFFFF;\n",
              "    }\n",
              "  </style>\n",
              "\n",
              "      <script>\n",
              "        const buttonEl =\n",
              "          document.querySelector('#df-5b165404-6737-4dc3-8fb9-264cd77186a0 button.colab-df-convert');\n",
              "        buttonEl.style.display =\n",
              "          google.colab.kernel.accessAllowed ? 'block' : 'none';\n",
              "\n",
              "        async function convertToInteractive(key) {\n",
              "          const element = document.querySelector('#df-5b165404-6737-4dc3-8fb9-264cd77186a0');\n",
              "          const dataTable =\n",
              "            await google.colab.kernel.invokeFunction('convertToInteractive',\n",
              "                                                     [key], {});\n",
              "          if (!dataTable) return;\n",
              "\n",
              "          const docLinkHtml = 'Like what you see? Visit the ' +\n",
              "            '<a target=\"_blank\" href=https://colab.research.google.com/notebooks/data_table.ipynb>data table notebook</a>'\n",
              "            + ' to learn more about interactive tables.';\n",
              "          element.innerHTML = '';\n",
              "          dataTable['output_type'] = 'display_data';\n",
              "          await google.colab.output.renderOutput(dataTable, element);\n",
              "          const docLink = document.createElement('div');\n",
              "          docLink.innerHTML = docLinkHtml;\n",
              "          element.appendChild(docLink);\n",
              "        }\n",
              "      </script>\n",
              "    </div>\n",
              "  </div>\n",
              "  "
            ]
          },
          "metadata": {},
          "execution_count": 3
        }
      ]
    },
    {
      "cell_type": "markdown",
      "source": [
        "#**Ejercicio-2.**"
      ],
      "metadata": {
        "id": "xZhr2hkECzVv"
      }
    },
    {
      "cell_type": "code",
      "source": [
        "X = misdatos.loc[:,[\"status\",\"duration\",\"credit_history\",\"purpose\",\"amount\",\"savings\",\"employment_duration\",\"installment_rate\",\t\"personal_status_sex\",\t\"other_debtors\",\"present_residence\",\t\"property\",\t\"age\",\t\"other_installment_plans\",\t\"housing\",\t\"number_credits\"\t,\"job\",\t\"people_liable\"\t,\"telephone\",\t\"foreign_worker\"]]\n",
        "y = misdatos.loc[:,'credit_risk']\n",
        "\n",
        "#Realiza una partición de los datos en el conjunto de entrenamiento del 85% y el de prueba de 15%.\n",
        "X_train, X_test, y_train, y_test = train_test_split(X, y, test_size=.15, random_state=10)\n",
        "\n"
      ],
      "metadata": {
        "id": "kGfAoOPkC1PP"
      },
      "execution_count": 4,
      "outputs": []
    },
    {
      "cell_type": "code",
      "source": [],
      "metadata": {
        "id": "GOydw5OGC1MJ"
      },
      "execution_count": 4,
      "outputs": []
    },
    {
      "cell_type": "markdown",
      "source": [
        "#**Ejercicio-3.**"
      ],
      "metadata": {
        "id": "NCunuooTC2W3"
      }
    },
    {
      "cell_type": "code",
      "source": [
        "df_CategoricalVar = ['status','credit_history','purpose','savings','personal_status_sex','other_debtors','other_installment_plans','housing']\n",
        "df_CuantitativaDiscVar= [\"employment_duration\",\"installment_rate\",\"present_residence\",\"property\",\"number_credits\",\"job\"]\n",
        "df_NumericVar= [\"duration\",\"amount\",\"age\"]\n",
        "df_BinaryVar= [\"people_liable\",\"telephone\",\"foreign_worker\"]"
      ],
      "metadata": {
        "id": "YXlcSWA-C4Dj"
      },
      "execution_count": 5,
      "outputs": []
    },
    {
      "cell_type": "code",
      "source": [
        "X_train.isnull().sum()"
      ],
      "metadata": {
        "id": "BKI80-YdC4HN",
        "colab": {
          "base_uri": "https://localhost:8080/"
        },
        "outputId": "4a419ed2-be8c-475f-deb5-6962407837cd"
      },
      "execution_count": 6,
      "outputs": [
        {
          "output_type": "execute_result",
          "data": {
            "text/plain": [
              "status                     0\n",
              "duration                   0\n",
              "credit_history             0\n",
              "purpose                    0\n",
              "amount                     0\n",
              "savings                    0\n",
              "employment_duration        0\n",
              "installment_rate           0\n",
              "personal_status_sex        0\n",
              "other_debtors              0\n",
              "present_residence          0\n",
              "property                   0\n",
              "age                        0\n",
              "other_installment_plans    0\n",
              "housing                    0\n",
              "number_credits             0\n",
              "job                        0\n",
              "people_liable              0\n",
              "telephone                  0\n",
              "foreign_worker             0\n",
              "dtype: int64"
            ]
          },
          "metadata": {},
          "execution_count": 6
        }
      ]
    },
    {
      "cell_type": "code",
      "source": [
        "X_train.isna().any()"
      ],
      "metadata": {
        "colab": {
          "base_uri": "https://localhost:8080/"
        },
        "id": "mZYquYzd06QX",
        "outputId": "5d705edf-268f-4bd4-e39d-7871210f3f98"
      },
      "execution_count": 7,
      "outputs": [
        {
          "output_type": "execute_result",
          "data": {
            "text/plain": [
              "status                     False\n",
              "duration                   False\n",
              "credit_history             False\n",
              "purpose                    False\n",
              "amount                     False\n",
              "savings                    False\n",
              "employment_duration        False\n",
              "installment_rate           False\n",
              "personal_status_sex        False\n",
              "other_debtors              False\n",
              "present_residence          False\n",
              "property                   False\n",
              "age                        False\n",
              "other_installment_plans    False\n",
              "housing                    False\n",
              "number_credits             False\n",
              "job                        False\n",
              "people_liable              False\n",
              "telephone                  False\n",
              "foreign_worker             False\n",
              "dtype: bool"
            ]
          },
          "metadata": {},
          "execution_count": 7
        }
      ]
    },
    {
      "cell_type": "code",
      "source": [
        "X_train.describe()"
      ],
      "metadata": {
        "colab": {
          "base_uri": "https://localhost:8080/",
          "height": 364
        },
        "id": "DSOsU5PqGqoe",
        "outputId": "0930c660-dd27-478d-9008-14bc47d2b856"
      },
      "execution_count": 8,
      "outputs": [
        {
          "output_type": "execute_result",
          "data": {
            "text/plain": [
              "           status    duration  credit_history     purpose        amount  \\\n",
              "count  850.000000  850.000000      850.000000  850.000000    850.000000   \n",
              "mean     2.595294   20.462353        2.527059    2.851765   3216.104706   \n",
              "std      1.260425   11.726531        1.077600    2.762129   2748.335186   \n",
              "min      1.000000    4.000000        0.000000    0.000000    250.000000   \n",
              "25%      1.000000   12.000000        2.000000    1.000000   1374.000000   \n",
              "50%      2.000000   18.000000        2.000000    2.000000   2301.500000   \n",
              "75%      4.000000   24.000000        4.000000    3.000000   3959.000000   \n",
              "max      4.000000   72.000000        4.000000   10.000000  15945.000000   \n",
              "\n",
              "          savings  employment_duration  installment_rate  personal_status_sex  \\\n",
              "count  850.000000           850.000000        850.000000           850.000000   \n",
              "mean     2.121176             3.384706          2.981176             2.690588   \n",
              "std      1.590060             1.228442          1.114049             0.714666   \n",
              "min      1.000000             1.000000          1.000000             1.000000   \n",
              "25%      1.000000             3.000000          2.000000             2.000000   \n",
              "50%      1.000000             3.000000          3.000000             3.000000   \n",
              "75%      3.000000             5.000000          4.000000             3.000000   \n",
              "max      5.000000             5.000000          4.000000             4.000000   \n",
              "\n",
              "       other_debtors  present_residence   property         age  \\\n",
              "count     850.000000         850.000000  850.00000  850.000000   \n",
              "mean        1.155294           2.852941    2.34000   35.603529   \n",
              "std         0.491987           1.102849    1.04928   11.464257   \n",
              "min         1.000000           1.000000    1.00000   19.000000   \n",
              "25%         1.000000           2.000000    1.00000   27.000000   \n",
              "50%         1.000000           3.000000    2.00000   33.000000   \n",
              "75%         1.000000           4.000000    3.00000   42.000000   \n",
              "max         3.000000           4.000000    4.00000   75.000000   \n",
              "\n",
              "       other_installment_plans     housing  number_credits         job  \\\n",
              "count               850.000000  850.000000      850.000000  850.000000   \n",
              "mean                  2.663529    1.924706        1.402353    2.900000   \n",
              "std                   0.716431    0.524074        0.570573    0.651627   \n",
              "min                   1.000000    1.000000        1.000000    1.000000   \n",
              "25%                   3.000000    2.000000        1.000000    3.000000   \n",
              "50%                   3.000000    2.000000        1.000000    3.000000   \n",
              "75%                   3.000000    2.000000        2.000000    3.000000   \n",
              "max                   3.000000    3.000000        4.000000    4.000000   \n",
              "\n",
              "       people_liable   telephone  foreign_worker  \n",
              "count     850.000000  850.000000      850.000000  \n",
              "mean        1.848235    1.403529        1.963529  \n",
              "std         0.359004    0.490894        0.187568  \n",
              "min         1.000000    1.000000        1.000000  \n",
              "25%         2.000000    1.000000        2.000000  \n",
              "50%         2.000000    1.000000        2.000000  \n",
              "75%         2.000000    2.000000        2.000000  \n",
              "max         2.000000    2.000000        2.000000  "
            ],
            "text/html": [
              "\n",
              "  <div id=\"df-c4206d13-3bbb-417c-9b78-4e7635cae7c1\">\n",
              "    <div class=\"colab-df-container\">\n",
              "      <div>\n",
              "<style scoped>\n",
              "    .dataframe tbody tr th:only-of-type {\n",
              "        vertical-align: middle;\n",
              "    }\n",
              "\n",
              "    .dataframe tbody tr th {\n",
              "        vertical-align: top;\n",
              "    }\n",
              "\n",
              "    .dataframe thead th {\n",
              "        text-align: right;\n",
              "    }\n",
              "</style>\n",
              "<table border=\"1\" class=\"dataframe\">\n",
              "  <thead>\n",
              "    <tr style=\"text-align: right;\">\n",
              "      <th></th>\n",
              "      <th>status</th>\n",
              "      <th>duration</th>\n",
              "      <th>credit_history</th>\n",
              "      <th>purpose</th>\n",
              "      <th>amount</th>\n",
              "      <th>savings</th>\n",
              "      <th>employment_duration</th>\n",
              "      <th>installment_rate</th>\n",
              "      <th>personal_status_sex</th>\n",
              "      <th>other_debtors</th>\n",
              "      <th>present_residence</th>\n",
              "      <th>property</th>\n",
              "      <th>age</th>\n",
              "      <th>other_installment_plans</th>\n",
              "      <th>housing</th>\n",
              "      <th>number_credits</th>\n",
              "      <th>job</th>\n",
              "      <th>people_liable</th>\n",
              "      <th>telephone</th>\n",
              "      <th>foreign_worker</th>\n",
              "    </tr>\n",
              "  </thead>\n",
              "  <tbody>\n",
              "    <tr>\n",
              "      <th>count</th>\n",
              "      <td>850.000000</td>\n",
              "      <td>850.000000</td>\n",
              "      <td>850.000000</td>\n",
              "      <td>850.000000</td>\n",
              "      <td>850.000000</td>\n",
              "      <td>850.000000</td>\n",
              "      <td>850.000000</td>\n",
              "      <td>850.000000</td>\n",
              "      <td>850.000000</td>\n",
              "      <td>850.000000</td>\n",
              "      <td>850.000000</td>\n",
              "      <td>850.00000</td>\n",
              "      <td>850.000000</td>\n",
              "      <td>850.000000</td>\n",
              "      <td>850.000000</td>\n",
              "      <td>850.000000</td>\n",
              "      <td>850.000000</td>\n",
              "      <td>850.000000</td>\n",
              "      <td>850.000000</td>\n",
              "      <td>850.000000</td>\n",
              "    </tr>\n",
              "    <tr>\n",
              "      <th>mean</th>\n",
              "      <td>2.595294</td>\n",
              "      <td>20.462353</td>\n",
              "      <td>2.527059</td>\n",
              "      <td>2.851765</td>\n",
              "      <td>3216.104706</td>\n",
              "      <td>2.121176</td>\n",
              "      <td>3.384706</td>\n",
              "      <td>2.981176</td>\n",
              "      <td>2.690588</td>\n",
              "      <td>1.155294</td>\n",
              "      <td>2.852941</td>\n",
              "      <td>2.34000</td>\n",
              "      <td>35.603529</td>\n",
              "      <td>2.663529</td>\n",
              "      <td>1.924706</td>\n",
              "      <td>1.402353</td>\n",
              "      <td>2.900000</td>\n",
              "      <td>1.848235</td>\n",
              "      <td>1.403529</td>\n",
              "      <td>1.963529</td>\n",
              "    </tr>\n",
              "    <tr>\n",
              "      <th>std</th>\n",
              "      <td>1.260425</td>\n",
              "      <td>11.726531</td>\n",
              "      <td>1.077600</td>\n",
              "      <td>2.762129</td>\n",
              "      <td>2748.335186</td>\n",
              "      <td>1.590060</td>\n",
              "      <td>1.228442</td>\n",
              "      <td>1.114049</td>\n",
              "      <td>0.714666</td>\n",
              "      <td>0.491987</td>\n",
              "      <td>1.102849</td>\n",
              "      <td>1.04928</td>\n",
              "      <td>11.464257</td>\n",
              "      <td>0.716431</td>\n",
              "      <td>0.524074</td>\n",
              "      <td>0.570573</td>\n",
              "      <td>0.651627</td>\n",
              "      <td>0.359004</td>\n",
              "      <td>0.490894</td>\n",
              "      <td>0.187568</td>\n",
              "    </tr>\n",
              "    <tr>\n",
              "      <th>min</th>\n",
              "      <td>1.000000</td>\n",
              "      <td>4.000000</td>\n",
              "      <td>0.000000</td>\n",
              "      <td>0.000000</td>\n",
              "      <td>250.000000</td>\n",
              "      <td>1.000000</td>\n",
              "      <td>1.000000</td>\n",
              "      <td>1.000000</td>\n",
              "      <td>1.000000</td>\n",
              "      <td>1.000000</td>\n",
              "      <td>1.000000</td>\n",
              "      <td>1.00000</td>\n",
              "      <td>19.000000</td>\n",
              "      <td>1.000000</td>\n",
              "      <td>1.000000</td>\n",
              "      <td>1.000000</td>\n",
              "      <td>1.000000</td>\n",
              "      <td>1.000000</td>\n",
              "      <td>1.000000</td>\n",
              "      <td>1.000000</td>\n",
              "    </tr>\n",
              "    <tr>\n",
              "      <th>25%</th>\n",
              "      <td>1.000000</td>\n",
              "      <td>12.000000</td>\n",
              "      <td>2.000000</td>\n",
              "      <td>1.000000</td>\n",
              "      <td>1374.000000</td>\n",
              "      <td>1.000000</td>\n",
              "      <td>3.000000</td>\n",
              "      <td>2.000000</td>\n",
              "      <td>2.000000</td>\n",
              "      <td>1.000000</td>\n",
              "      <td>2.000000</td>\n",
              "      <td>1.00000</td>\n",
              "      <td>27.000000</td>\n",
              "      <td>3.000000</td>\n",
              "      <td>2.000000</td>\n",
              "      <td>1.000000</td>\n",
              "      <td>3.000000</td>\n",
              "      <td>2.000000</td>\n",
              "      <td>1.000000</td>\n",
              "      <td>2.000000</td>\n",
              "    </tr>\n",
              "    <tr>\n",
              "      <th>50%</th>\n",
              "      <td>2.000000</td>\n",
              "      <td>18.000000</td>\n",
              "      <td>2.000000</td>\n",
              "      <td>2.000000</td>\n",
              "      <td>2301.500000</td>\n",
              "      <td>1.000000</td>\n",
              "      <td>3.000000</td>\n",
              "      <td>3.000000</td>\n",
              "      <td>3.000000</td>\n",
              "      <td>1.000000</td>\n",
              "      <td>3.000000</td>\n",
              "      <td>2.00000</td>\n",
              "      <td>33.000000</td>\n",
              "      <td>3.000000</td>\n",
              "      <td>2.000000</td>\n",
              "      <td>1.000000</td>\n",
              "      <td>3.000000</td>\n",
              "      <td>2.000000</td>\n",
              "      <td>1.000000</td>\n",
              "      <td>2.000000</td>\n",
              "    </tr>\n",
              "    <tr>\n",
              "      <th>75%</th>\n",
              "      <td>4.000000</td>\n",
              "      <td>24.000000</td>\n",
              "      <td>4.000000</td>\n",
              "      <td>3.000000</td>\n",
              "      <td>3959.000000</td>\n",
              "      <td>3.000000</td>\n",
              "      <td>5.000000</td>\n",
              "      <td>4.000000</td>\n",
              "      <td>3.000000</td>\n",
              "      <td>1.000000</td>\n",
              "      <td>4.000000</td>\n",
              "      <td>3.00000</td>\n",
              "      <td>42.000000</td>\n",
              "      <td>3.000000</td>\n",
              "      <td>2.000000</td>\n",
              "      <td>2.000000</td>\n",
              "      <td>3.000000</td>\n",
              "      <td>2.000000</td>\n",
              "      <td>2.000000</td>\n",
              "      <td>2.000000</td>\n",
              "    </tr>\n",
              "    <tr>\n",
              "      <th>max</th>\n",
              "      <td>4.000000</td>\n",
              "      <td>72.000000</td>\n",
              "      <td>4.000000</td>\n",
              "      <td>10.000000</td>\n",
              "      <td>15945.000000</td>\n",
              "      <td>5.000000</td>\n",
              "      <td>5.000000</td>\n",
              "      <td>4.000000</td>\n",
              "      <td>4.000000</td>\n",
              "      <td>3.000000</td>\n",
              "      <td>4.000000</td>\n",
              "      <td>4.00000</td>\n",
              "      <td>75.000000</td>\n",
              "      <td>3.000000</td>\n",
              "      <td>3.000000</td>\n",
              "      <td>4.000000</td>\n",
              "      <td>4.000000</td>\n",
              "      <td>2.000000</td>\n",
              "      <td>2.000000</td>\n",
              "      <td>2.000000</td>\n",
              "    </tr>\n",
              "  </tbody>\n",
              "</table>\n",
              "</div>\n",
              "      <button class=\"colab-df-convert\" onclick=\"convertToInteractive('df-c4206d13-3bbb-417c-9b78-4e7635cae7c1')\"\n",
              "              title=\"Convert this dataframe to an interactive table.\"\n",
              "              style=\"display:none;\">\n",
              "        \n",
              "  <svg xmlns=\"http://www.w3.org/2000/svg\" height=\"24px\"viewBox=\"0 0 24 24\"\n",
              "       width=\"24px\">\n",
              "    <path d=\"M0 0h24v24H0V0z\" fill=\"none\"/>\n",
              "    <path d=\"M18.56 5.44l.94 2.06.94-2.06 2.06-.94-2.06-.94-.94-2.06-.94 2.06-2.06.94zm-11 1L8.5 8.5l.94-2.06 2.06-.94-2.06-.94L8.5 2.5l-.94 2.06-2.06.94zm10 10l.94 2.06.94-2.06 2.06-.94-2.06-.94-.94-2.06-.94 2.06-2.06.94z\"/><path d=\"M17.41 7.96l-1.37-1.37c-.4-.4-.92-.59-1.43-.59-.52 0-1.04.2-1.43.59L10.3 9.45l-7.72 7.72c-.78.78-.78 2.05 0 2.83L4 21.41c.39.39.9.59 1.41.59.51 0 1.02-.2 1.41-.59l7.78-7.78 2.81-2.81c.8-.78.8-2.07 0-2.86zM5.41 20L4 18.59l7.72-7.72 1.47 1.35L5.41 20z\"/>\n",
              "  </svg>\n",
              "      </button>\n",
              "      \n",
              "  <style>\n",
              "    .colab-df-container {\n",
              "      display:flex;\n",
              "      flex-wrap:wrap;\n",
              "      gap: 12px;\n",
              "    }\n",
              "\n",
              "    .colab-df-convert {\n",
              "      background-color: #E8F0FE;\n",
              "      border: none;\n",
              "      border-radius: 50%;\n",
              "      cursor: pointer;\n",
              "      display: none;\n",
              "      fill: #1967D2;\n",
              "      height: 32px;\n",
              "      padding: 0 0 0 0;\n",
              "      width: 32px;\n",
              "    }\n",
              "\n",
              "    .colab-df-convert:hover {\n",
              "      background-color: #E2EBFA;\n",
              "      box-shadow: 0px 1px 2px rgba(60, 64, 67, 0.3), 0px 1px 3px 1px rgba(60, 64, 67, 0.15);\n",
              "      fill: #174EA6;\n",
              "    }\n",
              "\n",
              "    [theme=dark] .colab-df-convert {\n",
              "      background-color: #3B4455;\n",
              "      fill: #D2E3FC;\n",
              "    }\n",
              "\n",
              "    [theme=dark] .colab-df-convert:hover {\n",
              "      background-color: #434B5C;\n",
              "      box-shadow: 0px 1px 3px 1px rgba(0, 0, 0, 0.15);\n",
              "      filter: drop-shadow(0px 1px 2px rgba(0, 0, 0, 0.3));\n",
              "      fill: #FFFFFF;\n",
              "    }\n",
              "  </style>\n",
              "\n",
              "      <script>\n",
              "        const buttonEl =\n",
              "          document.querySelector('#df-c4206d13-3bbb-417c-9b78-4e7635cae7c1 button.colab-df-convert');\n",
              "        buttonEl.style.display =\n",
              "          google.colab.kernel.accessAllowed ? 'block' : 'none';\n",
              "\n",
              "        async function convertToInteractive(key) {\n",
              "          const element = document.querySelector('#df-c4206d13-3bbb-417c-9b78-4e7635cae7c1');\n",
              "          const dataTable =\n",
              "            await google.colab.kernel.invokeFunction('convertToInteractive',\n",
              "                                                     [key], {});\n",
              "          if (!dataTable) return;\n",
              "\n",
              "          const docLinkHtml = 'Like what you see? Visit the ' +\n",
              "            '<a target=\"_blank\" href=https://colab.research.google.com/notebooks/data_table.ipynb>data table notebook</a>'\n",
              "            + ' to learn more about interactive tables.';\n",
              "          element.innerHTML = '';\n",
              "          dataTable['output_type'] = 'display_data';\n",
              "          await google.colab.output.renderOutput(dataTable, element);\n",
              "          const docLink = document.createElement('div');\n",
              "          docLink.innerHTML = docLinkHtml;\n",
              "          element.appendChild(docLink);\n",
              "        }\n",
              "      </script>\n",
              "    </div>\n",
              "  </div>\n",
              "  "
            ]
          },
          "metadata": {},
          "execution_count": 8
        }
      ]
    },
    {
      "cell_type": "code",
      "source": [
        "#trabajamos las imputaciones\n",
        "#pipeline variables Numericas\n",
        "df_PipelineNum= Pipeline(steps = [('ImpMediana', SimpleImputer(strategy='median')), ('scalar', MinMaxScaler(feature_range=(1,2)))])\n",
        "columnas_PipelineNum =df_NumericVar\n",
        "\n",
        "#pipeline variables categoricas\n",
        "df_PipelineCate = Pipeline(steps = [('impModa', SimpleImputer(strategy='most_frequent')),('OneHotE', OneHotEncoder(handle_unknown=\"ignore\"))])\n",
        "columnas_df_PipelineCate = df_CategoricalVar\n",
        "\n",
        "\n",
        "#pipeline variables binarias\n",
        "df_PipelineBin = Pipeline(steps = [('impModa', SimpleImputer(strategy='most_frequent')),('OneHotE', OneHotEncoder(handle_unknown=\"ignore\"))])\n",
        "columnas_df_PipelineBin = df_BinaryVar\n",
        "\n",
        "\n",
        "#realizamos la transformacion con los pipelines anteriores a las columnas adecuadas\n",
        "df_ColTransformadas = ColumnTransformer(transformers=[('Numericas', df_PipelineNum, columnas_PipelineNum), \n",
        "                                            ('Categoricas', df_PipelineCate , columnas_df_PipelineCate), \n",
        "                                            ('binarias', df_PipelineBin, columnas_df_PipelineBin)], \n",
        "                                            remainder='passthrough')\n",
        "\n"
      ],
      "metadata": {
        "id": "OVtyZnCD06Fn"
      },
      "execution_count": 9,
      "outputs": []
    },
    {
      "cell_type": "markdown",
      "source": [
        "#**Ejercicio-4.**"
      ],
      "metadata": {
        "id": "chqk9jIDC5Pq"
      }
    },
    {
      "cell_type": "code",
      "source": [
        "#reusamos las metricas recall, f1, gmean.\n",
        "def mi_recall(yreal, ypred):\n",
        "  Vn, Fp, Fn, Vp = confusion_matrix(yreal, ypred).ravel()\n",
        "  recall = Vp/(Vp+Fn)\n",
        "  return recall\n",
        "\n",
        "def mi_f1score(yreal, ypred):\n",
        "  Vn, Fp, Fn, Vp = confusion_matrix(yreal, ypred).ravel()\n",
        "  f1score = (2*Vp)/((2*Vp)+Fp+Fn)\n",
        "  return f1score\n",
        "\n",
        "def mi_gmean(yreal, ypred):\n",
        "  Vn, Fp, Fn, Vp= confusion_matrix(yreal,ypred).ravel()\n",
        "  recall = mi_recall(yreal, ypred)\n",
        "  especificidad= Vn / (Vn+Fp)\n",
        "  gmean = np.sqrt(recall*especificidad)\n",
        "  #En caso de querer comprobar que el gmean tenga buen resultado, usamos la funcion de sklearn\n",
        "  #PEgar funcion aqui\n",
        "  return gmean\n",
        "\n",
        "def mi_accuracy(yreal, ypred):\n",
        "  Vn, Fp, Fn, Vp = confusion_matrix(yreal, ypred).ravel()\n",
        "  accuracy = (Vp+Vn)/(Vp+Vn+Fp+Fn)\n",
        "  return accuracy\n",
        "\n",
        "def mi_precision(yreal, ypred):\n",
        "  Vn, Fp, Fn, Vp = confusion_matrix(yreal, ypred).ravel()\n",
        "  precision = Vp/(Vp+Fp)\n",
        "  return precision\n",
        "\n",
        "\n",
        "\n",
        "#creamos la lista de modelos con sus nombres\n",
        "def Do_models():\n",
        "  #listas\n",
        "  modelos = list()\n",
        "  nombres = list()\n",
        "\n",
        "  # Modelo de Regresión Logística:\n",
        "  modelos.append(LogisticRegression(solver='liblinear'))\n",
        "  nombres.append('RegresionLog')\n",
        "\n",
        "  # Modelo de arbol de Decision:\n",
        "  modelos.append(DecisionTreeClassifier())\n",
        "  nombres.append('ArbolDecision')\n",
        "  \n",
        "  #modelo bosque aleatorio\n",
        "  modelos.append(RandomForestClassifier())\n",
        "  nombres.append('BosqueAleatorio')\n",
        "  \n",
        "  return modelos, nombres\n",
        "\n",
        "\n",
        "resultados = list()\n"
      ],
      "metadata": {
        "id": "RBVSFwK4C6g9"
      },
      "execution_count": 10,
      "outputs": []
    },
    {
      "cell_type": "code",
      "source": [
        "#creamos los modelos\n",
        "modelos, nombres = Do_models()  \n",
        "modelos\n"
      ],
      "metadata": {
        "id": "7KXnlNzAC69Y",
        "colab": {
          "base_uri": "https://localhost:8080/"
        },
        "outputId": "2d3cb659-fe4f-4dc2-97ac-7c537045ec55"
      },
      "execution_count": 11,
      "outputs": [
        {
          "output_type": "execute_result",
          "data": {
            "text/plain": [
              "[LogisticRegression(solver='liblinear'),\n",
              " DecisionTreeClassifier(),\n",
              " RandomForestClassifier()]"
            ]
          },
          "metadata": {},
          "execution_count": 11
        }
      ]
    },
    {
      "cell_type": "code",
      "source": [
        "for i in range(len(modelos)):\n",
        "\n",
        "#Kfold validacion cruzada de 5 particiones y 3 repeticiones\n",
        "  kfold = RepeatedStratifiedKFold(n_splits=5, n_repeats=3)\n",
        "#en pipeline ponemos las columnas transformadas y los modelos\n",
        "  pipeline = Pipeline(steps=[('ct',df_ColTransformadas),('m',modelos[i])])\n",
        "\n",
        "  mis_metricas = {\n",
        "      \"accuracy\": make_scorer(mi_accuracy),\n",
        "      \"precision\":make_scorer(mi_precision),\n",
        "      \"recall\": make_scorer(mi_recall),\n",
        "      \"f1score\": make_scorer(mi_f1score),\n",
        "      \"gmean\": make_scorer(mi_gmean)\n",
        "  }\n",
        "\n",
        "  resultadosOU = cross_validate(pipeline, X_train, y_train, scoring=mis_metricas, cv=kfold, return_train_score=True)\n",
        "  \n",
        "  resultados.append(resultadosOU)\n",
        "  \n",
        "  print(\"Prueba \\n\") \n",
        "  print('%s:\\nmean Accuracy: %.3f (%.4f)\\nmean Precision: %.3f (%.4f)\\nmean Recall: %.3f (%.4f)\\nmean F1score: %.3f (%.4f)\\nGmean: %.3f (%.4f)\\n' % (nombres[i],\n",
        "                                                                          np.mean(resultadosOU['test_accuracy']), np.std(resultadosOU['test_accuracy']), \n",
        "                                                                          np.mean(resultadosOU['test_precision']),np.std(resultadosOU['test_precision']), \n",
        "                                                                          np.mean(resultadosOU['test_recall']),np.std(resultadosOU['test_recall']),\n",
        "                                                                          np.mean(resultadosOU['test_f1score']),np.std(resultadosOU['test_f1score']),\n",
        "                                                                          np.mean(resultadosOU['test_gmean']),np.std(resultadosOU['test_gmean'])\n",
        "                                                                          ))\n",
        "  \n",
        "\n",
        "  print(\"Entrenamiento \\n\") \n",
        "  print('%s:\\nmean Accuracy: %.3f (%.4f)\\nmean Precision: %.3f (%.4f)\\nmean Recall: %.3f (%.4f)\\nmean F1score: %.3f (%.4f)\\nGmean: %.3f (%.4f)\\n' % (nombres[i], \n",
        "                                                                          np.mean(resultadosOU['train_accuracy']), np.std(resultadosOU['train_accuracy']),  \n",
        "                                                                          np.mean(resultadosOU['train_precision']), np.std(resultadosOU['train_precision']), \n",
        "                                                                          np.mean(resultadosOU['train_recall']), np.std(resultadosOU['train_recall']),\n",
        "                                                                          np.mean(resultadosOU['train_f1score']), np.std(resultadosOU['train_f1score']), \n",
        "                                                                          np.mean(resultadosOU['train_gmean']), np.std(resultadosOU['train_gmean']) ))\n",
        "\n"
      ],
      "metadata": {
        "colab": {
          "base_uri": "https://localhost:8080/"
        },
        "id": "jyokinUmBj4_",
        "outputId": "eb58f783-8354-4200-fd9b-e884d818b481"
      },
      "execution_count": 12,
      "outputs": [
        {
          "output_type": "stream",
          "name": "stdout",
          "text": [
            "Prueba \n",
            "\n",
            "RegresionLog:\n",
            "mean Accuracy: 0.758 (0.0283)\n",
            "mean Precision: 0.796 (0.0156)\n",
            "mean Recall: 0.884 (0.0431)\n",
            "mean F1score: 0.837 (0.0217)\n",
            "Gmean: 0.629 (0.0397)\n",
            "\n",
            "Entrenamiento \n",
            "\n",
            "RegresionLog:\n",
            "mean Accuracy: 0.792 (0.0076)\n",
            "mean Precision: 0.819 (0.0055)\n",
            "mean Recall: 0.906 (0.0064)\n",
            "mean F1score: 0.860 (0.0051)\n",
            "Gmean: 0.683 (0.0120)\n",
            "\n",
            "Prueba \n",
            "\n",
            "ArbolDecision:\n",
            "mean Accuracy: 0.678 (0.0277)\n",
            "mean Precision: 0.772 (0.0214)\n",
            "mean Recall: 0.775 (0.0378)\n",
            "mean F1score: 0.773 (0.0220)\n",
            "Gmean: 0.584 (0.0415)\n",
            "\n",
            "Entrenamiento \n",
            "\n",
            "ArbolDecision:\n",
            "mean Accuracy: 1.000 (0.0000)\n",
            "mean Precision: 1.000 (0.0000)\n",
            "mean Recall: 1.000 (0.0000)\n",
            "mean F1score: 1.000 (0.0000)\n",
            "Gmean: 1.000 (0.0000)\n",
            "\n",
            "Prueba \n",
            "\n",
            "BosqueAleatorio:\n",
            "mean Accuracy: 0.753 (0.0254)\n",
            "mean Precision: 0.780 (0.0172)\n",
            "mean Recall: 0.908 (0.0252)\n",
            "mean F1score: 0.839 (0.0170)\n",
            "Gmean: 0.583 (0.0458)\n",
            "\n",
            "Entrenamiento \n",
            "\n",
            "BosqueAleatorio:\n",
            "mean Accuracy: 1.000 (0.0004)\n",
            "mean Precision: 1.000 (0.0005)\n",
            "mean Recall: 1.000 (0.0000)\n",
            "mean F1score: 1.000 (0.0003)\n",
            "Gmean: 1.000 (0.0006)\n",
            "\n"
          ]
        }
      ]
    },
    {
      "cell_type": "code",
      "source": [
        "sns.set(rc={'figure.figsize':(8,4)})\n",
        "\n",
        "\n",
        "\n",
        "\n",
        "\n",
        "\n",
        "bpRecallTrain = list()\n",
        "\n",
        "for i in range(len(resultados)):\n",
        "  rr = resultados[i]['train_recall']\n",
        "  bpRecallTrain.append(rr)\n",
        "\n",
        "plt.boxplot(bpRecallTrain, labels=nombres, showmeans=True)\n",
        "plt.show()\n",
        "\n",
        "\n"
      ],
      "metadata": {
        "colab": {
          "base_uri": "https://localhost:8080/",
          "height": 268
        },
        "id": "zT8ZVVMFSxXT",
        "outputId": "878dd809-e10e-4f65-a8ff-0850e54bc584"
      },
      "execution_count": 13,
      "outputs": [
        {
          "output_type": "display_data",
          "data": {
            "text/plain": [
              "<Figure size 576x288 with 1 Axes>"
            ],
            "image/png": "[encoded data removed]"
          },
          "metadata": {}
        }
      ]
    },
    {
      "cell_type": "code",
      "source": [
        "bpRecallTest = list()\n",
        "for i in range(len(resultados)):\n",
        "  rr = resultados[i]['test_recall']\n",
        "  bpRecallTest.append(rr)\n",
        "\n",
        "plt.boxplot(bpRecallTest, labels=nombres, showmeans=True)\n",
        "plt.show()"
      ],
      "metadata": {
        "colab": {
          "base_uri": "https://localhost:8080/",
          "height": 268
        },
        "id": "525_yYZ6VKr7",
        "outputId": "bde0ebe5-2c40-4dfe-82a7-157496a82d0a"
      },
      "execution_count": 14,
      "outputs": [
        {
          "output_type": "display_data",
          "data": {
            "text/plain": [
              "<Figure size 576x288 with 1 Axes>"
            ],
            "image/png": "[encoded data removed]"
          },
          "metadata": {}
        }
      ]
    },
    {
      "cell_type": "markdown",
      "source": [
        "#4d  \n",
        "¿Alguno de los modelos está subentrenado o sobreentrenado? Justifica tu \n",
        "respuesta. \n",
        "El arbol de decisión clasifica sin error en el set de entrenamiento, pero al pasar a prueba su rendimiento cae, por lo que esta sobreentrenado.\n",
        "El bosque aleatorio, en entrenamiento llega al 100% pero tiene un buen desempeño en pruebas, por lo que no lo consideramos sobreentrenado\n",
        "\n"
      ],
      "metadata": {
        "id": "r76FDcVFraDG"
      }
    },
    {
      "cell_type": "code",
      "source": [
        "def mi_LearningCurvePlot(train_sizes, train_scores, val_scores, titulo, etiquetaX, etiquetaY):\n",
        "\n",
        "    # Argumentos de entrada de la función mi_LearningCurvePlot:\n",
        "    #      train_sizes : número de observaciones en el conjunto de entrenamiento.\n",
        "    #      train_scores : Exactitud de cada partición en el proceso de Validación-Cruzada (VC) en los datos de entrenamiento.\n",
        "    #                     La dimensión de este conjunto es (pxq) \n",
        "    #                                     donde p=\"número de particiones de manera incremental del conjunto de entrenamiento\".\n",
        "    #                                           q=\"número de particiones de VC\" * \"número de repeticiones de VC con RepitedStratifiedCV\"\n",
        "    #      val_scores : Exactitud de cada partición en el proceso de Validación-Cruzada en los datos de validación.\n",
        "    #                   Es de la misma dimensión que los train_scores. \n",
        "    # Output: la salida es el gráfico con las curvas de aprendizaje.\n",
        "\n",
        "    # Obtenemos los promedios y desviaciones estándar de cada renglón de los resultados de entrenamiento y validación\n",
        "    # La dimensión de cada uno es p=\"número de particiones de manera incremental del conjunto de entrenamiento\".\n",
        "    train_mean = np.mean(train_scores, axis=1)\n",
        "    train_std = np.std(train_scores, axis=1)\n",
        "    val_mean = np.mean(val_scores, axis=1)\n",
        "    val_std = np.std(val_scores, axis=1)\n",
        "\n",
        "    # Graficamos las curvas de aprendizaje incluyendo una región indicando la desviación estándar.\n",
        "    plt.figure(figsize=(7,6))\n",
        "    plt.plot(train_sizes, train_mean, color='blue', marker='o', markersize=5, label='Training')\n",
        "    plt.fill_between(train_sizes, train_mean + train_std, train_mean - train_std, alpha=0.1, color='blue')\n",
        "    \n",
        "    plt.plot(train_sizes, val_mean, color='red', marker='+', markersize=5, linestyle='--', label='Validation')\n",
        "    plt.fill_between(train_sizes, val_mean + val_std, val_mean - val_std, alpha=0.1, color='red')\n",
        "    \n",
        "    plt.title(titulo)\n",
        "    plt.xlabel(etiquetaX)\n",
        "    plt.ylabel(etiquetaY)\n",
        "    plt.grid()\n",
        "    plt.legend(loc='lower left')\n",
        "    plt.show()"
      ],
      "metadata": {
        "id": "ueijKTWFWiTx"
      },
      "execution_count": 15,
      "outputs": []
    },
    {
      "cell_type": "code",
      "source": [
        "def mi_ModeloYCurvas(Xin):\n",
        "       # Usemos primeramente el modelo de regresión logística\n",
        "       # con sus parámetros predeterminados y semilla igual a 1.\n",
        "       # Incremenetamos además el máximo de iteraciones para \n",
        "       # asegurar la convergencia de cada partición de la VC.\n",
        "\n",
        "       modeloLogReg = LogisticRegression(max_iter=2500, random_state=1) \n",
        "\n",
        "       mi_pipe = Pipeline([('escalar',StandardScaler()),('modelo', modeloLogReg)])\n",
        "\n",
        "       mi_kfold = RepeatedStratifiedKFold(n_splits=5, n_repeats=3, random_state=7)\n",
        "\n",
        "       delta_train_sz = np.linspace(0.1, 1.0, num=40, endpoint=True, retstep=False, dtype=None, axis=0)\n",
        "\n",
        "\n",
        "       tr_sizes, tr_scores, val_scores = learning_curve(estimator = mi_pipe,    \n",
        "                                                        X = Xin,\n",
        "                                                        y = y_train,\n",
        "                                                        cv = mi_kfold ,\n",
        "                                                        train_sizes = delta_train_sz ,\n",
        "                                                        random_state=11)\n",
        "\n",
        "\n",
        "       # Obtenemos el gráfico con las curvas de aprendizaje:\n",
        "       mi_LearningCurvePlot(tr_sizes, tr_scores, val_scores, \"curva aprendizaje Regresion L\", \"Datos\", \"precision\")"
      ],
      "metadata": {
        "id": "DC7vOa0XXEDE"
      },
      "execution_count": 16,
      "outputs": []
    },
    {
      "cell_type": "code",
      "source": [
        "print('Curvas de aprendizaje del arbol de decision:')\n",
        "mi_ModeloYCurvas(X_train)"
      ],
      "metadata": {
        "colab": {
          "base_uri": "https://localhost:8080/",
          "height": 427
        },
        "id": "TPoneJ0NYJHR",
        "outputId": "fb6ea3a9-6dbc-4560-e2a9-5d39235a37c4"
      },
      "execution_count": 17,
      "outputs": [
        {
          "output_type": "stream",
          "name": "stdout",
          "text": [
            "Curvas de aprendizaje del arbol de decision:\n"
          ]
        },
        {
          "output_type": "display_data",
          "data": {
            "text/plain": [
              "<Figure size 504x432 with 1 Axes>"
            ],
            "image/png": "[encoded data removed]"
          },
          "metadata": {}
        }
      ]
    },
    {
      "cell_type": "code",
      "source": [
        "def create_validation_curve (x_val,y_val,param_name,cv_entrada,scoring):\n",
        "\n",
        "  modelo = DecisionTreeClassifier()\n",
        "  pipe = Pipeline(steps=[(\"DataPrep\",df_ColTransformadas),(\"model\",modelo)])\n",
        "\n",
        "  rango_param = np.linspace(1, 20, 20,dtype=\"int\")\n",
        "\n",
        "  t_scores, v_scores = validation_curve(\n",
        "      estimator=pipe,\n",
        "      X=x_val, y=y_val, \n",
        "      param_name=f\"model__{param_name}\", \n",
        "      param_range=rango_param, cv=cv_entrada,    \n",
        "      scoring=scoring,\n",
        "  )\n",
        "\n",
        "  return rango_param, t_scores, v_scores"
      ],
      "metadata": {
        "id": "V90Jl1UqtNm6"
      },
      "execution_count": 18,
      "outputs": []
    },
    {
      "cell_type": "code",
      "source": [
        "from scipy.stats import alpha\n",
        "param_range,train_score, validation_score = create_validation_curve(X_train,y_train,\"max_depth\",kfold,make_scorer(mi_f1score))\n",
        "train_mean = np.mean(train_score, axis=1)\n",
        "train_std = np.std(train_score, axis=1)\n",
        "test_mean = np.mean(validation_score, axis=1)\n",
        "test_std = np.std(validation_score, axis=1)\n",
        "\n",
        "plt.subplots(1, figsize=(7,7))\n",
        "plt.plot(param_range, train_mean, label=\"Training score\", color=\"yellow\")\n",
        "plt.plot(param_range, test_mean, label=\"Cross validation score\", color=\"dimgrey\")\n",
        "\n",
        "plt.fill_between(param_range, train_mean - train_std, train_mean + train_std, color=\"blue\",alpha=0.5)\n",
        "plt.fill_between(param_range, test_mean - test_std, test_mean + test_std, color=\"green\",alpha=0.5)\n",
        " \n",
        "plt.title(\"Curva de Validacion del Arbol de Decision\")\n",
        "plt.xlabel(\"numero de Arboles\")\n",
        "plt.ylabel(\"Metrica F1\")\n",
        "plt.tight_layout()\n",
        "plt.legend(loc=\"best\")\n",
        "plt.show()"
      ],
      "metadata": {
        "colab": {
          "base_uri": "https://localhost:8080/",
          "height": 509
        },
        "id": "UeXpFYebt7dW",
        "outputId": "ffdf58ec-e3d6-4137-de7f-425a76eeea60"
      },
      "execution_count": 19,
      "outputs": [
        {
          "output_type": "display_data",
          "data": {
            "text/plain": [
              "<Figure size 504x504 with 1 Axes>"
            ],
            "image/png": "[encoded data removed]"
          },
          "metadata": {}
        }
      ]
    },
    {
      "cell_type": "code",
      "source": [
        "def mi_RandomFCurve(X_entrada): \n",
        "\n",
        "  modeloRndF = RandomForestClassifier() \n",
        "  mi_pipe = Pipeline(steps=[(\"DataPrep\", df_ColTransformadas),(\"ModeloRandomForest\", modeloRndF)])\n",
        "  mi_kfold = RepeatedStratifiedKFold(n_splits=5, n_repeats=3, random_state=7)  \n",
        "  delta_train_sz = np.linspace(.1, 1, 20) \n",
        "  tr_sizes, tr_scores, val_scores = learning_curve(estimator = mi_pipe ,    \n",
        "                                                        X = X_entrada,\n",
        "                                                        y = y_train,\n",
        "                                                        cv = mi_kfold ,\n",
        "                                                        train_sizes = delta_train_sz ,\n",
        "                                                        random_state=10,\n",
        "                                                        scoring=make_scorer(mi_recall)) \n",
        "\n",
        "  mi_LearningCurvePlot(tr_sizes, tr_scores, val_scores,'Incrementando tamaño de muestra', 'tamaño muestra', 'recall') "
      ],
      "metadata": {
        "id": "6u0_04GXu84i"
      },
      "execution_count": 20,
      "outputs": []
    },
    {
      "cell_type": "code",
      "source": [
        "mi_RandomFCurve(X_train)"
      ],
      "metadata": {
        "colab": {
          "base_uri": "https://localhost:8080/",
          "height": 410
        },
        "id": "rV6HmmVlveGa",
        "outputId": "75085a90-7827-4ed9-e745-d2809f7cfd00"
      },
      "execution_count": 21,
      "outputs": [
        {
          "output_type": "display_data",
          "data": {
            "text/plain": [
              "<Figure size 504x432 with 1 Axes>"
            ],
            "image/png": "[encoded data removed]"
          },
          "metadata": {}
        }
      ]
    },
    {
      "cell_type": "code",
      "source": [
        "sns.set(rc={'figure.figsize':(8,4)})\n",
        "\n",
        "recall_list = list()\n",
        "\n",
        "for i in range(len(resultados)):\n",
        "  valor = resultados[i]['test_recall']\n",
        "  recall_list.append(valor)\n",
        "\n",
        "plt.boxplot(recall_list, labels=nombres, showmeans=True)\n",
        "\n",
        "plt.show()"
      ],
      "metadata": {
        "colab": {
          "base_uri": "https://localhost:8080/",
          "height": 268
        },
        "id": "H8orbxXFv2Vd",
        "outputId": "d219b781-9bc9-4f47-b845-967ed38de043"
      },
      "execution_count": 22,
      "outputs": [
        {
          "output_type": "display_data",
          "data": {
            "text/plain": [
              "<Figure size 576x288 with 1 Axes>"
            ],
            "image/png": "[encoded data removed]"
          },
          "metadata": {}
        }
      ]
    },
    {
      "cell_type": "markdown",
      "source": [
        "#**Ejercicio-5.**"
      ],
      "metadata": {
        "id": "Rv7KFq-mC7PS"
      }
    },
    {
      "cell_type": "markdown",
      "source": [
        "5a"
      ],
      "metadata": {
        "id": "k5WP5vpD3Ju-"
      }
    },
    {
      "cell_type": "code",
      "source": [
        "modeloCV = LogisticRegression(max_iter=9000, random_state=1) \n",
        "mi_pipeCV = Pipeline(steps=[(\"DataPrep\", df_ColTransformadas),(\"model\", modeloCV)]) \n",
        "mi_kfoldCV = RepeatedStratifiedKFold(n_splits=5, n_repeats=3, random_state=7)  "
      ],
      "metadata": {
        "id": "jaDj3kawC9B6"
      },
      "execution_count": 23,
      "outputs": []
    },
    {
      "cell_type": "code",
      "source": [
        "Params= [0.05, 1, 5, 50, 100, 1000]\n",
        "\n",
        "ParamsGR = [{'model__penalty': ['l1'], 'model__solver': [ 'saga'], 'model__class_weight':['balanced', None], 'model__C': Params},\n",
        "                  {'model__penalty': ['l2'], 'model__solver': ['newton-cg', 'lbfgs', 'liblinear', 'sag', 'saga'], 'model__class_weight':['balanced', None], 'model__C': Params},\n",
        "                  {'model__penalty': ['elasticnet'], 'model__solver': ['saga'], 'model__class_weight':['balanced', None], 'model__C': Params, 'model__l1_ratio': [0.5]},\n",
        "                 ]"
      ],
      "metadata": {
        "id": "4tQxQROVC9Us"
      },
      "execution_count": 24,
      "outputs": []
    },
    {
      "cell_type": "code",
      "source": [
        "mi_Grid=  GridSearchCV (estimator =  mi_pipeCV, \n",
        "                            param_grid = ParamsGR,\n",
        "                            scoring = 'f1',\n",
        "                            cv = mi_kfoldCV)"
      ],
      "metadata": {
        "id": "7dxZf3qHxYJA"
      },
      "execution_count": 25,
      "outputs": []
    },
    {
      "cell_type": "code",
      "source": [
        "mi_Grid.fit(X_train, np.ravel(y_train))\n",
        "best_score = mi_Grid.best_score_\n",
        "best_param = mi_Grid.best_params_"
      ],
      "metadata": {
        "id": "1kOv4P6pxjVD"
      },
      "execution_count": 26,
      "outputs": []
    },
    {
      "cell_type": "code",
      "source": [
        "print(\"Best score:\", best_score)\n",
        "print(\"Best param:\", best_param)"
      ],
      "metadata": {
        "colab": {
          "base_uri": "https://localhost:8080/"
        },
        "id": "pnIxOYsDxr81",
        "outputId": "6c2ae13c-1d89-4f76-e329-231d42abb307"
      },
      "execution_count": 27,
      "outputs": [
        {
          "output_type": "stream",
          "name": "stdout",
          "text": [
            "Best score: 0.8444809363947833\n",
            "Best param: {'model__C': 0.05, 'model__class_weight': None, 'model__penalty': 'l2', 'model__solver': 'sag'}\n"
          ]
        }
      ]
    },
    {
      "cell_type": "markdown",
      "source": [
        "¿Cuál es la utilidad de la métrica “f1-score”? Incluye tus conclusiones. \n",
        "\n",
        "hace más fácil el poder comparar el rendimiento combinado de la precisión y la exhaustividad, con la finalidad que el modelo sea balanceado con los falsos positivos y negativos.\n",
        "El valor máximo del score F1 es 1, y esto indicaría una exhaustividad (recall) y precisión perfecta, por otro lado el valor más pequeño que puede tomar el score es 0 cuando la precisión y el recall también son 0."
      ],
      "metadata": {
        "id": "HSEQF7xBytLN"
      }
    },
    {
      "cell_type": "markdown",
      "source": [
        "5B"
      ],
      "metadata": {
        "id": "EYR1_HPH3NUt"
      }
    },
    {
      "cell_type": "code",
      "source": [
        "def PlotCV (X_entrada, parametro_C, penalizacion, resolutor):\n",
        "  \n",
        "  modeloCV = LogisticRegression(C=parametro_C, solver=resolutor, penalty=penalizacion, max_iter=8000, random_state=1)\n",
        "  pipe_CV = Pipeline(steps=[(\"DataPrep\", df_ColTransformadas),(\"RegresionLogistica\", modeloCV)])\n",
        "  kfold_CV = RepeatedStratifiedKFold(n_splits=5, n_repeats=3, random_state=7)\n",
        "  train_size_CV = np.linspace(0.1, 1.0, 20) \n",
        "  tr_sizes, tr_scores, val_scores = learning_curve(estimator = pipe_CV ,    \n",
        "                                                        X = X_entrada,\n",
        "                                                        y = y_train,\n",
        "                                                        cv = kfold_CV ,\n",
        "                                                        train_sizes = train_size_CV ,\n",
        "                                                        random_state=10,\n",
        "                                                        scoring=make_scorer(mi_f1score))\n",
        "\n",
        "  mi_LearningCurvePlot(tr_sizes, tr_scores, val_scores, \"modelo regresion logistica\" , \"datos\", \"F1Score\")"
      ],
      "metadata": {
        "id": "DsoFFWRexzsN"
      },
      "execution_count": 28,
      "outputs": []
    },
    {
      "cell_type": "code",
      "source": [
        "PlotCV(X_train, 0.1,'l2','saga')"
      ],
      "metadata": {
        "colab": {
          "base_uri": "https://localhost:8080/",
          "height": 410
        },
        "id": "ltLcE4OazFrl",
        "outputId": "b506225c-5c16-481c-d0f7-7ad45e5d3faa"
      },
      "execution_count": 29,
      "outputs": [
        {
          "output_type": "display_data",
          "data": {
            "text/plain": [
              "<Figure size 504x432 with 1 Axes>"
            ],
            "image/png": "[encoded data removed]"
          },
          "metadata": {}
        }
      ]
    },
    {
      "cell_type": "markdown",
      "source": [
        "5C"
      ],
      "metadata": {
        "id": "VUVRLPKQ3WPM"
      }
    },
    {
      "cell_type": "code",
      "source": [
        "modeloCV = DecisionTreeClassifier() \n",
        "mi_pipeCV = Pipeline(steps=[(\"DataPrep\", df_ColTransformadas),(\"model\", modeloCV)]) \n",
        "mi_kfoldCV = RepeatedStratifiedKFold(n_splits=5, n_repeats=3, random_state=7)  \n",
        "\n",
        "ParametroGR = {'model__ccp_alpha':[0.01, 0.001, .0001, .00001],  \n",
        "              'model__criterion': ['gini', 'entropy'], \n",
        "              'model__max_depth':[2, 4, 6, 8, 10, 12], \n",
        "              'model__min_samples_split':[2, 4, 6,8,10],\n",
        "              'model__class_weight': ['balanced', None]}\n",
        "\n",
        "ModeloArbolD=  GridSearchCV (estimator =  mi_pipeCV, \n",
        "                            param_grid = ParametroGR,\n",
        "                            scoring = make_scorer(mi_precision), \n",
        "                            cv = mi_kfoldCV)\n",
        "ModeloArbolD.fit(X_train, np.ravel(y_train))"
      ],
      "metadata": {
        "colab": {
          "base_uri": "https://localhost:8080/"
        },
        "id": "usrigr3l0iRC",
        "outputId": "0b7e5938-1d2b-40b0-908b-dbe68140ce32"
      },
      "execution_count": 30,
      "outputs": [
        {
          "output_type": "execute_result",
          "data": {
            "text/plain": [
              "GridSearchCV(cv=RepeatedStratifiedKFold(n_repeats=3, n_splits=5, random_state=7),\n",
              "             estimator=Pipeline(steps=[('DataPrep',\n",
              "                                        ColumnTransformer(remainder='passthrough',\n",
              "                                                          transformers=[('Numericas',\n",
              "                                                                         Pipeline(steps=[('ImpMediana',\n",
              "                                                                                          SimpleImputer(strategy='median')),\n",
              "                                                                                         ('scalar',\n",
              "                                                                                          MinMaxScaler(feature_range=(1,\n",
              "                                                                                                                      2)))]),\n",
              "                                                                         ['duration',\n",
              "                                                                          'amount',\n",
              "                                                                          'age']),\n",
              "                                                                        ('Categoricas',\n",
              "                                                                         Pipeline(...\n",
              "                                                                                          OneHotEncoder(handle_unknown='ignore'))]),\n",
              "                                                                         ['people_liable',\n",
              "                                                                          'telephone',\n",
              "                                                                          'foreign_worker'])])),\n",
              "                                       ('model', DecisionTreeClassifier())]),\n",
              "             param_grid={'model__ccp_alpha': [0.01, 0.001, 0.0001, 1e-05],\n",
              "                         'model__class_weight': ['balanced', None],\n",
              "                         'model__criterion': ['gini', 'entropy'],\n",
              "                         'model__max_depth': [2, 4, 6, 8, 10, 12],\n",
              "                         'model__min_samples_split': [2, 4, 6, 8, 10]},\n",
              "             scoring=make_scorer(mi_precision))"
            ]
          },
          "metadata": {},
          "execution_count": 30
        }
      ]
    },
    {
      "cell_type": "markdown",
      "source": [
        "Cuál es la utilidad de la métrica “precision”? Incluye tus conclusiones. \n",
        "VP/VP+FP\n",
        "nos ayuda a entender como el modelo esta detectando los verdaderos positivos, buscando reducir los Falsos Positivos."
      ],
      "metadata": {
        "id": "-Jj2fn1p1p9v"
      }
    },
    {
      "cell_type": "code",
      "source": [
        "BestScore = ModeloArbolD.best_score_\n",
        "BestParam = ModeloArbolD.best_params_\n",
        "print(\"Best Score:\", best_score)\n",
        "print(\"Best Param:\", best_param)"
      ],
      "metadata": {
        "colab": {
          "base_uri": "https://localhost:8080/"
        },
        "id": "4RKpyMJO2PTL",
        "outputId": "bb66e291-bca3-4d44-84b7-19580b239d04"
      },
      "execution_count": 31,
      "outputs": [
        {
          "output_type": "stream",
          "name": "stdout",
          "text": [
            "Best Score: 0.8444809363947833\n",
            "Best Param: {'model__C': 0.05, 'model__class_weight': None, 'model__penalty': 'l2', 'model__solver': 'sag'}\n"
          ]
        }
      ]
    },
    {
      "cell_type": "markdown",
      "source": [
        "5D"
      ],
      "metadata": {
        "id": "EYWqJmHI3bYt"
      }
    },
    {
      "cell_type": "code",
      "source": [
        "def DTreeCurve(X_entrada2): \n",
        "    modeloDT2 = DecisionTreeClassifier(ccp_alpha=ModeloArbolD.best_params_.get('model__ccp_alpha'),\n",
        "                                     criterion=ModeloArbolD.best_params_.get('model__criterion'),\n",
        "                                     max_depth=ModeloArbolD.best_params_.get('model__max_depth'),\n",
        "                                     min_samples_split=ModeloArbolD.best_params_.get('model__min_samples_split')) \n",
        " \n",
        "    mi_pipe = Pipeline(steps=[(\"DataPrep\", df_ColTransformadas),(\"DecisionTree2\", modeloDT2)])\n",
        "    mi_kfold = RepeatedStratifiedKFold(n_splits=5, n_repeats=3, random_state=7)  \n",
        "    delta_train_sz = np.linspace(.1, 1, 40) \n",
        "    tr_sizes, tr_scores, val_scores = learning_curve(estimator = mi_pipe ,    \n",
        "                                                        X = X_entrada2,\n",
        "                                                        y = y_train,\n",
        "                                                        cv = mi_kfold ,\n",
        "                                                        train_sizes = delta_train_sz ,\n",
        "                                                        random_state=10,\n",
        "                                                        scoring=make_scorer(mi_precision)) \n",
        "    mi_LearningCurvePlot(tr_sizes, tr_scores, val_scores,'Incrementando Profundidad Maxima', 'Profundidad', 'Accuracy' ) \n",
        "DTreeCurve(X_train)"
      ],
      "metadata": {
        "colab": {
          "base_uri": "https://localhost:8080/",
          "height": 410
        },
        "id": "2IU8fu5E2gzk",
        "outputId": "49a6f204-ab6f-4ab7-b9bc-a083fd419f7d"
      },
      "execution_count": 32,
      "outputs": [
        {
          "output_type": "display_data",
          "data": {
            "text/plain": [
              "<Figure size 504x432 with 1 Axes>"
            ],
            "image/png": "[encoded data removed]"
          },
          "metadata": {}
        }
      ]
    },
    {
      "cell_type": "markdown",
      "source": [
        "5E"
      ],
      "metadata": {
        "id": "qpj10Wus49Ku"
      }
    },
    {
      "cell_type": "code",
      "source": [
        "modeloCV = RandomForestClassifier() \n",
        "mi_pipeCV = Pipeline(steps=[(\"DataPrep\", df_ColTransformadas),(\"model\", modeloCV)])\n",
        "mi_kfoldCV = RepeatedStratifiedKFold(n_splits=5, n_repeats=3, random_state=7)\n",
        "\n",
        "RndForestParam = {'model__ccp_alpha':[0.01, 0.001, .0001, .00001],\n",
        "              'model__criterion': ['gini', 'entropy'],\n",
        "              'model__max_depth':[2, 4, 6, 8, 10, 12],\n",
        "              'model__min_samples_split':[2, 4, 6,8,10],\n",
        "              'model__class_weight': ['balanced', None]}\n",
        "\n",
        "RndForestM=  GridSearchCV (estimator =  mi_pipeCV, \n",
        "                            param_grid = RndForestParam,\n",
        "                            scoring = make_scorer(mi_recall),\n",
        "                            cv = mi_kfoldCV)\n",
        "\n",
        "RndForestM.fit(X_train, np.ravel(y_train))"
      ],
      "metadata": {
        "colab": {
          "base_uri": "https://localhost:8080/"
        },
        "id": "g0GKdPds48f2",
        "outputId": "8e9907bc-0f34-421b-dc90-aa30ec16a01b"
      },
      "execution_count": 33,
      "outputs": [
        {
          "output_type": "execute_result",
          "data": {
            "text/plain": [
              "GridSearchCV(cv=RepeatedStratifiedKFold(n_repeats=3, n_splits=5, random_state=7),\n",
              "             estimator=Pipeline(steps=[('DataPrep',\n",
              "                                        ColumnTransformer(remainder='passthrough',\n",
              "                                                          transformers=[('Numericas',\n",
              "                                                                         Pipeline(steps=[('ImpMediana',\n",
              "                                                                                          SimpleImputer(strategy='median')),\n",
              "                                                                                         ('scalar',\n",
              "                                                                                          MinMaxScaler(feature_range=(1,\n",
              "                                                                                                                      2)))]),\n",
              "                                                                         ['duration',\n",
              "                                                                          'amount',\n",
              "                                                                          'age']),\n",
              "                                                                        ('Categoricas',\n",
              "                                                                         Pipeline(...\n",
              "                                                                                          OneHotEncoder(handle_unknown='ignore'))]),\n",
              "                                                                         ['people_liable',\n",
              "                                                                          'telephone',\n",
              "                                                                          'foreign_worker'])])),\n",
              "                                       ('model', RandomForestClassifier())]),\n",
              "             param_grid={'model__ccp_alpha': [0.01, 0.001, 0.0001, 1e-05],\n",
              "                         'model__class_weight': ['balanced', None],\n",
              "                         'model__criterion': ['gini', 'entropy'],\n",
              "                         'model__max_depth': [2, 4, 6, 8, 10, 12],\n",
              "                         'model__min_samples_split': [2, 4, 6, 8, 10]},\n",
              "             scoring=make_scorer(mi_recall))"
            ]
          },
          "metadata": {},
          "execution_count": 33
        }
      ]
    },
    {
      "cell_type": "markdown",
      "source": [
        "¿Cuál es la utilidad de la métrica “recall”? Incluye tus conclusiones.  \n",
        "nos ayuda a detectar los falsos negativos, buscando enfocarnos en los positivos predichos entre todos los positivos reales (ejemplo: los verdaderos positivos entre el total de enfermos)"
      ],
      "metadata": {
        "id": "EV8TaeOO5827"
      }
    },
    {
      "cell_type": "code",
      "source": [
        "#Imprimimos los mejors valores\n",
        "print(\"Best score:\", RndForestM.best_score_)\n",
        "print(\"Best Param:\", RndForestM.best_params_)"
      ],
      "metadata": {
        "colab": {
          "base_uri": "https://localhost:8080/"
        },
        "id": "1hJwMnZV6Udi",
        "outputId": "b1cb3602-1929-438e-b755-fee6004d27e8"
      },
      "execution_count": 34,
      "outputs": [
        {
          "output_type": "stream",
          "name": "stdout",
          "text": [
            "Best score: 1.0\n",
            "Best Param: {'model__ccp_alpha': 0.01, 'model__class_weight': None, 'model__criterion': 'gini', 'model__max_depth': 2, 'model__min_samples_split': 2}\n"
          ]
        }
      ]
    },
    {
      "cell_type": "markdown",
      "source": [
        "5F"
      ],
      "metadata": {
        "id": "G4p-4Qma6k2M"
      }
    },
    {
      "cell_type": "code",
      "source": [
        "modeloRndF = RandomForestClassifier(ccp_alpha=RndForestM.best_params_.get('model__ccp_alpha'),\n",
        "                                 criterion=RndForestM.best_params_.get('model__criterion'),\n",
        "                                 max_depth=10, \n",
        "                                 min_samples_split=RndForestM.best_params_.get('model__min_samples_split'))\n",
        "mi_pipe = Pipeline(steps=[(\"DataPrep\", df_ColTransformadas),(\"ModeloRandomForest\", modeloRndF)])\n",
        "mi_kfold = RepeatedStratifiedKFold(n_splits=5, n_repeats=3) \n",
        "delta_train_sz = np.linspace(1,20,20, dtype=int)\n",
        "\n",
        "tr_scores, val_scores = validation_curve(n_jobs = 2, \n",
        "                                  estimator = mi_pipe, \n",
        "                                  X = X_train,\n",
        "                                  y = np.ravel(y_train),\n",
        "                                  param_name = f\"ModeloRandomForest__max_depth\", \n",
        "                                  param_range = delta_train_sz,\n",
        "                                  cv = mi_kfold, \n",
        "                                  scoring = 'recall',)\n",
        "\n",
        "mi_LearningCurvePlot(delta_train_sz, tr_scores, val_scores,'Incrementando Profundidad Maxima', 'Profundidad', 'recall')"
      ],
      "metadata": {
        "colab": {
          "base_uri": "https://localhost:8080/",
          "height": 410
        },
        "id": "eqKiN2uX6keh",
        "outputId": "bcb9cfd4-9d3b-4ce7-f8cf-eb4180f4539e"
      },
      "execution_count": 35,
      "outputs": [
        {
          "output_type": "display_data",
          "data": {
            "text/plain": [
              "<Figure size 504x432 with 1 Axes>"
            ],
            "image/png": "[encoded data removed]"
          },
          "metadata": {}
        }
      ]
    },
    {
      "cell_type": "markdown",
      "source": [
        "#**Ejercicio-6.**"
      ],
      "metadata": {
        "id": "W2S7LI0NC9wE"
      }
    },
    {
      "cell_type": "code",
      "source": [
        "EstimadorOptimo = mi_Grid.best_estimator_\n",
        "predicciones = EstimadorOptimo.predict(X_test)\n",
        "print(\"Métrica f1-score: %.3f \\n\" %(mi_f1score(y_test, predicciones)))\n"
      ],
      "metadata": {
        "id": "x6uBleJUC_AU",
        "colab": {
          "base_uri": "https://localhost:8080/"
        },
        "outputId": "3f8a045f-eb33-4dc8-b8fb-ab63176ba925"
      },
      "execution_count": 36,
      "outputs": [
        {
          "output_type": "stream",
          "name": "stdout",
          "text": [
            "Métrica f1-score: 0.805 \n",
            "\n"
          ]
        }
      ]
    },
    {
      "cell_type": "markdown",
      "source": [
        "conclusiones\n",
        "Computacionalmente es mas barato usar regresion lineal, sin embargo sacrificamos un poco el desempeño, tenemos el desempeño mas bajo, pero es el que requiere menos recursos"
      ],
      "metadata": {
        "id": "mHI_qxPM-ojr"
      }
    },
    {
      "cell_type": "markdown",
      "source": [
        "6B"
      ],
      "metadata": {
        "id": "GsRgW4Ca9zRt"
      }
    },
    {
      "cell_type": "code",
      "source": [
        "EstimadorOptimo = ModeloArbolD.best_estimator_\n",
        "\n",
        "predicciones = EstimadorOptimo.predict(X_test)\n",
        "print(\"Métrica f1-score: %.3f \\n\" %(mi_f1score(y_test, predicciones)))\n",
        "\n",
        "tree.plot_tree(EstimadorOptimo.named_steps[\"model\"], filled = True)"
      ],
      "metadata": {
        "id": "n0P_AcyjC_Dh",
        "colab": {
          "base_uri": "https://localhost:8080/",
          "height": 404
        },
        "outputId": "a7b3f5e3-1b9e-419c-cbbc-0e33de6e7036"
      },
      "execution_count": 37,
      "outputs": [
        {
          "output_type": "stream",
          "name": "stdout",
          "text": [
            "Métrica f1-score: 0.632 \n",
            "\n"
          ]
        },
        {
          "output_type": "execute_result",
          "data": {
            "text/plain": [
              "[Text(0.5, 0.8333333333333334, 'X[6] <= 0.5\\nentropy = 1.0\\nsamples = 850\\nvalue = [425.0, 425.0]'),\n",
              " Text(0.25, 0.5, 'X[0] <= 1.272\\nentropy = 0.954\\nsamples = 510\\nvalue = [356.452, 213.206]'),\n",
              " Text(0.125, 0.16666666666666666, 'entropy = 0.998\\nsamples = 299\\nvalue = [159.375, 145.432]'),\n",
              " Text(0.375, 0.16666666666666666, 'entropy = 0.82\\nsamples = 211\\nvalue = [197.077, 67.774]'),\n",
              " Text(0.75, 0.5, 'X[36] <= 0.5\\nentropy = 0.802\\nsamples = 340\\nvalue = [68.548, 211.794]'),\n",
              " Text(0.625, 0.16666666666666666, 'entropy = 1.0\\nsamples = 52\\nvalue = [25.706, 26.121]'),\n",
              " Text(0.875, 0.16666666666666666, 'entropy = 0.696\\nsamples = 288\\nvalue = [42.843, 185.673]')]"
            ]
          },
          "metadata": {},
          "execution_count": 37
        },
        {
          "output_type": "display_data",
          "data": {
            "text/plain": [
              "<Figure size 576x288 with 1 Axes>"
            ],
            "image/png": "[encoded data removed]"
          },
          "metadata": {}
        }
      ]
    },
    {
      "cell_type": "markdown",
      "source": [
        "Conclusiones\n",
        "puede ser el punto medio entre regresion lineal y bosques aleatorios, donde el desempeño es mejor que regresion, pero menor que bosque, y su costo computacional es menor que el bosque aleatorio."
      ],
      "metadata": {
        "id": "Jx7c_ZuG-qCM"
      }
    },
    {
      "cell_type": "markdown",
      "source": [
        "6C"
      ],
      "metadata": {
        "id": "mFTDfl6s92Rg"
      }
    },
    {
      "cell_type": "code",
      "source": [
        "Mejor_bosque = RndForestM.best_estimator_\n",
        "Bosque_predecido = Mejor_bosque.predict(X_test)\n",
        "\n",
        "print(\"Métrica recall: %.3f \\n\" %(mi_recall(y_test, Bosque_predecido)))"
      ],
      "metadata": {
        "colab": {
          "base_uri": "https://localhost:8080/"
        },
        "id": "Tprwd6jB93QH",
        "outputId": "55ad54cc-36f6-415a-b6d8-e6d685703370"
      },
      "execution_count": 38,
      "outputs": [
        {
          "output_type": "stream",
          "name": "stdout",
          "text": [
            "Métrica recall: 1.000 \n",
            "\n"
          ]
        }
      ]
    },
    {
      "cell_type": "markdown",
      "source": [
        "Conclusiones\n",
        "Computacionalmente muy costoso, pero da el mejor desempeño."
      ],
      "metadata": {
        "id": "gjKbFgAW-80D"
      }
    },
    {
      "cell_type": "markdown",
      "source": [
        "###**Fin de la Actividad de la semana 6.**"
      ],
      "metadata": {
        "id": "7ql_r2G-DB_m"
      }
    }
  ]
}